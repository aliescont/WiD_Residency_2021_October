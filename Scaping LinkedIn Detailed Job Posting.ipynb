{
 "cells": [
  {
   "cell_type": "markdown",
   "metadata": {},
   "source": [
    "# Scraping Job Postings from LinkedIn "
   ]
  },
  {
   "cell_type": "markdown",
   "metadata": {},
   "source": [
    "This code was adapted from the following article: <br>\n",
    "https://maoviola.medium.com/a-complete-guide-to-web-scraping-linkedin-job-postings-ad290fcaa97f"
   ]
  },
  {
   "cell_type": "markdown",
   "metadata": {},
   "source": [
    "### What data will you be able to get?"
   ]
  },
  {
   "cell_type": "markdown",
   "metadata": {},
   "source": [
    "##### All jobs from a defined job search. <br>\n",
    "That search can be limited by any of the given LinkedIn options.<br>"
   ]
  },
  {
   "cell_type": "markdown",
   "metadata": {},
   "source": [
    "##### Items that are on the job card. <br>\n",
    "This code will focus on date, job titles, company names, job descriptions, and job criteria."
   ]
  },
  {
   "cell_type": "code",
   "execution_count": 1,
   "metadata": {},
   "outputs": [],
   "source": [
    "#Import packages\n",
    "from selenium import webdriver\n",
    "import time\n",
    "import pandas as pd\n",
    "\n",
    "#Hide Warnings\n",
    "import warnings\n",
    "warnings.filterwarnings('ignore')"
   ]
  },
  {
   "cell_type": "markdown",
   "metadata": {},
   "source": [
    "##### Define the search and copy the url. <br>\n",
    "Do not be signed-in to LinkedIn for this part. In LinkedIn create the search for the required job postings. This case is focused on all jobs in Rancho Cordova, limited to a 10 mile radius."
   ]
  },
  {
   "cell_type": "code",
   "execution_count": 2,
   "metadata": {},
   "outputs": [],
   "source": [
    "# URL for LinkedIn Job search of jobs in Rancho Cordova with 10 mile radius. \n",
    "# Past Month\n",
    "# (Not signed-in search)\n",
    "\n",
    "# Replace this url with the one for your needed search.\n",
    "\n",
    "url = 'https://www.linkedin.com/jobs/search?keywords=&location=Rancho%20Cordova%2C%20California%2C%20United%20States&locationId=&geoId=104863738&sortBy=R&f_TPR=r2592000&f_PP=104863738&distance=10&position=1&pageNum=0'"
   ]
  },
  {
   "cell_type": "markdown",
   "metadata": {},
   "source": [
    "##### Set-up the web driver. <br>\n",
    "\n",
    "The chromedriver is being used in this case. If you have not previously installed it, you can do so at: <br>\n",
    "https://chromedriver.chromium.org/downloads"
   ]
  },
  {
   "cell_type": "code",
   "execution_count": 3,
   "metadata": {},
   "outputs": [],
   "source": [
    "#Set-up chromedriver\n",
    "wd = webdriver.Chrome(executable_path=r'C:\\chromedriver.exe')\n",
    "\n",
    "#Connect the webdriver to the job search.\n",
    "wd.get(url)"
   ]
  },
  {
   "cell_type": "markdown",
   "metadata": {},
   "source": [
    "##### How many job posts are associated with the job seach? <br>\n",
    "Note: It may go to a log in page. In the future a bypass will be added. However, at the moment you can just re-run the following cell."
   ]
  },
  {
   "cell_type": "code",
   "execution_count": 4,
   "metadata": {},
   "outputs": [
    {
     "name": "stdout",
     "output_type": "stream",
     "text": [
      "There are 951 jobs available within 10 miles of Rancho Cordova on LinkedIn over the past month.\n"
     ]
    }
   ],
   "source": [
    "#How many jobs are curently available within 10 miles of Rancho Cordova on LinkedIn\n",
    "\n",
    "no_of_jobs = int(wd.find_element_by_css_selector('h1>span').get_attribute('innerText'))\n",
    "\n",
    "print('There are', no_of_jobs, 'jobs available within 10 miles of Rancho Cordova on LinkedIn over the past month.')"
   ]
  },
  {
   "cell_type": "markdown",
   "metadata": {},
   "source": [
    "##### Show all the jobs. <br>\n",
    "The following segment of code  will scroll and click 'Show more job' until all jobs are showing."
   ]
  },
  {
   "cell_type": "code",
   "execution_count": 5,
   "metadata": {},
   "outputs": [],
   "source": [
    "#Browse all jobs for the search.\n",
    "i = 2\n",
    "while i <= int(no_of_jobs/25)+1: \n",
    "    #Scroll until hit the see more jobs button.\n",
    "    wd.execute_script('window.scrollTo(0, document.body.scrollHeight);')\n",
    "    i = i + 1\n",
    "    try:\n",
    "        #Click the see more jobs button and then keep scrolling.\n",
    "        wd.find_element_by_xpath(f\"//button[@aria-label='Load more results']\").click()\n",
    "        time.sleep(20)\n",
    "    except:\n",
    "        pass\n",
    "        time.sleep(20)"
   ]
  },
  {
   "cell_type": "markdown",
   "metadata": {},
   "source": [
    "##### Create a list of all jobs in the search."
   ]
  },
  {
   "cell_type": "code",
   "execution_count": 6,
   "metadata": {},
   "outputs": [],
   "source": [
    "#Create a list of the jobs.\n",
    "job_lists = wd.find_element_by_class_name('jobs-search__results-list')\n",
    "jobs = job_lists.find_elements_by_tag_name('li')"
   ]
  },
  {
   "cell_type": "code",
   "execution_count": 7,
   "metadata": {},
   "outputs": [
    {
     "name": "stdout",
     "output_type": "stream",
     "text": [
      "957 were collected from the search\n"
     ]
    }
   ],
   "source": [
    "#Test that it collected all jobs.\n",
    "#If it significantly dropped, the sleep.time time may need to be increased to allow:\n",
    "#More loading time or\n",
    "#Not set off restrictions for the site.\n",
    "print(len(jobs), 'were collected from the search')"
   ]
  },
  {
   "cell_type": "markdown",
   "metadata": {},
   "source": [
    "Sometimes the numbers do not match. That is not a problem at this step. Verification will happen after the details are pulled to make sure the lists line up correctly."
   ]
  },
  {
   "cell_type": "markdown",
   "metadata": {},
   "source": [
    "##### Create arrays for each attribute that is needed."
   ]
  },
  {
   "cell_type": "markdown",
   "metadata": {},
   "source": [
    "The following steps can be done together, but there is higher risk of the tasks being canceled due to interactions with the the website. Overall, there are fewer errors and everything is completed in less time by breaking it all up."
   ]
  },
  {
   "cell_type": "code",
   "execution_count": 8,
   "metadata": {},
   "outputs": [],
   "source": [
    "#Pull basic information from each job.\n",
    "job_title = []\n",
    "company_name = []\n",
    "date = []\n",
    "\n",
    "for job in jobs:\n",
    "    job_title0 = job.find_element_by_css_selector('h3').get_attribute('innerText')\n",
    "    job_title.append(job_title0)\n",
    " \n",
    "    company_name0 = job.find_element_by_css_selector('h4').get_attribute('innerText')\n",
    "    company_name.append(company_name0)\n",
    " \n",
    "    date0 = job.find_element_by_css_selector('div>div>time').get_attribute('datetime')\n",
    "    date.append(date0)"
   ]
  },
  {
   "cell_type": "code",
   "execution_count": 10,
   "metadata": {},
   "outputs": [
    {
     "name": "stdout",
     "output_type": "stream",
     "text": [
      "Job Titles: ['Admissions Outreach and Communications Specialist', 'Patient Advocate', 'Benefits Verification & Authorization Specialist', 'Manager, Customer Care', 'Public Policy and Government Affairs Manager (46.21)']\n",
      " \n",
      "Company Names: ['California Northstate University', 'Dignity Health', 'CVS Health', 'Magellan Health', 'American States Water Company']\n",
      " \n",
      "Date: ['2021-11-04', '2021-11-04', '2021-10-12', '2021-10-26', '2021-10-13']\n"
     ]
    }
   ],
   "source": [
    "#See first 5 of each for verification.\n",
    "print('Job Titles:',job_title[:5])\n",
    "print(' ')\n",
    "print('Company Names:',company_name[:5])\n",
    "print(' ')\n",
    "print('Date:', date[:5])"
   ]
  },
  {
   "cell_type": "code",
   "execution_count": null,
   "metadata": {},
   "outputs": [],
   "source": [
    "#Inital job description and criteria lists.\n",
    "jd = []\n",
    "cl = []"
   ]
  },
  {
   "cell_type": "code",
   "execution_count": null,
   "metadata": {},
   "outputs": [],
   "source": [
    "#Get job criteria.\n",
    "\n",
    "#Do in batches that end with longer timers \n",
    "#to work around StaleElementReferenceException.\n",
    "batchsize = 10\n",
    "\n",
    "for i in range(0, len(jobs), batchsize):\n",
    "    \n",
    "    batch = jobs[i:i+batchsize]\n",
    "\n",
    "    for job in batch:\n",
    "       \n",
    "        job.click()\n",
    "        \n",
    "        detail_path = 'description__job-criteria-list'\n",
    "        details = wd.find_element_by_class_name(detail_path).get_attribute('innerText')\n",
    "        cl.append(details)\n",
    "    \n",
    "        time.sleep(5)\n",
    "        \n",
    "    time.sleep(30)"
   ]
  },
  {
   "cell_type": "code",
   "execution_count": null,
   "metadata": {},
   "outputs": [],
   "source": [
    "#Verify criteria is correct.\n",
    "print(cl[0])"
   ]
  },
  {
   "cell_type": "code",
   "execution_count": null,
   "metadata": {},
   "outputs": [],
   "source": [
    "#Get job descriptions.\n",
    "\n",
    "#Do in batches that end with longer timers \n",
    "#to work around StaleElementReferenceException.\n",
    "batchsize = 10\n",
    "\n",
    "for i in range(0, len(jobs), batchsize):\n",
    "    \n",
    "    batch = jobs[i:i+batchsize]\n",
    "\n",
    "    for job in batch:\n",
    "        \n",
    "        job.click()\n",
    "    \n",
    "        jd_path = 'show-more-less-html__markup'\n",
    "        jd0 = wd.find_element_by_class_name(jd_path).get_attribute('innerText')\n",
    "        jd.append(jd0)\n",
    "    \n",
    "        time.sleep(5)\n",
    "        \n",
    "    time.sleep(30)"
   ]
  },
  {
   "cell_type": "code",
   "execution_count": null,
   "metadata": {},
   "outputs": [],
   "source": [
    "#Verify job description is correct.\n",
    "print(jd[0])"
   ]
  },
  {
   "cell_type": "markdown",
   "metadata": {},
   "source": [
    "##### Verify that all lists are the same length."
   ]
  },
  {
   "cell_type": "code",
   "execution_count": null,
   "metadata": {},
   "outputs": [],
   "source": [
    "print(len(job_title))\n",
    "print(len(company_name))\n",
    "print(len(date))\n",
    "print(len(cl))\n",
    "print(len(jd))"
   ]
  },
  {
   "cell_type": "markdown",
   "metadata": {},
   "source": [
    "##### Create and save a dataframe of the collected data."
   ]
  },
  {
   "cell_type": "code",
   "execution_count": 28,
   "metadata": {},
   "outputs": [],
   "source": [
    "job_post_data = pd.DataFrame({'Date': date,\n",
    "                              'Company': company_name,\n",
    "                              'Title': job_title,\n",
    "                             'Job Description':jd,\n",
    "                              'Criteria': cl})\n",
    "\n",
    "job_post_data.to_csv('LinkedIn_Job_Postings.csv', index = False)"
   ]
  },
  {
   "cell_type": "markdown",
   "metadata": {},
   "source": [
    "job_post_data.head()"
   ]
  },
  {
   "cell_type": "markdown",
   "metadata": {},
   "source": [
    "##### Another notebook will detail the cleaning process for the text columns."
   ]
  },
  {
   "cell_type": "code",
   "execution_count": null,
   "metadata": {},
   "outputs": [],
   "source": []
  }
 ],
 "metadata": {
  "kernelspec": {
   "display_name": "Python 3",
   "language": "python",
   "name": "python3"
  },
  "language_info": {
   "codemirror_mode": {
    "name": "ipython",
    "version": 3
   },
   "file_extension": ".py",
   "mimetype": "text/x-python",
   "name": "python",
   "nbconvert_exporter": "python",
   "pygments_lexer": "ipython3",
   "version": "3.7.3"
  }
 },
 "nbformat": 4,
 "nbformat_minor": 2
}
