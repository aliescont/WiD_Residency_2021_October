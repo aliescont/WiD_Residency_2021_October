{
 "cells": [
  {
   "cell_type": "code",
   "execution_count": 1,
   "metadata": {},
   "outputs": [],
   "source": [
    "import pandas as pd \n",
    "import numpy as np \n",
    "import matplotlib.pyplot as plt\n",
    "import seaborn as sns \n",
    "import re\n",
    "import os\n",
    "from scipy import stats\n",
    "from scipy.stats import chi2_contingency\n",
    "from scipy.stats import chi2\n",
    "import plotly.express as px\n",
    "from statsmodels.stats.proportion import proportions_ztest"
   ]
  },
  {
   "cell_type": "markdown",
   "metadata": {},
   "source": [
    "## How many of the jobs available require higher education?"
   ]
  },
  {
   "cell_type": "markdown",
   "metadata": {},
   "source": [
    "#### Hypothesis: Bachelor's attainment is the same for men and female"
   ]
  },
  {
   "cell_type": "code",
   "execution_count": 2,
   "metadata": {},
   "outputs": [],
   "source": [
    "# dict to extract data from census 2015, 2016, 2017, 2018, 2019\n",
    "census_dict = {'total_estimate' : 'S1501_C01_006E', 'total_some_college_no_degree': 'S1501_C02_010E' , \n",
    "                'total_associate_degree' : 'S1501_C02_011E', 'total_bachelor_higher' : 'S1501_C02_015E',\n",
    "                'total_male_25_over' : 'S1501_C03_006E','percent_male_some_college': 'S1501_C04_010E', \n",
    "                'percent_male_associate_degree':'S1501_C04_011E',\n",
    "                'percent_male_bachelor': 'S1501_C04_015E', \n",
    "                'total_female_25_over' : 'S1501_C05_006E','percent_female_some_college': 'S1501_C06_010E', \n",
    "                'percent_female_associate_degree':'S1501_C06_011E','percent_female_bachelor' : 'S1501_C06_012E'}"
   ]
  },
  {
   "cell_type": "code",
   "execution_count": 3,
   "metadata": {},
   "outputs": [],
   "source": [
    "# dict to extract data from census 2010, 2011, 2012, 2013, 2014\n",
    "\n",
    "census_dict_11 = {'total_estimate' : 'S1501_C01_006E', 'total_some_college_no_degree' : 'S1501_C01_010E',\n",
    "                'total_associate_degree' : 'S1501_C01_011E', 'total_bachelor_higher':'S1501_C01_015E' ,\n",
    "                'total_male_25_over' : 'S1501_C02_006E','percent_male_some_college': 'S1501_C02_010E', \n",
    "                'percent_male_associate_degree':'S1501_C02_011E','percent_male_bachelor': 'S1501_C02_018E', \n",
    "                'total_female_25_over' : 'S1501_C03_006E','percent_female_some_college': 'S1501_C03_010E', \n",
    "                'percent_female_associate_degree':'S1501_C03_011E', 'percent_female_bachelor': 'S1501_C03_012E'}"
   ]
  },
  {
   "cell_type": "code",
   "execution_count": 4,
   "metadata": {},
   "outputs": [],
   "source": [
    "def load_census(year, path):\n",
    "    \"\"\"Function that reads a csv dowloaded from census webpage and extracts relevant information of educational attainment\n",
    "    Input:\n",
    "    year : year in string format\n",
    "    path: file path \n",
    "    \"\"\"\n",
    "    if year == '2010':\n",
    "        total_path = path+f'ACSST5Y{year}.csv'\n",
    "    else:\n",
    "        total_path = path+f'ACSST1Y{year}.csv'\n",
    "    data = pd.read_csv(total_path)\n",
    "    return data"
   ]
  },
  {
   "cell_type": "code",
   "execution_count": 5,
   "metadata": {},
   "outputs": [],
   "source": [
    "def get_data(c_dict, data, year):\n",
    "    \"\"\"Function that creates a dict with information extracted from census\n",
    "    Input: \n",
    "    c_dict = custom dict with keys to be extracted from csv file\n",
    "    data  = data loaded from a csv using load_census function\n",
    "    year = year in string format\"\"\"\n",
    "    census_dict = dict()\n",
    "    census_dict['year'] = year\n",
    "    for key, col in c_dict.items():\n",
    "        census_dict[key] = data[col][1]\n",
    "    \n",
    "    return census_dict"
   ]
  },
  {
   "cell_type": "code",
   "execution_count": 6,
   "metadata": {},
   "outputs": [
    {
     "data": {
      "text/html": [
       "<div>\n",
       "<style scoped>\n",
       "    .dataframe tbody tr th:only-of-type {\n",
       "        vertical-align: middle;\n",
       "    }\n",
       "\n",
       "    .dataframe tbody tr th {\n",
       "        vertical-align: top;\n",
       "    }\n",
       "\n",
       "    .dataframe thead th {\n",
       "        text-align: right;\n",
       "    }\n",
       "</style>\n",
       "<table border=\"1\" class=\"dataframe\">\n",
       "  <thead>\n",
       "    <tr style=\"text-align: right;\">\n",
       "      <th></th>\n",
       "    </tr>\n",
       "  </thead>\n",
       "  <tbody>\n",
       "  </tbody>\n",
       "</table>\n",
       "</div>"
      ],
      "text/plain": [
       "Empty DataFrame\n",
       "Columns: []\n",
       "Index: []"
      ]
     },
     "execution_count": 6,
     "metadata": {},
     "output_type": "execute_result"
    }
   ],
   "source": [
    "df = pd.DataFrame()\n",
    "df"
   ]
  },
  {
   "cell_type": "code",
   "execution_count": 7,
   "metadata": {},
   "outputs": [
    {
     "data": {
      "text/html": [
       "<div>\n",
       "<style scoped>\n",
       "    .dataframe tbody tr th:only-of-type {\n",
       "        vertical-align: middle;\n",
       "    }\n",
       "\n",
       "    .dataframe tbody tr th {\n",
       "        vertical-align: top;\n",
       "    }\n",
       "\n",
       "    .dataframe thead th {\n",
       "        text-align: right;\n",
       "    }\n",
       "</style>\n",
       "<table border=\"1\" class=\"dataframe\">\n",
       "  <thead>\n",
       "    <tr style=\"text-align: right;\">\n",
       "      <th></th>\n",
       "      <th>year</th>\n",
       "      <th>total_estimate</th>\n",
       "      <th>total_some_college_no_degree</th>\n",
       "      <th>total_associate_degree</th>\n",
       "      <th>total_bachelor_higher</th>\n",
       "      <th>total_male_25_over</th>\n",
       "      <th>percent_male_some_college</th>\n",
       "      <th>percent_male_associate_degree</th>\n",
       "      <th>percent_male_bachelor</th>\n",
       "      <th>total_female_25_over</th>\n",
       "      <th>percent_female_some_college</th>\n",
       "      <th>percent_female_associate_degree</th>\n",
       "      <th>percent_female_bachelor</th>\n",
       "    </tr>\n",
       "  </thead>\n",
       "  <tbody>\n",
       "    <tr>\n",
       "      <th>0</th>\n",
       "      <td>2010</td>\n",
       "      <td>40176</td>\n",
       "      <td>27.6</td>\n",
       "      <td>10.1</td>\n",
       "      <td>22.2</td>\n",
       "      <td>19595</td>\n",
       "      <td>26.1</td>\n",
       "      <td>9.0</td>\n",
       "      <td>24.6</td>\n",
       "      <td>20581</td>\n",
       "      <td>29.0</td>\n",
       "      <td>11.1</td>\n",
       "      <td>15.1</td>\n",
       "    </tr>\n",
       "    <tr>\n",
       "      <th>1</th>\n",
       "      <td>2011</td>\n",
       "      <td>42384</td>\n",
       "      <td>28.1</td>\n",
       "      <td>9.3</td>\n",
       "      <td>29.2</td>\n",
       "      <td>20263</td>\n",
       "      <td>27.6</td>\n",
       "      <td>10.5</td>\n",
       "      <td>25.1</td>\n",
       "      <td>22121</td>\n",
       "      <td>28.5</td>\n",
       "      <td>8.2</td>\n",
       "      <td>19.0</td>\n",
       "    </tr>\n",
       "    <tr>\n",
       "      <th>2</th>\n",
       "      <td>2012</td>\n",
       "      <td>45087</td>\n",
       "      <td>26.8</td>\n",
       "      <td>9.8</td>\n",
       "      <td>23.2</td>\n",
       "      <td>22443</td>\n",
       "      <td>27.1</td>\n",
       "      <td>9.8</td>\n",
       "      <td>24.6</td>\n",
       "      <td>22644</td>\n",
       "      <td>26.6</td>\n",
       "      <td>9.8</td>\n",
       "      <td>17.6</td>\n",
       "    </tr>\n",
       "    <tr>\n",
       "      <th>3</th>\n",
       "      <td>2013</td>\n",
       "      <td>45221</td>\n",
       "      <td>27.8</td>\n",
       "      <td>10.4</td>\n",
       "      <td>25.8</td>\n",
       "      <td>20895</td>\n",
       "      <td>25.2</td>\n",
       "      <td>11.3</td>\n",
       "      <td>24.1</td>\n",
       "      <td>24326</td>\n",
       "      <td>29.9</td>\n",
       "      <td>9.6</td>\n",
       "      <td>18.5</td>\n",
       "    </tr>\n",
       "    <tr>\n",
       "      <th>4</th>\n",
       "      <td>2014</td>\n",
       "      <td>45459</td>\n",
       "      <td>28.5</td>\n",
       "      <td>11.6</td>\n",
       "      <td>26.9</td>\n",
       "      <td>20670</td>\n",
       "      <td>29.4</td>\n",
       "      <td>9.4</td>\n",
       "      <td>15.9</td>\n",
       "      <td>24789</td>\n",
       "      <td>27.7</td>\n",
       "      <td>13.5</td>\n",
       "      <td>21.3</td>\n",
       "    </tr>\n",
       "    <tr>\n",
       "      <th>5</th>\n",
       "      <td>2015</td>\n",
       "      <td>47979</td>\n",
       "      <td>30.1</td>\n",
       "      <td>9.2</td>\n",
       "      <td>27.0</td>\n",
       "      <td>23376</td>\n",
       "      <td>29.0</td>\n",
       "      <td>8.3</td>\n",
       "      <td>27.7</td>\n",
       "      <td>24603</td>\n",
       "      <td>31.2</td>\n",
       "      <td>10.1</td>\n",
       "      <td>20.9</td>\n",
       "    </tr>\n",
       "    <tr>\n",
       "      <th>6</th>\n",
       "      <td>2016</td>\n",
       "      <td>48359</td>\n",
       "      <td>25.4</td>\n",
       "      <td>8.8</td>\n",
       "      <td>29.1</td>\n",
       "      <td>23147</td>\n",
       "      <td>24.4</td>\n",
       "      <td>8.0</td>\n",
       "      <td>29.9</td>\n",
       "      <td>25212</td>\n",
       "      <td>26.5</td>\n",
       "      <td>9.6</td>\n",
       "      <td>23.2</td>\n",
       "    </tr>\n",
       "    <tr>\n",
       "      <th>7</th>\n",
       "      <td>2017</td>\n",
       "      <td>50868</td>\n",
       "      <td>27.6</td>\n",
       "      <td>8.8</td>\n",
       "      <td>21.9</td>\n",
       "      <td>24997</td>\n",
       "      <td>27.9</td>\n",
       "      <td>9.1</td>\n",
       "      <td>21.7</td>\n",
       "      <td>25871</td>\n",
       "      <td>27.3</td>\n",
       "      <td>8.5</td>\n",
       "      <td>14.5</td>\n",
       "    </tr>\n",
       "    <tr>\n",
       "      <th>8</th>\n",
       "      <td>2018</td>\n",
       "      <td>52066</td>\n",
       "      <td>29.0</td>\n",
       "      <td>10.4</td>\n",
       "      <td>27.1</td>\n",
       "      <td>25087</td>\n",
       "      <td>30.0</td>\n",
       "      <td>7.6</td>\n",
       "      <td>28.2</td>\n",
       "      <td>26979</td>\n",
       "      <td>28.1</td>\n",
       "      <td>13.1</td>\n",
       "      <td>17.5</td>\n",
       "    </tr>\n",
       "    <tr>\n",
       "      <th>9</th>\n",
       "      <td>2019</td>\n",
       "      <td>47602</td>\n",
       "      <td>26.4</td>\n",
       "      <td>10.2</td>\n",
       "      <td>29.1</td>\n",
       "      <td>23219</td>\n",
       "      <td>26.7</td>\n",
       "      <td>10.3</td>\n",
       "      <td>30.4</td>\n",
       "      <td>24383</td>\n",
       "      <td>26.1</td>\n",
       "      <td>10.1</td>\n",
       "      <td>19.0</td>\n",
       "    </tr>\n",
       "  </tbody>\n",
       "</table>\n",
       "</div>"
      ],
      "text/plain": [
       "   year total_estimate total_some_college_no_degree total_associate_degree  \\\n",
       "0  2010          40176                         27.6                   10.1   \n",
       "1  2011          42384                         28.1                    9.3   \n",
       "2  2012          45087                         26.8                    9.8   \n",
       "3  2013          45221                         27.8                   10.4   \n",
       "4  2014          45459                         28.5                   11.6   \n",
       "5  2015          47979                         30.1                    9.2   \n",
       "6  2016          48359                         25.4                    8.8   \n",
       "7  2017          50868                         27.6                    8.8   \n",
       "8  2018          52066                         29.0                   10.4   \n",
       "9  2019          47602                         26.4                   10.2   \n",
       "\n",
       "  total_bachelor_higher total_male_25_over percent_male_some_college  \\\n",
       "0                  22.2              19595                      26.1   \n",
       "1                  29.2              20263                      27.6   \n",
       "2                  23.2              22443                      27.1   \n",
       "3                  25.8              20895                      25.2   \n",
       "4                  26.9              20670                      29.4   \n",
       "5                  27.0              23376                      29.0   \n",
       "6                  29.1              23147                      24.4   \n",
       "7                  21.9              24997                      27.9   \n",
       "8                  27.1              25087                      30.0   \n",
       "9                  29.1              23219                      26.7   \n",
       "\n",
       "  percent_male_associate_degree percent_male_bachelor total_female_25_over  \\\n",
       "0                           9.0                  24.6                20581   \n",
       "1                          10.5                  25.1                22121   \n",
       "2                           9.8                  24.6                22644   \n",
       "3                          11.3                  24.1                24326   \n",
       "4                           9.4                  15.9                24789   \n",
       "5                           8.3                  27.7                24603   \n",
       "6                           8.0                  29.9                25212   \n",
       "7                           9.1                  21.7                25871   \n",
       "8                           7.6                  28.2                26979   \n",
       "9                          10.3                  30.4                24383   \n",
       "\n",
       "  percent_female_some_college percent_female_associate_degree  \\\n",
       "0                        29.0                            11.1   \n",
       "1                        28.5                             8.2   \n",
       "2                        26.6                             9.8   \n",
       "3                        29.9                             9.6   \n",
       "4                        27.7                            13.5   \n",
       "5                        31.2                            10.1   \n",
       "6                        26.5                             9.6   \n",
       "7                        27.3                             8.5   \n",
       "8                        28.1                            13.1   \n",
       "9                        26.1                            10.1   \n",
       "\n",
       "  percent_female_bachelor  \n",
       "0                    15.1  \n",
       "1                    19.0  \n",
       "2                    17.6  \n",
       "3                    18.5  \n",
       "4                    21.3  \n",
       "5                    20.9  \n",
       "6                    23.2  \n",
       "7                    14.5  \n",
       "8                    17.5  \n",
       "9                    19.0  "
      ]
     },
     "execution_count": 7,
     "metadata": {},
     "output_type": "execute_result"
    }
   ],
   "source": [
    "#create a dataframe with info from input data using get_data and load_census functions\n",
    "years = [ '2010','2011', '2012', '2013', '2014', '2015', '2016', '2017', '2018', '2019']\n",
    "\n",
    "edu_path = f'../DataSources/CensusData/educational_attainment/'\n",
    "data_census = []\n",
    "for year in years:\n",
    "    if year in ['2010','2011', '2012', '2013', '2014']:\n",
    "        metadata = census_dict_11\n",
    "    else:\n",
    "        metadata = census_dict\n",
    "    data_census.append(get_data(metadata, load_census(str(year), edu_path), str(year)) )\n",
    "df = pd.DataFrame(data_census)\n",
    "df\n"
   ]
  },
  {
   "cell_type": "code",
   "execution_count": 8,
   "metadata": {},
   "outputs": [
    {
     "data": {
      "text/plain": [
       "year                                object\n",
       "total_estimate                       int64\n",
       "total_some_college_no_degree       float64\n",
       "total_associate_degree             float64\n",
       "total_bachelor_higher              float64\n",
       "total_male_25_over                   int64\n",
       "percent_male_some_college          float64\n",
       "percent_male_associate_degree      float64\n",
       "percent_male_bachelor              float64\n",
       "total_female_25_over                 int64\n",
       "percent_female_some_college        float64\n",
       "percent_female_associate_degree    float64\n",
       "percent_female_bachelor            float64\n",
       "dtype: object"
      ]
     },
     "execution_count": 8,
     "metadata": {},
     "output_type": "execute_result"
    }
   ],
   "source": [
    "#change to numeric values\n",
    "cols = df.columns.drop(['year'])\n",
    "df[cols] = df[cols].apply(pd.to_numeric, errors='coerce')\n",
    "\n",
    "df.dtypes"
   ]
  },
  {
   "cell_type": "code",
   "execution_count": 9,
   "metadata": {},
   "outputs": [
    {
     "data": {
      "text/html": [
       "<div>\n",
       "<style scoped>\n",
       "    .dataframe tbody tr th:only-of-type {\n",
       "        vertical-align: middle;\n",
       "    }\n",
       "\n",
       "    .dataframe tbody tr th {\n",
       "        vertical-align: top;\n",
       "    }\n",
       "\n",
       "    .dataframe thead th {\n",
       "        text-align: right;\n",
       "    }\n",
       "</style>\n",
       "<table border=\"1\" class=\"dataframe\">\n",
       "  <thead>\n",
       "    <tr style=\"text-align: right;\">\n",
       "      <th></th>\n",
       "      <th>year</th>\n",
       "      <th>total_estimate</th>\n",
       "      <th>total_some_college_no_degree</th>\n",
       "      <th>total_associate_degree</th>\n",
       "      <th>total_bachelor_higher</th>\n",
       "      <th>total_male_25_over</th>\n",
       "      <th>percent_male_some_college</th>\n",
       "      <th>percent_male_associate_degree</th>\n",
       "      <th>percent_male_bachelor</th>\n",
       "      <th>total_female_25_over</th>\n",
       "      <th>percent_female_some_college</th>\n",
       "      <th>percent_female_associate_degree</th>\n",
       "      <th>percent_female_bachelor</th>\n",
       "      <th>no_higher_degree</th>\n",
       "      <th>male_no_higher_degree</th>\n",
       "      <th>female_no_higher_degree</th>\n",
       "      <th>total_no_higher_degree</th>\n",
       "    </tr>\n",
       "  </thead>\n",
       "  <tbody>\n",
       "    <tr>\n",
       "      <th>0</th>\n",
       "      <td>2010</td>\n",
       "      <td>40176</td>\n",
       "      <td>27.6</td>\n",
       "      <td>10.1</td>\n",
       "      <td>22.2</td>\n",
       "      <td>19595</td>\n",
       "      <td>26.1</td>\n",
       "      <td>9.0</td>\n",
       "      <td>24.6</td>\n",
       "      <td>20581</td>\n",
       "      <td>29.0</td>\n",
       "      <td>11.1</td>\n",
       "      <td>15.1</td>\n",
       "      <td>37.7</td>\n",
       "      <td>35.1</td>\n",
       "      <td>40.1</td>\n",
       "      <td>37.7</td>\n",
       "    </tr>\n",
       "    <tr>\n",
       "      <th>1</th>\n",
       "      <td>2011</td>\n",
       "      <td>42384</td>\n",
       "      <td>28.1</td>\n",
       "      <td>9.3</td>\n",
       "      <td>29.2</td>\n",
       "      <td>20263</td>\n",
       "      <td>27.6</td>\n",
       "      <td>10.5</td>\n",
       "      <td>25.1</td>\n",
       "      <td>22121</td>\n",
       "      <td>28.5</td>\n",
       "      <td>8.2</td>\n",
       "      <td>19.0</td>\n",
       "      <td>37.4</td>\n",
       "      <td>38.1</td>\n",
       "      <td>36.7</td>\n",
       "      <td>37.4</td>\n",
       "    </tr>\n",
       "    <tr>\n",
       "      <th>2</th>\n",
       "      <td>2012</td>\n",
       "      <td>45087</td>\n",
       "      <td>26.8</td>\n",
       "      <td>9.8</td>\n",
       "      <td>23.2</td>\n",
       "      <td>22443</td>\n",
       "      <td>27.1</td>\n",
       "      <td>9.8</td>\n",
       "      <td>24.6</td>\n",
       "      <td>22644</td>\n",
       "      <td>26.6</td>\n",
       "      <td>9.8</td>\n",
       "      <td>17.6</td>\n",
       "      <td>36.6</td>\n",
       "      <td>36.9</td>\n",
       "      <td>36.4</td>\n",
       "      <td>36.6</td>\n",
       "    </tr>\n",
       "    <tr>\n",
       "      <th>3</th>\n",
       "      <td>2013</td>\n",
       "      <td>45221</td>\n",
       "      <td>27.8</td>\n",
       "      <td>10.4</td>\n",
       "      <td>25.8</td>\n",
       "      <td>20895</td>\n",
       "      <td>25.2</td>\n",
       "      <td>11.3</td>\n",
       "      <td>24.1</td>\n",
       "      <td>24326</td>\n",
       "      <td>29.9</td>\n",
       "      <td>9.6</td>\n",
       "      <td>18.5</td>\n",
       "      <td>38.2</td>\n",
       "      <td>36.5</td>\n",
       "      <td>39.5</td>\n",
       "      <td>38.2</td>\n",
       "    </tr>\n",
       "    <tr>\n",
       "      <th>4</th>\n",
       "      <td>2014</td>\n",
       "      <td>45459</td>\n",
       "      <td>28.5</td>\n",
       "      <td>11.6</td>\n",
       "      <td>26.9</td>\n",
       "      <td>20670</td>\n",
       "      <td>29.4</td>\n",
       "      <td>9.4</td>\n",
       "      <td>15.9</td>\n",
       "      <td>24789</td>\n",
       "      <td>27.7</td>\n",
       "      <td>13.5</td>\n",
       "      <td>21.3</td>\n",
       "      <td>40.1</td>\n",
       "      <td>38.8</td>\n",
       "      <td>41.2</td>\n",
       "      <td>40.1</td>\n",
       "    </tr>\n",
       "    <tr>\n",
       "      <th>5</th>\n",
       "      <td>2015</td>\n",
       "      <td>47979</td>\n",
       "      <td>30.1</td>\n",
       "      <td>9.2</td>\n",
       "      <td>27.0</td>\n",
       "      <td>23376</td>\n",
       "      <td>29.0</td>\n",
       "      <td>8.3</td>\n",
       "      <td>27.7</td>\n",
       "      <td>24603</td>\n",
       "      <td>31.2</td>\n",
       "      <td>10.1</td>\n",
       "      <td>20.9</td>\n",
       "      <td>39.3</td>\n",
       "      <td>37.3</td>\n",
       "      <td>41.3</td>\n",
       "      <td>39.3</td>\n",
       "    </tr>\n",
       "    <tr>\n",
       "      <th>6</th>\n",
       "      <td>2016</td>\n",
       "      <td>48359</td>\n",
       "      <td>25.4</td>\n",
       "      <td>8.8</td>\n",
       "      <td>29.1</td>\n",
       "      <td>23147</td>\n",
       "      <td>24.4</td>\n",
       "      <td>8.0</td>\n",
       "      <td>29.9</td>\n",
       "      <td>25212</td>\n",
       "      <td>26.5</td>\n",
       "      <td>9.6</td>\n",
       "      <td>23.2</td>\n",
       "      <td>34.2</td>\n",
       "      <td>32.4</td>\n",
       "      <td>36.1</td>\n",
       "      <td>34.2</td>\n",
       "    </tr>\n",
       "    <tr>\n",
       "      <th>7</th>\n",
       "      <td>2017</td>\n",
       "      <td>50868</td>\n",
       "      <td>27.6</td>\n",
       "      <td>8.8</td>\n",
       "      <td>21.9</td>\n",
       "      <td>24997</td>\n",
       "      <td>27.9</td>\n",
       "      <td>9.1</td>\n",
       "      <td>21.7</td>\n",
       "      <td>25871</td>\n",
       "      <td>27.3</td>\n",
       "      <td>8.5</td>\n",
       "      <td>14.5</td>\n",
       "      <td>36.4</td>\n",
       "      <td>37.0</td>\n",
       "      <td>35.8</td>\n",
       "      <td>36.4</td>\n",
       "    </tr>\n",
       "    <tr>\n",
       "      <th>8</th>\n",
       "      <td>2018</td>\n",
       "      <td>52066</td>\n",
       "      <td>29.0</td>\n",
       "      <td>10.4</td>\n",
       "      <td>27.1</td>\n",
       "      <td>25087</td>\n",
       "      <td>30.0</td>\n",
       "      <td>7.6</td>\n",
       "      <td>28.2</td>\n",
       "      <td>26979</td>\n",
       "      <td>28.1</td>\n",
       "      <td>13.1</td>\n",
       "      <td>17.5</td>\n",
       "      <td>39.4</td>\n",
       "      <td>37.6</td>\n",
       "      <td>41.2</td>\n",
       "      <td>39.4</td>\n",
       "    </tr>\n",
       "    <tr>\n",
       "      <th>9</th>\n",
       "      <td>2019</td>\n",
       "      <td>47602</td>\n",
       "      <td>26.4</td>\n",
       "      <td>10.2</td>\n",
       "      <td>29.1</td>\n",
       "      <td>23219</td>\n",
       "      <td>26.7</td>\n",
       "      <td>10.3</td>\n",
       "      <td>30.4</td>\n",
       "      <td>24383</td>\n",
       "      <td>26.1</td>\n",
       "      <td>10.1</td>\n",
       "      <td>19.0</td>\n",
       "      <td>36.6</td>\n",
       "      <td>37.0</td>\n",
       "      <td>36.2</td>\n",
       "      <td>36.6</td>\n",
       "    </tr>\n",
       "  </tbody>\n",
       "</table>\n",
       "</div>"
      ],
      "text/plain": [
       "   year  total_estimate  total_some_college_no_degree  total_associate_degree  \\\n",
       "0  2010           40176                          27.6                    10.1   \n",
       "1  2011           42384                          28.1                     9.3   \n",
       "2  2012           45087                          26.8                     9.8   \n",
       "3  2013           45221                          27.8                    10.4   \n",
       "4  2014           45459                          28.5                    11.6   \n",
       "5  2015           47979                          30.1                     9.2   \n",
       "6  2016           48359                          25.4                     8.8   \n",
       "7  2017           50868                          27.6                     8.8   \n",
       "8  2018           52066                          29.0                    10.4   \n",
       "9  2019           47602                          26.4                    10.2   \n",
       "\n",
       "   total_bachelor_higher  total_male_25_over  percent_male_some_college  \\\n",
       "0                   22.2               19595                       26.1   \n",
       "1                   29.2               20263                       27.6   \n",
       "2                   23.2               22443                       27.1   \n",
       "3                   25.8               20895                       25.2   \n",
       "4                   26.9               20670                       29.4   \n",
       "5                   27.0               23376                       29.0   \n",
       "6                   29.1               23147                       24.4   \n",
       "7                   21.9               24997                       27.9   \n",
       "8                   27.1               25087                       30.0   \n",
       "9                   29.1               23219                       26.7   \n",
       "\n",
       "   percent_male_associate_degree  percent_male_bachelor  total_female_25_over  \\\n",
       "0                            9.0                   24.6                 20581   \n",
       "1                           10.5                   25.1                 22121   \n",
       "2                            9.8                   24.6                 22644   \n",
       "3                           11.3                   24.1                 24326   \n",
       "4                            9.4                   15.9                 24789   \n",
       "5                            8.3                   27.7                 24603   \n",
       "6                            8.0                   29.9                 25212   \n",
       "7                            9.1                   21.7                 25871   \n",
       "8                            7.6                   28.2                 26979   \n",
       "9                           10.3                   30.4                 24383   \n",
       "\n",
       "   percent_female_some_college  percent_female_associate_degree  \\\n",
       "0                         29.0                             11.1   \n",
       "1                         28.5                              8.2   \n",
       "2                         26.6                              9.8   \n",
       "3                         29.9                              9.6   \n",
       "4                         27.7                             13.5   \n",
       "5                         31.2                             10.1   \n",
       "6                         26.5                              9.6   \n",
       "7                         27.3                              8.5   \n",
       "8                         28.1                             13.1   \n",
       "9                         26.1                             10.1   \n",
       "\n",
       "   percent_female_bachelor  no_higher_degree  male_no_higher_degree  \\\n",
       "0                     15.1              37.7                   35.1   \n",
       "1                     19.0              37.4                   38.1   \n",
       "2                     17.6              36.6                   36.9   \n",
       "3                     18.5              38.2                   36.5   \n",
       "4                     21.3              40.1                   38.8   \n",
       "5                     20.9              39.3                   37.3   \n",
       "6                     23.2              34.2                   32.4   \n",
       "7                     14.5              36.4                   37.0   \n",
       "8                     17.5              39.4                   37.6   \n",
       "9                     19.0              36.6                   37.0   \n",
       "\n",
       "   female_no_higher_degree  total_no_higher_degree  \n",
       "0                     40.1                    37.7  \n",
       "1                     36.7                    37.4  \n",
       "2                     36.4                    36.6  \n",
       "3                     39.5                    38.2  \n",
       "4                     41.2                    40.1  \n",
       "5                     41.3                    39.3  \n",
       "6                     36.1                    34.2  \n",
       "7                     35.8                    36.4  \n",
       "8                     41.2                    39.4  \n",
       "9                     36.2                    36.6  "
      ]
     },
     "execution_count": 9,
     "metadata": {},
     "output_type": "execute_result"
    }
   ],
   "source": [
    "#create features for no banchelor's degree, adding some_college_no_degree and associate_degree\n",
    "df['no_higher_degree'] = df['total_some_college_no_degree'] + df['total_associate_degree']\n",
    "df['male_no_higher_degree'] = df['percent_male_some_college'] + df['percent_male_associate_degree']\n",
    "df['female_no_higher_degree'] = df['percent_female_some_college'] + df['percent_female_associate_degree']\n",
    "df['total_no_higher_degree'] = df['total_some_college_no_degree'] + df['total_associate_degree']\n",
    "df"
   ]
  },
  {
   "cell_type": "code",
   "execution_count": 10,
   "metadata": {},
   "outputs": [
    {
     "data": {
      "text/html": [
       "<div>\n",
       "<style scoped>\n",
       "    .dataframe tbody tr th:only-of-type {\n",
       "        vertical-align: middle;\n",
       "    }\n",
       "\n",
       "    .dataframe tbody tr th {\n",
       "        vertical-align: top;\n",
       "    }\n",
       "\n",
       "    .dataframe thead th {\n",
       "        text-align: right;\n",
       "    }\n",
       "</style>\n",
       "<table border=\"1\" class=\"dataframe\">\n",
       "  <thead>\n",
       "    <tr style=\"text-align: right;\">\n",
       "      <th></th>\n",
       "      <th>year</th>\n",
       "      <th>total_estimate</th>\n",
       "      <th>total_some_college_no_degree</th>\n",
       "      <th>total_associate_degree</th>\n",
       "      <th>total_bachelor_higher</th>\n",
       "      <th>total_male_25_over</th>\n",
       "      <th>percent_male_some_college</th>\n",
       "      <th>percent_male_associate_degree</th>\n",
       "      <th>percent_male_bachelor</th>\n",
       "      <th>total_female_25_over</th>\n",
       "      <th>percent_female_some_college</th>\n",
       "      <th>percent_female_associate_degree</th>\n",
       "      <th>percent_female_bachelor</th>\n",
       "      <th>no_higher_degree</th>\n",
       "      <th>male_no_higher_degree</th>\n",
       "      <th>female_no_higher_degree</th>\n",
       "      <th>total_no_higher_degree</th>\n",
       "      <th>pct_change_male_bachelor</th>\n",
       "      <th>pct_change_female_bachelor</th>\n",
       "    </tr>\n",
       "  </thead>\n",
       "  <tbody>\n",
       "    <tr>\n",
       "      <th>0</th>\n",
       "      <td>2010</td>\n",
       "      <td>40176</td>\n",
       "      <td>27.6</td>\n",
       "      <td>10.1</td>\n",
       "      <td>22.2</td>\n",
       "      <td>19595</td>\n",
       "      <td>26.1</td>\n",
       "      <td>9.0</td>\n",
       "      <td>24.6</td>\n",
       "      <td>20581</td>\n",
       "      <td>29.0</td>\n",
       "      <td>11.1</td>\n",
       "      <td>15.1</td>\n",
       "      <td>37.7</td>\n",
       "      <td>35.1</td>\n",
       "      <td>40.1</td>\n",
       "      <td>37.7</td>\n",
       "      <td>NaN</td>\n",
       "      <td>NaN</td>\n",
       "    </tr>\n",
       "    <tr>\n",
       "      <th>1</th>\n",
       "      <td>2011</td>\n",
       "      <td>42384</td>\n",
       "      <td>28.1</td>\n",
       "      <td>9.3</td>\n",
       "      <td>29.2</td>\n",
       "      <td>20263</td>\n",
       "      <td>27.6</td>\n",
       "      <td>10.5</td>\n",
       "      <td>25.1</td>\n",
       "      <td>22121</td>\n",
       "      <td>28.5</td>\n",
       "      <td>8.2</td>\n",
       "      <td>19.0</td>\n",
       "      <td>37.4</td>\n",
       "      <td>38.1</td>\n",
       "      <td>36.7</td>\n",
       "      <td>37.4</td>\n",
       "      <td>0.5</td>\n",
       "      <td>3.9</td>\n",
       "    </tr>\n",
       "    <tr>\n",
       "      <th>2</th>\n",
       "      <td>2012</td>\n",
       "      <td>45087</td>\n",
       "      <td>26.8</td>\n",
       "      <td>9.8</td>\n",
       "      <td>23.2</td>\n",
       "      <td>22443</td>\n",
       "      <td>27.1</td>\n",
       "      <td>9.8</td>\n",
       "      <td>24.6</td>\n",
       "      <td>22644</td>\n",
       "      <td>26.6</td>\n",
       "      <td>9.8</td>\n",
       "      <td>17.6</td>\n",
       "      <td>36.6</td>\n",
       "      <td>36.9</td>\n",
       "      <td>36.4</td>\n",
       "      <td>36.6</td>\n",
       "      <td>-0.5</td>\n",
       "      <td>-1.4</td>\n",
       "    </tr>\n",
       "    <tr>\n",
       "      <th>3</th>\n",
       "      <td>2013</td>\n",
       "      <td>45221</td>\n",
       "      <td>27.8</td>\n",
       "      <td>10.4</td>\n",
       "      <td>25.8</td>\n",
       "      <td>20895</td>\n",
       "      <td>25.2</td>\n",
       "      <td>11.3</td>\n",
       "      <td>24.1</td>\n",
       "      <td>24326</td>\n",
       "      <td>29.9</td>\n",
       "      <td>9.6</td>\n",
       "      <td>18.5</td>\n",
       "      <td>38.2</td>\n",
       "      <td>36.5</td>\n",
       "      <td>39.5</td>\n",
       "      <td>38.2</td>\n",
       "      <td>-0.5</td>\n",
       "      <td>0.9</td>\n",
       "    </tr>\n",
       "    <tr>\n",
       "      <th>4</th>\n",
       "      <td>2014</td>\n",
       "      <td>45459</td>\n",
       "      <td>28.5</td>\n",
       "      <td>11.6</td>\n",
       "      <td>26.9</td>\n",
       "      <td>20670</td>\n",
       "      <td>29.4</td>\n",
       "      <td>9.4</td>\n",
       "      <td>15.9</td>\n",
       "      <td>24789</td>\n",
       "      <td>27.7</td>\n",
       "      <td>13.5</td>\n",
       "      <td>21.3</td>\n",
       "      <td>40.1</td>\n",
       "      <td>38.8</td>\n",
       "      <td>41.2</td>\n",
       "      <td>40.1</td>\n",
       "      <td>-8.2</td>\n",
       "      <td>2.8</td>\n",
       "    </tr>\n",
       "    <tr>\n",
       "      <th>5</th>\n",
       "      <td>2015</td>\n",
       "      <td>47979</td>\n",
       "      <td>30.1</td>\n",
       "      <td>9.2</td>\n",
       "      <td>27.0</td>\n",
       "      <td>23376</td>\n",
       "      <td>29.0</td>\n",
       "      <td>8.3</td>\n",
       "      <td>27.7</td>\n",
       "      <td>24603</td>\n",
       "      <td>31.2</td>\n",
       "      <td>10.1</td>\n",
       "      <td>20.9</td>\n",
       "      <td>39.3</td>\n",
       "      <td>37.3</td>\n",
       "      <td>41.3</td>\n",
       "      <td>39.3</td>\n",
       "      <td>11.8</td>\n",
       "      <td>-0.4</td>\n",
       "    </tr>\n",
       "    <tr>\n",
       "      <th>6</th>\n",
       "      <td>2016</td>\n",
       "      <td>48359</td>\n",
       "      <td>25.4</td>\n",
       "      <td>8.8</td>\n",
       "      <td>29.1</td>\n",
       "      <td>23147</td>\n",
       "      <td>24.4</td>\n",
       "      <td>8.0</td>\n",
       "      <td>29.9</td>\n",
       "      <td>25212</td>\n",
       "      <td>26.5</td>\n",
       "      <td>9.6</td>\n",
       "      <td>23.2</td>\n",
       "      <td>34.2</td>\n",
       "      <td>32.4</td>\n",
       "      <td>36.1</td>\n",
       "      <td>34.2</td>\n",
       "      <td>2.2</td>\n",
       "      <td>2.3</td>\n",
       "    </tr>\n",
       "    <tr>\n",
       "      <th>7</th>\n",
       "      <td>2017</td>\n",
       "      <td>50868</td>\n",
       "      <td>27.6</td>\n",
       "      <td>8.8</td>\n",
       "      <td>21.9</td>\n",
       "      <td>24997</td>\n",
       "      <td>27.9</td>\n",
       "      <td>9.1</td>\n",
       "      <td>21.7</td>\n",
       "      <td>25871</td>\n",
       "      <td>27.3</td>\n",
       "      <td>8.5</td>\n",
       "      <td>14.5</td>\n",
       "      <td>36.4</td>\n",
       "      <td>37.0</td>\n",
       "      <td>35.8</td>\n",
       "      <td>36.4</td>\n",
       "      <td>-8.2</td>\n",
       "      <td>-8.7</td>\n",
       "    </tr>\n",
       "    <tr>\n",
       "      <th>8</th>\n",
       "      <td>2018</td>\n",
       "      <td>52066</td>\n",
       "      <td>29.0</td>\n",
       "      <td>10.4</td>\n",
       "      <td>27.1</td>\n",
       "      <td>25087</td>\n",
       "      <td>30.0</td>\n",
       "      <td>7.6</td>\n",
       "      <td>28.2</td>\n",
       "      <td>26979</td>\n",
       "      <td>28.1</td>\n",
       "      <td>13.1</td>\n",
       "      <td>17.5</td>\n",
       "      <td>39.4</td>\n",
       "      <td>37.6</td>\n",
       "      <td>41.2</td>\n",
       "      <td>39.4</td>\n",
       "      <td>6.5</td>\n",
       "      <td>3.0</td>\n",
       "    </tr>\n",
       "    <tr>\n",
       "      <th>9</th>\n",
       "      <td>2019</td>\n",
       "      <td>47602</td>\n",
       "      <td>26.4</td>\n",
       "      <td>10.2</td>\n",
       "      <td>29.1</td>\n",
       "      <td>23219</td>\n",
       "      <td>26.7</td>\n",
       "      <td>10.3</td>\n",
       "      <td>30.4</td>\n",
       "      <td>24383</td>\n",
       "      <td>26.1</td>\n",
       "      <td>10.1</td>\n",
       "      <td>19.0</td>\n",
       "      <td>36.6</td>\n",
       "      <td>37.0</td>\n",
       "      <td>36.2</td>\n",
       "      <td>36.6</td>\n",
       "      <td>2.2</td>\n",
       "      <td>1.5</td>\n",
       "    </tr>\n",
       "  </tbody>\n",
       "</table>\n",
       "</div>"
      ],
      "text/plain": [
       "   year  total_estimate  total_some_college_no_degree  total_associate_degree  \\\n",
       "0  2010           40176                          27.6                    10.1   \n",
       "1  2011           42384                          28.1                     9.3   \n",
       "2  2012           45087                          26.8                     9.8   \n",
       "3  2013           45221                          27.8                    10.4   \n",
       "4  2014           45459                          28.5                    11.6   \n",
       "5  2015           47979                          30.1                     9.2   \n",
       "6  2016           48359                          25.4                     8.8   \n",
       "7  2017           50868                          27.6                     8.8   \n",
       "8  2018           52066                          29.0                    10.4   \n",
       "9  2019           47602                          26.4                    10.2   \n",
       "\n",
       "   total_bachelor_higher  total_male_25_over  percent_male_some_college  \\\n",
       "0                   22.2               19595                       26.1   \n",
       "1                   29.2               20263                       27.6   \n",
       "2                   23.2               22443                       27.1   \n",
       "3                   25.8               20895                       25.2   \n",
       "4                   26.9               20670                       29.4   \n",
       "5                   27.0               23376                       29.0   \n",
       "6                   29.1               23147                       24.4   \n",
       "7                   21.9               24997                       27.9   \n",
       "8                   27.1               25087                       30.0   \n",
       "9                   29.1               23219                       26.7   \n",
       "\n",
       "   percent_male_associate_degree  percent_male_bachelor  total_female_25_over  \\\n",
       "0                            9.0                   24.6                 20581   \n",
       "1                           10.5                   25.1                 22121   \n",
       "2                            9.8                   24.6                 22644   \n",
       "3                           11.3                   24.1                 24326   \n",
       "4                            9.4                   15.9                 24789   \n",
       "5                            8.3                   27.7                 24603   \n",
       "6                            8.0                   29.9                 25212   \n",
       "7                            9.1                   21.7                 25871   \n",
       "8                            7.6                   28.2                 26979   \n",
       "9                           10.3                   30.4                 24383   \n",
       "\n",
       "   percent_female_some_college  percent_female_associate_degree  \\\n",
       "0                         29.0                             11.1   \n",
       "1                         28.5                              8.2   \n",
       "2                         26.6                              9.8   \n",
       "3                         29.9                              9.6   \n",
       "4                         27.7                             13.5   \n",
       "5                         31.2                             10.1   \n",
       "6                         26.5                              9.6   \n",
       "7                         27.3                              8.5   \n",
       "8                         28.1                             13.1   \n",
       "9                         26.1                             10.1   \n",
       "\n",
       "   percent_female_bachelor  no_higher_degree  male_no_higher_degree  \\\n",
       "0                     15.1              37.7                   35.1   \n",
       "1                     19.0              37.4                   38.1   \n",
       "2                     17.6              36.6                   36.9   \n",
       "3                     18.5              38.2                   36.5   \n",
       "4                     21.3              40.1                   38.8   \n",
       "5                     20.9              39.3                   37.3   \n",
       "6                     23.2              34.2                   32.4   \n",
       "7                     14.5              36.4                   37.0   \n",
       "8                     17.5              39.4                   37.6   \n",
       "9                     19.0              36.6                   37.0   \n",
       "\n",
       "   female_no_higher_degree  total_no_higher_degree  pct_change_male_bachelor  \\\n",
       "0                     40.1                    37.7                       NaN   \n",
       "1                     36.7                    37.4                       0.5   \n",
       "2                     36.4                    36.6                      -0.5   \n",
       "3                     39.5                    38.2                      -0.5   \n",
       "4                     41.2                    40.1                      -8.2   \n",
       "5                     41.3                    39.3                      11.8   \n",
       "6                     36.1                    34.2                       2.2   \n",
       "7                     35.8                    36.4                      -8.2   \n",
       "8                     41.2                    39.4                       6.5   \n",
       "9                     36.2                    36.6                       2.2   \n",
       "\n",
       "   pct_change_female_bachelor  \n",
       "0                         NaN  \n",
       "1                         3.9  \n",
       "2                        -1.4  \n",
       "3                         0.9  \n",
       "4                         2.8  \n",
       "5                        -0.4  \n",
       "6                         2.3  \n",
       "7                        -8.7  \n",
       "8                         3.0  \n",
       "9                         1.5  "
      ]
     },
     "execution_count": 10,
     "metadata": {},
     "output_type": "execute_result"
    }
   ],
   "source": [
    "#create features for percentage change to evaluate increase/decrease in bachelor's each year\n",
    "\n",
    "df['pct_change_male_bachelor'] = df['percent_male_bachelor'].diff()\n",
    "df['pct_change_female_bachelor'] = df['percent_female_bachelor'].diff()\n",
    "df"
   ]
  },
  {
   "cell_type": "code",
   "execution_count": 11,
   "metadata": {},
   "outputs": [
    {
     "data": {
      "text/plain": [
       "0.80777802928147"
      ]
     },
     "execution_count": 11,
     "metadata": {},
     "output_type": "execute_result"
    }
   ],
   "source": [
    "#Proportion test to check if there is a relation between increase in bachelor's attainment in the last 10 years\n",
    "male_higher_mean = np.mean(df['pct_change_male_bachelor'][1:])\n",
    "female_higher_mean = np.mean(df['pct_change_female_bachelor'][1:])\n",
    "n_male = np.mean(df['total_male_25_over'])\n",
    "n_female = np.mean(df['total_female_25_over'])\n",
    "\n",
    "null = 0\n",
    "stat, p_value = proportions_ztest(count=np.array([male_higher_mean, female_higher_mean]), nobs=np.array([n_male, n_female]), value=0)\n",
    "p_value"
   ]
  },
  {
   "cell_type": "code",
   "execution_count": 12,
   "metadata": {},
   "outputs": [
    {
     "data": {
      "text/plain": [
       "Ttest_indResult(statistic=-1.8787682160541102, pvalue=0.07656990807832503)"
      ]
     },
     "execution_count": 12,
     "metadata": {},
     "output_type": "execute_result"
    }
   ],
   "source": [
    "stats.ttest_ind(df['male_no_higher_degree'] , df['female_no_higher_degree'])"
   ]
  },
  {
   "cell_type": "markdown",
   "metadata": {},
   "source": [
    "Since p value > 0.05, we should failed to reject the null hypothesis, meaning there is not enough evidence that shows that bachelor's attainment by sex is different"
   ]
  },
  {
   "cell_type": "code",
   "execution_count": 13,
   "metadata": {},
   "outputs": [
    {
     "data": {
      "text/plain": [
       "Ttest_indResult(statistic=-17.338538025220952, pvalue=1.1156961420094403e-12)"
      ]
     },
     "execution_count": 13,
     "metadata": {},
     "output_type": "execute_result"
    }
   ],
   "source": [
    "stats.ttest_ind(df['percent_female_bachelor'] , df['female_no_higher_degree'])"
   ]
  },
  {
   "cell_type": "code",
   "execution_count": 14,
   "metadata": {},
   "outputs": [
    {
     "data": {
      "text/plain": [
       "Ttest_indResult(statistic=-7.800836878435601, pvalue=3.502722137639048e-07)"
      ]
     },
     "execution_count": 14,
     "metadata": {},
     "output_type": "execute_result"
    }
   ],
   "source": [
    "stats.ttest_ind(df['percent_male_bachelor'] , df['male_no_higher_degree'])"
   ]
  },
  {
   "cell_type": "code",
   "execution_count": 15,
   "metadata": {},
   "outputs": [
    {
     "data": {
      "text/plain": [
       "Ttest_indResult(statistic=-10.898039160662847, pvalue=2.340420732654359e-09)"
      ]
     },
     "execution_count": 15,
     "metadata": {},
     "output_type": "execute_result"
    }
   ],
   "source": [
    "stats.ttest_ind(df['total_bachelor_higher'] , df['total_no_higher_degree'])"
   ]
  },
  {
   "cell_type": "markdown",
   "metadata": {},
   "source": [
    "T-tests done showed that we should reject null hypothesis when we compare bachelor's and people with some higher education but not a bachelor's degree, meaning there is an opportunity to train people to get this type of degree to improve their opportunities to get a job"
   ]
  },
  {
   "cell_type": "code",
   "execution_count": 16,
   "metadata": {},
   "outputs": [
    {
     "data": {
      "image/png": "[encoded data removed]",
      "text/plain": [
       "<Figure size 576x216 with 1 Axes>"
      ]
     },
     "metadata": {
      "needs_background": "light"
     },
     "output_type": "display_data"
    }
   ],
   "source": [
    "plt.figure(figsize=(8,3))\n",
    "\n",
    "X_axis = np.arange(len(df['year']))\n",
    "plt.bar(X_axis - 0.2, df['female_no_higher_degree'], 0.4, label = 'Female',  color = '#702E52')\n",
    "plt.bar(X_axis + 0.2, df['male_no_higher_degree'], 0.4, label = 'Male',  color = '#B56566')\n",
    "  \n",
    "plt.xticks(X_axis, df['year'])\n",
    "plt.xlabel(\"Years\")\n",
    "plt.ylabel(\"Percentage\")\n",
    "plt.title(\"Undergraduated education without degree by sex\")\n",
    "plt.legend( loc='upper right', bbox_to_anchor = (1.2, 0.2))\n",
    "plt.savefig('no_degree.jpg')\n",
    "plt.show()"
   ]
  },
  {
   "cell_type": "code",
   "execution_count": 17,
   "metadata": {},
   "outputs": [
    {
     "data": {
      "image/png": "[encoded data removed]",
      "text/plain": [
       "<Figure size 576x216 with 1 Axes>"
      ]
     },
     "metadata": {
      "needs_background": "light"
     },
     "output_type": "display_data"
    }
   ],
   "source": [
    "plt.figure(figsize=(8,3))\n",
    "\n",
    "X_axis = np.arange(len(df['year']))\n",
    "plt.bar(X_axis - 0.2, df['pct_change_male_bachelor'], 0.4, label = 'Female',  color = '#702E52')\n",
    "plt.bar(X_axis + 0.2, df['pct_change_female_bachelor'], 0.4, label = 'Male',  color = '#B56566')\n",
    "  \n",
    "plt.xticks(X_axis, df['year'])\n",
    "plt.xlabel(\"Years\")\n",
    "plt.ylabel(\"Percentage\")\n",
    "plt.title(\"Bachelor's degree by sex\")\n",
    "plt.legend( loc='upper right', bbox_to_anchor = (1.2, 0.2))\n",
    "plt.savefig('bachelor.jpg', bbox_inches = 'tight')\n",
    "plt.show()"
   ]
  },
  {
   "cell_type": "code",
   "execution_count": 18,
   "metadata": {},
   "outputs": [
    {
     "data": {
      "image/png": "[encoded data removed]",
      "text/plain": [
       "<Figure size 576x216 with 1 Axes>"
      ]
     },
     "metadata": {
      "needs_background": "light"
     },
     "output_type": "display_data"
    }
   ],
   "source": [
    "plt.figure(figsize=(8,3))\n",
    "\n",
    "X_axis = np.arange(len(df['year']))\n",
    "plt.bar(X_axis - 0.2, df['total_bachelor_higher'], 0.4, label = \"Bachelor's\",  color = '#702E52')\n",
    "plt.bar(X_axis + 0.2, df['total_no_higher_degree'], 0.4, label = 'Undergraduate',  color = '#B56566')\n",
    "  \n",
    "plt.xticks(X_axis, df['year'])\n",
    "plt.xlabel(\"Years\")\n",
    "plt.ylabel(\"Percentage\")\n",
    "plt.title(\"Educational attainment\")\n",
    "plt.legend( loc='upper right', bbox_to_anchor = (1.3, 0.2))\n",
    "plt.savefig('bachelor_difference.jpg')\n",
    "plt.tight_layout()\n",
    "plt.show()"
   ]
  },
  {
   "cell_type": "code",
   "execution_count": 19,
   "metadata": {},
   "outputs": [],
   "source": [
    "#export a subset of dataset\n",
    "education_df = df[['year', 'total_estimate', 'female_no_higher_degree', 'male_no_higher_degree','percent_female_bachelor', 'percent_male_bachelor', 'total_bachelor_higher', 'total_no_higher_degree']]\n",
    "\n",
    "education_df.to_csv('education_df.csv', index=False)"
   ]
  },
  {
   "cell_type": "code",
   "execution_count": 20,
   "metadata": {},
   "outputs": [
    {
     "data": {
      "image/png": "[encoded data removed]",
      "text/plain": [
       "<Figure size 720x720 with 2 Axes>"
      ]
     },
     "metadata": {
      "needs_background": "light"
     },
     "output_type": "display_data"
    }
   ],
   "source": [
    "fig, axs = plt.subplots(ncols=1, nrows=2, figsize=(10,10))\n",
    "\n",
    "sns.lineplot(x='year', y= 'pct_change_male_bachelor', data = df, color = '#702E52', ax = axs[0])\n",
    "sns.lineplot(x='year', y= 'pct_change_female_bachelor', data = df, color='#B56566', ax = axs[1])\n",
    "plt.title(\"Higher degree attainment by sex according to census data\")\n",
    "plt.xlabel('Year')\n",
    "\n",
    "plt.show()"
   ]
  },
  {
   "cell_type": "code",
   "execution_count": 21,
   "metadata": {},
   "outputs": [
    {
     "data": {
      "application/vnd.plotly.v1+json": {
       "config": {
        "plotlyServerURL": "https://plot.ly"
       },
       "data": [
        {
         "marker": {
          "color": "blueviolet"
         },
         "name": "Some college, no degree",
         "type": "bar",
         "x": [
          "2010",
          "2011",
          "2012",
          "2013",
          "2014",
          "2015",
          "2016",
          "2017",
          "2018",
          "2019"
         ],
         "y": [
          26.1,
          27.6,
          27.1,
          25.2,
          29.4,
          29,
          24.4,
          27.9,
          30,
          26.7
         ]
        },
        {
         "marker": {
          "color": "cornflowerblue"
         },
         "name": "Associate degree",
         "type": "bar",
         "x": [
          "2010",
          "2011",
          "2012",
          "2013",
          "2014",
          "2015",
          "2016",
          "2017",
          "2018",
          "2019"
         ],
         "y": [
          9,
          10.5,
          9.8,
          11.3,
          9.4,
          8.3,
          8,
          9.1,
          7.6,
          10.3
         ]
        }
       ],
       "layout": {
        "autosize": false,
        "barmode": "group",
        "height": 300,
        "template": {
         "data": {
          "bar": [
           {
            "error_x": {
             "color": "#2a3f5f"
            },
            "error_y": {
             "color": "#2a3f5f"
            },
            "marker": {
             "line": {
              "color": "#E5ECF6",
              "width": 0.5
             },
             "pattern": {
              "fillmode": "overlay",
              "size": 10,
              "solidity": 0.2
             }
            },
            "type": "bar"
           }
          ],
          "barpolar": [
           {
            "marker": {
             "line": {
              "color": "#E5ECF6",
              "width": 0.5
             },
             "pattern": {
              "fillmode": "overlay",
              "size": 10,
              "solidity": 0.2
             }
            },
            "type": "barpolar"
           }
          ],
          "carpet": [
           {
            "aaxis": {
             "endlinecolor": "#2a3f5f",
             "gridcolor": "white",
             "linecolor": "white",
             "minorgridcolor": "white",
             "startlinecolor": "#2a3f5f"
            },
            "baxis": {
             "endlinecolor": "#2a3f5f",
             "gridcolor": "white",
             "linecolor": "white",
             "minorgridcolor": "white",
             "startlinecolor": "#2a3f5f"
            },
            "type": "carpet"
           }
          ],
          "choropleth": [
           {
            "colorbar": {
             "outlinewidth": 0,
             "ticks": ""
            },
            "type": "choropleth"
           }
          ],
          "contour": [
           {
            "colorbar": {
             "outlinewidth": 0,
             "ticks": ""
            },
            "colorscale": [
             [
              0,
              "#0d0887"
             ],
             [
              0.1111111111111111,
              "#46039f"
             ],
             [
              0.2222222222222222,
              "#7201a8"
             ],
             [
              0.3333333333333333,
              "#9c179e"
             ],
             [
              0.4444444444444444,
              "#bd3786"
             ],
             [
              0.5555555555555556,
              "#d8576b"
             ],
             [
              0.6666666666666666,
              "#ed7953"
             ],
             [
              0.7777777777777778,
              "#fb9f3a"
             ],
             [
              0.8888888888888888,
              "#fdca26"
             ],
             [
              1,
              "#f0f921"
             ]
            ],
            "type": "contour"
           }
          ],
          "contourcarpet": [
           {
            "colorbar": {
             "outlinewidth": 0,
             "ticks": ""
            },
            "type": "contourcarpet"
           }
          ],
          "heatmap": [
           {
            "colorbar": {
             "outlinewidth": 0,
             "ticks": ""
            },
            "colorscale": [
             [
              0,
              "#0d0887"
             ],
             [
              0.1111111111111111,
              "#46039f"
             ],
             [
              0.2222222222222222,
              "#7201a8"
             ],
             [
              0.3333333333333333,
              "#9c179e"
             ],
             [
              0.4444444444444444,
              "#bd3786"
             ],
             [
              0.5555555555555556,
              "#d8576b"
             ],
             [
              0.6666666666666666,
              "#ed7953"
             ],
             [
              0.7777777777777778,
              "#fb9f3a"
             ],
             [
              0.8888888888888888,
              "#fdca26"
             ],
             [
              1,
              "#f0f921"
             ]
            ],
            "type": "heatmap"
           }
          ],
          "heatmapgl": [
           {
            "colorbar": {
             "outlinewidth": 0,
             "ticks": ""
            },
            "colorscale": [
             [
              0,
              "#0d0887"
             ],
             [
              0.1111111111111111,
              "#46039f"
             ],
             [
              0.2222222222222222,
              "#7201a8"
             ],
             [
              0.3333333333333333,
              "#9c179e"
             ],
             [
              0.4444444444444444,
              "#bd3786"
             ],
             [
              0.5555555555555556,
              "#d8576b"
             ],
             [
              0.6666666666666666,
              "#ed7953"
             ],
             [
              0.7777777777777778,
              "#fb9f3a"
             ],
             [
              0.8888888888888888,
              "#fdca26"
             ],
             [
              1,
              "#f0f921"
             ]
            ],
            "type": "heatmapgl"
           }
          ],
          "histogram": [
           {
            "marker": {
             "pattern": {
              "fillmode": "overlay",
              "size": 10,
              "solidity": 0.2
             }
            },
            "type": "histogram"
           }
          ],
          "histogram2d": [
           {
            "colorbar": {
             "outlinewidth": 0,
             "ticks": ""
            },
            "colorscale": [
             [
              0,
              "#0d0887"
             ],
             [
              0.1111111111111111,
              "#46039f"
             ],
             [
              0.2222222222222222,
              "#7201a8"
             ],
             [
              0.3333333333333333,
              "#9c179e"
             ],
             [
              0.4444444444444444,
              "#bd3786"
             ],
             [
              0.5555555555555556,
              "#d8576b"
             ],
             [
              0.6666666666666666,
              "#ed7953"
             ],
             [
              0.7777777777777778,
              "#fb9f3a"
             ],
             [
              0.8888888888888888,
              "#fdca26"
             ],
             [
              1,
              "#f0f921"
             ]
            ],
            "type": "histogram2d"
           }
          ],
          "histogram2dcontour": [
           {
            "colorbar": {
             "outlinewidth": 0,
             "ticks": ""
            },
            "colorscale": [
             [
              0,
              "#0d0887"
             ],
             [
              0.1111111111111111,
              "#46039f"
             ],
             [
              0.2222222222222222,
              "#7201a8"
             ],
             [
              0.3333333333333333,
              "#9c179e"
             ],
             [
              0.4444444444444444,
              "#bd3786"
             ],
             [
              0.5555555555555556,
              "#d8576b"
             ],
             [
              0.6666666666666666,
              "#ed7953"
             ],
             [
              0.7777777777777778,
              "#fb9f3a"
             ],
             [
              0.8888888888888888,
              "#fdca26"
             ],
             [
              1,
              "#f0f921"
             ]
            ],
            "type": "histogram2dcontour"
           }
          ],
          "mesh3d": [
           {
            "colorbar": {
             "outlinewidth": 0,
             "ticks": ""
            },
            "type": "mesh3d"
           }
          ],
          "parcoords": [
           {
            "line": {
             "colorbar": {
              "outlinewidth": 0,
              "ticks": ""
             }
            },
            "type": "parcoords"
           }
          ],
          "pie": [
           {
            "automargin": true,
            "type": "pie"
           }
          ],
          "scatter": [
           {
            "marker": {
             "colorbar": {
              "outlinewidth": 0,
              "ticks": ""
             }
            },
            "type": "scatter"
           }
          ],
          "scatter3d": [
           {
            "line": {
             "colorbar": {
              "outlinewidth": 0,
              "ticks": ""
             }
            },
            "marker": {
             "colorbar": {
              "outlinewidth": 0,
              "ticks": ""
             }
            },
            "type": "scatter3d"
           }
          ],
          "scattercarpet": [
           {
            "marker": {
             "colorbar": {
              "outlinewidth": 0,
              "ticks": ""
             }
            },
            "type": "scattercarpet"
           }
          ],
          "scattergeo": [
           {
            "marker": {
             "colorbar": {
              "outlinewidth": 0,
              "ticks": ""
             }
            },
            "type": "scattergeo"
           }
          ],
          "scattergl": [
           {
            "marker": {
             "colorbar": {
              "outlinewidth": 0,
              "ticks": ""
             }
            },
            "type": "scattergl"
           }
          ],
          "scattermapbox": [
           {
            "marker": {
             "colorbar": {
              "outlinewidth": 0,
              "ticks": ""
             }
            },
            "type": "scattermapbox"
           }
          ],
          "scatterpolar": [
           {
            "marker": {
             "colorbar": {
              "outlinewidth": 0,
              "ticks": ""
             }
            },
            "type": "scatterpolar"
           }
          ],
          "scatterpolargl": [
           {
            "marker": {
             "colorbar": {
              "outlinewidth": 0,
              "ticks": ""
             }
            },
            "type": "scatterpolargl"
           }
          ],
          "scatterternary": [
           {
            "marker": {
             "colorbar": {
              "outlinewidth": 0,
              "ticks": ""
             }
            },
            "type": "scatterternary"
           }
          ],
          "surface": [
           {
            "colorbar": {
             "outlinewidth": 0,
             "ticks": ""
            },
            "colorscale": [
             [
              0,
              "#0d0887"
             ],
             [
              0.1111111111111111,
              "#46039f"
             ],
             [
              0.2222222222222222,
              "#7201a8"
             ],
             [
              0.3333333333333333,
              "#9c179e"
             ],
             [
              0.4444444444444444,
              "#bd3786"
             ],
             [
              0.5555555555555556,
              "#d8576b"
             ],
             [
              0.6666666666666666,
              "#ed7953"
             ],
             [
              0.7777777777777778,
              "#fb9f3a"
             ],
             [
              0.8888888888888888,
              "#fdca26"
             ],
             [
              1,
              "#f0f921"
             ]
            ],
            "type": "surface"
           }
          ],
          "table": [
           {
            "cells": {
             "fill": {
              "color": "#EBF0F8"
             },
             "line": {
              "color": "white"
             }
            },
            "header": {
             "fill": {
              "color": "#C8D4E3"
             },
             "line": {
              "color": "white"
             }
            },
            "type": "table"
           }
          ]
         },
         "layout": {
          "annotationdefaults": {
           "arrowcolor": "#2a3f5f",
           "arrowhead": 0,
           "arrowwidth": 1
          },
          "autotypenumbers": "strict",
          "coloraxis": {
           "colorbar": {
            "outlinewidth": 0,
            "ticks": ""
           }
          },
          "colorscale": {
           "diverging": [
            [
             0,
             "#8e0152"
            ],
            [
             0.1,
             "#c51b7d"
            ],
            [
             0.2,
             "#de77ae"
            ],
            [
             0.3,
             "#f1b6da"
            ],
            [
             0.4,
             "#fde0ef"
            ],
            [
             0.5,
             "#f7f7f7"
            ],
            [
             0.6,
             "#e6f5d0"
            ],
            [
             0.7,
             "#b8e186"
            ],
            [
             0.8,
             "#7fbc41"
            ],
            [
             0.9,
             "#4d9221"
            ],
            [
             1,
             "#276419"
            ]
           ],
           "sequential": [
            [
             0,
             "#0d0887"
            ],
            [
             0.1111111111111111,
             "#46039f"
            ],
            [
             0.2222222222222222,
             "#7201a8"
            ],
            [
             0.3333333333333333,
             "#9c179e"
            ],
            [
             0.4444444444444444,
             "#bd3786"
            ],
            [
             0.5555555555555556,
             "#d8576b"
            ],
            [
             0.6666666666666666,
             "#ed7953"
            ],
            [
             0.7777777777777778,
             "#fb9f3a"
            ],
            [
             0.8888888888888888,
             "#fdca26"
            ],
            [
             1,
             "#f0f921"
            ]
           ],
           "sequentialminus": [
            [
             0,
             "#0d0887"
            ],
            [
             0.1111111111111111,
             "#46039f"
            ],
            [
             0.2222222222222222,
             "#7201a8"
            ],
            [
             0.3333333333333333,
             "#9c179e"
            ],
            [
             0.4444444444444444,
             "#bd3786"
            ],
            [
             0.5555555555555556,
             "#d8576b"
            ],
            [
             0.6666666666666666,
             "#ed7953"
            ],
            [
             0.7777777777777778,
             "#fb9f3a"
            ],
            [
             0.8888888888888888,
             "#fdca26"
            ],
            [
             1,
             "#f0f921"
            ]
           ]
          },
          "colorway": [
           "#636efa",
           "#EF553B",
           "#00cc96",
           "#ab63fa",
           "#FFA15A",
           "#19d3f3",
           "#FF6692",
           "#B6E880",
           "#FF97FF",
           "#FECB52"
          ],
          "font": {
           "color": "#2a3f5f"
          },
          "geo": {
           "bgcolor": "white",
           "lakecolor": "white",
           "landcolor": "#E5ECF6",
           "showlakes": true,
           "showland": true,
           "subunitcolor": "white"
          },
          "hoverlabel": {
           "align": "left"
          },
          "hovermode": "closest",
          "mapbox": {
           "style": "light"
          },
          "paper_bgcolor": "white",
          "plot_bgcolor": "#E5ECF6",
          "polar": {
           "angularaxis": {
            "gridcolor": "white",
            "linecolor": "white",
            "ticks": ""
           },
           "bgcolor": "#E5ECF6",
           "radialaxis": {
            "gridcolor": "white",
            "linecolor": "white",
            "ticks": ""
           }
          },
          "scene": {
           "xaxis": {
            "backgroundcolor": "#E5ECF6",
            "gridcolor": "white",
            "gridwidth": 2,
            "linecolor": "white",
            "showbackground": true,
            "ticks": "",
            "zerolinecolor": "white"
           },
           "yaxis": {
            "backgroundcolor": "#E5ECF6",
            "gridcolor": "white",
            "gridwidth": 2,
            "linecolor": "white",
            "showbackground": true,
            "ticks": "",
            "zerolinecolor": "white"
           },
           "zaxis": {
            "backgroundcolor": "#E5ECF6",
            "gridcolor": "white",
            "gridwidth": 2,
            "linecolor": "white",
            "showbackground": true,
            "ticks": "",
            "zerolinecolor": "white"
           }
          },
          "shapedefaults": {
           "line": {
            "color": "#2a3f5f"
           }
          },
          "ternary": {
           "aaxis": {
            "gridcolor": "white",
            "linecolor": "white",
            "ticks": ""
           },
           "baxis": {
            "gridcolor": "white",
            "linecolor": "white",
            "ticks": ""
           },
           "bgcolor": "#E5ECF6",
           "caxis": {
            "gridcolor": "white",
            "linecolor": "white",
            "ticks": ""
           }
          },
          "title": {
           "x": 0.05
          },
          "xaxis": {
           "automargin": true,
           "gridcolor": "white",
           "linecolor": "white",
           "ticks": "",
           "title": {
            "standoff": 15
           },
           "zerolinecolor": "white",
           "zerolinewidth": 2
          },
          "yaxis": {
           "automargin": true,
           "gridcolor": "white",
           "linecolor": "white",
           "ticks": "",
           "title": {
            "standoff": 15
           },
           "zerolinecolor": "white",
           "zerolinewidth": 2
          }
         }
        },
        "title": {
         "text": "Higher Education without a bachelor's degree for Male",
         "x": 0.5,
         "xanchor": "center",
         "y": 0.9,
         "yanchor": "top"
        },
        "width": 600,
        "xaxis": {
         "title": {
          "text": "Years"
         }
        }
       }
      }
     },
     "metadata": {},
     "output_type": "display_data"
    }
   ],
   "source": [
    "import plotly.graph_objects as go\n",
    "fig = go.Figure(data = [\n",
    "    go.Bar(name ='Some college, no degree', x = years, y = df['percent_male_some_college'], marker_color = 'blueviolet'),\n",
    "    go.Bar(name = 'Associate degree', x =  years, y = df['percent_male_associate_degree'], marker_color = 'cornflowerblue')\n",
    "])\n",
    "fig.update_layout(title={\n",
    "        'text': \"Higher Education without a bachelor's degree for Male\",\n",
    "        'y':0.9,\n",
    "        'x':0.5,\n",
    "        'xanchor': 'center',\n",
    "        'yanchor': 'top'},\n",
    "    xaxis_title=\"Years\",\n",
    "    autosize=False,\n",
    "    width=600,\n",
    "    height=300,\n",
    "    barmode='group')\n",
    "fig.show()"
   ]
  },
  {
   "cell_type": "code",
   "execution_count": 22,
   "metadata": {},
   "outputs": [
    {
     "data": {
      "application/vnd.plotly.v1+json": {
       "config": {
        "plotlyServerURL": "https://plot.ly"
       },
       "data": [
        {
         "marker": {
          "color": "blueviolet"
         },
         "name": "Some college, no degree",
         "type": "bar",
         "x": [
          "2010",
          "2011",
          "2012",
          "2013",
          "2014",
          "2015",
          "2016",
          "2017",
          "2018",
          "2019"
         ],
         "y": [
          29,
          28.5,
          26.6,
          29.9,
          27.7,
          31.2,
          26.5,
          27.3,
          28.1,
          26.1
         ]
        },
        {
         "marker": {
          "color": "cornflowerblue"
         },
         "name": "Associate degree",
         "type": "bar",
         "x": [
          "2010",
          "2011",
          "2012",
          "2013",
          "2014",
          "2015",
          "2016",
          "2017",
          "2018",
          "2019"
         ],
         "y": [
          11.1,
          8.2,
          9.8,
          9.6,
          13.5,
          10.1,
          9.6,
          8.5,
          13.1,
          10.1
         ]
        }
       ],
       "layout": {
        "autosize": false,
        "barmode": "group",
        "height": 300,
        "template": {
         "data": {
          "bar": [
           {
            "error_x": {
             "color": "#2a3f5f"
            },
            "error_y": {
             "color": "#2a3f5f"
            },
            "marker": {
             "line": {
              "color": "#E5ECF6",
              "width": 0.5
             },
             "pattern": {
              "fillmode": "overlay",
              "size": 10,
              "solidity": 0.2
             }
            },
            "type": "bar"
           }
          ],
          "barpolar": [
           {
            "marker": {
             "line": {
              "color": "#E5ECF6",
              "width": 0.5
             },
             "pattern": {
              "fillmode": "overlay",
              "size": 10,
              "solidity": 0.2
             }
            },
            "type": "barpolar"
           }
          ],
          "carpet": [
           {
            "aaxis": {
             "endlinecolor": "#2a3f5f",
             "gridcolor": "white",
             "linecolor": "white",
             "minorgridcolor": "white",
             "startlinecolor": "#2a3f5f"
            },
            "baxis": {
             "endlinecolor": "#2a3f5f",
             "gridcolor": "white",
             "linecolor": "white",
             "minorgridcolor": "white",
             "startlinecolor": "#2a3f5f"
            },
            "type": "carpet"
           }
          ],
          "choropleth": [
           {
            "colorbar": {
             "outlinewidth": 0,
             "ticks": ""
            },
            "type": "choropleth"
           }
          ],
          "contour": [
           {
            "colorbar": {
             "outlinewidth": 0,
             "ticks": ""
            },
            "colorscale": [
             [
              0,
              "#0d0887"
             ],
             [
              0.1111111111111111,
              "#46039f"
             ],
             [
              0.2222222222222222,
              "#7201a8"
             ],
             [
              0.3333333333333333,
              "#9c179e"
             ],
             [
              0.4444444444444444,
              "#bd3786"
             ],
             [
              0.5555555555555556,
              "#d8576b"
             ],
             [
              0.6666666666666666,
              "#ed7953"
             ],
             [
              0.7777777777777778,
              "#fb9f3a"
             ],
             [
              0.8888888888888888,
              "#fdca26"
             ],
             [
              1,
              "#f0f921"
             ]
            ],
            "type": "contour"
           }
          ],
          "contourcarpet": [
           {
            "colorbar": {
             "outlinewidth": 0,
             "ticks": ""
            },
            "type": "contourcarpet"
           }
          ],
          "heatmap": [
           {
            "colorbar": {
             "outlinewidth": 0,
             "ticks": ""
            },
            "colorscale": [
             [
              0,
              "#0d0887"
             ],
             [
              0.1111111111111111,
              "#46039f"
             ],
             [
              0.2222222222222222,
              "#7201a8"
             ],
             [
              0.3333333333333333,
              "#9c179e"
             ],
             [
              0.4444444444444444,
              "#bd3786"
             ],
             [
              0.5555555555555556,
              "#d8576b"
             ],
             [
              0.6666666666666666,
              "#ed7953"
             ],
             [
              0.7777777777777778,
              "#fb9f3a"
             ],
             [
              0.8888888888888888,
              "#fdca26"
             ],
             [
              1,
              "#f0f921"
             ]
            ],
            "type": "heatmap"
           }
          ],
          "heatmapgl": [
           {
            "colorbar": {
             "outlinewidth": 0,
             "ticks": ""
            },
            "colorscale": [
             [
              0,
              "#0d0887"
             ],
             [
              0.1111111111111111,
              "#46039f"
             ],
             [
              0.2222222222222222,
              "#7201a8"
             ],
             [
              0.3333333333333333,
              "#9c179e"
             ],
             [
              0.4444444444444444,
              "#bd3786"
             ],
             [
              0.5555555555555556,
              "#d8576b"
             ],
             [
              0.6666666666666666,
              "#ed7953"
             ],
             [
              0.7777777777777778,
              "#fb9f3a"
             ],
             [
              0.8888888888888888,
              "#fdca26"
             ],
             [
              1,
              "#f0f921"
             ]
            ],
            "type": "heatmapgl"
           }
          ],
          "histogram": [
           {
            "marker": {
             "pattern": {
              "fillmode": "overlay",
              "size": 10,
              "solidity": 0.2
             }
            },
            "type": "histogram"
           }
          ],
          "histogram2d": [
           {
            "colorbar": {
             "outlinewidth": 0,
             "ticks": ""
            },
            "colorscale": [
             [
              0,
              "#0d0887"
             ],
             [
              0.1111111111111111,
              "#46039f"
             ],
             [
              0.2222222222222222,
              "#7201a8"
             ],
             [
              0.3333333333333333,
              "#9c179e"
             ],
             [
              0.4444444444444444,
              "#bd3786"
             ],
             [
              0.5555555555555556,
              "#d8576b"
             ],
             [
              0.6666666666666666,
              "#ed7953"
             ],
             [
              0.7777777777777778,
              "#fb9f3a"
             ],
             [
              0.8888888888888888,
              "#fdca26"
             ],
             [
              1,
              "#f0f921"
             ]
            ],
            "type": "histogram2d"
           }
          ],
          "histogram2dcontour": [
           {
            "colorbar": {
             "outlinewidth": 0,
             "ticks": ""
            },
            "colorscale": [
             [
              0,
              "#0d0887"
             ],
             [
              0.1111111111111111,
              "#46039f"
             ],
             [
              0.2222222222222222,
              "#7201a8"
             ],
             [
              0.3333333333333333,
              "#9c179e"
             ],
             [
              0.4444444444444444,
              "#bd3786"
             ],
             [
              0.5555555555555556,
              "#d8576b"
             ],
             [
              0.6666666666666666,
              "#ed7953"
             ],
             [
              0.7777777777777778,
              "#fb9f3a"
             ],
             [
              0.8888888888888888,
              "#fdca26"
             ],
             [
              1,
              "#f0f921"
             ]
            ],
            "type": "histogram2dcontour"
           }
          ],
          "mesh3d": [
           {
            "colorbar": {
             "outlinewidth": 0,
             "ticks": ""
            },
            "type": "mesh3d"
           }
          ],
          "parcoords": [
           {
            "line": {
             "colorbar": {
              "outlinewidth": 0,
              "ticks": ""
             }
            },
            "type": "parcoords"
           }
          ],
          "pie": [
           {
            "automargin": true,
            "type": "pie"
           }
          ],
          "scatter": [
           {
            "marker": {
             "colorbar": {
              "outlinewidth": 0,
              "ticks": ""
             }
            },
            "type": "scatter"
           }
          ],
          "scatter3d": [
           {
            "line": {
             "colorbar": {
              "outlinewidth": 0,
              "ticks": ""
             }
            },
            "marker": {
             "colorbar": {
              "outlinewidth": 0,
              "ticks": ""
             }
            },
            "type": "scatter3d"
           }
          ],
          "scattercarpet": [
           {
            "marker": {
             "colorbar": {
              "outlinewidth": 0,
              "ticks": ""
             }
            },
            "type": "scattercarpet"
           }
          ],
          "scattergeo": [
           {
            "marker": {
             "colorbar": {
              "outlinewidth": 0,
              "ticks": ""
             }
            },
            "type": "scattergeo"
           }
          ],
          "scattergl": [
           {
            "marker": {
             "colorbar": {
              "outlinewidth": 0,
              "ticks": ""
             }
            },
            "type": "scattergl"
           }
          ],
          "scattermapbox": [
           {
            "marker": {
             "colorbar": {
              "outlinewidth": 0,
              "ticks": ""
             }
            },
            "type": "scattermapbox"
           }
          ],
          "scatterpolar": [
           {
            "marker": {
             "colorbar": {
              "outlinewidth": 0,
              "ticks": ""
             }
            },
            "type": "scatterpolar"
           }
          ],
          "scatterpolargl": [
           {
            "marker": {
             "colorbar": {
              "outlinewidth": 0,
              "ticks": ""
             }
            },
            "type": "scatterpolargl"
           }
          ],
          "scatterternary": [
           {
            "marker": {
             "colorbar": {
              "outlinewidth": 0,
              "ticks": ""
             }
            },
            "type": "scatterternary"
           }
          ],
          "surface": [
           {
            "colorbar": {
             "outlinewidth": 0,
             "ticks": ""
            },
            "colorscale": [
             [
              0,
              "#0d0887"
             ],
             [
              0.1111111111111111,
              "#46039f"
             ],
             [
              0.2222222222222222,
              "#7201a8"
             ],
             [
              0.3333333333333333,
              "#9c179e"
             ],
             [
              0.4444444444444444,
              "#bd3786"
             ],
             [
              0.5555555555555556,
              "#d8576b"
             ],
             [
              0.6666666666666666,
              "#ed7953"
             ],
             [
              0.7777777777777778,
              "#fb9f3a"
             ],
             [
              0.8888888888888888,
              "#fdca26"
             ],
             [
              1,
              "#f0f921"
             ]
            ],
            "type": "surface"
           }
          ],
          "table": [
           {
            "cells": {
             "fill": {
              "color": "#EBF0F8"
             },
             "line": {
              "color": "white"
             }
            },
            "header": {
             "fill": {
              "color": "#C8D4E3"
             },
             "line": {
              "color": "white"
             }
            },
            "type": "table"
           }
          ]
         },
         "layout": {
          "annotationdefaults": {
           "arrowcolor": "#2a3f5f",
           "arrowhead": 0,
           "arrowwidth": 1
          },
          "autotypenumbers": "strict",
          "coloraxis": {
           "colorbar": {
            "outlinewidth": 0,
            "ticks": ""
           }
          },
          "colorscale": {
           "diverging": [
            [
             0,
             "#8e0152"
            ],
            [
             0.1,
             "#c51b7d"
            ],
            [
             0.2,
             "#de77ae"
            ],
            [
             0.3,
             "#f1b6da"
            ],
            [
             0.4,
             "#fde0ef"
            ],
            [
             0.5,
             "#f7f7f7"
            ],
            [
             0.6,
             "#e6f5d0"
            ],
            [
             0.7,
             "#b8e186"
            ],
            [
             0.8,
             "#7fbc41"
            ],
            [
             0.9,
             "#4d9221"
            ],
            [
             1,
             "#276419"
            ]
           ],
           "sequential": [
            [
             0,
             "#0d0887"
            ],
            [
             0.1111111111111111,
             "#46039f"
            ],
            [
             0.2222222222222222,
             "#7201a8"
            ],
            [
             0.3333333333333333,
             "#9c179e"
            ],
            [
             0.4444444444444444,
             "#bd3786"
            ],
            [
             0.5555555555555556,
             "#d8576b"
            ],
            [
             0.6666666666666666,
             "#ed7953"
            ],
            [
             0.7777777777777778,
             "#fb9f3a"
            ],
            [
             0.8888888888888888,
             "#fdca26"
            ],
            [
             1,
             "#f0f921"
            ]
           ],
           "sequentialminus": [
            [
             0,
             "#0d0887"
            ],
            [
             0.1111111111111111,
             "#46039f"
            ],
            [
             0.2222222222222222,
             "#7201a8"
            ],
            [
             0.3333333333333333,
             "#9c179e"
            ],
            [
             0.4444444444444444,
             "#bd3786"
            ],
            [
             0.5555555555555556,
             "#d8576b"
            ],
            [
             0.6666666666666666,
             "#ed7953"
            ],
            [
             0.7777777777777778,
             "#fb9f3a"
            ],
            [
             0.8888888888888888,
             "#fdca26"
            ],
            [
             1,
             "#f0f921"
            ]
           ]
          },
          "colorway": [
           "#636efa",
           "#EF553B",
           "#00cc96",
           "#ab63fa",
           "#FFA15A",
           "#19d3f3",
           "#FF6692",
           "#B6E880",
           "#FF97FF",
           "#FECB52"
          ],
          "font": {
           "color": "#2a3f5f"
          },
          "geo": {
           "bgcolor": "white",
           "lakecolor": "white",
           "landcolor": "#E5ECF6",
           "showlakes": true,
           "showland": true,
           "subunitcolor": "white"
          },
          "hoverlabel": {
           "align": "left"
          },
          "hovermode": "closest",
          "mapbox": {
           "style": "light"
          },
          "paper_bgcolor": "white",
          "plot_bgcolor": "#E5ECF6",
          "polar": {
           "angularaxis": {
            "gridcolor": "white",
            "linecolor": "white",
            "ticks": ""
           },
           "bgcolor": "#E5ECF6",
           "radialaxis": {
            "gridcolor": "white",
            "linecolor": "white",
            "ticks": ""
           }
          },
          "scene": {
           "xaxis": {
            "backgroundcolor": "#E5ECF6",
            "gridcolor": "white",
            "gridwidth": 2,
            "linecolor": "white",
            "showbackground": true,
            "ticks": "",
            "zerolinecolor": "white"
           },
           "yaxis": {
            "backgroundcolor": "#E5ECF6",
            "gridcolor": "white",
            "gridwidth": 2,
            "linecolor": "white",
            "showbackground": true,
            "ticks": "",
            "zerolinecolor": "white"
           },
           "zaxis": {
            "backgroundcolor": "#E5ECF6",
            "gridcolor": "white",
            "gridwidth": 2,
            "linecolor": "white",
            "showbackground": true,
            "ticks": "",
            "zerolinecolor": "white"
           }
          },
          "shapedefaults": {
           "line": {
            "color": "#2a3f5f"
           }
          },
          "ternary": {
           "aaxis": {
            "gridcolor": "white",
            "linecolor": "white",
            "ticks": ""
           },
           "baxis": {
            "gridcolor": "white",
            "linecolor": "white",
            "ticks": ""
           },
           "bgcolor": "#E5ECF6",
           "caxis": {
            "gridcolor": "white",
            "linecolor": "white",
            "ticks": ""
           }
          },
          "title": {
           "x": 0.05
          },
          "xaxis": {
           "automargin": true,
           "gridcolor": "white",
           "linecolor": "white",
           "ticks": "",
           "title": {
            "standoff": 15
           },
           "zerolinecolor": "white",
           "zerolinewidth": 2
          },
          "yaxis": {
           "automargin": true,
           "gridcolor": "white",
           "linecolor": "white",
           "ticks": "",
           "title": {
            "standoff": 15
           },
           "zerolinecolor": "white",
           "zerolinewidth": 2
          }
         }
        },
        "title": {
         "text": "Higher Education without a bachelor's degree for Female",
         "x": 0.5,
         "xanchor": "center",
         "y": 0.9,
         "yanchor": "top"
        },
        "width": 600,
        "xaxis": {
         "title": {
          "text": "Years"
         }
        }
       }
      }
     },
     "metadata": {},
     "output_type": "display_data"
    }
   ],
   "source": [
    "import plotly.graph_objects as go\n",
    "fig = go.Figure(data = [\n",
    "    go.Bar(name ='Some college, no degree', x = years, y = df['percent_female_some_college'], marker_color = 'blueviolet'),\n",
    "    go.Bar(name = 'Associate degree', x =  years, y = df['percent_female_associate_degree'], marker_color = 'cornflowerblue')\n",
    "])\n",
    "fig.update_layout(title={\n",
    "        'text': \"Higher Education without a bachelor's degree for Female\",\n",
    "        'y':0.9,\n",
    "        'x':0.5,\n",
    "        'xanchor': 'center',\n",
    "        'yanchor': 'top'},\n",
    "    xaxis_title=\"Years\",\n",
    "    autosize=False,\n",
    "    width=600,\n",
    "    height=300,\n",
    "    barmode='group')\n",
    "fig.show()"
   ]
  },
  {
   "cell_type": "markdown",
   "metadata": {},
   "source": [
    "#### Hypothesis: There is a significant relatinship between education degree and experience in the current job market"
   ]
  },
  {
   "cell_type": "code",
   "execution_count": 23,
   "metadata": {},
   "outputs": [
    {
     "data": {
      "text/html": [
       "<div>\n",
       "<style scoped>\n",
       "    .dataframe tbody tr th:only-of-type {\n",
       "        vertical-align: middle;\n",
       "    }\n",
       "\n",
       "    .dataframe tbody tr th {\n",
       "        vertical-align: top;\n",
       "    }\n",
       "\n",
       "    .dataframe thead th {\n",
       "        text-align: right;\n",
       "    }\n",
       "</style>\n",
       "<table border=\"1\" class=\"dataframe\">\n",
       "  <thead>\n",
       "    <tr style=\"text-align: right;\">\n",
       "      <th></th>\n",
       "      <th>Date</th>\n",
       "      <th>Company</th>\n",
       "      <th>Title</th>\n",
       "      <th>Job Description</th>\n",
       "      <th>Criteria</th>\n",
       "      <th>Seniority</th>\n",
       "      <th>Employment Type</th>\n",
       "      <th>Job Function</th>\n",
       "      <th>Industry</th>\n",
       "      <th>Experience</th>\n",
       "      <th>desc_stem</th>\n",
       "      <th>degree_value</th>\n",
       "      <th>degree_type</th>\n",
       "      <th>Job Functions type</th>\n",
       "    </tr>\n",
       "  </thead>\n",
       "  <tbody>\n",
       "    <tr>\n",
       "      <th>0</th>\n",
       "      <td>2021-11-04</td>\n",
       "      <td>Dignity Health</td>\n",
       "      <td>Patient Advocate</td>\n",
       "      <td>*Overview*\\n\\nDignity Health Medical Foundatio...</td>\n",
       "      <td>Seniority level\\nAssociate\\nEmployment type\\nF...</td>\n",
       "      <td>Associate</td>\n",
       "      <td>Full-time</td>\n",
       "      <td>Health Care Provider</td>\n",
       "      <td>Nonprofit Organization Management, Health, Wel...</td>\n",
       "      <td>3.0</td>\n",
       "      <td>{'model', 'advocaci', 'satisfact', 'relat', 'p...</td>\n",
       "      <td>1</td>\n",
       "      <td>bachelors</td>\n",
       "      <td>['Health Care Provider']</td>\n",
       "    </tr>\n",
       "    <tr>\n",
       "      <th>1</th>\n",
       "      <td>2021-11-04</td>\n",
       "      <td>Centene Corporation</td>\n",
       "      <td>Disease Management Enrollment Representative</td>\n",
       "      <td>Position Purpose\\n\\nThe Disease Management Enr...</td>\n",
       "      <td>Seniority level\\nNot Applicable\\nEmployment ty...</td>\n",
       "      <td>Not Applicable</td>\n",
       "      <td>Full-time</td>\n",
       "      <td>Customer Service and Information Technology</td>\n",
       "      <td>Hospital &amp; Health Care and Insurance</td>\n",
       "      <td>3.0</td>\n",
       "      <td>{'busi', 'relat', 'prefer', 'posit', 'protect'...</td>\n",
       "      <td>1</td>\n",
       "      <td>bachelors</td>\n",
       "      <td>['Customer Service and Information Technology']</td>\n",
       "    </tr>\n",
       "    <tr>\n",
       "      <th>2</th>\n",
       "      <td>2021-10-27</td>\n",
       "      <td>Dignity Health</td>\n",
       "      <td>Patient Logistics Coordinator</td>\n",
       "      <td>*Overview*\\n\\nDignity Health, one of the natio...</td>\n",
       "      <td>Seniority level\\nEntry level\\nEmployment type\\...</td>\n",
       "      <td>Entry level</td>\n",
       "      <td>Full-time</td>\n",
       "      <td>Management and Manufacturing</td>\n",
       "      <td>Nonprofit Organization Management, Health, Wel...</td>\n",
       "      <td>2.0</td>\n",
       "      <td>{'urgent', 'manner', 'dedic', 'critic', 'profi...</td>\n",
       "      <td>1</td>\n",
       "      <td>bachelors</td>\n",
       "      <td>['Management and Manufacturing']</td>\n",
       "    </tr>\n",
       "    <tr>\n",
       "      <th>3</th>\n",
       "      <td>2021-10-20</td>\n",
       "      <td>Centene Corporation</td>\n",
       "      <td>Disease Management Assistant (HNGS)</td>\n",
       "      <td>Position Purpose\\n\\nThe Disease Management Ass...</td>\n",
       "      <td>Seniority level\\nNot Applicable\\nEmployment ty...</td>\n",
       "      <td>Not Applicable</td>\n",
       "      <td>Contract</td>\n",
       "      <td>Administrative</td>\n",
       "      <td>Hospital &amp; Health Care and Insurance</td>\n",
       "      <td>3.0</td>\n",
       "      <td>{'project', 'materi', 'satisfact', 'act', 'pre...</td>\n",
       "      <td>0</td>\n",
       "      <td>high school</td>\n",
       "      <td>['Administrative']</td>\n",
       "    </tr>\n",
       "    <tr>\n",
       "      <th>4</th>\n",
       "      <td>2021-10-27</td>\n",
       "      <td>Dignity Health</td>\n",
       "      <td>Patient Logistics Coordinator</td>\n",
       "      <td>*Overview*\\n\\nDignity Health, one of the natio...</td>\n",
       "      <td>Seniority level\\nEntry level\\nEmployment type\\...</td>\n",
       "      <td>Entry level</td>\n",
       "      <td>Full-time</td>\n",
       "      <td>Management and Manufacturing</td>\n",
       "      <td>Nonprofit Organization Management, Health, Wel...</td>\n",
       "      <td>2.0</td>\n",
       "      <td>{'urgent', 'manner', 'dedic', 'critic', 'profi...</td>\n",
       "      <td>1</td>\n",
       "      <td>bachelors</td>\n",
       "      <td>['Management and Manufacturing']</td>\n",
       "    </tr>\n",
       "  </tbody>\n",
       "</table>\n",
       "</div>"
      ],
      "text/plain": [
       "         Date              Company  \\\n",
       "0  2021-11-04       Dignity Health   \n",
       "1  2021-11-04  Centene Corporation   \n",
       "2  2021-10-27       Dignity Health   \n",
       "3  2021-10-20  Centene Corporation   \n",
       "4  2021-10-27       Dignity Health   \n",
       "\n",
       "                                          Title  \\\n",
       "0                              Patient Advocate   \n",
       "1  Disease Management Enrollment Representative   \n",
       "2                 Patient Logistics Coordinator   \n",
       "3           Disease Management Assistant (HNGS)   \n",
       "4                 Patient Logistics Coordinator   \n",
       "\n",
       "                                     Job Description  \\\n",
       "0  *Overview*\\n\\nDignity Health Medical Foundatio...   \n",
       "1  Position Purpose\\n\\nThe Disease Management Enr...   \n",
       "2  *Overview*\\n\\nDignity Health, one of the natio...   \n",
       "3  Position Purpose\\n\\nThe Disease Management Ass...   \n",
       "4  *Overview*\\n\\nDignity Health, one of the natio...   \n",
       "\n",
       "                                            Criteria       Seniority  \\\n",
       "0  Seniority level\\nAssociate\\nEmployment type\\nF...       Associate   \n",
       "1  Seniority level\\nNot Applicable\\nEmployment ty...  Not Applicable   \n",
       "2  Seniority level\\nEntry level\\nEmployment type\\...     Entry level   \n",
       "3  Seniority level\\nNot Applicable\\nEmployment ty...  Not Applicable   \n",
       "4  Seniority level\\nEntry level\\nEmployment type\\...     Entry level   \n",
       "\n",
       "  Employment Type                                 Job Function  \\\n",
       "0       Full-time                         Health Care Provider   \n",
       "1       Full-time  Customer Service and Information Technology   \n",
       "2       Full-time                 Management and Manufacturing   \n",
       "3        Contract                               Administrative   \n",
       "4       Full-time                 Management and Manufacturing   \n",
       "\n",
       "                                            Industry  Experience  \\\n",
       "0  Nonprofit Organization Management, Health, Wel...         3.0   \n",
       "1               Hospital & Health Care and Insurance         3.0   \n",
       "2  Nonprofit Organization Management, Health, Wel...         2.0   \n",
       "3               Hospital & Health Care and Insurance         3.0   \n",
       "4  Nonprofit Organization Management, Health, Wel...         2.0   \n",
       "\n",
       "                                           desc_stem  degree_value  \\\n",
       "0  {'model', 'advocaci', 'satisfact', 'relat', 'p...             1   \n",
       "1  {'busi', 'relat', 'prefer', 'posit', 'protect'...             1   \n",
       "2  {'urgent', 'manner', 'dedic', 'critic', 'profi...             1   \n",
       "3  {'project', 'materi', 'satisfact', 'act', 'pre...             0   \n",
       "4  {'urgent', 'manner', 'dedic', 'critic', 'profi...             1   \n",
       "\n",
       "   degree_type                               Job Functions type  \n",
       "0    bachelors                         ['Health Care Provider']  \n",
       "1    bachelors  ['Customer Service and Information Technology']  \n",
       "2    bachelors                 ['Management and Manufacturing']  \n",
       "3  high school                               ['Administrative']  \n",
       "4    bachelors                 ['Management and Manufacturing']  "
      ]
     },
     "execution_count": 23,
     "metadata": {},
     "output_type": "execute_result"
    }
   ],
   "source": [
    "#load data from Linkedin\n",
    "linkedin_df = pd.read_csv('../Team_1/jobs_linkedin_clean.csv')\n",
    "linkedin_df.head()\n"
   ]
  },
  {
   "cell_type": "code",
   "execution_count": 24,
   "metadata": {},
   "outputs": [],
   "source": [
    "#Remove Seniority NA for Hypothesis testing\n",
    "linkedin_df = linkedin_df[linkedin_df['Seniority']!='Not Applicable']"
   ]
  },
  {
   "cell_type": "code",
   "execution_count": 25,
   "metadata": {},
   "outputs": [],
   "source": [
    "#remove jobs without any education as requirement \n",
    "linkedin_df = linkedin_df[linkedin_df['degree_type'] != 'not_specified']\n"
   ]
  },
  {
   "cell_type": "code",
   "execution_count": 26,
   "metadata": {},
   "outputs": [
    {
     "data": {
      "text/plain": [
       "<AxesSubplot:xlabel='Seniority', ylabel='degree_type'>"
      ]
     },
     "execution_count": 26,
     "metadata": {},
     "output_type": "execute_result"
    },
    {
     "data": {
      "image/png": "[encoded data removed]",
      "text/plain": [
       "<Figure size 720x576 with 2 Axes>"
      ]
     },
     "metadata": {
      "needs_background": "light"
     },
     "output_type": "display_data"
    }
   ],
   "source": [
    "#contingency table for chi square\n",
    "contingency_table = pd.crosstab(linkedin_df['degree_type'], linkedin_df['Seniority'])\n",
    "contingency_table\n",
    "\n",
    "plt.figure(figsize=(10,8))\n",
    "sns.heatmap(contingency_table, annot=True)"
   ]
  },
  {
   "cell_type": "code",
   "execution_count": 27,
   "metadata": {},
   "outputs": [
    {
     "data": {
      "text/plain": [
       "0.0004107627173132935"
      ]
     },
     "execution_count": 27,
     "metadata": {},
     "output_type": "execute_result"
    }
   ],
   "source": [
    "stat, p, dof, expected = chi2_contingency(contingency_table)\n",
    "critical = chi2.ppf(0.95, dof)\n",
    "\n",
    "alpha = 0.05\n",
    "p"
   ]
  },
  {
   "cell_type": "markdown",
   "metadata": {},
   "source": [
    "Chi square test showed that we should reject the Null Hypothesis, meaning there is a significant relantioship between education and experience"
   ]
  },
  {
   "cell_type": "markdown",
   "metadata": {},
   "source": [
    "## How skills are currently mismatched for employer requirements"
   ]
  },
  {
   "cell_type": "code",
   "execution_count": 28,
   "metadata": {},
   "outputs": [
    {
     "data": {
      "text/html": [
       "<div>\n",
       "<style scoped>\n",
       "    .dataframe tbody tr th:only-of-type {\n",
       "        vertical-align: middle;\n",
       "    }\n",
       "\n",
       "    .dataframe tbody tr th {\n",
       "        vertical-align: top;\n",
       "    }\n",
       "\n",
       "    .dataframe thead th {\n",
       "        text-align: right;\n",
       "    }\n",
       "</style>\n",
       "<table border=\"1\" class=\"dataframe\">\n",
       "  <thead>\n",
       "    <tr style=\"text-align: right;\">\n",
       "      <th></th>\n",
       "      <th>Unnamed: 0</th>\n",
       "      <th>Occupation 2010 Description</th>\n",
       "      <th>2010 Census Code</th>\n",
       "      <th>2010 SOC Code</th>\n",
       "    </tr>\n",
       "  </thead>\n",
       "  <tbody>\n",
       "    <tr>\n",
       "      <th>570</th>\n",
       "      <td></td>\n",
       "      <td>semiconductor processors</td>\n",
       "      <td>8840</td>\n",
       "      <td>51-9141</td>\n",
       "    </tr>\n",
       "    <tr>\n",
       "      <th>571</th>\n",
       "      <td></td>\n",
       "      <td>adhesive bonding machine operators and tenders</td>\n",
       "      <td>8850</td>\n",
       "      <td>51-9191</td>\n",
       "    </tr>\n",
       "    <tr>\n",
       "      <th>572</th>\n",
       "      <td></td>\n",
       "      <td>cleaning washing and metal pickling equipment ...</td>\n",
       "      <td>8860</td>\n",
       "      <td>51-9192</td>\n",
       "    </tr>\n",
       "    <tr>\n",
       "      <th>573</th>\n",
       "      <td></td>\n",
       "      <td>cooling and freezing equipment operators and t...</td>\n",
       "      <td>8900</td>\n",
       "      <td>51-9193</td>\n",
       "    </tr>\n",
       "    <tr>\n",
       "      <th>574</th>\n",
       "      <td></td>\n",
       "      <td>etchers and engravers</td>\n",
       "      <td>8910</td>\n",
       "      <td>51-9194</td>\n",
       "    </tr>\n",
       "    <tr>\n",
       "      <th>575</th>\n",
       "      <td></td>\n",
       "      <td>molders shapers and casters except metal and p...</td>\n",
       "      <td>8920</td>\n",
       "      <td>51-9195</td>\n",
       "    </tr>\n",
       "    <tr>\n",
       "      <th>576</th>\n",
       "      <td></td>\n",
       "      <td>paper goods machine setters operators and tenders</td>\n",
       "      <td>8930</td>\n",
       "      <td>51-9196</td>\n",
       "    </tr>\n",
       "    <tr>\n",
       "      <th>577</th>\n",
       "      <td></td>\n",
       "      <td>tire builders</td>\n",
       "      <td>8940</td>\n",
       "      <td>51-9197</td>\n",
       "    </tr>\n",
       "    <tr>\n",
       "      <th>578</th>\n",
       "      <td></td>\n",
       "      <td>helpersproduction workers</td>\n",
       "      <td>8950</td>\n",
       "      <td>51-9198</td>\n",
       "    </tr>\n",
       "    <tr>\n",
       "      <th>579</th>\n",
       "      <td></td>\n",
       "      <td>production workers all other</td>\n",
       "      <td>8965</td>\n",
       "      <td>51-9199</td>\n",
       "    </tr>\n",
       "    <tr>\n",
       "      <th>580</th>\n",
       "      <td></td>\n",
       "      <td></td>\n",
       "      <td></td>\n",
       "      <td></td>\n",
       "    </tr>\n",
       "    <tr>\n",
       "      <th>581</th>\n",
       "      <td></td>\n",
       "      <td>transportation and material moving occupations</td>\n",
       "      <td>9000-9750</td>\n",
       "      <td>53-0000</td>\n",
       "    </tr>\n",
       "    <tr>\n",
       "      <th>582</th>\n",
       "      <td></td>\n",
       "      <td></td>\n",
       "      <td></td>\n",
       "      <td></td>\n",
       "    </tr>\n",
       "    <tr>\n",
       "      <th>583</th>\n",
       "      <td></td>\n",
       "      <td>transportation occupations</td>\n",
       "      <td>9000-9420</td>\n",
       "      <td>53-1000 - 53-6000</td>\n",
       "    </tr>\n",
       "    <tr>\n",
       "      <th>584</th>\n",
       "      <td></td>\n",
       "      <td></td>\n",
       "      <td></td>\n",
       "      <td></td>\n",
       "    </tr>\n",
       "    <tr>\n",
       "      <th>585</th>\n",
       "      <td></td>\n",
       "      <td>supervisors of transportation and material mov...</td>\n",
       "      <td>9000</td>\n",
       "      <td>53-1000</td>\n",
       "    </tr>\n",
       "  </tbody>\n",
       "</table>\n",
       "</div>"
      ],
      "text/plain": [
       "    Unnamed: 0                        Occupation 2010 Description  \\\n",
       "570                                      semiconductor processors   \n",
       "571                adhesive bonding machine operators and tenders   \n",
       "572             cleaning washing and metal pickling equipment ...   \n",
       "573             cooling and freezing equipment operators and t...   \n",
       "574                                         etchers and engravers   \n",
       "575             molders shapers and casters except metal and p...   \n",
       "576             paper goods machine setters operators and tenders   \n",
       "577                                                 tire builders   \n",
       "578                                     helpersproduction workers   \n",
       "579                                  production workers all other   \n",
       "580                                                                 \n",
       "581                transportation and material moving occupations   \n",
       "582                                                                 \n",
       "583                                    transportation occupations   \n",
       "584                                                                 \n",
       "585             supervisors of transportation and material mov...   \n",
       "\n",
       "    2010 Census Code      2010 SOC Code  \n",
       "570             8840            51-9141  \n",
       "571             8850            51-9191  \n",
       "572             8860            51-9192  \n",
       "573             8900            51-9193  \n",
       "574             8910            51-9194  \n",
       "575             8920            51-9195  \n",
       "576             8930            51-9196  \n",
       "577             8940            51-9197  \n",
       "578             8950            51-9198  \n",
       "579             8965            51-9199  \n",
       "580                                      \n",
       "581        9000-9750            53-0000  \n",
       "582                                      \n",
       "583        9000-9420  53-1000 - 53-6000  \n",
       "584                                      \n",
       "585             9000           53-1000   "
      ]
     },
     "execution_count": 28,
     "metadata": {},
     "output_type": "execute_result"
    }
   ],
   "source": [
    "#census code to soc codes\n",
    "\n",
    "soc_codes = pd.read_excel('../DataSources/2010-occ-codes-with-crosswalk-from-2002-2011.xls', sheet_name='2010OccCodeList', header=4)\n",
    "soc_codes = soc_codes.fillna(\"\")\n",
    "#clean ccupations (lower and removing punctuation)\n",
    "soc_codes['Unnamed: 0'] = [re.sub(r'[^\\w\\s]', '', code.lower()) for code in  soc_codes['Unnamed: 0']]\n",
    "soc_codes['Occupation 2010 Description'] = [re.sub(r'[^\\w\\s]', '', code.lower()) for code in  soc_codes['Occupation 2010 Description']]\n",
    "soc_codes.loc[570:585]"
   ]
  },
  {
   "cell_type": "code",
   "execution_count": 30,
   "metadata": {},
   "outputs": [
    {
     "data": {
      "text/html": [
       "<div>\n",
       "<style scoped>\n",
       "    .dataframe tbody tr th:only-of-type {\n",
       "        vertical-align: middle;\n",
       "    }\n",
       "\n",
       "    .dataframe tbody tr th {\n",
       "        vertical-align: top;\n",
       "    }\n",
       "\n",
       "    .dataframe thead th {\n",
       "        text-align: right;\n",
       "    }\n",
       "</style>\n",
       "<table border=\"1\" class=\"dataframe\">\n",
       "  <thead>\n",
       "    <tr style=\"text-align: right;\">\n",
       "      <th></th>\n",
       "      <th>Unnamed: 0</th>\n",
       "      <th>Occupation 2010 Description</th>\n",
       "      <th>2010 Census Code</th>\n",
       "      <th>2010 SOC Code</th>\n",
       "      <th>label</th>\n",
       "    </tr>\n",
       "  </thead>\n",
       "  <tbody>\n",
       "    <tr>\n",
       "      <th>610</th>\n",
       "      <td></td>\n",
       "      <td>conveyor operators and tenders</td>\n",
       "      <td>9500</td>\n",
       "      <td>53-7011</td>\n",
       "      <td>False</td>\n",
       "    </tr>\n",
       "    <tr>\n",
       "      <th>611</th>\n",
       "      <td></td>\n",
       "      <td>crane and tower operators</td>\n",
       "      <td>9510</td>\n",
       "      <td>53-7021</td>\n",
       "      <td>False</td>\n",
       "    </tr>\n",
       "    <tr>\n",
       "      <th>612</th>\n",
       "      <td></td>\n",
       "      <td>dredge excavating and loading machine operators</td>\n",
       "      <td>9520</td>\n",
       "      <td>53-7030</td>\n",
       "      <td>False</td>\n",
       "    </tr>\n",
       "    <tr>\n",
       "      <th>613</th>\n",
       "      <td></td>\n",
       "      <td>hoist and winch operators</td>\n",
       "      <td>9560</td>\n",
       "      <td>53-7041</td>\n",
       "      <td>False</td>\n",
       "    </tr>\n",
       "    <tr>\n",
       "      <th>614</th>\n",
       "      <td></td>\n",
       "      <td>industrial truck and tractor operators</td>\n",
       "      <td>9600</td>\n",
       "      <td>53-7051</td>\n",
       "      <td>False</td>\n",
       "    </tr>\n",
       "    <tr>\n",
       "      <th>615</th>\n",
       "      <td></td>\n",
       "      <td>cleaners of vehicles and equipment</td>\n",
       "      <td>9610</td>\n",
       "      <td>53-7061</td>\n",
       "      <td>False</td>\n",
       "    </tr>\n",
       "    <tr>\n",
       "      <th>616</th>\n",
       "      <td></td>\n",
       "      <td>laborers and freight stock and material movers...</td>\n",
       "      <td>9620</td>\n",
       "      <td>53-7062</td>\n",
       "      <td>False</td>\n",
       "    </tr>\n",
       "    <tr>\n",
       "      <th>617</th>\n",
       "      <td></td>\n",
       "      <td>machine feeders and offbearers</td>\n",
       "      <td>9630</td>\n",
       "      <td>53-7063</td>\n",
       "      <td>False</td>\n",
       "    </tr>\n",
       "    <tr>\n",
       "      <th>618</th>\n",
       "      <td></td>\n",
       "      <td>packers and packagers hand</td>\n",
       "      <td>9640</td>\n",
       "      <td>53-7064</td>\n",
       "      <td>False</td>\n",
       "    </tr>\n",
       "    <tr>\n",
       "      <th>619</th>\n",
       "      <td></td>\n",
       "      <td>pumping station operators</td>\n",
       "      <td>9650</td>\n",
       "      <td>53-7070</td>\n",
       "      <td>False</td>\n",
       "    </tr>\n",
       "    <tr>\n",
       "      <th>620</th>\n",
       "      <td></td>\n",
       "      <td>refuse and recyclable material collectors</td>\n",
       "      <td>9720</td>\n",
       "      <td>53-7081</td>\n",
       "      <td>False</td>\n",
       "    </tr>\n",
       "    <tr>\n",
       "      <th>621</th>\n",
       "      <td></td>\n",
       "      <td>mine shuttle car operators</td>\n",
       "      <td>9730</td>\n",
       "      <td>53-7111</td>\n",
       "      <td>False</td>\n",
       "    </tr>\n",
       "    <tr>\n",
       "      <th>622</th>\n",
       "      <td></td>\n",
       "      <td>tank car truck and ship loaders</td>\n",
       "      <td>9740</td>\n",
       "      <td>53-7121</td>\n",
       "      <td>False</td>\n",
       "    </tr>\n",
       "    <tr>\n",
       "      <th>623</th>\n",
       "      <td></td>\n",
       "      <td>material moving workers all other</td>\n",
       "      <td>9750</td>\n",
       "      <td>53-7199</td>\n",
       "      <td>False</td>\n",
       "    </tr>\n",
       "    <tr>\n",
       "      <th>625</th>\n",
       "      <td>military specific occupations</td>\n",
       "      <td></td>\n",
       "      <td>9800-9830</td>\n",
       "      <td>55-0000</td>\n",
       "      <td>False</td>\n",
       "    </tr>\n",
       "    <tr>\n",
       "      <th>627</th>\n",
       "      <td></td>\n",
       "      <td>military officer special and tactical operatio...</td>\n",
       "      <td>9800</td>\n",
       "      <td>55-1010</td>\n",
       "      <td>False</td>\n",
       "    </tr>\n",
       "    <tr>\n",
       "      <th>628</th>\n",
       "      <td></td>\n",
       "      <td>firstline enlisted military supervisors</td>\n",
       "      <td>9810</td>\n",
       "      <td>55-2010</td>\n",
       "      <td>False</td>\n",
       "    </tr>\n",
       "    <tr>\n",
       "      <th>629</th>\n",
       "      <td></td>\n",
       "      <td>military enlisted tactical operations and airw...</td>\n",
       "      <td>9820</td>\n",
       "      <td>55-3010</td>\n",
       "      <td>False</td>\n",
       "    </tr>\n",
       "    <tr>\n",
       "      <th>630</th>\n",
       "      <td></td>\n",
       "      <td>military rank not specified</td>\n",
       "      <td>9830</td>\n",
       "      <td>none</td>\n",
       "      <td>False</td>\n",
       "    </tr>\n",
       "    <tr>\n",
       "      <th>632</th>\n",
       "      <td></td>\n",
       "      <td>unemployed with no work experience in the last...</td>\n",
       "      <td>9920</td>\n",
       "      <td>none</td>\n",
       "      <td>False</td>\n",
       "    </tr>\n",
       "  </tbody>\n",
       "</table>\n",
       "</div>"
      ],
      "text/plain": [
       "                        Unnamed: 0  \\\n",
       "610                                  \n",
       "611                                  \n",
       "612                                  \n",
       "613                                  \n",
       "614                                  \n",
       "615                                  \n",
       "616                                  \n",
       "617                                  \n",
       "618                                  \n",
       "619                                  \n",
       "620                                  \n",
       "621                                  \n",
       "622                                  \n",
       "623                                  \n",
       "625  military specific occupations   \n",
       "627                                  \n",
       "628                                  \n",
       "629                                  \n",
       "630                                  \n",
       "632                                  \n",
       "\n",
       "                           Occupation 2010 Description 2010 Census Code  \\\n",
       "610                     conveyor operators and tenders             9500   \n",
       "611                          crane and tower operators             9510   \n",
       "612    dredge excavating and loading machine operators             9520   \n",
       "613                          hoist and winch operators             9560   \n",
       "614             industrial truck and tractor operators             9600   \n",
       "615                 cleaners of vehicles and equipment             9610   \n",
       "616  laborers and freight stock and material movers...             9620   \n",
       "617                     machine feeders and offbearers             9630   \n",
       "618                         packers and packagers hand             9640   \n",
       "619                          pumping station operators             9650   \n",
       "620          refuse and recyclable material collectors             9720   \n",
       "621                         mine shuttle car operators             9730   \n",
       "622                    tank car truck and ship loaders             9740   \n",
       "623                  material moving workers all other             9750   \n",
       "625                                                           9800-9830   \n",
       "627  military officer special and tactical operatio...             9800   \n",
       "628            firstline enlisted military supervisors             9810   \n",
       "629  military enlisted tactical operations and airw...             9820   \n",
       "630                        military rank not specified             9830   \n",
       "632  unemployed with no work experience in the last...             9920   \n",
       "\n",
       "    2010 SOC Code  label  \n",
       "610       53-7011  False  \n",
       "611       53-7021  False  \n",
       "612      53-7030   False  \n",
       "613      53-7041   False  \n",
       "614       53-7051  False  \n",
       "615       53-7061  False  \n",
       "616       53-7062  False  \n",
       "617       53-7063  False  \n",
       "618       53-7064  False  \n",
       "619      53-7070   False  \n",
       "620       53-7081  False  \n",
       "621       53-7111  False  \n",
       "622       53-7121  False  \n",
       "623      53-7199   False  \n",
       "625       55-0000  False  \n",
       "627       55-1010  False  \n",
       "628       55-2010  False  \n",
       "629       55-3010  False  \n",
       "630          none  False  \n",
       "632          none  False  "
      ]
     },
     "execution_count": 30,
     "metadata": {},
     "output_type": "execute_result"
    }
   ],
   "source": [
    "#set a label of True if include several broad groups\n",
    "soc_codes['label'] = soc_codes['2010 SOC Code'].str.contains(\"[0-9]{2}-[0-9]{4} -\", regex=True )\n",
    "df_soc = soc_codes[(soc_codes['label'] == False)]\n",
    "df_soc = df_soc[df_soc['2010 Census Code'] != '']\n",
    "df_soc.tail(20)"
   ]
  },
  {
   "cell_type": "code",
   "execution_count": 31,
   "metadata": {},
   "outputs": [
    {
     "data": {
      "text/html": [
       "<div>\n",
       "<style scoped>\n",
       "    .dataframe tbody tr th:only-of-type {\n",
       "        vertical-align: middle;\n",
       "    }\n",
       "\n",
       "    .dataframe tbody tr th {\n",
       "        vertical-align: top;\n",
       "    }\n",
       "\n",
       "    .dataframe thead th {\n",
       "        text-align: right;\n",
       "    }\n",
       "</style>\n",
       "<table border=\"1\" class=\"dataframe\">\n",
       "  <thead>\n",
       "    <tr style=\"text-align: right;\">\n",
       "      <th></th>\n",
       "      <th>Unnamed: 0</th>\n",
       "      <th>Occupation 2010 Description</th>\n",
       "      <th>2010 Census Code</th>\n",
       "      <th>2010 SOC Code</th>\n",
       "      <th>label</th>\n",
       "    </tr>\n",
       "  </thead>\n",
       "  <tbody>\n",
       "    <tr>\n",
       "      <th>3</th>\n",
       "      <td>management  business science and arts occupations</td>\n",
       "      <td></td>\n",
       "      <td>0010-3540</td>\n",
       "      <td>11-0000 - 29-0000</td>\n",
       "      <td>True</td>\n",
       "    </tr>\n",
       "    <tr>\n",
       "      <th>5</th>\n",
       "      <td></td>\n",
       "      <td>management business and financial occupations</td>\n",
       "      <td>0010-0950</td>\n",
       "      <td>11-0000 - 13-0000</td>\n",
       "      <td>True</td>\n",
       "    </tr>\n",
       "    <tr>\n",
       "      <th>71</th>\n",
       "      <td></td>\n",
       "      <td>computer engineering and science occupations</td>\n",
       "      <td>1000-1965</td>\n",
       "      <td>15-0000 - 19-0000</td>\n",
       "      <td>True</td>\n",
       "    </tr>\n",
       "    <tr>\n",
       "      <th>142</th>\n",
       "      <td></td>\n",
       "      <td>education legal community service arts and med...</td>\n",
       "      <td>2000-2960</td>\n",
       "      <td>21-0000 - 27-0000</td>\n",
       "      <td>True</td>\n",
       "    </tr>\n",
       "    <tr>\n",
       "      <th>235</th>\n",
       "      <td>service occupations</td>\n",
       "      <td></td>\n",
       "      <td>3600-4650</td>\n",
       "      <td>31-0000 - 39-0000</td>\n",
       "      <td>True</td>\n",
       "    </tr>\n",
       "    <tr>\n",
       "      <th>320</th>\n",
       "      <td>sales and office occupations</td>\n",
       "      <td></td>\n",
       "      <td>4700-5940</td>\n",
       "      <td>41-0000 - 43-0000</td>\n",
       "      <td>True</td>\n",
       "    </tr>\n",
       "    <tr>\n",
       "      <th>398</th>\n",
       "      <td>natural resources construction and maintenance...</td>\n",
       "      <td></td>\n",
       "      <td>6005-7630</td>\n",
       "      <td>45-0000 - 49-0000</td>\n",
       "      <td>True</td>\n",
       "    </tr>\n",
       "    <tr>\n",
       "      <th>495</th>\n",
       "      <td>production transportation and material moving ...</td>\n",
       "      <td></td>\n",
       "      <td>7700-9750</td>\n",
       "      <td>51-0000 - 53-0000</td>\n",
       "      <td>True</td>\n",
       "    </tr>\n",
       "    <tr>\n",
       "      <th>583</th>\n",
       "      <td></td>\n",
       "      <td>transportation occupations</td>\n",
       "      <td>9000-9420</td>\n",
       "      <td>53-1000 - 53-6000</td>\n",
       "      <td>True</td>\n",
       "    </tr>\n",
       "  </tbody>\n",
       "</table>\n",
       "</div>"
      ],
      "text/plain": [
       "                                            Unnamed: 0  \\\n",
       "3    management  business science and arts occupations   \n",
       "5                                                        \n",
       "71                                                       \n",
       "142                                                      \n",
       "235                                service occupations   \n",
       "320                       sales and office occupations   \n",
       "398  natural resources construction and maintenance...   \n",
       "495  production transportation and material moving ...   \n",
       "583                                                      \n",
       "\n",
       "                           Occupation 2010 Description 2010 Census Code  \\\n",
       "3                                                             0010-3540   \n",
       "5        management business and financial occupations        0010-0950   \n",
       "71        computer engineering and science occupations        1000-1965   \n",
       "142  education legal community service arts and med...        2000-2960   \n",
       "235                                                           3600-4650   \n",
       "320                                                           4700-5940   \n",
       "398                                                           6005-7630   \n",
       "495                                                           7700-9750   \n",
       "583                         transportation occupations        9000-9420   \n",
       "\n",
       "         2010 SOC Code  label  \n",
       "3    11-0000 - 29-0000   True  \n",
       "5    11-0000 - 13-0000   True  \n",
       "71   15-0000 - 19-0000   True  \n",
       "142  21-0000 - 27-0000   True  \n",
       "235  31-0000 - 39-0000   True  \n",
       "320  41-0000 - 43-0000   True  \n",
       "398  45-0000 - 49-0000   True  \n",
       "495  51-0000 - 53-0000   True  \n",
       "583  53-1000 - 53-6000   True  "
      ]
     },
     "execution_count": 31,
     "metadata": {},
     "output_type": "execute_result"
    }
   ],
   "source": [
    "#remove info about general groups, SOC Code ##-####-##-#### and leave only ##-####\n",
    "soc_codes['label'] = soc_codes['2010 SOC Code'].str.contains(\"[0-9]{2}-[0-9]{4} -\", regex=True )\n",
    "soc_codes[(soc_codes['label'] == True)]"
   ]
  },
  {
   "cell_type": "code",
   "execution_count": 34,
   "metadata": {},
   "outputs": [
    {
     "data": {
      "text/html": [
       "<div>\n",
       "<style scoped>\n",
       "    .dataframe tbody tr th:only-of-type {\n",
       "        vertical-align: middle;\n",
       "    }\n",
       "\n",
       "    .dataframe tbody tr th {\n",
       "        vertical-align: top;\n",
       "    }\n",
       "\n",
       "    .dataframe thead th {\n",
       "        text-align: right;\n",
       "    }\n",
       "</style>\n",
       "<table border=\"1\" class=\"dataframe\">\n",
       "  <thead>\n",
       "    <tr style=\"text-align: right;\">\n",
       "      <th></th>\n",
       "      <th>Label (Grouping)</th>\n",
       "      <th>Rancho Cordova city, California!!Total!!Estimate</th>\n",
       "      <th>Rancho Cordova city, California!!Total!!Margin of Error</th>\n",
       "      <th>Rancho Cordova city, California!!Male!!Estimate</th>\n",
       "      <th>Rancho Cordova city, California!!Male!!Margin of Error</th>\n",
       "      <th>Rancho Cordova city, California!!Percent Male!!Estimate</th>\n",
       "      <th>Rancho Cordova city, California!!Percent Male!!Margin of Error</th>\n",
       "      <th>Rancho Cordova city, California!!Female!!Estimate</th>\n",
       "      <th>Rancho Cordova city, California!!Female!!Margin of Error</th>\n",
       "      <th>Rancho Cordova city, California!!Percent Female!!Estimate</th>\n",
       "      <th>Rancho Cordova city, California!!Percent Female!!Margin of Error</th>\n",
       "    </tr>\n",
       "  </thead>\n",
       "  <tbody>\n",
       "    <tr>\n",
       "      <th>26</th>\n",
       "      <td>Sales and related occupations</td>\n",
       "      <td>2188</td>\n",
       "      <td>±785</td>\n",
       "      <td>1184</td>\n",
       "      <td>±517</td>\n",
       "      <td>54.1%</td>\n",
       "      <td>±13.0</td>\n",
       "      <td>1004</td>\n",
       "      <td>±444</td>\n",
       "      <td>45.9%</td>\n",
       "      <td>±13.0</td>\n",
       "    </tr>\n",
       "    <tr>\n",
       "      <th>27</th>\n",
       "      <td>Office and administrative support occu...</td>\n",
       "      <td>3468</td>\n",
       "      <td>±819</td>\n",
       "      <td>1175</td>\n",
       "      <td>±492</td>\n",
       "      <td>33.9%</td>\n",
       "      <td>±11.0</td>\n",
       "      <td>2293</td>\n",
       "      <td>±633</td>\n",
       "      <td>66.1%</td>\n",
       "      <td>±11.0</td>\n",
       "    </tr>\n",
       "    <tr>\n",
       "      <th>28</th>\n",
       "      <td>Natural resources, construction, and maint...</td>\n",
       "      <td>2520</td>\n",
       "      <td>±732</td>\n",
       "      <td>2520</td>\n",
       "      <td>±732</td>\n",
       "      <td>100.0%</td>\n",
       "      <td>±7.4</td>\n",
       "      <td>0</td>\n",
       "      <td>±216</td>\n",
       "      <td>0.0%</td>\n",
       "      <td>±7.4</td>\n",
       "    </tr>\n",
       "    <tr>\n",
       "      <th>29</th>\n",
       "      <td>Farming, fishing, and forestry occupat...</td>\n",
       "      <td>0</td>\n",
       "      <td>±216</td>\n",
       "      <td>0</td>\n",
       "      <td>±216</td>\n",
       "      <td>-</td>\n",
       "      <td>**</td>\n",
       "      <td>0</td>\n",
       "      <td>±216</td>\n",
       "      <td>-</td>\n",
       "      <td>**</td>\n",
       "    </tr>\n",
       "    <tr>\n",
       "      <th>30</th>\n",
       "      <td>Construction and extraction occupations</td>\n",
       "      <td>1466</td>\n",
       "      <td>±565</td>\n",
       "      <td>1466</td>\n",
       "      <td>±565</td>\n",
       "      <td>100.0%</td>\n",
       "      <td>±12.3</td>\n",
       "      <td>0</td>\n",
       "      <td>±216</td>\n",
       "      <td>0.0%</td>\n",
       "      <td>±12.3</td>\n",
       "    </tr>\n",
       "    <tr>\n",
       "      <th>31</th>\n",
       "      <td>Installation, maintenance, and repair ...</td>\n",
       "      <td>1054</td>\n",
       "      <td>±537</td>\n",
       "      <td>1054</td>\n",
       "      <td>±537</td>\n",
       "      <td>100.0%</td>\n",
       "      <td>±16.6</td>\n",
       "      <td>0</td>\n",
       "      <td>±216</td>\n",
       "      <td>0.0%</td>\n",
       "      <td>±16.6</td>\n",
       "    </tr>\n",
       "    <tr>\n",
       "      <th>32</th>\n",
       "      <td>Production, transportation, and material m...</td>\n",
       "      <td>3381</td>\n",
       "      <td>±784</td>\n",
       "      <td>2929</td>\n",
       "      <td>±754</td>\n",
       "      <td>86.6%</td>\n",
       "      <td>±10.8</td>\n",
       "      <td>452</td>\n",
       "      <td>±385</td>\n",
       "      <td>13.4%</td>\n",
       "      <td>±10.8</td>\n",
       "    </tr>\n",
       "    <tr>\n",
       "      <th>33</th>\n",
       "      <td>Production occupations</td>\n",
       "      <td>1490</td>\n",
       "      <td>±519</td>\n",
       "      <td>1183</td>\n",
       "      <td>±482</td>\n",
       "      <td>79.4%</td>\n",
       "      <td>±20.1</td>\n",
       "      <td>307</td>\n",
       "      <td>±329</td>\n",
       "      <td>20.6%</td>\n",
       "      <td>±20.1</td>\n",
       "    </tr>\n",
       "    <tr>\n",
       "      <th>34</th>\n",
       "      <td>Transportation occupations</td>\n",
       "      <td>1295</td>\n",
       "      <td>±654</td>\n",
       "      <td>1295</td>\n",
       "      <td>±654</td>\n",
       "      <td>100.0%</td>\n",
       "      <td>±13.8</td>\n",
       "      <td>0</td>\n",
       "      <td>±216</td>\n",
       "      <td>0.0%</td>\n",
       "      <td>±13.8</td>\n",
       "    </tr>\n",
       "    <tr>\n",
       "      <th>35</th>\n",
       "      <td>Material moving occupations</td>\n",
       "      <td>596</td>\n",
       "      <td>±316</td>\n",
       "      <td>451</td>\n",
       "      <td>±268</td>\n",
       "      <td>75.7%</td>\n",
       "      <td>±27.4</td>\n",
       "      <td>145</td>\n",
       "      <td>±188</td>\n",
       "      <td>24.3%</td>\n",
       "      <td>±27.4</td>\n",
       "    </tr>\n",
       "  </tbody>\n",
       "</table>\n",
       "</div>"
      ],
      "text/plain": [
       "                                     Label (Grouping)  \\\n",
       "26                      Sales and related occupations   \n",
       "27          Office and administrative support occu...   \n",
       "28      Natural resources, construction, and maint...   \n",
       "29          Farming, fishing, and forestry occupat...   \n",
       "30            Construction and extraction occupations   \n",
       "31          Installation, maintenance, and repair ...   \n",
       "32      Production, transportation, and material m...   \n",
       "33                             Production occupations   \n",
       "34                         Transportation occupations   \n",
       "35                        Material moving occupations   \n",
       "\n",
       "    Rancho Cordova city, California!!Total!!Estimate  \\\n",
       "26                                              2188   \n",
       "27                                              3468   \n",
       "28                                              2520   \n",
       "29                                                 0   \n",
       "30                                              1466   \n",
       "31                                              1054   \n",
       "32                                              3381   \n",
       "33                                              1490   \n",
       "34                                              1295   \n",
       "35                                               596   \n",
       "\n",
       "   Rancho Cordova city, California!!Total!!Margin of Error  \\\n",
       "26                                               ±785        \n",
       "27                                               ±819        \n",
       "28                                               ±732        \n",
       "29                                               ±216        \n",
       "30                                               ±565        \n",
       "31                                               ±537        \n",
       "32                                               ±784        \n",
       "33                                               ±519        \n",
       "34                                               ±654        \n",
       "35                                               ±316        \n",
       "\n",
       "    Rancho Cordova city, California!!Male!!Estimate  \\\n",
       "26                                             1184   \n",
       "27                                             1175   \n",
       "28                                             2520   \n",
       "29                                                0   \n",
       "30                                             1466   \n",
       "31                                             1054   \n",
       "32                                             2929   \n",
       "33                                             1183   \n",
       "34                                             1295   \n",
       "35                                              451   \n",
       "\n",
       "   Rancho Cordova city, California!!Male!!Margin of Error  \\\n",
       "26                                               ±517       \n",
       "27                                               ±492       \n",
       "28                                               ±732       \n",
       "29                                               ±216       \n",
       "30                                               ±565       \n",
       "31                                               ±537       \n",
       "32                                               ±754       \n",
       "33                                               ±482       \n",
       "34                                               ±654       \n",
       "35                                               ±268       \n",
       "\n",
       "   Rancho Cordova city, California!!Percent Male!!Estimate  \\\n",
       "26                                              54.1%        \n",
       "27                                              33.9%        \n",
       "28                                             100.0%        \n",
       "29                                                  -        \n",
       "30                                             100.0%        \n",
       "31                                             100.0%        \n",
       "32                                              86.6%        \n",
       "33                                              79.4%        \n",
       "34                                             100.0%        \n",
       "35                                              75.7%        \n",
       "\n",
       "   Rancho Cordova city, California!!Percent Male!!Margin of Error  \\\n",
       "26                                              ±13.0               \n",
       "27                                              ±11.0               \n",
       "28                                               ±7.4               \n",
       "29                                                 **               \n",
       "30                                              ±12.3               \n",
       "31                                              ±16.6               \n",
       "32                                              ±10.8               \n",
       "33                                              ±20.1               \n",
       "34                                              ±13.8               \n",
       "35                                              ±27.4               \n",
       "\n",
       "    Rancho Cordova city, California!!Female!!Estimate  \\\n",
       "26                                               1004   \n",
       "27                                               2293   \n",
       "28                                                  0   \n",
       "29                                                  0   \n",
       "30                                                  0   \n",
       "31                                                  0   \n",
       "32                                                452   \n",
       "33                                                307   \n",
       "34                                                  0   \n",
       "35                                                145   \n",
       "\n",
       "   Rancho Cordova city, California!!Female!!Margin of Error  \\\n",
       "26                                               ±444         \n",
       "27                                               ±633         \n",
       "28                                               ±216         \n",
       "29                                               ±216         \n",
       "30                                               ±216         \n",
       "31                                               ±216         \n",
       "32                                               ±385         \n",
       "33                                               ±329         \n",
       "34                                               ±216         \n",
       "35                                               ±188         \n",
       "\n",
       "   Rancho Cordova city, California!!Percent Female!!Estimate  \\\n",
       "26                                              45.9%          \n",
       "27                                              66.1%          \n",
       "28                                               0.0%          \n",
       "29                                                  -          \n",
       "30                                               0.0%          \n",
       "31                                               0.0%          \n",
       "32                                              13.4%          \n",
       "33                                              20.6%          \n",
       "34                                               0.0%          \n",
       "35                                              24.3%          \n",
       "\n",
       "   Rancho Cordova city, California!!Percent Female!!Margin of Error  \n",
       "26                                              ±13.0                \n",
       "27                                              ±11.0                \n",
       "28                                               ±7.4                \n",
       "29                                                 **                \n",
       "30                                              ±12.3                \n",
       "31                                              ±16.6                \n",
       "32                                              ±10.8                \n",
       "33                                              ±20.1                \n",
       "34                                              ±13.8                \n",
       "35                                              ±27.4                "
      ]
     },
     "execution_count": 34,
     "metadata": {},
     "output_type": "execute_result"
    }
   ],
   "source": [
    "occupation_19 = pd.read_csv('../DataSources/occupations_by_sex.csv')\n",
    "occupation_19.tail(10)"
   ]
  },
  {
   "cell_type": "code",
   "execution_count": 35,
   "metadata": {},
   "outputs": [
    {
     "data": {
      "text/html": [
       "<div>\n",
       "<style scoped>\n",
       "    .dataframe tbody tr th:only-of-type {\n",
       "        vertical-align: middle;\n",
       "    }\n",
       "\n",
       "    .dataframe tbody tr th {\n",
       "        vertical-align: top;\n",
       "    }\n",
       "\n",
       "    .dataframe thead th {\n",
       "        text-align: right;\n",
       "    }\n",
       "</style>\n",
       "<table border=\"1\" class=\"dataframe\">\n",
       "  <thead>\n",
       "    <tr style=\"text-align: right;\">\n",
       "      <th></th>\n",
       "      <th>occupations_nor</th>\n",
       "      <th>Total</th>\n",
       "      <th>Male</th>\n",
       "      <th>Female</th>\n",
       "    </tr>\n",
       "  </thead>\n",
       "  <tbody>\n",
       "    <tr>\n",
       "      <th>0</th>\n",
       "      <td>fulltime yearround civilian employed populatio...</td>\n",
       "      <td>24705</td>\n",
       "      <td>14342</td>\n",
       "      <td>10363</td>\n",
       "    </tr>\n",
       "    <tr>\n",
       "      <th>1</th>\n",
       "      <td>management business science and arts occupations</td>\n",
       "      <td>9550</td>\n",
       "      <td>4511</td>\n",
       "      <td>5039</td>\n",
       "    </tr>\n",
       "    <tr>\n",
       "      <th>2</th>\n",
       "      <td>management business and financial occupations</td>\n",
       "      <td>3268</td>\n",
       "      <td>1434</td>\n",
       "      <td>1834</td>\n",
       "    </tr>\n",
       "    <tr>\n",
       "      <th>3</th>\n",
       "      <td>management occupations</td>\n",
       "      <td>2036</td>\n",
       "      <td>1107</td>\n",
       "      <td>929</td>\n",
       "    </tr>\n",
       "    <tr>\n",
       "      <th>4</th>\n",
       "      <td>business and financial operations occupations</td>\n",
       "      <td>1232</td>\n",
       "      <td>327</td>\n",
       "      <td>905</td>\n",
       "    </tr>\n",
       "    <tr>\n",
       "      <th>5</th>\n",
       "      <td>computer engineering and science occupations</td>\n",
       "      <td>2876</td>\n",
       "      <td>2081</td>\n",
       "      <td>795</td>\n",
       "    </tr>\n",
       "    <tr>\n",
       "      <th>6</th>\n",
       "      <td>computer and mathematical occupations</td>\n",
       "      <td>1649</td>\n",
       "      <td>1136</td>\n",
       "      <td>513</td>\n",
       "    </tr>\n",
       "    <tr>\n",
       "      <th>7</th>\n",
       "      <td>architecture and engineering occupations</td>\n",
       "      <td>649</td>\n",
       "      <td>512</td>\n",
       "      <td>137</td>\n",
       "    </tr>\n",
       "    <tr>\n",
       "      <th>8</th>\n",
       "      <td>life physical and social science occupations</td>\n",
       "      <td>578</td>\n",
       "      <td>433</td>\n",
       "      <td>145</td>\n",
       "    </tr>\n",
       "    <tr>\n",
       "      <th>9</th>\n",
       "      <td>education legal community service arts and med...</td>\n",
       "      <td>1507</td>\n",
       "      <td>547</td>\n",
       "      <td>960</td>\n",
       "    </tr>\n",
       "  </tbody>\n",
       "</table>\n",
       "</div>"
      ],
      "text/plain": [
       "                                     occupations_nor  Total   Male  Female\n",
       "0  fulltime yearround civilian employed populatio...  24705  14342   10363\n",
       "1   management business science and arts occupations   9550   4511    5039\n",
       "2      management business and financial occupations   3268   1434    1834\n",
       "3                             management occupations   2036   1107     929\n",
       "4      business and financial operations occupations   1232    327     905\n",
       "5       computer engineering and science occupations   2876   2081     795\n",
       "6              computer and mathematical occupations   1649   1136     513\n",
       "7           architecture and engineering occupations    649    512     137\n",
       "8       life physical and social science occupations    578    433     145\n",
       "9  education legal community service arts and med...   1507    547     960"
      ]
     },
     "execution_count": 35,
     "metadata": {},
     "output_type": "execute_result"
    }
   ],
   "source": [
    "#clean occupation and filter columns to Total Estimate for Male, Female and total\n",
    "occupation_19['occupations_nor'] = [occupation.replace(u'\\xa0', u'').lower() for occupation in occupation_19['Label (Grouping)']]\n",
    "occupation_19['occupations_nor'] = [re.sub(r'[^\\w\\s]', '', occupation) for occupation in  occupation_19['occupations_nor']]\n",
    "occupation_19 = occupation_19[['occupations_nor', 'Rancho Cordova city, California!!Total!!Estimate', 'Rancho Cordova city, California!!Male!!Estimate', 'Rancho Cordova city, California!!Female!!Estimate']]\n",
    "occupation_19 = occupation_19.rename(columns={'Rancho Cordova city, California!!Total!!Estimate': 'Total',\n",
    "                                                'Rancho Cordova city, California!!Male!!Estimate':'Male', \n",
    "                                                'Rancho Cordova city, California!!Female!!Estimate': 'Female'})\n",
    "occupation_19.head(10)"
   ]
  },
  {
   "cell_type": "code",
   "execution_count": 36,
   "metadata": {},
   "outputs": [
    {
     "data": {
      "text/html": [
       "<div>\n",
       "<style scoped>\n",
       "    .dataframe tbody tr th:only-of-type {\n",
       "        vertical-align: middle;\n",
       "    }\n",
       "\n",
       "    .dataframe tbody tr th {\n",
       "        vertical-align: top;\n",
       "    }\n",
       "\n",
       "    .dataframe thead th {\n",
       "        text-align: right;\n",
       "    }\n",
       "</style>\n",
       "<table border=\"1\" class=\"dataframe\">\n",
       "  <thead>\n",
       "    <tr style=\"text-align: right;\">\n",
       "      <th></th>\n",
       "      <th>Unnamed: 0</th>\n",
       "      <th>Occupation 2010 Description</th>\n",
       "      <th>2010 Census Code</th>\n",
       "      <th>2010 SOC Code</th>\n",
       "      <th>label</th>\n",
       "    </tr>\n",
       "  </thead>\n",
       "  <tbody>\n",
       "    <tr>\n",
       "      <th>3</th>\n",
       "      <td>management  business science and arts occupations</td>\n",
       "      <td></td>\n",
       "      <td>0010-3540</td>\n",
       "      <td>11-0000 - 29-0000</td>\n",
       "      <td>True</td>\n",
       "    </tr>\n",
       "    <tr>\n",
       "      <th>235</th>\n",
       "      <td>service occupations</td>\n",
       "      <td></td>\n",
       "      <td>3600-4650</td>\n",
       "      <td>31-0000 - 39-0000</td>\n",
       "      <td>True</td>\n",
       "    </tr>\n",
       "    <tr>\n",
       "      <th>320</th>\n",
       "      <td>sales and office occupations</td>\n",
       "      <td></td>\n",
       "      <td>4700-5940</td>\n",
       "      <td>41-0000 - 43-0000</td>\n",
       "      <td>True</td>\n",
       "    </tr>\n",
       "    <tr>\n",
       "      <th>398</th>\n",
       "      <td>natural resources construction and maintenance...</td>\n",
       "      <td></td>\n",
       "      <td>6005-7630</td>\n",
       "      <td>45-0000 - 49-0000</td>\n",
       "      <td>True</td>\n",
       "    </tr>\n",
       "    <tr>\n",
       "      <th>495</th>\n",
       "      <td>production transportation and material moving ...</td>\n",
       "      <td></td>\n",
       "      <td>7700-9750</td>\n",
       "      <td>51-0000 - 53-0000</td>\n",
       "      <td>True</td>\n",
       "    </tr>\n",
       "    <tr>\n",
       "      <th>625</th>\n",
       "      <td>military specific occupations</td>\n",
       "      <td></td>\n",
       "      <td>9800-9830</td>\n",
       "      <td>55-0000</td>\n",
       "      <td>False</td>\n",
       "    </tr>\n",
       "  </tbody>\n",
       "</table>\n",
       "</div>"
      ],
      "text/plain": [
       "                                            Unnamed: 0  \\\n",
       "3    management  business science and arts occupations   \n",
       "235                                service occupations   \n",
       "320                       sales and office occupations   \n",
       "398  natural resources construction and maintenance...   \n",
       "495  production transportation and material moving ...   \n",
       "625                      military specific occupations   \n",
       "\n",
       "    Occupation 2010 Description 2010 Census Code      2010 SOC Code  label  \n",
       "3                                      0010-3540  11-0000 - 29-0000   True  \n",
       "235                                    3600-4650  31-0000 - 39-0000   True  \n",
       "320                                    4700-5940  41-0000 - 43-0000   True  \n",
       "398                                    6005-7630  45-0000 - 49-0000   True  \n",
       "495                                    7700-9750  51-0000 - 53-0000   True  \n",
       "625                                    9800-9830            55-0000  False  "
      ]
     },
     "execution_count": 36,
     "metadata": {},
     "output_type": "execute_result"
    }
   ],
   "source": [
    "#filter occupations differente than empty\n",
    "soc_df = soc_codes[(soc_codes['Unnamed: 0'] != '')]\n",
    "soc_df\n"
   ]
  },
  {
   "cell_type": "code",
   "execution_count": 39,
   "metadata": {},
   "outputs": [],
   "source": [
    "#add SOC code for each occupation\n",
    "occupation_19_code = occupation_19.merge(df_soc, how='left', right_on='Occupation 2010 Description', left_on='occupations_nor')\n",
    "occupation_19_code = occupation_19_code[['occupations_nor', 'Total', 'Male', 'Female', '2010 SOC Code']]\n"
   ]
  },
  {
   "cell_type": "code",
   "execution_count": 40,
   "metadata": {},
   "outputs": [
    {
     "data": {
      "text/html": [
       "<div>\n",
       "<style scoped>\n",
       "    .dataframe tbody tr th:only-of-type {\n",
       "        vertical-align: middle;\n",
       "    }\n",
       "\n",
       "    .dataframe tbody tr th {\n",
       "        vertical-align: top;\n",
       "    }\n",
       "\n",
       "    .dataframe thead th {\n",
       "        text-align: right;\n",
       "    }\n",
       "</style>\n",
       "<table border=\"1\" class=\"dataframe\">\n",
       "  <thead>\n",
       "    <tr style=\"text-align: right;\">\n",
       "      <th></th>\n",
       "      <th>occupations_nor</th>\n",
       "      <th>Total</th>\n",
       "      <th>Male</th>\n",
       "      <th>Female</th>\n",
       "      <th>2010 SOC Code</th>\n",
       "      <th>Major_group</th>\n",
       "    </tr>\n",
       "  </thead>\n",
       "  <tbody>\n",
       "    <tr>\n",
       "      <th>3</th>\n",
       "      <td>management occupations</td>\n",
       "      <td>2036</td>\n",
       "      <td>1107</td>\n",
       "      <td>929</td>\n",
       "      <td>11-0000</td>\n",
       "      <td>11</td>\n",
       "    </tr>\n",
       "    <tr>\n",
       "      <th>4</th>\n",
       "      <td>business and financial operations occupations</td>\n",
       "      <td>1232</td>\n",
       "      <td>327</td>\n",
       "      <td>905</td>\n",
       "      <td>13-0000</td>\n",
       "      <td>13</td>\n",
       "    </tr>\n",
       "    <tr>\n",
       "      <th>6</th>\n",
       "      <td>computer and mathematical occupations</td>\n",
       "      <td>1649</td>\n",
       "      <td>1136</td>\n",
       "      <td>513</td>\n",
       "      <td>15-0000</td>\n",
       "      <td>15</td>\n",
       "    </tr>\n",
       "    <tr>\n",
       "      <th>7</th>\n",
       "      <td>architecture and engineering occupations</td>\n",
       "      <td>649</td>\n",
       "      <td>512</td>\n",
       "      <td>137</td>\n",
       "      <td>17-0000</td>\n",
       "      <td>17</td>\n",
       "    </tr>\n",
       "    <tr>\n",
       "      <th>8</th>\n",
       "      <td>life physical and social science occupations</td>\n",
       "      <td>578</td>\n",
       "      <td>433</td>\n",
       "      <td>145</td>\n",
       "      <td>19-0000</td>\n",
       "      <td>19</td>\n",
       "    </tr>\n",
       "    <tr>\n",
       "      <th>10</th>\n",
       "      <td>community and social service occupations</td>\n",
       "      <td>616</td>\n",
       "      <td>148</td>\n",
       "      <td>468</td>\n",
       "      <td>21-0000</td>\n",
       "      <td>21</td>\n",
       "    </tr>\n",
       "    <tr>\n",
       "      <th>11</th>\n",
       "      <td>legal occupations</td>\n",
       "      <td>351</td>\n",
       "      <td>180</td>\n",
       "      <td>171</td>\n",
       "      <td>23-0000</td>\n",
       "      <td>23</td>\n",
       "    </tr>\n",
       "    <tr>\n",
       "      <th>13</th>\n",
       "      <td>arts design entertainment sports and media occ...</td>\n",
       "      <td>299</td>\n",
       "      <td>172</td>\n",
       "      <td>127</td>\n",
       "      <td>27-0000</td>\n",
       "      <td>27</td>\n",
       "    </tr>\n",
       "    <tr>\n",
       "      <th>14</th>\n",
       "      <td>healthcare practitioners and technical occupat...</td>\n",
       "      <td>1899</td>\n",
       "      <td>449</td>\n",
       "      <td>1450</td>\n",
       "      <td>29-0000</td>\n",
       "      <td>29</td>\n",
       "    </tr>\n",
       "    <tr>\n",
       "      <th>18</th>\n",
       "      <td>healthcare support occupations</td>\n",
       "      <td>627</td>\n",
       "      <td>154</td>\n",
       "      <td>473</td>\n",
       "      <td>31-0000</td>\n",
       "      <td>31</td>\n",
       "    </tr>\n",
       "    <tr>\n",
       "      <th>19</th>\n",
       "      <td>protective service occupations</td>\n",
       "      <td>664</td>\n",
       "      <td>542</td>\n",
       "      <td>122</td>\n",
       "      <td>33-0000</td>\n",
       "      <td>33</td>\n",
       "    </tr>\n",
       "    <tr>\n",
       "      <th>22</th>\n",
       "      <td>food preparation and serving related occupations</td>\n",
       "      <td>865</td>\n",
       "      <td>471</td>\n",
       "      <td>394</td>\n",
       "      <td>35-0000</td>\n",
       "      <td>35</td>\n",
       "    </tr>\n",
       "    <tr>\n",
       "      <th>23</th>\n",
       "      <td>building and grounds cleaning and maintenance ...</td>\n",
       "      <td>1142</td>\n",
       "      <td>817</td>\n",
       "      <td>325</td>\n",
       "      <td>37-0000</td>\n",
       "      <td>37</td>\n",
       "    </tr>\n",
       "    <tr>\n",
       "      <th>24</th>\n",
       "      <td>personal care and service occupations</td>\n",
       "      <td>300</td>\n",
       "      <td>39</td>\n",
       "      <td>261</td>\n",
       "      <td>39-0000</td>\n",
       "      <td>39</td>\n",
       "    </tr>\n",
       "    <tr>\n",
       "      <th>26</th>\n",
       "      <td>sales and related occupations</td>\n",
       "      <td>2188</td>\n",
       "      <td>1184</td>\n",
       "      <td>1004</td>\n",
       "      <td>41-0000</td>\n",
       "      <td>41</td>\n",
       "    </tr>\n",
       "    <tr>\n",
       "      <th>27</th>\n",
       "      <td>office and administrative support occupations</td>\n",
       "      <td>3468</td>\n",
       "      <td>1175</td>\n",
       "      <td>2293</td>\n",
       "      <td>43-0000</td>\n",
       "      <td>43</td>\n",
       "    </tr>\n",
       "    <tr>\n",
       "      <th>29</th>\n",
       "      <td>farming fishing and forestry occupations</td>\n",
       "      <td>0</td>\n",
       "      <td>0</td>\n",
       "      <td>0</td>\n",
       "      <td>45-0000</td>\n",
       "      <td>45</td>\n",
       "    </tr>\n",
       "    <tr>\n",
       "      <th>30</th>\n",
       "      <td>construction and extraction occupations</td>\n",
       "      <td>1466</td>\n",
       "      <td>1466</td>\n",
       "      <td>0</td>\n",
       "      <td>47-0000</td>\n",
       "      <td>47</td>\n",
       "    </tr>\n",
       "    <tr>\n",
       "      <th>31</th>\n",
       "      <td>installation maintenance and repair occupations</td>\n",
       "      <td>1054</td>\n",
       "      <td>1054</td>\n",
       "      <td>0</td>\n",
       "      <td>49-0000</td>\n",
       "      <td>49</td>\n",
       "    </tr>\n",
       "    <tr>\n",
       "      <th>33</th>\n",
       "      <td>production occupations</td>\n",
       "      <td>1490</td>\n",
       "      <td>1183</td>\n",
       "      <td>307</td>\n",
       "      <td>51-0000</td>\n",
       "      <td>51</td>\n",
       "    </tr>\n",
       "    <tr>\n",
       "      <th>34</th>\n",
       "      <td>transportation occupations</td>\n",
       "      <td>1295</td>\n",
       "      <td>1295</td>\n",
       "      <td>0</td>\n",
       "      <td>53-0000</td>\n",
       "      <td>53</td>\n",
       "    </tr>\n",
       "    <tr>\n",
       "      <th>35</th>\n",
       "      <td>material moving occupations</td>\n",
       "      <td>596</td>\n",
       "      <td>451</td>\n",
       "      <td>145</td>\n",
       "      <td>53-7000</td>\n",
       "      <td>53</td>\n",
       "    </tr>\n",
       "  </tbody>\n",
       "</table>\n",
       "</div>"
      ],
      "text/plain": [
       "                                      occupations_nor  Total  Male  Female  \\\n",
       "3                              management occupations   2036  1107     929   \n",
       "4       business and financial operations occupations   1232   327     905   \n",
       "6               computer and mathematical occupations   1649  1136     513   \n",
       "7            architecture and engineering occupations    649   512     137   \n",
       "8        life physical and social science occupations    578   433     145   \n",
       "10           community and social service occupations    616   148     468   \n",
       "11                                  legal occupations    351   180     171   \n",
       "13  arts design entertainment sports and media occ...    299   172     127   \n",
       "14  healthcare practitioners and technical occupat...   1899   449    1450   \n",
       "18                     healthcare support occupations    627   154     473   \n",
       "19                     protective service occupations    664   542     122   \n",
       "22   food preparation and serving related occupations    865   471     394   \n",
       "23  building and grounds cleaning and maintenance ...   1142   817     325   \n",
       "24              personal care and service occupations    300    39     261   \n",
       "26                      sales and related occupations   2188  1184    1004   \n",
       "27      office and administrative support occupations   3468  1175    2293   \n",
       "29           farming fishing and forestry occupations      0     0       0   \n",
       "30            construction and extraction occupations   1466  1466       0   \n",
       "31    installation maintenance and repair occupations   1054  1054       0   \n",
       "33                             production occupations   1490  1183     307   \n",
       "34                         transportation occupations   1295  1295       0   \n",
       "35                        material moving occupations    596   451     145   \n",
       "\n",
       "   2010 SOC Code Major_group  \n",
       "3        11-0000          11  \n",
       "4        13-0000          13  \n",
       "6        15-0000          15  \n",
       "7        17-0000          17  \n",
       "8        19-0000          19  \n",
       "10       21-0000          21  \n",
       "11       23-0000          23  \n",
       "13       27-0000          27  \n",
       "14       29-0000          29  \n",
       "18       31-0000          31  \n",
       "19       33-0000          33  \n",
       "22       35-0000          35  \n",
       "23       37-0000          37  \n",
       "24       39-0000          39  \n",
       "26       41-0000          41  \n",
       "27       43-0000          43  \n",
       "29       45-0000          45  \n",
       "30       47-0000          47  \n",
       "31       49-0000          49  \n",
       "33       51-0000          51  \n",
       "34       53-0000          53  \n",
       "35       53-7000          53  "
      ]
     },
     "execution_count": 40,
     "metadata": {},
     "output_type": "execute_result"
    }
   ],
   "source": [
    "#input an occupation that didn't match due to its assigned code is 53-1000 - 53-6000\n",
    "occupation_19_code.loc[occupation_19_code['occupations_nor'] == 'transportation occupations', '2010 SOC Code'] = '53-0000'\n",
    "occupation_19_code.dropna(inplace=True)\n",
    "occupation_19_code['Major_group'] = [re.search(r\"^[0-9]{2}\", str(code))[0] for code in occupation_19_code['2010 SOC Code']]\n",
    "occupation_19_code"
   ]
  },
  {
   "cell_type": "code",
   "execution_count": 42,
   "metadata": {},
   "outputs": [
    {
     "data": {
      "text/html": [
       "<div>\n",
       "<style scoped>\n",
       "    .dataframe tbody tr th:only-of-type {\n",
       "        vertical-align: middle;\n",
       "    }\n",
       "\n",
       "    .dataframe tbody tr th {\n",
       "        vertical-align: top;\n",
       "    }\n",
       "\n",
       "    .dataframe thead th {\n",
       "        text-align: right;\n",
       "    }\n",
       "</style>\n",
       "<table border=\"1\" class=\"dataframe\">\n",
       "  <thead>\n",
       "    <tr style=\"text-align: right;\">\n",
       "      <th></th>\n",
       "      <th>O*NET-SOC Code</th>\n",
       "      <th>Title</th>\n",
       "      <th>Element ID</th>\n",
       "      <th>Data Value</th>\n",
       "    </tr>\n",
       "  </thead>\n",
       "  <tbody>\n",
       "    <tr>\n",
       "      <th>70</th>\n",
       "      <td>11-1011.03</td>\n",
       "      <td>Chief Sustainability Officers</td>\n",
       "      <td>2.A.1.a</td>\n",
       "      <td>4.00</td>\n",
       "    </tr>\n",
       "    <tr>\n",
       "      <th>72</th>\n",
       "      <td>11-1011.03</td>\n",
       "      <td>Chief Sustainability Officers</td>\n",
       "      <td>2.A.1.b</td>\n",
       "      <td>4.00</td>\n",
       "    </tr>\n",
       "    <tr>\n",
       "      <th>74</th>\n",
       "      <td>11-1011.03</td>\n",
       "      <td>Chief Sustainability Officers</td>\n",
       "      <td>2.A.1.c</td>\n",
       "      <td>4.12</td>\n",
       "    </tr>\n",
       "    <tr>\n",
       "      <th>76</th>\n",
       "      <td>11-1011.03</td>\n",
       "      <td>Chief Sustainability Officers</td>\n",
       "      <td>2.A.1.d</td>\n",
       "      <td>4.00</td>\n",
       "    </tr>\n",
       "    <tr>\n",
       "      <th>78</th>\n",
       "      <td>11-1011.03</td>\n",
       "      <td>Chief Sustainability Officers</td>\n",
       "      <td>2.A.1.e</td>\n",
       "      <td>2.88</td>\n",
       "    </tr>\n",
       "  </tbody>\n",
       "</table>\n",
       "</div>"
      ],
      "text/plain": [
       "   O*NET-SOC Code                          Title Element ID  Data Value\n",
       "70     11-1011.03  Chief Sustainability Officers    2.A.1.a        4.00\n",
       "72     11-1011.03  Chief Sustainability Officers    2.A.1.b        4.00\n",
       "74     11-1011.03  Chief Sustainability Officers    2.A.1.c        4.12\n",
       "76     11-1011.03  Chief Sustainability Officers    2.A.1.d        4.00\n",
       "78     11-1011.03  Chief Sustainability Officers    2.A.1.e        2.88"
      ]
     },
     "execution_count": 42,
     "metadata": {},
     "output_type": "execute_result"
    }
   ],
   "source": [
    "#load data from O*NET with skills by occupation updated on 08/2021\n",
    "skills_df = pd.read_excel('../DataSources/Skills.xlsx', sheet_name='Skills')\n",
    "skills_df = skills_df[skills_df['Scale Name'] == 'Importance']\n",
    "skills_df = skills_df[skills_df['Date'] == '08/2021']\n",
    "skills_df = skills_df[['O*NET-SOC Code', 'Title', 'Element ID', 'Data Value']]\n",
    "skills_df.head()"
   ]
  },
  {
   "cell_type": "code",
   "execution_count": 43,
   "metadata": {},
   "outputs": [
    {
     "data": {
      "text/html": [
       "<div>\n",
       "<style scoped>\n",
       "    .dataframe tbody tr th:only-of-type {\n",
       "        vertical-align: middle;\n",
       "    }\n",
       "\n",
       "    .dataframe tbody tr th {\n",
       "        vertical-align: top;\n",
       "    }\n",
       "\n",
       "    .dataframe thead th {\n",
       "        text-align: right;\n",
       "    }\n",
       "</style>\n",
       "<table border=\"1\" class=\"dataframe\">\n",
       "  <thead>\n",
       "    <tr style=\"text-align: right;\">\n",
       "      <th></th>\n",
       "      <th>O*NET-SOC Code</th>\n",
       "      <th>Title</th>\n",
       "      <th>Element ID</th>\n",
       "      <th>Data Value</th>\n",
       "      <th>Major_group</th>\n",
       "      <th>SOC_group</th>\n",
       "      <th>Minor_group</th>\n",
       "      <th>broad_occupation</th>\n",
       "      <th>detailed_occupation</th>\n",
       "    </tr>\n",
       "  </thead>\n",
       "  <tbody>\n",
       "    <tr>\n",
       "      <th>70</th>\n",
       "      <td>11-1011.03</td>\n",
       "      <td>Chief Sustainability Officers</td>\n",
       "      <td>2.A.1.a</td>\n",
       "      <td>4.00</td>\n",
       "      <td>11</td>\n",
       "      <td>1011</td>\n",
       "      <td>1</td>\n",
       "      <td>01</td>\n",
       "      <td>1</td>\n",
       "    </tr>\n",
       "    <tr>\n",
       "      <th>72</th>\n",
       "      <td>11-1011.03</td>\n",
       "      <td>Chief Sustainability Officers</td>\n",
       "      <td>2.A.1.b</td>\n",
       "      <td>4.00</td>\n",
       "      <td>11</td>\n",
       "      <td>1011</td>\n",
       "      <td>1</td>\n",
       "      <td>01</td>\n",
       "      <td>1</td>\n",
       "    </tr>\n",
       "    <tr>\n",
       "      <th>74</th>\n",
       "      <td>11-1011.03</td>\n",
       "      <td>Chief Sustainability Officers</td>\n",
       "      <td>2.A.1.c</td>\n",
       "      <td>4.12</td>\n",
       "      <td>11</td>\n",
       "      <td>1011</td>\n",
       "      <td>1</td>\n",
       "      <td>01</td>\n",
       "      <td>1</td>\n",
       "    </tr>\n",
       "    <tr>\n",
       "      <th>76</th>\n",
       "      <td>11-1011.03</td>\n",
       "      <td>Chief Sustainability Officers</td>\n",
       "      <td>2.A.1.d</td>\n",
       "      <td>4.00</td>\n",
       "      <td>11</td>\n",
       "      <td>1011</td>\n",
       "      <td>1</td>\n",
       "      <td>01</td>\n",
       "      <td>1</td>\n",
       "    </tr>\n",
       "    <tr>\n",
       "      <th>78</th>\n",
       "      <td>11-1011.03</td>\n",
       "      <td>Chief Sustainability Officers</td>\n",
       "      <td>2.A.1.e</td>\n",
       "      <td>2.88</td>\n",
       "      <td>11</td>\n",
       "      <td>1011</td>\n",
       "      <td>1</td>\n",
       "      <td>01</td>\n",
       "      <td>1</td>\n",
       "    </tr>\n",
       "    <tr>\n",
       "      <th>...</th>\n",
       "      <td>...</td>\n",
       "      <td>...</td>\n",
       "      <td>...</td>\n",
       "      <td>...</td>\n",
       "      <td>...</td>\n",
       "      <td>...</td>\n",
       "      <td>...</td>\n",
       "      <td>...</td>\n",
       "      <td>...</td>\n",
       "    </tr>\n",
       "    <tr>\n",
       "      <th>60890</th>\n",
       "      <td>53-7072.00</td>\n",
       "      <td>Pump Operators, Except Wellhead Pumpers</td>\n",
       "      <td>2.B.4.h</td>\n",
       "      <td>2.12</td>\n",
       "      <td>53</td>\n",
       "      <td>7072</td>\n",
       "      <td>7</td>\n",
       "      <td>07</td>\n",
       "      <td>2</td>\n",
       "    </tr>\n",
       "    <tr>\n",
       "      <th>60892</th>\n",
       "      <td>53-7072.00</td>\n",
       "      <td>Pump Operators, Except Wellhead Pumpers</td>\n",
       "      <td>2.B.5.a</td>\n",
       "      <td>3.00</td>\n",
       "      <td>53</td>\n",
       "      <td>7072</td>\n",
       "      <td>7</td>\n",
       "      <td>07</td>\n",
       "      <td>2</td>\n",
       "    </tr>\n",
       "    <tr>\n",
       "      <th>60894</th>\n",
       "      <td>53-7072.00</td>\n",
       "      <td>Pump Operators, Except Wellhead Pumpers</td>\n",
       "      <td>2.B.5.b</td>\n",
       "      <td>2.00</td>\n",
       "      <td>53</td>\n",
       "      <td>7072</td>\n",
       "      <td>7</td>\n",
       "      <td>07</td>\n",
       "      <td>2</td>\n",
       "    </tr>\n",
       "    <tr>\n",
       "      <th>60896</th>\n",
       "      <td>53-7072.00</td>\n",
       "      <td>Pump Operators, Except Wellhead Pumpers</td>\n",
       "      <td>2.B.5.c</td>\n",
       "      <td>2.25</td>\n",
       "      <td>53</td>\n",
       "      <td>7072</td>\n",
       "      <td>7</td>\n",
       "      <td>07</td>\n",
       "      <td>2</td>\n",
       "    </tr>\n",
       "    <tr>\n",
       "      <th>60898</th>\n",
       "      <td>53-7072.00</td>\n",
       "      <td>Pump Operators, Except Wellhead Pumpers</td>\n",
       "      <td>2.B.5.d</td>\n",
       "      <td>2.62</td>\n",
       "      <td>53</td>\n",
       "      <td>7072</td>\n",
       "      <td>7</td>\n",
       "      <td>07</td>\n",
       "      <td>2</td>\n",
       "    </tr>\n",
       "  </tbody>\n",
       "</table>\n",
       "<p>3500 rows × 9 columns</p>\n",
       "</div>"
      ],
      "text/plain": [
       "      O*NET-SOC Code                                    Title Element ID  \\\n",
       "70        11-1011.03            Chief Sustainability Officers    2.A.1.a   \n",
       "72        11-1011.03            Chief Sustainability Officers    2.A.1.b   \n",
       "74        11-1011.03            Chief Sustainability Officers    2.A.1.c   \n",
       "76        11-1011.03            Chief Sustainability Officers    2.A.1.d   \n",
       "78        11-1011.03            Chief Sustainability Officers    2.A.1.e   \n",
       "...              ...                                      ...        ...   \n",
       "60890     53-7072.00  Pump Operators, Except Wellhead Pumpers    2.B.4.h   \n",
       "60892     53-7072.00  Pump Operators, Except Wellhead Pumpers    2.B.5.a   \n",
       "60894     53-7072.00  Pump Operators, Except Wellhead Pumpers    2.B.5.b   \n",
       "60896     53-7072.00  Pump Operators, Except Wellhead Pumpers    2.B.5.c   \n",
       "60898     53-7072.00  Pump Operators, Except Wellhead Pumpers    2.B.5.d   \n",
       "\n",
       "       Data Value Major_group SOC_group Minor_group broad_occupation  \\\n",
       "70           4.00          11      1011           1               01   \n",
       "72           4.00          11      1011           1               01   \n",
       "74           4.12          11      1011           1               01   \n",
       "76           4.00          11      1011           1               01   \n",
       "78           2.88          11      1011           1               01   \n",
       "...           ...         ...       ...         ...              ...   \n",
       "60890        2.12          53      7072           7               07   \n",
       "60892        3.00          53      7072           7               07   \n",
       "60894        2.00          53      7072           7               07   \n",
       "60896        2.25          53      7072           7               07   \n",
       "60898        2.62          53      7072           7               07   \n",
       "\n",
       "      detailed_occupation  \n",
       "70                      1  \n",
       "72                      1  \n",
       "74                      1  \n",
       "76                      1  \n",
       "78                      1  \n",
       "...                   ...  \n",
       "60890                   2  \n",
       "60892                   2  \n",
       "60894                   2  \n",
       "60896                   2  \n",
       "60898                   2  \n",
       "\n",
       "[3500 rows x 9 columns]"
      ]
     },
     "execution_count": 43,
     "metadata": {},
     "output_type": "execute_result"
    }
   ],
   "source": [
    "#extract patterns of SOC codes to match with broad group with census occupation\n",
    "skills_df['Major_group'] = [re.search(r\"^[0-9]{2}\", str(code))[0] for code in skills_df['O*NET-SOC Code']]\n",
    "skills_df['SOC_group'] = [re.search(r\"[0-9]{4}\", str(code))[0] for code in skills_df['O*NET-SOC Code']]\n",
    "skills_df['Minor_group'] = [code[0] for code in skills_df['SOC_group']]\n",
    "skills_df['broad_occupation'] = [code[1:3] for code in skills_df['SOC_group']]\n",
    "skills_df['detailed_occupation'] = [ code[3:] for code in skills_df['SOC_group']] \n",
    "skills_df"
   ]
  },
  {
   "cell_type": "code",
   "execution_count": 44,
   "metadata": {},
   "outputs": [
    {
     "data": {
      "text/html": [
       "<div>\n",
       "<style scoped>\n",
       "    .dataframe tbody tr th:only-of-type {\n",
       "        vertical-align: middle;\n",
       "    }\n",
       "\n",
       "    .dataframe tbody tr th {\n",
       "        vertical-align: top;\n",
       "    }\n",
       "\n",
       "    .dataframe thead th {\n",
       "        text-align: right;\n",
       "    }\n",
       "</style>\n",
       "<table border=\"1\" class=\"dataframe\">\n",
       "  <thead>\n",
       "    <tr style=\"text-align: right;\">\n",
       "      <th></th>\n",
       "      <th>O*NET-SOC Code</th>\n",
       "      <th>Title</th>\n",
       "      <th>Element ID</th>\n",
       "      <th>Data Value</th>\n",
       "      <th>Major_group</th>\n",
       "      <th>SOC_group</th>\n",
       "      <th>Minor_group</th>\n",
       "      <th>broad_occupation</th>\n",
       "      <th>detailed_occupation</th>\n",
       "      <th>Element_ID_group</th>\n",
       "    </tr>\n",
       "  </thead>\n",
       "  <tbody>\n",
       "    <tr>\n",
       "      <th>70</th>\n",
       "      <td>11-1011.03</td>\n",
       "      <td>Chief Sustainability Officers</td>\n",
       "      <td>2.A.1.a</td>\n",
       "      <td>4.00</td>\n",
       "      <td>11</td>\n",
       "      <td>1011</td>\n",
       "      <td>1</td>\n",
       "      <td>01</td>\n",
       "      <td>1</td>\n",
       "      <td>2.A.1</td>\n",
       "    </tr>\n",
       "    <tr>\n",
       "      <th>72</th>\n",
       "      <td>11-1011.03</td>\n",
       "      <td>Chief Sustainability Officers</td>\n",
       "      <td>2.A.1.b</td>\n",
       "      <td>4.00</td>\n",
       "      <td>11</td>\n",
       "      <td>1011</td>\n",
       "      <td>1</td>\n",
       "      <td>01</td>\n",
       "      <td>1</td>\n",
       "      <td>2.A.1</td>\n",
       "    </tr>\n",
       "    <tr>\n",
       "      <th>74</th>\n",
       "      <td>11-1011.03</td>\n",
       "      <td>Chief Sustainability Officers</td>\n",
       "      <td>2.A.1.c</td>\n",
       "      <td>4.12</td>\n",
       "      <td>11</td>\n",
       "      <td>1011</td>\n",
       "      <td>1</td>\n",
       "      <td>01</td>\n",
       "      <td>1</td>\n",
       "      <td>2.A.1</td>\n",
       "    </tr>\n",
       "    <tr>\n",
       "      <th>76</th>\n",
       "      <td>11-1011.03</td>\n",
       "      <td>Chief Sustainability Officers</td>\n",
       "      <td>2.A.1.d</td>\n",
       "      <td>4.00</td>\n",
       "      <td>11</td>\n",
       "      <td>1011</td>\n",
       "      <td>1</td>\n",
       "      <td>01</td>\n",
       "      <td>1</td>\n",
       "      <td>2.A.1</td>\n",
       "    </tr>\n",
       "    <tr>\n",
       "      <th>78</th>\n",
       "      <td>11-1011.03</td>\n",
       "      <td>Chief Sustainability Officers</td>\n",
       "      <td>2.A.1.e</td>\n",
       "      <td>2.88</td>\n",
       "      <td>11</td>\n",
       "      <td>1011</td>\n",
       "      <td>1</td>\n",
       "      <td>01</td>\n",
       "      <td>1</td>\n",
       "      <td>2.A.1</td>\n",
       "    </tr>\n",
       "  </tbody>\n",
       "</table>\n",
       "</div>"
      ],
      "text/plain": [
       "   O*NET-SOC Code                          Title Element ID  Data Value  \\\n",
       "70     11-1011.03  Chief Sustainability Officers    2.A.1.a        4.00   \n",
       "72     11-1011.03  Chief Sustainability Officers    2.A.1.b        4.00   \n",
       "74     11-1011.03  Chief Sustainability Officers    2.A.1.c        4.12   \n",
       "76     11-1011.03  Chief Sustainability Officers    2.A.1.d        4.00   \n",
       "78     11-1011.03  Chief Sustainability Officers    2.A.1.e        2.88   \n",
       "\n",
       "   Major_group SOC_group Minor_group broad_occupation detailed_occupation  \\\n",
       "70          11      1011           1               01                   1   \n",
       "72          11      1011           1               01                   1   \n",
       "74          11      1011           1               01                   1   \n",
       "76          11      1011           1               01                   1   \n",
       "78          11      1011           1               01                   1   \n",
       "\n",
       "   Element_ID_group  \n",
       "70            2.A.1  \n",
       "72            2.A.1  \n",
       "74            2.A.1  \n",
       "76            2.A.1  \n",
       "78            2.A.1  "
      ]
     },
     "execution_count": 44,
     "metadata": {},
     "output_type": "execute_result"
    }
   ],
   "source": [
    "#filter skills by broad group based on reference of content model reference (O*NET)\n",
    "skills_df['Element_ID_group'] = [re.sub(r\".[a-z]\", '', element) for element in skills_df['Element ID']]\n",
    "skills_df.head()"
   ]
  },
  {
   "cell_type": "code",
   "execution_count": 45,
   "metadata": {},
   "outputs": [
    {
     "data": {
      "text/html": [
       "<div>\n",
       "<style scoped>\n",
       "    .dataframe tbody tr th:only-of-type {\n",
       "        vertical-align: middle;\n",
       "    }\n",
       "\n",
       "    .dataframe tbody tr th {\n",
       "        vertical-align: top;\n",
       "    }\n",
       "\n",
       "    .dataframe thead th {\n",
       "        text-align: right;\n",
       "    }\n",
       "</style>\n",
       "<table border=\"1\" class=\"dataframe\">\n",
       "  <thead>\n",
       "    <tr style=\"text-align: right;\">\n",
       "      <th></th>\n",
       "      <th>O*NET-SOC Code</th>\n",
       "      <th>Title</th>\n",
       "      <th>Element ID</th>\n",
       "      <th>Data Value</th>\n",
       "      <th>Major_group</th>\n",
       "      <th>SOC_group</th>\n",
       "      <th>Minor_group</th>\n",
       "      <th>broad_occupation</th>\n",
       "      <th>detailed_occupation</th>\n",
       "      <th>Element_ID_group</th>\n",
       "      <th>occupations_nor</th>\n",
       "      <th>Total</th>\n",
       "      <th>Male</th>\n",
       "      <th>Female</th>\n",
       "      <th>2010 SOC Code</th>\n",
       "    </tr>\n",
       "  </thead>\n",
       "  <tbody>\n",
       "    <tr>\n",
       "      <th>17</th>\n",
       "      <td>11-1011.03</td>\n",
       "      <td>Chief Sustainability Officers</td>\n",
       "      <td>2.B.3.a</td>\n",
       "      <td>2.88</td>\n",
       "      <td>11</td>\n",
       "      <td>1011</td>\n",
       "      <td>1</td>\n",
       "      <td>01</td>\n",
       "      <td>1</td>\n",
       "      <td>2.B.3</td>\n",
       "      <td>management occupations</td>\n",
       "      <td>2036</td>\n",
       "      <td>1107</td>\n",
       "      <td>929</td>\n",
       "      <td>11-0000</td>\n",
       "    </tr>\n",
       "    <tr>\n",
       "      <th>227</th>\n",
       "      <td>13-1041.01</td>\n",
       "      <td>Environmental Compliance Inspectors</td>\n",
       "      <td>2.B.3.a</td>\n",
       "      <td>2.50</td>\n",
       "      <td>13</td>\n",
       "      <td>1041</td>\n",
       "      <td>1</td>\n",
       "      <td>04</td>\n",
       "      <td>1</td>\n",
       "      <td>2.B.3</td>\n",
       "      <td>business and financial operations occupations</td>\n",
       "      <td>1232</td>\n",
       "      <td>327</td>\n",
       "      <td>905</td>\n",
       "      <td>13-0000</td>\n",
       "    </tr>\n",
       "    <tr>\n",
       "      <th>332</th>\n",
       "      <td>15-1299.03</td>\n",
       "      <td>Document Management Specialists</td>\n",
       "      <td>2.B.3.a</td>\n",
       "      <td>2.25</td>\n",
       "      <td>15</td>\n",
       "      <td>1299</td>\n",
       "      <td>1</td>\n",
       "      <td>29</td>\n",
       "      <td>9</td>\n",
       "      <td>2.B.3</td>\n",
       "      <td>computer and mathematical occupations</td>\n",
       "      <td>1649</td>\n",
       "      <td>1136</td>\n",
       "      <td>513</td>\n",
       "      <td>15-0000</td>\n",
       "    </tr>\n",
       "    <tr>\n",
       "      <th>437</th>\n",
       "      <td>17-1011.00</td>\n",
       "      <td>Architects, Except Landscape and Naval</td>\n",
       "      <td>2.B.3.a</td>\n",
       "      <td>4.00</td>\n",
       "      <td>17</td>\n",
       "      <td>1011</td>\n",
       "      <td>1</td>\n",
       "      <td>01</td>\n",
       "      <td>1</td>\n",
       "      <td>2.B.3</td>\n",
       "      <td>architecture and engineering occupations</td>\n",
       "      <td>649</td>\n",
       "      <td>512</td>\n",
       "      <td>137</td>\n",
       "      <td>17-0000</td>\n",
       "    </tr>\n",
       "    <tr>\n",
       "      <th>612</th>\n",
       "      <td>19-1013.00</td>\n",
       "      <td>Soil and Plant Scientists</td>\n",
       "      <td>2.B.3.a</td>\n",
       "      <td>3.00</td>\n",
       "      <td>19</td>\n",
       "      <td>1013</td>\n",
       "      <td>1</td>\n",
       "      <td>01</td>\n",
       "      <td>3</td>\n",
       "      <td>2.B.3</td>\n",
       "      <td>life physical and social science occupations</td>\n",
       "      <td>578</td>\n",
       "      <td>433</td>\n",
       "      <td>145</td>\n",
       "      <td>19-0000</td>\n",
       "    </tr>\n",
       "    <tr>\n",
       "      <th>927</th>\n",
       "      <td>21-1011.00</td>\n",
       "      <td>Substance Abuse and Behavioral Disorder Counse...</td>\n",
       "      <td>2.B.3.a</td>\n",
       "      <td>2.00</td>\n",
       "      <td>21</td>\n",
       "      <td>1011</td>\n",
       "      <td>1</td>\n",
       "      <td>01</td>\n",
       "      <td>1</td>\n",
       "      <td>2.B.3</td>\n",
       "      <td>community and social service occupations</td>\n",
       "      <td>616</td>\n",
       "      <td>148</td>\n",
       "      <td>468</td>\n",
       "      <td>21-0000</td>\n",
       "    </tr>\n",
       "    <tr>\n",
       "      <th>1067</th>\n",
       "      <td>23-1012.00</td>\n",
       "      <td>Judicial Law Clerks</td>\n",
       "      <td>2.B.3.a</td>\n",
       "      <td>1.25</td>\n",
       "      <td>23</td>\n",
       "      <td>1012</td>\n",
       "      <td>1</td>\n",
       "      <td>01</td>\n",
       "      <td>2</td>\n",
       "      <td>2.B.3</td>\n",
       "      <td>legal occupations</td>\n",
       "      <td>351</td>\n",
       "      <td>180</td>\n",
       "      <td>171</td>\n",
       "      <td>23-0000</td>\n",
       "    </tr>\n",
       "    <tr>\n",
       "      <th>1102</th>\n",
       "      <td>27-1027.00</td>\n",
       "      <td>Set and Exhibit Designers</td>\n",
       "      <td>2.B.3.a</td>\n",
       "      <td>3.75</td>\n",
       "      <td>27</td>\n",
       "      <td>1027</td>\n",
       "      <td>1</td>\n",
       "      <td>02</td>\n",
       "      <td>7</td>\n",
       "      <td>2.B.3</td>\n",
       "      <td>arts design entertainment sports and media occ...</td>\n",
       "      <td>299</td>\n",
       "      <td>172</td>\n",
       "      <td>127</td>\n",
       "      <td>27-0000</td>\n",
       "    </tr>\n",
       "    <tr>\n",
       "      <th>1242</th>\n",
       "      <td>29-1031.00</td>\n",
       "      <td>Dietitians and Nutritionists</td>\n",
       "      <td>2.B.3.a</td>\n",
       "      <td>3.12</td>\n",
       "      <td>29</td>\n",
       "      <td>1031</td>\n",
       "      <td>1</td>\n",
       "      <td>03</td>\n",
       "      <td>1</td>\n",
       "      <td>2.B.3</td>\n",
       "      <td>healthcare practitioners and technical occupat...</td>\n",
       "      <td>1899</td>\n",
       "      <td>449</td>\n",
       "      <td>1450</td>\n",
       "      <td>29-0000</td>\n",
       "    </tr>\n",
       "    <tr>\n",
       "      <th>2152</th>\n",
       "      <td>31-9011.00</td>\n",
       "      <td>Massage Therapists</td>\n",
       "      <td>2.B.3.a</td>\n",
       "      <td>1.62</td>\n",
       "      <td>31</td>\n",
       "      <td>9011</td>\n",
       "      <td>9</td>\n",
       "      <td>01</td>\n",
       "      <td>1</td>\n",
       "      <td>2.B.3</td>\n",
       "      <td>healthcare support occupations</td>\n",
       "      <td>627</td>\n",
       "      <td>154</td>\n",
       "      <td>473</td>\n",
       "      <td>31-0000</td>\n",
       "    </tr>\n",
       "    <tr>\n",
       "      <th>2292</th>\n",
       "      <td>35-1011.00</td>\n",
       "      <td>Chefs and Head Cooks</td>\n",
       "      <td>2.B.3.a</td>\n",
       "      <td>2.50</td>\n",
       "      <td>35</td>\n",
       "      <td>1011</td>\n",
       "      <td>1</td>\n",
       "      <td>01</td>\n",
       "      <td>1</td>\n",
       "      <td>2.B.3</td>\n",
       "      <td>food preparation and serving related occupations</td>\n",
       "      <td>865</td>\n",
       "      <td>471</td>\n",
       "      <td>394</td>\n",
       "      <td>35-0000</td>\n",
       "    </tr>\n",
       "    <tr>\n",
       "      <th>2397</th>\n",
       "      <td>37-1012.00</td>\n",
       "      <td>First-Line Supervisors of Landscaping, Lawn Se...</td>\n",
       "      <td>2.B.3.a</td>\n",
       "      <td>2.12</td>\n",
       "      <td>37</td>\n",
       "      <td>1012</td>\n",
       "      <td>1</td>\n",
       "      <td>01</td>\n",
       "      <td>2</td>\n",
       "      <td>2.B.3</td>\n",
       "      <td>building and grounds cleaning and maintenance ...</td>\n",
       "      <td>1142</td>\n",
       "      <td>817</td>\n",
       "      <td>325</td>\n",
       "      <td>37-0000</td>\n",
       "    </tr>\n",
       "    <tr>\n",
       "      <th>2432</th>\n",
       "      <td>39-4011.00</td>\n",
       "      <td>Embalmers</td>\n",
       "      <td>2.B.3.a</td>\n",
       "      <td>2.00</td>\n",
       "      <td>39</td>\n",
       "      <td>4011</td>\n",
       "      <td>4</td>\n",
       "      <td>01</td>\n",
       "      <td>1</td>\n",
       "      <td>2.B.3</td>\n",
       "      <td>personal care and service occupations</td>\n",
       "      <td>300</td>\n",
       "      <td>39</td>\n",
       "      <td>261</td>\n",
       "      <td>39-0000</td>\n",
       "    </tr>\n",
       "    <tr>\n",
       "      <th>2502</th>\n",
       "      <td>41-9012.00</td>\n",
       "      <td>Models</td>\n",
       "      <td>2.B.3.a</td>\n",
       "      <td>1.38</td>\n",
       "      <td>41</td>\n",
       "      <td>9012</td>\n",
       "      <td>9</td>\n",
       "      <td>01</td>\n",
       "      <td>2</td>\n",
       "      <td>2.B.3</td>\n",
       "      <td>sales and related occupations</td>\n",
       "      <td>2188</td>\n",
       "      <td>1184</td>\n",
       "      <td>1004</td>\n",
       "      <td>41-0000</td>\n",
       "    </tr>\n",
       "    <tr>\n",
       "      <th>2537</th>\n",
       "      <td>43-4111.00</td>\n",
       "      <td>Interviewers, Except Eligibility and Loan</td>\n",
       "      <td>2.B.3.a</td>\n",
       "      <td>1.88</td>\n",
       "      <td>43</td>\n",
       "      <td>4111</td>\n",
       "      <td>4</td>\n",
       "      <td>11</td>\n",
       "      <td>1</td>\n",
       "      <td>2.B.3</td>\n",
       "      <td>office and administrative support occupations</td>\n",
       "      <td>3468</td>\n",
       "      <td>1175</td>\n",
       "      <td>2293</td>\n",
       "      <td>43-0000</td>\n",
       "    </tr>\n",
       "    <tr>\n",
       "      <th>2712</th>\n",
       "      <td>47-2043.00</td>\n",
       "      <td>Floor Sanders and Finishers</td>\n",
       "      <td>2.B.3.a</td>\n",
       "      <td>1.38</td>\n",
       "      <td>47</td>\n",
       "      <td>2043</td>\n",
       "      <td>2</td>\n",
       "      <td>04</td>\n",
       "      <td>3</td>\n",
       "      <td>2.B.3</td>\n",
       "      <td>construction and extraction occupations</td>\n",
       "      <td>1466</td>\n",
       "      <td>1466</td>\n",
       "      <td>0</td>\n",
       "      <td>47-0000</td>\n",
       "    </tr>\n",
       "    <tr>\n",
       "      <th>2747</th>\n",
       "      <td>49-1011.00</td>\n",
       "      <td>First-Line Supervisors of Mechanics, Installer...</td>\n",
       "      <td>2.B.3.a</td>\n",
       "      <td>2.50</td>\n",
       "      <td>49</td>\n",
       "      <td>1011</td>\n",
       "      <td>1</td>\n",
       "      <td>01</td>\n",
       "      <td>1</td>\n",
       "      <td>2.B.3</td>\n",
       "      <td>installation maintenance and repair occupations</td>\n",
       "      <td>1054</td>\n",
       "      <td>1054</td>\n",
       "      <td>0</td>\n",
       "      <td>49-0000</td>\n",
       "    </tr>\n",
       "    <tr>\n",
       "      <th>3027</th>\n",
       "      <td>51-3092.00</td>\n",
       "      <td>Food Batchmakers</td>\n",
       "      <td>2.B.3.a</td>\n",
       "      <td>1.88</td>\n",
       "      <td>51</td>\n",
       "      <td>3092</td>\n",
       "      <td>3</td>\n",
       "      <td>09</td>\n",
       "      <td>2</td>\n",
       "      <td>2.B.3</td>\n",
       "      <td>production occupations</td>\n",
       "      <td>1490</td>\n",
       "      <td>1183</td>\n",
       "      <td>307</td>\n",
       "      <td>51-0000</td>\n",
       "    </tr>\n",
       "    <tr>\n",
       "      <th>3219</th>\n",
       "      <td>53-2011.00</td>\n",
       "      <td>Airline Pilots, Copilots, and Flight Engineers</td>\n",
       "      <td>2.B.3.a</td>\n",
       "      <td>2.12</td>\n",
       "      <td>53</td>\n",
       "      <td>2011</td>\n",
       "      <td>2</td>\n",
       "      <td>01</td>\n",
       "      <td>1</td>\n",
       "      <td>2.B.3</td>\n",
       "      <td>transportation occupations</td>\n",
       "      <td>1295</td>\n",
       "      <td>1295</td>\n",
       "      <td>0</td>\n",
       "      <td>53-0000</td>\n",
       "    </tr>\n",
       "  </tbody>\n",
       "</table>\n",
       "</div>"
      ],
      "text/plain": [
       "     O*NET-SOC Code                                              Title  \\\n",
       "17       11-1011.03                      Chief Sustainability Officers   \n",
       "227      13-1041.01                Environmental Compliance Inspectors   \n",
       "332      15-1299.03                    Document Management Specialists   \n",
       "437      17-1011.00             Architects, Except Landscape and Naval   \n",
       "612      19-1013.00                          Soil and Plant Scientists   \n",
       "927      21-1011.00  Substance Abuse and Behavioral Disorder Counse...   \n",
       "1067     23-1012.00                                Judicial Law Clerks   \n",
       "1102     27-1027.00                          Set and Exhibit Designers   \n",
       "1242     29-1031.00                       Dietitians and Nutritionists   \n",
       "2152     31-9011.00                                 Massage Therapists   \n",
       "2292     35-1011.00                               Chefs and Head Cooks   \n",
       "2397     37-1012.00  First-Line Supervisors of Landscaping, Lawn Se...   \n",
       "2432     39-4011.00                                          Embalmers   \n",
       "2502     41-9012.00                                             Models   \n",
       "2537     43-4111.00          Interviewers, Except Eligibility and Loan   \n",
       "2712     47-2043.00                        Floor Sanders and Finishers   \n",
       "2747     49-1011.00  First-Line Supervisors of Mechanics, Installer...   \n",
       "3027     51-3092.00                                   Food Batchmakers   \n",
       "3219     53-2011.00     Airline Pilots, Copilots, and Flight Engineers   \n",
       "\n",
       "     Element ID  Data Value Major_group SOC_group Minor_group  \\\n",
       "17      2.B.3.a        2.88          11      1011           1   \n",
       "227     2.B.3.a        2.50          13      1041           1   \n",
       "332     2.B.3.a        2.25          15      1299           1   \n",
       "437     2.B.3.a        4.00          17      1011           1   \n",
       "612     2.B.3.a        3.00          19      1013           1   \n",
       "927     2.B.3.a        2.00          21      1011           1   \n",
       "1067    2.B.3.a        1.25          23      1012           1   \n",
       "1102    2.B.3.a        3.75          27      1027           1   \n",
       "1242    2.B.3.a        3.12          29      1031           1   \n",
       "2152    2.B.3.a        1.62          31      9011           9   \n",
       "2292    2.B.3.a        2.50          35      1011           1   \n",
       "2397    2.B.3.a        2.12          37      1012           1   \n",
       "2432    2.B.3.a        2.00          39      4011           4   \n",
       "2502    2.B.3.a        1.38          41      9012           9   \n",
       "2537    2.B.3.a        1.88          43      4111           4   \n",
       "2712    2.B.3.a        1.38          47      2043           2   \n",
       "2747    2.B.3.a        2.50          49      1011           1   \n",
       "3027    2.B.3.a        1.88          51      3092           3   \n",
       "3219    2.B.3.a        2.12          53      2011           2   \n",
       "\n",
       "     broad_occupation detailed_occupation Element_ID_group  \\\n",
       "17                 01                   1            2.B.3   \n",
       "227                04                   1            2.B.3   \n",
       "332                29                   9            2.B.3   \n",
       "437                01                   1            2.B.3   \n",
       "612                01                   3            2.B.3   \n",
       "927                01                   1            2.B.3   \n",
       "1067               01                   2            2.B.3   \n",
       "1102               02                   7            2.B.3   \n",
       "1242               03                   1            2.B.3   \n",
       "2152               01                   1            2.B.3   \n",
       "2292               01                   1            2.B.3   \n",
       "2397               01                   2            2.B.3   \n",
       "2432               01                   1            2.B.3   \n",
       "2502               01                   2            2.B.3   \n",
       "2537               11                   1            2.B.3   \n",
       "2712               04                   3            2.B.3   \n",
       "2747               01                   1            2.B.3   \n",
       "3027               09                   2            2.B.3   \n",
       "3219               01                   1            2.B.3   \n",
       "\n",
       "                                        occupations_nor  Total  Male  Female  \\\n",
       "17                               management occupations   2036  1107     929   \n",
       "227       business and financial operations occupations   1232   327     905   \n",
       "332               computer and mathematical occupations   1649  1136     513   \n",
       "437            architecture and engineering occupations    649   512     137   \n",
       "612        life physical and social science occupations    578   433     145   \n",
       "927            community and social service occupations    616   148     468   \n",
       "1067                                  legal occupations    351   180     171   \n",
       "1102  arts design entertainment sports and media occ...    299   172     127   \n",
       "1242  healthcare practitioners and technical occupat...   1899   449    1450   \n",
       "2152                     healthcare support occupations    627   154     473   \n",
       "2292   food preparation and serving related occupations    865   471     394   \n",
       "2397  building and grounds cleaning and maintenance ...   1142   817     325   \n",
       "2432              personal care and service occupations    300    39     261   \n",
       "2502                      sales and related occupations   2188  1184    1004   \n",
       "2537      office and administrative support occupations   3468  1175    2293   \n",
       "2712            construction and extraction occupations   1466  1466       0   \n",
       "2747    installation maintenance and repair occupations   1054  1054       0   \n",
       "3027                             production occupations   1490  1183     307   \n",
       "3219                         transportation occupations   1295  1295       0   \n",
       "\n",
       "     2010 SOC Code  \n",
       "17         11-0000  \n",
       "227        13-0000  \n",
       "332        15-0000  \n",
       "437        17-0000  \n",
       "612        19-0000  \n",
       "927        21-0000  \n",
       "1067       23-0000  \n",
       "1102       27-0000  \n",
       "1242       29-0000  \n",
       "2152       31-0000  \n",
       "2292       35-0000  \n",
       "2397       37-0000  \n",
       "2432       39-0000  \n",
       "2502       41-0000  \n",
       "2537       43-0000  \n",
       "2712       47-0000  \n",
       "2747       49-0000  \n",
       "3027       51-0000  \n",
       "3219       53-0000  "
      ]
     },
     "execution_count": 45,
     "metadata": {},
     "output_type": "execute_result"
    }
   ],
   "source": [
    "#filter by technical skills\n",
    "new_df = skills_df.merge(occupation_19_code, how='inner', on=\"Major_group\")\n",
    "new_df = new_df[new_df['Element_ID_group'] == '2.B.3']\n",
    "new_df = new_df.drop_duplicates(['Major_group', 'Element_ID_group'])\n",
    "new_df"
   ]
  },
  {
   "cell_type": "code",
   "execution_count": 46,
   "metadata": {},
   "outputs": [
    {
     "data": {
      "text/plain": [
       "{'11': 210,\n",
       " '13': 105,\n",
       " '15': 105,\n",
       " '17': 175,\n",
       " '19': 315,\n",
       " '21': 140,\n",
       " '23': 35,\n",
       " '25': 35,\n",
       " '27': 140,\n",
       " '29': 910,\n",
       " '31': 140,\n",
       " '35': 105,\n",
       " '37': 35,\n",
       " '39': 70,\n",
       " '41': 35,\n",
       " '43': 175,\n",
       " '47': 35,\n",
       " '49': 280,\n",
       " '51': 175,\n",
       " '53': 280}"
      ]
     },
     "execution_count": 46,
     "metadata": {},
     "output_type": "execute_result"
    }
   ],
   "source": [
    "group_skills = skills_df[['Element_ID_group', 'Major_group']].groupby(['Major_group'])\n",
    "group_skills.count()\n",
    "\n",
    "#get total groups from SOC Major group\n",
    "group_dict = dict()\n",
    "for key in group_skills.groups.keys():\n",
    "    group_dict[key] = group_skills.get_group(key).count()[0]\n",
    "\n",
    "group_dict"
   ]
  },
  {
   "cell_type": "code",
   "execution_count": 48,
   "metadata": {},
   "outputs": [
    {
     "data": {
      "text/html": [
       "<div>\n",
       "<style scoped>\n",
       "    .dataframe tbody tr th:only-of-type {\n",
       "        vertical-align: middle;\n",
       "    }\n",
       "\n",
       "    .dataframe tbody tr th {\n",
       "        vertical-align: top;\n",
       "    }\n",
       "\n",
       "    .dataframe thead th {\n",
       "        text-align: right;\n",
       "    }\n",
       "</style>\n",
       "<table border=\"1\" class=\"dataframe\">\n",
       "  <thead>\n",
       "    <tr style=\"text-align: right;\">\n",
       "      <th></th>\n",
       "      <th></th>\n",
       "      <th>SOC_group</th>\n",
       "    </tr>\n",
       "    <tr>\n",
       "      <th>Major_group</th>\n",
       "      <th>Element_ID_group</th>\n",
       "      <th></th>\n",
       "    </tr>\n",
       "  </thead>\n",
       "  <tbody>\n",
       "    <tr>\n",
       "      <th rowspan=\"5\" valign=\"top\">11</th>\n",
       "      <th>2.A.1</th>\n",
       "      <td>36</td>\n",
       "    </tr>\n",
       "    <tr>\n",
       "      <th>2.A.2</th>\n",
       "      <td>24</td>\n",
       "    </tr>\n",
       "    <tr>\n",
       "      <th>2.B.1</th>\n",
       "      <td>36</td>\n",
       "    </tr>\n",
       "    <tr>\n",
       "      <th>2.B.2</th>\n",
       "      <td>6</td>\n",
       "    </tr>\n",
       "    <tr>\n",
       "      <th>2.B.3</th>\n",
       "      <td>66</td>\n",
       "    </tr>\n",
       "    <tr>\n",
       "      <th>...</th>\n",
       "      <th>...</th>\n",
       "      <td>...</td>\n",
       "    </tr>\n",
       "    <tr>\n",
       "      <th rowspan=\"5\" valign=\"top\">53</th>\n",
       "      <th>2.B.1</th>\n",
       "      <td>48</td>\n",
       "    </tr>\n",
       "    <tr>\n",
       "      <th>2.B.2</th>\n",
       "      <td>8</td>\n",
       "    </tr>\n",
       "    <tr>\n",
       "      <th>2.B.3</th>\n",
       "      <td>88</td>\n",
       "    </tr>\n",
       "    <tr>\n",
       "      <th>2.B.4</th>\n",
       "      <td>24</td>\n",
       "    </tr>\n",
       "    <tr>\n",
       "      <th>2.B.5</th>\n",
       "      <td>32</td>\n",
       "    </tr>\n",
       "  </tbody>\n",
       "</table>\n",
       "<p>140 rows × 1 columns</p>\n",
       "</div>"
      ],
      "text/plain": [
       "                              SOC_group\n",
       "Major_group Element_ID_group           \n",
       "11          2.A.1                    36\n",
       "            2.A.2                    24\n",
       "            2.B.1                    36\n",
       "            2.B.2                     6\n",
       "            2.B.3                    66\n",
       "...                                 ...\n",
       "53          2.B.1                    48\n",
       "            2.B.2                     8\n",
       "            2.B.3                    88\n",
       "            2.B.4                    24\n",
       "            2.B.5                    32\n",
       "\n",
       "[140 rows x 1 columns]"
      ]
     },
     "execution_count": 48,
     "metadata": {},
     "output_type": "execute_result"
    }
   ],
   "source": [
    "group_count = skills_df[['Major_group', 'Element_ID_group','SOC_group' ]].groupby(['Major_group', 'Element_ID_group'])\n",
    "group_count.count()"
   ]
  },
  {
   "cell_type": "code",
   "execution_count": 49,
   "metadata": {},
   "outputs": [],
   "source": [
    "#create a dict to count the number of time each skills appear by each group of occupations\n",
    "tuple_list = []\n",
    "for key in group_skills.groups.keys():\n",
    "    for activity in set(skills_df['Element_ID_group']):\n",
    "       tuple_list.append((key, activity))\n",
    "\n",
    "element_dict = dict()\n",
    "for key in tuple_list:\n",
    "    total = group_dict[key[0]]\n",
    "    #print(group_count.get_group(key).count()[0])\n",
    "    element_dict[key] = group_count.get_group(key).count()[0]"
   ]
  },
  {
   "cell_type": "code",
   "execution_count": 51,
   "metadata": {},
   "outputs": [],
   "source": [
    "dict_merge = dict()\n",
    "dict_to_df = []\n",
    "for el, val in element_dict.items():\n",
    "    dict_merge = {'group': el[0], \n",
    "                'skill_id':el[1], \n",
    "                'count' : val ,\n",
    "                'total' : group_dict[el[0]]}\n",
    "    dict_to_df.append(dict_merge)\n",
    "    "
   ]
  },
  {
   "cell_type": "code",
   "execution_count": 66,
   "metadata": {},
   "outputs": [
    {
     "data": {
      "text/html": [
       "<div>\n",
       "<style scoped>\n",
       "    .dataframe tbody tr th:only-of-type {\n",
       "        vertical-align: middle;\n",
       "    }\n",
       "\n",
       "    .dataframe tbody tr th {\n",
       "        vertical-align: top;\n",
       "    }\n",
       "\n",
       "    .dataframe thead th {\n",
       "        text-align: right;\n",
       "    }\n",
       "</style>\n",
       "<table border=\"1\" class=\"dataframe\">\n",
       "  <thead>\n",
       "    <tr style=\"text-align: right;\">\n",
       "      <th></th>\n",
       "      <th>O*NET-SOC Code</th>\n",
       "      <th>Title</th>\n",
       "      <th>Element ID</th>\n",
       "      <th>Data Value</th>\n",
       "      <th>Major_group</th>\n",
       "      <th>SOC_group</th>\n",
       "      <th>Minor_group</th>\n",
       "      <th>broad_occupation</th>\n",
       "      <th>detailed_occupation</th>\n",
       "      <th>Element_ID_group</th>\n",
       "    </tr>\n",
       "  </thead>\n",
       "  <tbody>\n",
       "    <tr>\n",
       "      <th>70</th>\n",
       "      <td>11-1011.03</td>\n",
       "      <td>Chief Sustainability Officers</td>\n",
       "      <td>2.A.1.a</td>\n",
       "      <td>4.00</td>\n",
       "      <td>11</td>\n",
       "      <td>1011</td>\n",
       "      <td>1</td>\n",
       "      <td>01</td>\n",
       "      <td>1</td>\n",
       "      <td>2.A.1</td>\n",
       "    </tr>\n",
       "    <tr>\n",
       "      <th>82</th>\n",
       "      <td>11-1011.03</td>\n",
       "      <td>Chief Sustainability Officers</td>\n",
       "      <td>2.A.2.a</td>\n",
       "      <td>4.12</td>\n",
       "      <td>11</td>\n",
       "      <td>1011</td>\n",
       "      <td>1</td>\n",
       "      <td>01</td>\n",
       "      <td>1</td>\n",
       "      <td>2.A.2</td>\n",
       "    </tr>\n",
       "    <tr>\n",
       "      <th>90</th>\n",
       "      <td>11-1011.03</td>\n",
       "      <td>Chief Sustainability Officers</td>\n",
       "      <td>2.B.1.a</td>\n",
       "      <td>3.88</td>\n",
       "      <td>11</td>\n",
       "      <td>1011</td>\n",
       "      <td>1</td>\n",
       "      <td>01</td>\n",
       "      <td>1</td>\n",
       "      <td>2.B.1</td>\n",
       "    </tr>\n",
       "    <tr>\n",
       "      <th>102</th>\n",
       "      <td>11-1011.03</td>\n",
       "      <td>Chief Sustainability Officers</td>\n",
       "      <td>2.B.2.i</td>\n",
       "      <td>4.00</td>\n",
       "      <td>11</td>\n",
       "      <td>1011</td>\n",
       "      <td>1</td>\n",
       "      <td>01</td>\n",
       "      <td>1</td>\n",
       "      <td>2.B.2</td>\n",
       "    </tr>\n",
       "    <tr>\n",
       "      <th>104</th>\n",
       "      <td>11-1011.03</td>\n",
       "      <td>Chief Sustainability Officers</td>\n",
       "      <td>2.B.3.a</td>\n",
       "      <td>2.88</td>\n",
       "      <td>11</td>\n",
       "      <td>1011</td>\n",
       "      <td>1</td>\n",
       "      <td>01</td>\n",
       "      <td>1</td>\n",
       "      <td>2.B.3</td>\n",
       "    </tr>\n",
       "    <tr>\n",
       "      <th>...</th>\n",
       "      <td>...</td>\n",
       "      <td>...</td>\n",
       "      <td>...</td>\n",
       "      <td>...</td>\n",
       "      <td>...</td>\n",
       "      <td>...</td>\n",
       "      <td>...</td>\n",
       "      <td>...</td>\n",
       "      <td>...</td>\n",
       "      <td>...</td>\n",
       "    </tr>\n",
       "    <tr>\n",
       "      <th>60850</th>\n",
       "      <td>53-7072.00</td>\n",
       "      <td>Pump Operators, Except Wellhead Pumpers</td>\n",
       "      <td>2.B.1.a</td>\n",
       "      <td>2.75</td>\n",
       "      <td>53</td>\n",
       "      <td>7072</td>\n",
       "      <td>7</td>\n",
       "      <td>07</td>\n",
       "      <td>2</td>\n",
       "      <td>2.B.1</td>\n",
       "    </tr>\n",
       "    <tr>\n",
       "      <th>60862</th>\n",
       "      <td>53-7072.00</td>\n",
       "      <td>Pump Operators, Except Wellhead Pumpers</td>\n",
       "      <td>2.B.2.i</td>\n",
       "      <td>2.88</td>\n",
       "      <td>53</td>\n",
       "      <td>7072</td>\n",
       "      <td>7</td>\n",
       "      <td>07</td>\n",
       "      <td>2</td>\n",
       "      <td>2.B.2</td>\n",
       "    </tr>\n",
       "    <tr>\n",
       "      <th>60864</th>\n",
       "      <td>53-7072.00</td>\n",
       "      <td>Pump Operators, Except Wellhead Pumpers</td>\n",
       "      <td>2.B.3.a</td>\n",
       "      <td>1.88</td>\n",
       "      <td>53</td>\n",
       "      <td>7072</td>\n",
       "      <td>7</td>\n",
       "      <td>07</td>\n",
       "      <td>2</td>\n",
       "      <td>2.B.3</td>\n",
       "    </tr>\n",
       "    <tr>\n",
       "      <th>60886</th>\n",
       "      <td>53-7072.00</td>\n",
       "      <td>Pump Operators, Except Wellhead Pumpers</td>\n",
       "      <td>2.B.4.e</td>\n",
       "      <td>3.00</td>\n",
       "      <td>53</td>\n",
       "      <td>7072</td>\n",
       "      <td>7</td>\n",
       "      <td>07</td>\n",
       "      <td>2</td>\n",
       "      <td>2.B.4</td>\n",
       "    </tr>\n",
       "    <tr>\n",
       "      <th>60892</th>\n",
       "      <td>53-7072.00</td>\n",
       "      <td>Pump Operators, Except Wellhead Pumpers</td>\n",
       "      <td>2.B.5.a</td>\n",
       "      <td>3.00</td>\n",
       "      <td>53</td>\n",
       "      <td>7072</td>\n",
       "      <td>7</td>\n",
       "      <td>07</td>\n",
       "      <td>2</td>\n",
       "      <td>2.B.5</td>\n",
       "    </tr>\n",
       "  </tbody>\n",
       "</table>\n",
       "<p>700 rows × 10 columns</p>\n",
       "</div>"
      ],
      "text/plain": [
       "      O*NET-SOC Code                                    Title Element ID  \\\n",
       "70        11-1011.03            Chief Sustainability Officers    2.A.1.a   \n",
       "82        11-1011.03            Chief Sustainability Officers    2.A.2.a   \n",
       "90        11-1011.03            Chief Sustainability Officers    2.B.1.a   \n",
       "102       11-1011.03            Chief Sustainability Officers    2.B.2.i   \n",
       "104       11-1011.03            Chief Sustainability Officers    2.B.3.a   \n",
       "...              ...                                      ...        ...   \n",
       "60850     53-7072.00  Pump Operators, Except Wellhead Pumpers    2.B.1.a   \n",
       "60862     53-7072.00  Pump Operators, Except Wellhead Pumpers    2.B.2.i   \n",
       "60864     53-7072.00  Pump Operators, Except Wellhead Pumpers    2.B.3.a   \n",
       "60886     53-7072.00  Pump Operators, Except Wellhead Pumpers    2.B.4.e   \n",
       "60892     53-7072.00  Pump Operators, Except Wellhead Pumpers    2.B.5.a   \n",
       "\n",
       "       Data Value Major_group SOC_group Minor_group broad_occupation  \\\n",
       "70           4.00          11      1011           1               01   \n",
       "82           4.12          11      1011           1               01   \n",
       "90           3.88          11      1011           1               01   \n",
       "102          4.00          11      1011           1               01   \n",
       "104          2.88          11      1011           1               01   \n",
       "...           ...         ...       ...         ...              ...   \n",
       "60850        2.75          53      7072           7               07   \n",
       "60862        2.88          53      7072           7               07   \n",
       "60864        1.88          53      7072           7               07   \n",
       "60886        3.00          53      7072           7               07   \n",
       "60892        3.00          53      7072           7               07   \n",
       "\n",
       "      detailed_occupation Element_ID_group  \n",
       "70                      1            2.A.1  \n",
       "82                      1            2.A.2  \n",
       "90                      1            2.B.1  \n",
       "102                     1            2.B.2  \n",
       "104                     1            2.B.3  \n",
       "...                   ...              ...  \n",
       "60850                   2            2.B.1  \n",
       "60862                   2            2.B.2  \n",
       "60864                   2            2.B.3  \n",
       "60886                   2            2.B.4  \n",
       "60892                   2            2.B.5  \n",
       "\n",
       "[700 rows x 10 columns]"
      ]
     },
     "execution_count": 66,
     "metadata": {},
     "output_type": "execute_result"
    }
   ],
   "source": [
    "#remove duplicates based on broad group and broad skill group\n",
    "skills_df = skills_df.drop_duplicates(['Element_ID_group', 'O*NET-SOC Code'])\n",
    "skills_df[skills_df['Title'] == 'Chief Executives']\n",
    "skills_df"
   ]
  },
  {
   "cell_type": "code",
   "execution_count": 67,
   "metadata": {},
   "outputs": [
    {
     "data": {
      "text/html": [
       "<div>\n",
       "<style scoped>\n",
       "    .dataframe tbody tr th:only-of-type {\n",
       "        vertical-align: middle;\n",
       "    }\n",
       "\n",
       "    .dataframe tbody tr th {\n",
       "        vertical-align: top;\n",
       "    }\n",
       "\n",
       "    .dataframe thead th {\n",
       "        text-align: right;\n",
       "    }\n",
       "</style>\n",
       "<table border=\"1\" class=\"dataframe\">\n",
       "  <thead>\n",
       "    <tr style=\"text-align: right;\">\n",
       "      <th></th>\n",
       "      <th>group</th>\n",
       "      <th>skill_id</th>\n",
       "      <th>count</th>\n",
       "      <th>total</th>\n",
       "      <th>technical_skill_ratio</th>\n",
       "    </tr>\n",
       "  </thead>\n",
       "  <tbody>\n",
       "    <tr>\n",
       "      <th>5</th>\n",
       "      <td>11</td>\n",
       "      <td>2.B.3</td>\n",
       "      <td>66</td>\n",
       "      <td>210</td>\n",
       "      <td>0.314286</td>\n",
       "    </tr>\n",
       "    <tr>\n",
       "      <th>12</th>\n",
       "      <td>13</td>\n",
       "      <td>2.B.3</td>\n",
       "      <td>33</td>\n",
       "      <td>105</td>\n",
       "      <td>0.314286</td>\n",
       "    </tr>\n",
       "    <tr>\n",
       "      <th>19</th>\n",
       "      <td>15</td>\n",
       "      <td>2.B.3</td>\n",
       "      <td>33</td>\n",
       "      <td>105</td>\n",
       "      <td>0.314286</td>\n",
       "    </tr>\n",
       "    <tr>\n",
       "      <th>26</th>\n",
       "      <td>17</td>\n",
       "      <td>2.B.3</td>\n",
       "      <td>55</td>\n",
       "      <td>175</td>\n",
       "      <td>0.314286</td>\n",
       "    </tr>\n",
       "    <tr>\n",
       "      <th>33</th>\n",
       "      <td>19</td>\n",
       "      <td>2.B.3</td>\n",
       "      <td>99</td>\n",
       "      <td>315</td>\n",
       "      <td>0.314286</td>\n",
       "    </tr>\n",
       "    <tr>\n",
       "      <th>40</th>\n",
       "      <td>21</td>\n",
       "      <td>2.B.3</td>\n",
       "      <td>44</td>\n",
       "      <td>140</td>\n",
       "      <td>0.314286</td>\n",
       "    </tr>\n",
       "    <tr>\n",
       "      <th>47</th>\n",
       "      <td>23</td>\n",
       "      <td>2.B.3</td>\n",
       "      <td>11</td>\n",
       "      <td>35</td>\n",
       "      <td>0.314286</td>\n",
       "    </tr>\n",
       "    <tr>\n",
       "      <th>54</th>\n",
       "      <td>25</td>\n",
       "      <td>2.B.3</td>\n",
       "      <td>11</td>\n",
       "      <td>35</td>\n",
       "      <td>0.314286</td>\n",
       "    </tr>\n",
       "    <tr>\n",
       "      <th>61</th>\n",
       "      <td>27</td>\n",
       "      <td>2.B.3</td>\n",
       "      <td>44</td>\n",
       "      <td>140</td>\n",
       "      <td>0.314286</td>\n",
       "    </tr>\n",
       "    <tr>\n",
       "      <th>68</th>\n",
       "      <td>29</td>\n",
       "      <td>2.B.3</td>\n",
       "      <td>286</td>\n",
       "      <td>910</td>\n",
       "      <td>0.314286</td>\n",
       "    </tr>\n",
       "    <tr>\n",
       "      <th>75</th>\n",
       "      <td>31</td>\n",
       "      <td>2.B.3</td>\n",
       "      <td>44</td>\n",
       "      <td>140</td>\n",
       "      <td>0.314286</td>\n",
       "    </tr>\n",
       "    <tr>\n",
       "      <th>82</th>\n",
       "      <td>35</td>\n",
       "      <td>2.B.3</td>\n",
       "      <td>33</td>\n",
       "      <td>105</td>\n",
       "      <td>0.314286</td>\n",
       "    </tr>\n",
       "    <tr>\n",
       "      <th>89</th>\n",
       "      <td>37</td>\n",
       "      <td>2.B.3</td>\n",
       "      <td>11</td>\n",
       "      <td>35</td>\n",
       "      <td>0.314286</td>\n",
       "    </tr>\n",
       "    <tr>\n",
       "      <th>96</th>\n",
       "      <td>39</td>\n",
       "      <td>2.B.3</td>\n",
       "      <td>22</td>\n",
       "      <td>70</td>\n",
       "      <td>0.314286</td>\n",
       "    </tr>\n",
       "    <tr>\n",
       "      <th>103</th>\n",
       "      <td>41</td>\n",
       "      <td>2.B.3</td>\n",
       "      <td>11</td>\n",
       "      <td>35</td>\n",
       "      <td>0.314286</td>\n",
       "    </tr>\n",
       "    <tr>\n",
       "      <th>110</th>\n",
       "      <td>43</td>\n",
       "      <td>2.B.3</td>\n",
       "      <td>55</td>\n",
       "      <td>175</td>\n",
       "      <td>0.314286</td>\n",
       "    </tr>\n",
       "    <tr>\n",
       "      <th>117</th>\n",
       "      <td>47</td>\n",
       "      <td>2.B.3</td>\n",
       "      <td>11</td>\n",
       "      <td>35</td>\n",
       "      <td>0.314286</td>\n",
       "    </tr>\n",
       "    <tr>\n",
       "      <th>124</th>\n",
       "      <td>49</td>\n",
       "      <td>2.B.3</td>\n",
       "      <td>88</td>\n",
       "      <td>280</td>\n",
       "      <td>0.314286</td>\n",
       "    </tr>\n",
       "    <tr>\n",
       "      <th>131</th>\n",
       "      <td>51</td>\n",
       "      <td>2.B.3</td>\n",
       "      <td>55</td>\n",
       "      <td>175</td>\n",
       "      <td>0.314286</td>\n",
       "    </tr>\n",
       "    <tr>\n",
       "      <th>138</th>\n",
       "      <td>53</td>\n",
       "      <td>2.B.3</td>\n",
       "      <td>88</td>\n",
       "      <td>280</td>\n",
       "      <td>0.314286</td>\n",
       "    </tr>\n",
       "  </tbody>\n",
       "</table>\n",
       "</div>"
      ],
      "text/plain": [
       "    group skill_id  count  total  technical_skill_ratio\n",
       "5      11    2.B.3     66    210               0.314286\n",
       "12     13    2.B.3     33    105               0.314286\n",
       "19     15    2.B.3     33    105               0.314286\n",
       "26     17    2.B.3     55    175               0.314286\n",
       "33     19    2.B.3     99    315               0.314286\n",
       "40     21    2.B.3     44    140               0.314286\n",
       "47     23    2.B.3     11     35               0.314286\n",
       "54     25    2.B.3     11     35               0.314286\n",
       "61     27    2.B.3     44    140               0.314286\n",
       "68     29    2.B.3    286    910               0.314286\n",
       "75     31    2.B.3     44    140               0.314286\n",
       "82     35    2.B.3     33    105               0.314286\n",
       "89     37    2.B.3     11     35               0.314286\n",
       "96     39    2.B.3     22     70               0.314286\n",
       "103    41    2.B.3     11     35               0.314286\n",
       "110    43    2.B.3     55    175               0.314286\n",
       "117    47    2.B.3     11     35               0.314286\n",
       "124    49    2.B.3     88    280               0.314286\n",
       "131    51    2.B.3     55    175               0.314286\n",
       "138    53    2.B.3     88    280               0.314286"
      ]
     },
     "execution_count": 67,
     "metadata": {},
     "output_type": "execute_result"
    }
   ],
   "source": [
    "#create a technical skills ratio by the count of number of skills that appears in each group of occupations\n",
    "conversion_df = pd.DataFrame(dict_to_df)\n",
    "\n",
    "\n",
    "tech_occupation = conversion_df[conversion_df['skill_id'] =='2.B.3' ]\n",
    "tech_occupation['technical_skill_ratio'] = tech_occupation['count']/tech_occupation['total']\n",
    "tech_occupation.head(20)"
   ]
  },
  {
   "cell_type": "code",
   "execution_count": 56,
   "metadata": {},
   "outputs": [],
   "source": [
    "#merge census data for occupation by sex with skills group\n",
    "occupation_19_skills = occupation_19_code.merge(skills_df, how='inner', on=\"Major_group\")\n",
    "occupation_19_skills[occupation_19_skills['occupations_nor'] == 'management occupations']\n",
    "occupation_19_skills = occupation_19_skills.drop_duplicates(['Major_group', 'Element_ID_group'])\n",
    "occupation_19_skills.to_csv('/home/aliciescont/Documents/Github/WiD_residency/WiD_Residency_2021_October/DataSources/CensusData/educational_attainment/skill_occupation.csv')"
   ]
  },
  {
   "cell_type": "code",
   "execution_count": 57,
   "metadata": {},
   "outputs": [
    {
     "data": {
      "text/html": [
       "<div>\n",
       "<style scoped>\n",
       "    .dataframe tbody tr th:only-of-type {\n",
       "        vertical-align: middle;\n",
       "    }\n",
       "\n",
       "    .dataframe tbody tr th {\n",
       "        vertical-align: top;\n",
       "    }\n",
       "\n",
       "    .dataframe thead th {\n",
       "        text-align: right;\n",
       "    }\n",
       "</style>\n",
       "<table border=\"1\" class=\"dataframe\">\n",
       "  <thead>\n",
       "    <tr style=\"text-align: right;\">\n",
       "      <th></th>\n",
       "      <th>occupations_nor</th>\n",
       "      <th>Total</th>\n",
       "      <th>Male</th>\n",
       "      <th>Female</th>\n",
       "      <th>Element_ID_group</th>\n",
       "      <th>Data Value</th>\n",
       "    </tr>\n",
       "  </thead>\n",
       "  <tbody>\n",
       "    <tr>\n",
       "      <th>0</th>\n",
       "      <td>management occupations</td>\n",
       "      <td>2036</td>\n",
       "      <td>1107</td>\n",
       "      <td>929</td>\n",
       "      <td>2.A.1</td>\n",
       "      <td>4.00</td>\n",
       "    </tr>\n",
       "    <tr>\n",
       "      <th>1</th>\n",
       "      <td>management occupations</td>\n",
       "      <td>2036</td>\n",
       "      <td>1107</td>\n",
       "      <td>929</td>\n",
       "      <td>2.A.2</td>\n",
       "      <td>4.12</td>\n",
       "    </tr>\n",
       "    <tr>\n",
       "      <th>2</th>\n",
       "      <td>management occupations</td>\n",
       "      <td>2036</td>\n",
       "      <td>1107</td>\n",
       "      <td>929</td>\n",
       "      <td>2.B.1</td>\n",
       "      <td>3.88</td>\n",
       "    </tr>\n",
       "    <tr>\n",
       "      <th>3</th>\n",
       "      <td>management occupations</td>\n",
       "      <td>2036</td>\n",
       "      <td>1107</td>\n",
       "      <td>929</td>\n",
       "      <td>2.B.2</td>\n",
       "      <td>4.00</td>\n",
       "    </tr>\n",
       "    <tr>\n",
       "      <th>4</th>\n",
       "      <td>management occupations</td>\n",
       "      <td>2036</td>\n",
       "      <td>1107</td>\n",
       "      <td>929</td>\n",
       "      <td>2.B.3</td>\n",
       "      <td>2.88</td>\n",
       "    </tr>\n",
       "    <tr>\n",
       "      <th>...</th>\n",
       "      <td>...</td>\n",
       "      <td>...</td>\n",
       "      <td>...</td>\n",
       "      <td>...</td>\n",
       "      <td>...</td>\n",
       "      <td>...</td>\n",
       "    </tr>\n",
       "    <tr>\n",
       "      <th>639</th>\n",
       "      <td>transportation occupations</td>\n",
       "      <td>1295</td>\n",
       "      <td>1295</td>\n",
       "      <td>0</td>\n",
       "      <td>2.B.1</td>\n",
       "      <td>3.25</td>\n",
       "    </tr>\n",
       "    <tr>\n",
       "      <th>640</th>\n",
       "      <td>transportation occupations</td>\n",
       "      <td>1295</td>\n",
       "      <td>1295</td>\n",
       "      <td>0</td>\n",
       "      <td>2.B.2</td>\n",
       "      <td>3.62</td>\n",
       "    </tr>\n",
       "    <tr>\n",
       "      <th>641</th>\n",
       "      <td>transportation occupations</td>\n",
       "      <td>1295</td>\n",
       "      <td>1295</td>\n",
       "      <td>0</td>\n",
       "      <td>2.B.3</td>\n",
       "      <td>2.12</td>\n",
       "    </tr>\n",
       "    <tr>\n",
       "      <th>642</th>\n",
       "      <td>transportation occupations</td>\n",
       "      <td>1295</td>\n",
       "      <td>1295</td>\n",
       "      <td>0</td>\n",
       "      <td>2.B.4</td>\n",
       "      <td>4.00</td>\n",
       "    </tr>\n",
       "    <tr>\n",
       "      <th>643</th>\n",
       "      <td>transportation occupations</td>\n",
       "      <td>1295</td>\n",
       "      <td>1295</td>\n",
       "      <td>0</td>\n",
       "      <td>2.B.5</td>\n",
       "      <td>3.88</td>\n",
       "    </tr>\n",
       "  </tbody>\n",
       "</table>\n",
       "<p>133 rows × 6 columns</p>\n",
       "</div>"
      ],
      "text/plain": [
       "                occupations_nor  Total  Male  Female Element_ID_group  \\\n",
       "0        management occupations   2036  1107     929            2.A.1   \n",
       "1        management occupations   2036  1107     929            2.A.2   \n",
       "2        management occupations   2036  1107     929            2.B.1   \n",
       "3        management occupations   2036  1107     929            2.B.2   \n",
       "4        management occupations   2036  1107     929            2.B.3   \n",
       "..                          ...    ...   ...     ...              ...   \n",
       "639  transportation occupations   1295  1295       0            2.B.1   \n",
       "640  transportation occupations   1295  1295       0            2.B.2   \n",
       "641  transportation occupations   1295  1295       0            2.B.3   \n",
       "642  transportation occupations   1295  1295       0            2.B.4   \n",
       "643  transportation occupations   1295  1295       0            2.B.5   \n",
       "\n",
       "     Data Value  \n",
       "0          4.00  \n",
       "1          4.12  \n",
       "2          3.88  \n",
       "3          4.00  \n",
       "4          2.88  \n",
       "..          ...  \n",
       "639        3.25  \n",
       "640        3.62  \n",
       "641        2.12  \n",
       "642        4.00  \n",
       "643        3.88  \n",
       "\n",
       "[133 rows x 6 columns]"
      ]
     },
     "execution_count": 57,
     "metadata": {},
     "output_type": "execute_result"
    }
   ],
   "source": [
    "occupation_19_skills[['occupations_nor', 'Total', 'Male', 'Female', 'Element_ID_group', 'Data Value']]"
   ]
  },
  {
   "cell_type": "code",
   "execution_count": 58,
   "metadata": {},
   "outputs": [],
   "source": [
    "plot_df = occupation_19_skills[['occupations_nor', 'Total', 'Data Value']][occupation_19_skills['Element_ID_group'] == '2.B.3']\n",
    "plot_df = plot_df.rename(columns={'occupations_nor': 'occupations', 'Data Value': 'Technical skills importance'})"
   ]
  },
  {
   "cell_type": "code",
   "execution_count": 59,
   "metadata": {},
   "outputs": [
    {
     "data": {
      "text/plain": [
       "4                                         management \n",
       "46                 business and financial operations \n",
       "67                         computer and mathematical \n",
       "88                      architecture and engineering \n",
       "123                 life physical and social science \n",
       "186                     community and social service \n",
       "214                                            legal \n",
       "221       arts design entertainment sports and media \n",
       "249           healthcare practitioners and technical \n",
       "431                               healthcare support \n",
       "459             food preparation and serving related \n",
       "480    building and grounds cleaning and maintenance \n",
       "487                        personal care and service \n",
       "501                                sales and related \n",
       "508                office and administrative support \n",
       "543                      construction and extraction \n",
       "550              installation maintenance and repair \n",
       "606                                       production \n",
       "641                                   transportation \n",
       "Name: occupations, dtype: object"
      ]
     },
     "execution_count": 59,
     "metadata": {},
     "output_type": "execute_result"
    }
   ],
   "source": [
    "plot_df['occupations'] = plot_df['occupations'].map(lambda x : x.replace('occupations', ''))\n",
    "plot_df['occupations']\n"
   ]
  },
  {
   "cell_type": "code",
   "execution_count": 60,
   "metadata": {},
   "outputs": [],
   "source": [
    "plot_df.to_csv('skills_df.csv', index=False)"
   ]
  },
  {
   "cell_type": "code",
   "execution_count": 61,
   "metadata": {},
   "outputs": [],
   "source": [
    "plot_df = plot_df.sort_values(by=['Technical skills importance'], ascending=False)"
   ]
  },
  {
   "cell_type": "code",
   "execution_count": 63,
   "metadata": {},
   "outputs": [
    {
     "data": {
      "image/png": "[encoded data removed]",
      "text/plain": [
       "<Figure size 432x288 with 1 Axes>"
      ]
     },
     "metadata": {
      "needs_background": "light"
     },
     "output_type": "display_data"
    }
   ],
   "source": [
    "\n",
    "sns.barplot(data = plot_df[:10], x='Technical skills importance', y=\"occupations\", palette='rocket')\n",
    "plt.title('Technicall skills by occupation')\n",
    "plt.savefig('skills.jpg',  bbox_inches = 'tight')"
   ]
  },
  {
   "cell_type": "code",
   "execution_count": 64,
   "metadata": {},
   "outputs": [
    {
     "data": {
      "application/vnd.plotly.v1+json": {
       "config": {
        "plotlyServerURL": "https://plot.ly"
       },
       "data": [
        {
         "alignmentgroup": "True",
         "hovertemplate": "Technical skills importance=%{x}<br>occupations=%{y}<extra></extra>",
         "legendgroup": "",
         "marker": {
          "color": "#636efa",
          "pattern": {
           "shape": ""
          }
         },
         "name": "",
         "offsetgroup": "",
         "orientation": "h",
         "showlegend": false,
         "textposition": "auto",
         "type": "bar",
         "x": [
          4,
          3.75,
          3.12,
          3,
          2.88,
          2.5,
          2.5,
          2.5,
          2.25,
          2.12,
          2.12,
          2,
          2,
          1.88,
          1.88,
          1.62,
          1.38,
          1.38,
          1.25
         ],
         "xaxis": "x",
         "y": [
          "architecture and engineering ",
          "arts design entertainment sports and media ",
          "healthcare practitioners and technical ",
          "life physical and social science ",
          "management ",
          "food preparation and serving related ",
          "installation maintenance and repair ",
          "business and financial operations ",
          "computer and mathematical ",
          "building and grounds cleaning and maintenance ",
          "transportation ",
          "personal care and service ",
          "community and social service ",
          "office and administrative support ",
          "production ",
          "healthcare support ",
          "sales and related ",
          "construction and extraction ",
          "legal "
         ],
         "yaxis": "y"
        }
       ],
       "layout": {
        "barmode": "relative",
        "legend": {
         "tracegroupgap": 0
        },
        "margin": {
         "t": 60
        },
        "template": {
         "data": {
          "bar": [
           {
            "error_x": {
             "color": "#2a3f5f"
            },
            "error_y": {
             "color": "#2a3f5f"
            },
            "marker": {
             "line": {
              "color": "#E5ECF6",
              "width": 0.5
             },
             "pattern": {
              "fillmode": "overlay",
              "size": 10,
              "solidity": 0.2
             }
            },
            "type": "bar"
           }
          ],
          "barpolar": [
           {
            "marker": {
             "line": {
              "color": "#E5ECF6",
              "width": 0.5
             },
             "pattern": {
              "fillmode": "overlay",
              "size": 10,
              "solidity": 0.2
             }
            },
            "type": "barpolar"
           }
          ],
          "carpet": [
           {
            "aaxis": {
             "endlinecolor": "#2a3f5f",
             "gridcolor": "white",
             "linecolor": "white",
             "minorgridcolor": "white",
             "startlinecolor": "#2a3f5f"
            },
            "baxis": {
             "endlinecolor": "#2a3f5f",
             "gridcolor": "white",
             "linecolor": "white",
             "minorgridcolor": "white",
             "startlinecolor": "#2a3f5f"
            },
            "type": "carpet"
           }
          ],
          "choropleth": [
           {
            "colorbar": {
             "outlinewidth": 0,
             "ticks": ""
            },
            "type": "choropleth"
           }
          ],
          "contour": [
           {
            "colorbar": {
             "outlinewidth": 0,
             "ticks": ""
            },
            "colorscale": [
             [
              0,
              "#0d0887"
             ],
             [
              0.1111111111111111,
              "#46039f"
             ],
             [
              0.2222222222222222,
              "#7201a8"
             ],
             [
              0.3333333333333333,
              "#9c179e"
             ],
             [
              0.4444444444444444,
              "#bd3786"
             ],
             [
              0.5555555555555556,
              "#d8576b"
             ],
             [
              0.6666666666666666,
              "#ed7953"
             ],
             [
              0.7777777777777778,
              "#fb9f3a"
             ],
             [
              0.8888888888888888,
              "#fdca26"
             ],
             [
              1,
              "#f0f921"
             ]
            ],
            "type": "contour"
           }
          ],
          "contourcarpet": [
           {
            "colorbar": {
             "outlinewidth": 0,
             "ticks": ""
            },
            "type": "contourcarpet"
           }
          ],
          "heatmap": [
           {
            "colorbar": {
             "outlinewidth": 0,
             "ticks": ""
            },
            "colorscale": [
             [
              0,
              "#0d0887"
             ],
             [
              0.1111111111111111,
              "#46039f"
             ],
             [
              0.2222222222222222,
              "#7201a8"
             ],
             [
              0.3333333333333333,
              "#9c179e"
             ],
             [
              0.4444444444444444,
              "#bd3786"
             ],
             [
              0.5555555555555556,
              "#d8576b"
             ],
             [
              0.6666666666666666,
              "#ed7953"
             ],
             [
              0.7777777777777778,
              "#fb9f3a"
             ],
             [
              0.8888888888888888,
              "#fdca26"
             ],
             [
              1,
              "#f0f921"
             ]
            ],
            "type": "heatmap"
           }
          ],
          "heatmapgl": [
           {
            "colorbar": {
             "outlinewidth": 0,
             "ticks": ""
            },
            "colorscale": [
             [
              0,
              "#0d0887"
             ],
             [
              0.1111111111111111,
              "#46039f"
             ],
             [
              0.2222222222222222,
              "#7201a8"
             ],
             [
              0.3333333333333333,
              "#9c179e"
             ],
             [
              0.4444444444444444,
              "#bd3786"
             ],
             [
              0.5555555555555556,
              "#d8576b"
             ],
             [
              0.6666666666666666,
              "#ed7953"
             ],
             [
              0.7777777777777778,
              "#fb9f3a"
             ],
             [
              0.8888888888888888,
              "#fdca26"
             ],
             [
              1,
              "#f0f921"
             ]
            ],
            "type": "heatmapgl"
           }
          ],
          "histogram": [
           {
            "marker": {
             "pattern": {
              "fillmode": "overlay",
              "size": 10,
              "solidity": 0.2
             }
            },
            "type": "histogram"
           }
          ],
          "histogram2d": [
           {
            "colorbar": {
             "outlinewidth": 0,
             "ticks": ""
            },
            "colorscale": [
             [
              0,
              "#0d0887"
             ],
             [
              0.1111111111111111,
              "#46039f"
             ],
             [
              0.2222222222222222,
              "#7201a8"
             ],
             [
              0.3333333333333333,
              "#9c179e"
             ],
             [
              0.4444444444444444,
              "#bd3786"
             ],
             [
              0.5555555555555556,
              "#d8576b"
             ],
             [
              0.6666666666666666,
              "#ed7953"
             ],
             [
              0.7777777777777778,
              "#fb9f3a"
             ],
             [
              0.8888888888888888,
              "#fdca26"
             ],
             [
              1,
              "#f0f921"
             ]
            ],
            "type": "histogram2d"
           }
          ],
          "histogram2dcontour": [
           {
            "colorbar": {
             "outlinewidth": 0,
             "ticks": ""
            },
            "colorscale": [
             [
              0,
              "#0d0887"
             ],
             [
              0.1111111111111111,
              "#46039f"
             ],
             [
              0.2222222222222222,
              "#7201a8"
             ],
             [
              0.3333333333333333,
              "#9c179e"
             ],
             [
              0.4444444444444444,
              "#bd3786"
             ],
             [
              0.5555555555555556,
              "#d8576b"
             ],
             [
              0.6666666666666666,
              "#ed7953"
             ],
             [
              0.7777777777777778,
              "#fb9f3a"
             ],
             [
              0.8888888888888888,
              "#fdca26"
             ],
             [
              1,
              "#f0f921"
             ]
            ],
            "type": "histogram2dcontour"
           }
          ],
          "mesh3d": [
           {
            "colorbar": {
             "outlinewidth": 0,
             "ticks": ""
            },
            "type": "mesh3d"
           }
          ],
          "parcoords": [
           {
            "line": {
             "colorbar": {
              "outlinewidth": 0,
              "ticks": ""
             }
            },
            "type": "parcoords"
           }
          ],
          "pie": [
           {
            "automargin": true,
            "type": "pie"
           }
          ],
          "scatter": [
           {
            "marker": {
             "colorbar": {
              "outlinewidth": 0,
              "ticks": ""
             }
            },
            "type": "scatter"
           }
          ],
          "scatter3d": [
           {
            "line": {
             "colorbar": {
              "outlinewidth": 0,
              "ticks": ""
             }
            },
            "marker": {
             "colorbar": {
              "outlinewidth": 0,
              "ticks": ""
             }
            },
            "type": "scatter3d"
           }
          ],
          "scattercarpet": [
           {
            "marker": {
             "colorbar": {
              "outlinewidth": 0,
              "ticks": ""
             }
            },
            "type": "scattercarpet"
           }
          ],
          "scattergeo": [
           {
            "marker": {
             "colorbar": {
              "outlinewidth": 0,
              "ticks": ""
             }
            },
            "type": "scattergeo"
           }
          ],
          "scattergl": [
           {
            "marker": {
             "colorbar": {
              "outlinewidth": 0,
              "ticks": ""
             }
            },
            "type": "scattergl"
           }
          ],
          "scattermapbox": [
           {
            "marker": {
             "colorbar": {
              "outlinewidth": 0,
              "ticks": ""
             }
            },
            "type": "scattermapbox"
           }
          ],
          "scatterpolar": [
           {
            "marker": {
             "colorbar": {
              "outlinewidth": 0,
              "ticks": ""
             }
            },
            "type": "scatterpolar"
           }
          ],
          "scatterpolargl": [
           {
            "marker": {
             "colorbar": {
              "outlinewidth": 0,
              "ticks": ""
             }
            },
            "type": "scatterpolargl"
           }
          ],
          "scatterternary": [
           {
            "marker": {
             "colorbar": {
              "outlinewidth": 0,
              "ticks": ""
             }
            },
            "type": "scatterternary"
           }
          ],
          "surface": [
           {
            "colorbar": {
             "outlinewidth": 0,
             "ticks": ""
            },
            "colorscale": [
             [
              0,
              "#0d0887"
             ],
             [
              0.1111111111111111,
              "#46039f"
             ],
             [
              0.2222222222222222,
              "#7201a8"
             ],
             [
              0.3333333333333333,
              "#9c179e"
             ],
             [
              0.4444444444444444,
              "#bd3786"
             ],
             [
              0.5555555555555556,
              "#d8576b"
             ],
             [
              0.6666666666666666,
              "#ed7953"
             ],
             [
              0.7777777777777778,
              "#fb9f3a"
             ],
             [
              0.8888888888888888,
              "#fdca26"
             ],
             [
              1,
              "#f0f921"
             ]
            ],
            "type": "surface"
           }
          ],
          "table": [
           {
            "cells": {
             "fill": {
              "color": "#EBF0F8"
             },
             "line": {
              "color": "white"
             }
            },
            "header": {
             "fill": {
              "color": "#C8D4E3"
             },
             "line": {
              "color": "white"
             }
            },
            "type": "table"
           }
          ]
         },
         "layout": {
          "annotationdefaults": {
           "arrowcolor": "#2a3f5f",
           "arrowhead": 0,
           "arrowwidth": 1
          },
          "autotypenumbers": "strict",
          "coloraxis": {
           "colorbar": {
            "outlinewidth": 0,
            "ticks": ""
           }
          },
          "colorscale": {
           "diverging": [
            [
             0,
             "#8e0152"
            ],
            [
             0.1,
             "#c51b7d"
            ],
            [
             0.2,
             "#de77ae"
            ],
            [
             0.3,
             "#f1b6da"
            ],
            [
             0.4,
             "#fde0ef"
            ],
            [
             0.5,
             "#f7f7f7"
            ],
            [
             0.6,
             "#e6f5d0"
            ],
            [
             0.7,
             "#b8e186"
            ],
            [
             0.8,
             "#7fbc41"
            ],
            [
             0.9,
             "#4d9221"
            ],
            [
             1,
             "#276419"
            ]
           ],
           "sequential": [
            [
             0,
             "#0d0887"
            ],
            [
             0.1111111111111111,
             "#46039f"
            ],
            [
             0.2222222222222222,
             "#7201a8"
            ],
            [
             0.3333333333333333,
             "#9c179e"
            ],
            [
             0.4444444444444444,
             "#bd3786"
            ],
            [
             0.5555555555555556,
             "#d8576b"
            ],
            [
             0.6666666666666666,
             "#ed7953"
            ],
            [
             0.7777777777777778,
             "#fb9f3a"
            ],
            [
             0.8888888888888888,
             "#fdca26"
            ],
            [
             1,
             "#f0f921"
            ]
           ],
           "sequentialminus": [
            [
             0,
             "#0d0887"
            ],
            [
             0.1111111111111111,
             "#46039f"
            ],
            [
             0.2222222222222222,
             "#7201a8"
            ],
            [
             0.3333333333333333,
             "#9c179e"
            ],
            [
             0.4444444444444444,
             "#bd3786"
            ],
            [
             0.5555555555555556,
             "#d8576b"
            ],
            [
             0.6666666666666666,
             "#ed7953"
            ],
            [
             0.7777777777777778,
             "#fb9f3a"
            ],
            [
             0.8888888888888888,
             "#fdca26"
            ],
            [
             1,
             "#f0f921"
            ]
           ]
          },
          "colorway": [
           "#636efa",
           "#EF553B",
           "#00cc96",
           "#ab63fa",
           "#FFA15A",
           "#19d3f3",
           "#FF6692",
           "#B6E880",
           "#FF97FF",
           "#FECB52"
          ],
          "font": {
           "color": "#2a3f5f"
          },
          "geo": {
           "bgcolor": "white",
           "lakecolor": "white",
           "landcolor": "#E5ECF6",
           "showlakes": true,
           "showland": true,
           "subunitcolor": "white"
          },
          "hoverlabel": {
           "align": "left"
          },
          "hovermode": "closest",
          "mapbox": {
           "style": "light"
          },
          "paper_bgcolor": "white",
          "plot_bgcolor": "#E5ECF6",
          "polar": {
           "angularaxis": {
            "gridcolor": "white",
            "linecolor": "white",
            "ticks": ""
           },
           "bgcolor": "#E5ECF6",
           "radialaxis": {
            "gridcolor": "white",
            "linecolor": "white",
            "ticks": ""
           }
          },
          "scene": {
           "xaxis": {
            "backgroundcolor": "#E5ECF6",
            "gridcolor": "white",
            "gridwidth": 2,
            "linecolor": "white",
            "showbackground": true,
            "ticks": "",
            "zerolinecolor": "white"
           },
           "yaxis": {
            "backgroundcolor": "#E5ECF6",
            "gridcolor": "white",
            "gridwidth": 2,
            "linecolor": "white",
            "showbackground": true,
            "ticks": "",
            "zerolinecolor": "white"
           },
           "zaxis": {
            "backgroundcolor": "#E5ECF6",
            "gridcolor": "white",
            "gridwidth": 2,
            "linecolor": "white",
            "showbackground": true,
            "ticks": "",
            "zerolinecolor": "white"
           }
          },
          "shapedefaults": {
           "line": {
            "color": "#2a3f5f"
           }
          },
          "ternary": {
           "aaxis": {
            "gridcolor": "white",
            "linecolor": "white",
            "ticks": ""
           },
           "baxis": {
            "gridcolor": "white",
            "linecolor": "white",
            "ticks": ""
           },
           "bgcolor": "#E5ECF6",
           "caxis": {
            "gridcolor": "white",
            "linecolor": "white",
            "ticks": ""
           }
          },
          "title": {
           "x": 0.05
          },
          "xaxis": {
           "automargin": true,
           "gridcolor": "white",
           "linecolor": "white",
           "ticks": "",
           "title": {
            "standoff": 15
           },
           "zerolinecolor": "white",
           "zerolinewidth": 2
          },
          "yaxis": {
           "automargin": true,
           "gridcolor": "white",
           "linecolor": "white",
           "ticks": "",
           "title": {
            "standoff": 15
           },
           "zerolinecolor": "white",
           "zerolinewidth": 2
          }
         }
        },
        "title": {
         "text": "Technical skills importance (O*NET) for occupations",
         "x": 0.5
        },
        "xaxis": {
         "anchor": "y",
         "domain": [
          0,
          1
         ],
         "title": {
          "text": "Technical skills importance"
         }
        },
        "yaxis": {
         "anchor": "x",
         "domain": [
          0,
          1
         ],
         "title": {
          "text": "occupations"
         }
        }
       }
      }
     },
     "metadata": {},
     "output_type": "display_data"
    }
   ],
   "source": [
    "\n",
    "\n",
    "fig = px.bar(plot_df, x='Technical skills importance', y=\"occupations\")\n",
    "fig.update_layout(title='Technical skills importance (O*NET) for occupations', title_x=0.5)\n",
    "fig.show()\n",
    "\n"
   ]
  },
  {
   "cell_type": "code",
   "execution_count": 77,
   "metadata": {},
   "outputs": [],
   "source": [
    "#dicts to extract info about data from group of occupations \"computer, engineering and science occupations\" from census data\n",
    "occupation_dict ={'total_estimate' : 'S2401_C01_006E', 'male_estimate':'S2401_C02_006E', 'female_estimate' : 'S2401_C04_006E' }\n",
    "\n",
    "occupation_dict_11 ={'total_estimate' : 'S2401_C01_006E', 'male_estimate':'S2401_C02_006E', 'female_estimate' : 'S2401_C03_006E' }"
   ]
  },
  {
   "cell_type": "code",
   "execution_count": 72,
   "metadata": {},
   "outputs": [],
   "source": [
    "#create dataframe of occupations census data\n",
    "years = ['2011', '2012', '2013', '2014', '2015', '2016', '2017', '2018', '2019']\n",
    "occupation_census = []\n",
    "occu_path = f'/home/aliciescont/Documents/Github/WiD_residency/WiD_Residency_2021_October/DataSources/CensusData/occupation_2011_2019/'\n",
    "\n",
    "\n",
    "for year in years:\n",
    "    if year in ['2011', '2012', '2013', '2014']:\n",
    "        data = get_data(occupation_dict_11, load_census(year, occu_path), year) \n",
    "        data['female_estimate'] = int(float(data['female_estimate'])/100*int(data['total_estimate']))\n",
    "        data['male_estimate'] = int(float(data['male_estimate'])/100*int(data['total_estimate']))\n",
    "    \n",
    "        occupation_census.append(data)\n",
    "    else:\n",
    "        occupation_census.append(get_data(occupation_dict, load_census(year, occu_path), year))\n",
    "\n",
    "df_census_occupation = pd.DataFrame(occupation_census)"
   ]
  },
  {
   "cell_type": "code",
   "execution_count": 74,
   "metadata": {},
   "outputs": [
    {
     "data": {
      "text/plain": [
       "year                object\n",
       "total_estimate      object\n",
       "male_estimate      float64\n",
       "female_estimate    float64\n",
       "dtype: object"
      ]
     },
     "execution_count": 74,
     "metadata": {},
     "output_type": "execute_result"
    }
   ],
   "source": [
    "#change type to float\n",
    "df_census_occupation['female_estimate'] = df_census_occupation['female_estimate'].astype('float')\n",
    "df_census_occupation['male_estimate'] = df_census_occupation['male_estimate'].astype('float')\n",
    "df_census_occupation.dtypes"
   ]
  },
  {
   "cell_type": "code",
   "execution_count": 75,
   "metadata": {},
   "outputs": [],
   "source": [
    "#extract data\n",
    "df_census_occupation.to_csv('computer.csv', index=False)"
   ]
  },
  {
   "cell_type": "code",
   "execution_count": 78,
   "metadata": {},
   "outputs": [
    {
     "data": {
      "text/html": [
       "<div>\n",
       "<style scoped>\n",
       "    .dataframe tbody tr th:only-of-type {\n",
       "        vertical-align: middle;\n",
       "    }\n",
       "\n",
       "    .dataframe tbody tr th {\n",
       "        vertical-align: top;\n",
       "    }\n",
       "\n",
       "    .dataframe thead th {\n",
       "        text-align: right;\n",
       "    }\n",
       "</style>\n",
       "<table border=\"1\" class=\"dataframe\">\n",
       "  <thead>\n",
       "    <tr style=\"text-align: right;\">\n",
       "      <th></th>\n",
       "      <th>year</th>\n",
       "      <th>total_estimate</th>\n",
       "      <th>male_estimate</th>\n",
       "      <th>female_estimate</th>\n",
       "    </tr>\n",
       "  </thead>\n",
       "  <tbody>\n",
       "    <tr>\n",
       "      <th>0</th>\n",
       "      <td>2011</td>\n",
       "      <td>2233</td>\n",
       "      <td>1306.0</td>\n",
       "      <td>926.0</td>\n",
       "    </tr>\n",
       "    <tr>\n",
       "      <th>1</th>\n",
       "      <td>2012</td>\n",
       "      <td>2553</td>\n",
       "      <td>1838.0</td>\n",
       "      <td>714.0</td>\n",
       "    </tr>\n",
       "    <tr>\n",
       "      <th>2</th>\n",
       "      <td>2013</td>\n",
       "      <td>2114</td>\n",
       "      <td>1528.0</td>\n",
       "      <td>585.0</td>\n",
       "    </tr>\n",
       "    <tr>\n",
       "      <th>3</th>\n",
       "      <td>2014</td>\n",
       "      <td>2515</td>\n",
       "      <td>1939.0</td>\n",
       "      <td>575.0</td>\n",
       "    </tr>\n",
       "    <tr>\n",
       "      <th>4</th>\n",
       "      <td>2015</td>\n",
       "      <td>2452</td>\n",
       "      <td>1891.0</td>\n",
       "      <td>561.0</td>\n",
       "    </tr>\n",
       "  </tbody>\n",
       "</table>\n",
       "</div>"
      ],
      "text/plain": [
       "   year total_estimate  male_estimate  female_estimate\n",
       "0  2011           2233         1306.0            926.0\n",
       "1  2012           2553         1838.0            714.0\n",
       "2  2013           2114         1528.0            585.0\n",
       "3  2014           2515         1939.0            575.0\n",
       "4  2015           2452         1891.0            561.0"
      ]
     },
     "execution_count": 78,
     "metadata": {},
     "output_type": "execute_result"
    }
   ],
   "source": [
    "df_census_occupation.head()"
   ]
  },
  {
   "cell_type": "code",
   "execution_count": 79,
   "metadata": {},
   "outputs": [
    {
     "data": {
      "text/plain": [
       "Ttest_indResult(statistic=7.1136088151251196, pvalue=2.4569220467767934e-06)"
      ]
     },
     "execution_count": 79,
     "metadata": {},
     "output_type": "execute_result"
    }
   ],
   "source": [
    "#test to check if there is a significant relationship between men and women occupied in \"computer, engineering and science occupations\" in Rancho Cordova\n",
    "stats.ttest_ind(df_census_occupation['male_estimate'], df_census_occupation['female_estimate'])\n"
   ]
  },
  {
   "cell_type": "markdown",
   "metadata": {},
   "source": [
    "Since p value <0.05, we whould reject the null hypothesis"
   ]
  },
  {
   "cell_type": "code",
   "execution_count": 80,
   "metadata": {},
   "outputs": [
    {
     "data": {
      "image/png": "[encoded data removed]",
      "text/plain": [
       "<Figure size 576x216 with 1 Axes>"
      ]
     },
     "metadata": {
      "needs_background": "light"
     },
     "output_type": "display_data"
    }
   ],
   "source": [
    "#plot people occupied in \"computer, engineering and science occupations\" 2011-2019\n",
    "plt.figure(figsize=(8,3))\n",
    "\n",
    "X_axis = np.arange(len(df_census_occupation['year']))\n",
    "plt.bar(X_axis - 0.2, df_census_occupation['female_estimate'], 0.4, label = 'Female',  color = '#702E52')\n",
    "plt.bar(X_axis + 0.2, df_census_occupation['male_estimate'], 0.4, label = 'Male',  color = '#B56566')\n",
    "  \n",
    "plt.xticks(X_axis, df_census_occupation['year'])\n",
    "plt.xlabel(\"Years\")\n",
    "plt.ylabel(\"Estimate number of people\")\n",
    "plt.title(\"Computer,engineering, and science occupations in Rancho Cordova\")\n",
    "plt.legend( loc='upper right', bbox_to_anchor = (1.2, 0.2))\n",
    "plt.savefig('bachelor.jpg', bbox_inches = 'tight')\n",
    "plt.show()"
   ]
  }
 ],
 "metadata": {
  "interpreter": {
   "hash": "beba0ced55d62f88f7c994df2310d916064519267c81ad3931a54e248bcbb987"
  },
  "kernelspec": {
   "display_name": "Python 3.8.12 64-bit ('wid': conda)",
   "language": "python",
   "name": "python3"
  },
  "language_info": {
   "codemirror_mode": {
    "name": "ipython",
    "version": 3
   },
   "file_extension": ".py",
   "mimetype": "text/x-python",
   "name": "python",
   "nbconvert_exporter": "python",
   "pygments_lexer": "ipython3",
   "version": "3.8.12"
  },
  "orig_nbformat": 4
 },
 "nbformat": 4,
 "nbformat_minor": 2
}
