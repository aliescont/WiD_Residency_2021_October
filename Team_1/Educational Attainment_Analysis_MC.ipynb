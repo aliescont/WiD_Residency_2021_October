{
 "cells": [
  {
   "cell_type": "markdown",
   "id": "62591513",
   "metadata": {},
   "source": [
    "# Analysis"
   ]
  },
  {
   "cell_type": "markdown",
   "id": "fdb58395",
   "metadata": {},
   "source": [
    "Monica Canavan\n",
    "\n",
    "In this notebook we will be performing statistical tests on data pertaining to educational attainment, demographics, and technology (Work in Progress)"
   ]
  },
  {
   "cell_type": "code",
   "execution_count": 131,
   "id": "c3efddf1",
   "metadata": {},
   "outputs": [],
   "source": [
    "import numpy as np\n",
    "import pandas as pd\n",
    "import seaborn as sns\n",
    "import matplotlib.pyplot as plt\n",
    "import scipy.stats as stats\n",
    "from itertools import combinations\n",
    "\n",
    "   \n",
    "#from scipy.stats import chi2_contingency\n",
    "#from statsmodels.sandbox.stats.multicomp import multipletests\n",
    "#from itertools import combinations"
   ]
  },
  {
   "cell_type": "markdown",
   "id": "966b4180",
   "metadata": {},
   "source": [
    "### Read the Data Files"
   ]
  },
  {
   "cell_type": "code",
   "execution_count": 145,
   "id": "e4dee0b2",
   "metadata": {},
   "outputs": [],
   "source": [
    "# read in dataset for the EDD employment projections\n",
    "# using excel format instead of csv.  edd_proj = pd.read_csv('edd_sacr_occproj_2018_2028.csv', sep='\\t', encoding = 'utf-16')\n",
    "edd_proj = pd.read_excel('EDD_SAC_OCCPROJ_2018_2028.xlsx', sheet_name='Occupational')\n",
    "\n",
    "#read in dataset for the Census PUMA Educational Attainment with Race, Ethnicity and Gender RC\n",
    "education = pd.read_excel('ACSST5Y2019_Educational_Attainment.xlsx', sheet_name='Education')\n",
    "edd_gender  = pd.read_excel('ACSST5Y2019_Educational_Attainment.xlsx', sheet_name='Gender Data Summary')\n",
    "edd_race = pd.read_excel('ACSST5Y2019_Educational_Attainment.xlsx', sheet_name='Race Data Summary')\n",
    "edd_ethnicity = pd.read_excel('ACSST5Y2019_Educational_Attainment.xlsx', sheet_name='Ethnicity Data Summary')\n",
    "\n",
    "#read in dataset for the Census Technology Information RC\n",
    "technology = pd.read_excel('ACSST1Y2019_Technology_RC.xlsx', sheet_name='Technology')"
   ]
  },
  {
   "cell_type": "markdown",
   "id": "2afb8a79",
   "metadata": {},
   "source": [
    "### Begin data analysis of EDD Occupation Projections"
   ]
  },
  {
   "cell_type": "code",
   "execution_count": 133,
   "id": "facf5fe9",
   "metadata": {},
   "outputs": [
    {
     "name": "stdout",
     "output_type": "stream",
     "text": [
      "<class 'pandas.core.frame.DataFrame'>\n",
      "RangeIndex: 635 entries, 0 to 634\n",
      "Data columns (total 15 columns):\n",
      " #   Column                                   Non-Null Count  Dtype  \n",
      "---  ------                                   --------------  -----  \n",
      " 0   SOC Level                                635 non-null    int64  \n",
      " 1   SOC Code                                 635 non-null    object \n",
      " 2   Occupational Title                       635 non-null    object \n",
      " 3   Base Year Employment Estimate 2018       635 non-null    int64  \n",
      " 4   Projected Year Employment Estimate 2028  635 non-null    int64  \n",
      " 5   Numeric Change 2018-2028                 635 non-null    int64  \n",
      " 6   Percent-age Change 2018-2028             635 non-null    float64\n",
      " 7   Exits                                    635 non-null    int64  \n",
      " 8   Transfers                                635 non-null    int64  \n",
      " 9   Total Job Openings                       635 non-null    int64  \n",
      " 10  Median Hourly Wages                      635 non-null    float64\n",
      " 11  Median Annual Wages                      635 non-null    int64  \n",
      " 12  Entry Level Education                    520 non-null    object \n",
      " 13  Work Experience                          520 non-null    object \n",
      " 14  On-the-Job Training                      520 non-null    object \n",
      "dtypes: float64(2), int64(8), object(5)\n",
      "memory usage: 74.5+ KB\n"
     ]
    }
   ],
   "source": [
    "#Check the datatypes\n",
    "edd_proj.info()"
   ]
  },
  {
   "cell_type": "code",
   "execution_count": 127,
   "id": "5b225a6e",
   "metadata": {},
   "outputs": [
    {
     "data": {
      "text/plain": [
       "(520, 15)"
      ]
     },
     "execution_count": 127,
     "metadata": {},
     "output_type": "execute_result"
    }
   ],
   "source": [
    "#Create a DF for SOC Level 4\n",
    "edd_proj = edd_proj[edd_proj['SOC Level'] == 4].copy()\n",
    "edd_proj.shape"
   ]
  },
  {
   "cell_type": "markdown",
   "id": "56004d62",
   "metadata": {},
   "source": [
    "#### Spearman Rank Test, Numeric Change 2018-2028 and Entry Level Education"
   ]
  },
  {
   "cell_type": "code",
   "execution_count": 162,
   "id": "9d5b7161",
   "metadata": {},
   "outputs": [
    {
     "data": {
      "text/html": [
       "<div>\n",
       "<style scoped>\n",
       "    .dataframe tbody tr th:only-of-type {\n",
       "        vertical-align: middle;\n",
       "    }\n",
       "\n",
       "    .dataframe tbody tr th {\n",
       "        vertical-align: top;\n",
       "    }\n",
       "\n",
       "    .dataframe thead th {\n",
       "        text-align: right;\n",
       "    }\n",
       "</style>\n",
       "<table border=\"1\" class=\"dataframe\">\n",
       "  <thead>\n",
       "    <tr style=\"text-align: right;\">\n",
       "      <th></th>\n",
       "      <th>Numeric Change 2018-2028</th>\n",
       "      <th>Entry Level Education</th>\n",
       "    </tr>\n",
       "  </thead>\n",
       "  <tbody>\n",
       "    <tr>\n",
       "      <th>0</th>\n",
       "      <td>90300</td>\n",
       "      <td>NaN</td>\n",
       "    </tr>\n",
       "    <tr>\n",
       "      <th>1</th>\n",
       "      <td>5310</td>\n",
       "      <td>NaN</td>\n",
       "    </tr>\n",
       "    <tr>\n",
       "      <th>2</th>\n",
       "      <td>860</td>\n",
       "      <td>NaN</td>\n",
       "    </tr>\n",
       "    <tr>\n",
       "      <th>3</th>\n",
       "      <td>-350</td>\n",
       "      <td>Bachelor's degree</td>\n",
       "    </tr>\n",
       "    <tr>\n",
       "      <th>4</th>\n",
       "      <td>1220</td>\n",
       "      <td>Bachelor's degree</td>\n",
       "    </tr>\n",
       "    <tr>\n",
       "      <th>...</th>\n",
       "      <td>...</td>\n",
       "      <td>...</td>\n",
       "    </tr>\n",
       "    <tr>\n",
       "      <th>630</th>\n",
       "      <td>4560</td>\n",
       "      <td>No formal educational credential</td>\n",
       "    </tr>\n",
       "    <tr>\n",
       "      <th>631</th>\n",
       "      <td>-80</td>\n",
       "      <td>No formal educational credential</td>\n",
       "    </tr>\n",
       "    <tr>\n",
       "      <th>632</th>\n",
       "      <td>230</td>\n",
       "      <td>No formal educational credential</td>\n",
       "    </tr>\n",
       "    <tr>\n",
       "      <th>633</th>\n",
       "      <td>80</td>\n",
       "      <td>No formal educational credential</td>\n",
       "    </tr>\n",
       "    <tr>\n",
       "      <th>634</th>\n",
       "      <td>120</td>\n",
       "      <td>No formal educational credential</td>\n",
       "    </tr>\n",
       "  </tbody>\n",
       "</table>\n",
       "<p>635 rows × 2 columns</p>\n",
       "</div>"
      ],
      "text/plain": [
       "     Numeric Change 2018-2028             Entry Level Education\n",
       "0                       90300                               NaN\n",
       "1                        5310                               NaN\n",
       "2                         860                               NaN\n",
       "3                        -350                 Bachelor's degree\n",
       "4                        1220                 Bachelor's degree\n",
       "..                        ...                               ...\n",
       "630                      4560  No formal educational credential\n",
       "631                       -80  No formal educational credential\n",
       "632                       230  No formal educational credential\n",
       "633                        80  No formal educational credential\n",
       "634                       120  No formal educational credential\n",
       "\n",
       "[635 rows x 2 columns]"
      ]
     },
     "execution_count": 162,
     "metadata": {},
     "output_type": "execute_result"
    }
   ],
   "source": [
    "#Creating a DF for the test\n",
    "cols = [5,12]\n",
    "edd_proj = edd_proj[edd_proj.columns[cols]]\n",
    "edd_proj"
   ]
  },
  {
   "cell_type": "code",
   "execution_count": 129,
   "id": "3fcad86c",
   "metadata": {},
   "outputs": [
    {
     "data": {
      "text/html": [
       "<div>\n",
       "<style scoped>\n",
       "    .dataframe tbody tr th:only-of-type {\n",
       "        vertical-align: middle;\n",
       "    }\n",
       "\n",
       "    .dataframe tbody tr th {\n",
       "        vertical-align: top;\n",
       "    }\n",
       "\n",
       "    .dataframe thead th {\n",
       "        text-align: right;\n",
       "    }\n",
       "</style>\n",
       "<table border=\"1\" class=\"dataframe\">\n",
       "  <thead>\n",
       "    <tr style=\"text-align: right;\">\n",
       "      <th>Entry Level Education</th>\n",
       "      <th>Associate's degree</th>\n",
       "      <th>Bachelor's degree</th>\n",
       "      <th>Doctoral or professional degree</th>\n",
       "      <th>High school diploma or equivalent</th>\n",
       "      <th>Master's degree</th>\n",
       "      <th>No formal educational credential</th>\n",
       "      <th>Postsecondary non-degree award</th>\n",
       "      <th>Some college, no degree</th>\n",
       "    </tr>\n",
       "    <tr>\n",
       "      <th>Numeric Change 2018-2028</th>\n",
       "      <th></th>\n",
       "      <th></th>\n",
       "      <th></th>\n",
       "      <th></th>\n",
       "      <th></th>\n",
       "      <th></th>\n",
       "      <th></th>\n",
       "      <th></th>\n",
       "    </tr>\n",
       "  </thead>\n",
       "  <tbody>\n",
       "    <tr>\n",
       "      <th>-1110</th>\n",
       "      <td>0</td>\n",
       "      <td>0</td>\n",
       "      <td>0</td>\n",
       "      <td>1</td>\n",
       "      <td>0</td>\n",
       "      <td>0</td>\n",
       "      <td>0</td>\n",
       "      <td>0</td>\n",
       "    </tr>\n",
       "    <tr>\n",
       "      <th>-880</th>\n",
       "      <td>0</td>\n",
       "      <td>0</td>\n",
       "      <td>0</td>\n",
       "      <td>1</td>\n",
       "      <td>0</td>\n",
       "      <td>0</td>\n",
       "      <td>0</td>\n",
       "      <td>0</td>\n",
       "    </tr>\n",
       "    <tr>\n",
       "      <th>-800</th>\n",
       "      <td>0</td>\n",
       "      <td>0</td>\n",
       "      <td>0</td>\n",
       "      <td>1</td>\n",
       "      <td>0</td>\n",
       "      <td>0</td>\n",
       "      <td>0</td>\n",
       "      <td>0</td>\n",
       "    </tr>\n",
       "    <tr>\n",
       "      <th>-470</th>\n",
       "      <td>0</td>\n",
       "      <td>0</td>\n",
       "      <td>0</td>\n",
       "      <td>0</td>\n",
       "      <td>0</td>\n",
       "      <td>1</td>\n",
       "      <td>0</td>\n",
       "      <td>0</td>\n",
       "    </tr>\n",
       "    <tr>\n",
       "      <th>-460</th>\n",
       "      <td>0</td>\n",
       "      <td>1</td>\n",
       "      <td>0</td>\n",
       "      <td>0</td>\n",
       "      <td>0</td>\n",
       "      <td>0</td>\n",
       "      <td>0</td>\n",
       "      <td>0</td>\n",
       "    </tr>\n",
       "    <tr>\n",
       "      <th>...</th>\n",
       "      <td>...</td>\n",
       "      <td>...</td>\n",
       "      <td>...</td>\n",
       "      <td>...</td>\n",
       "      <td>...</td>\n",
       "      <td>...</td>\n",
       "      <td>...</td>\n",
       "      <td>...</td>\n",
       "    </tr>\n",
       "    <tr>\n",
       "      <th>3470</th>\n",
       "      <td>0</td>\n",
       "      <td>1</td>\n",
       "      <td>0</td>\n",
       "      <td>0</td>\n",
       "      <td>0</td>\n",
       "      <td>0</td>\n",
       "      <td>0</td>\n",
       "      <td>0</td>\n",
       "    </tr>\n",
       "    <tr>\n",
       "      <th>3880</th>\n",
       "      <td>0</td>\n",
       "      <td>1</td>\n",
       "      <td>0</td>\n",
       "      <td>0</td>\n",
       "      <td>0</td>\n",
       "      <td>0</td>\n",
       "      <td>0</td>\n",
       "      <td>0</td>\n",
       "    </tr>\n",
       "    <tr>\n",
       "      <th>4560</th>\n",
       "      <td>0</td>\n",
       "      <td>0</td>\n",
       "      <td>0</td>\n",
       "      <td>0</td>\n",
       "      <td>0</td>\n",
       "      <td>1</td>\n",
       "      <td>0</td>\n",
       "      <td>0</td>\n",
       "    </tr>\n",
       "    <tr>\n",
       "      <th>5290</th>\n",
       "      <td>0</td>\n",
       "      <td>0</td>\n",
       "      <td>0</td>\n",
       "      <td>0</td>\n",
       "      <td>0</td>\n",
       "      <td>1</td>\n",
       "      <td>0</td>\n",
       "      <td>0</td>\n",
       "    </tr>\n",
       "    <tr>\n",
       "      <th>11530</th>\n",
       "      <td>0</td>\n",
       "      <td>0</td>\n",
       "      <td>0</td>\n",
       "      <td>1</td>\n",
       "      <td>0</td>\n",
       "      <td>0</td>\n",
       "      <td>0</td>\n",
       "      <td>0</td>\n",
       "    </tr>\n",
       "  </tbody>\n",
       "</table>\n",
       "<p>108 rows × 8 columns</p>\n",
       "</div>"
      ],
      "text/plain": [
       "Entry Level Education     Associate's degree  Bachelor's degree  \\\n",
       "Numeric Change 2018-2028                                          \n",
       "-1110                                      0                  0   \n",
       "-880                                       0                  0   \n",
       "-800                                       0                  0   \n",
       "-470                                       0                  0   \n",
       "-460                                       0                  1   \n",
       "...                                      ...                ...   \n",
       " 3470                                      0                  1   \n",
       " 3880                                      0                  1   \n",
       " 4560                                      0                  0   \n",
       " 5290                                      0                  0   \n",
       " 11530                                     0                  0   \n",
       "\n",
       "Entry Level Education     Doctoral or professional degree  \\\n",
       "Numeric Change 2018-2028                                    \n",
       "-1110                                                   0   \n",
       "-880                                                    0   \n",
       "-800                                                    0   \n",
       "-470                                                    0   \n",
       "-460                                                    0   \n",
       "...                                                   ...   \n",
       " 3470                                                   0   \n",
       " 3880                                                   0   \n",
       " 4560                                                   0   \n",
       " 5290                                                   0   \n",
       " 11530                                                  0   \n",
       "\n",
       "Entry Level Education     High school diploma or equivalent  Master's degree  \\\n",
       "Numeric Change 2018-2028                                                       \n",
       "-1110                                                     1                0   \n",
       "-880                                                      1                0   \n",
       "-800                                                      1                0   \n",
       "-470                                                      0                0   \n",
       "-460                                                      0                0   \n",
       "...                                                     ...              ...   \n",
       " 3470                                                     0                0   \n",
       " 3880                                                     0                0   \n",
       " 4560                                                     0                0   \n",
       " 5290                                                     0                0   \n",
       " 11530                                                    1                0   \n",
       "\n",
       "Entry Level Education     No formal educational credential  \\\n",
       "Numeric Change 2018-2028                                     \n",
       "-1110                                                    0   \n",
       "-880                                                     0   \n",
       "-800                                                     0   \n",
       "-470                                                     1   \n",
       "-460                                                     0   \n",
       "...                                                    ...   \n",
       " 3470                                                    0   \n",
       " 3880                                                    0   \n",
       " 4560                                                    1   \n",
       " 5290                                                    1   \n",
       " 11530                                                   0   \n",
       "\n",
       "Entry Level Education     Postsecondary non-degree award  \\\n",
       "Numeric Change 2018-2028                                   \n",
       "-1110                                                  0   \n",
       "-880                                                   0   \n",
       "-800                                                   0   \n",
       "-470                                                   0   \n",
       "-460                                                   0   \n",
       "...                                                  ...   \n",
       " 3470                                                  0   \n",
       " 3880                                                  0   \n",
       " 4560                                                  0   \n",
       " 5290                                                  0   \n",
       " 11530                                                 0   \n",
       "\n",
       "Entry Level Education     Some college, no degree  \n",
       "Numeric Change 2018-2028                           \n",
       "-1110                                           0  \n",
       "-880                                            0  \n",
       "-800                                            0  \n",
       "-470                                            0  \n",
       "-460                                            0  \n",
       "...                                           ...  \n",
       " 3470                                           0  \n",
       " 3880                                           0  \n",
       " 4560                                           0  \n",
       " 5290                                           0  \n",
       " 11530                                          0  \n",
       "\n",
       "[108 rows x 8 columns]"
      ]
     },
     "execution_count": 129,
     "metadata": {},
     "output_type": "execute_result"
    }
   ],
   "source": []
  },
  {
   "cell_type": "markdown",
   "id": "0cc766e3",
   "metadata": {},
   "source": [
    "### Analysis of Educational Attainment with Gender, Race and Ethnicity\n"
   ]
  },
  {
   "cell_type": "code",
   "execution_count": 134,
   "id": "1009b013",
   "metadata": {},
   "outputs": [
    {
     "data": {
      "text/html": [
       "<div>\n",
       "<style scoped>\n",
       "    .dataframe tbody tr th:only-of-type {\n",
       "        vertical-align: middle;\n",
       "    }\n",
       "\n",
       "    .dataframe tbody tr th {\n",
       "        vertical-align: top;\n",
       "    }\n",
       "\n",
       "    .dataframe thead th {\n",
       "        text-align: right;\n",
       "    }\n",
       "</style>\n",
       "<table border=\"1\" class=\"dataframe\">\n",
       "  <thead>\n",
       "    <tr style=\"text-align: right;\">\n",
       "      <th></th>\n",
       "      <th>Race</th>\n",
       "      <th>Ethnicity</th>\n",
       "      <th>Educational attainment</th>\n",
       "      <th>Total</th>\n",
       "      <th>Male</th>\n",
       "      <th>Female</th>\n",
       "    </tr>\n",
       "  </thead>\n",
       "  <tbody>\n",
       "    <tr>\n",
       "      <th>0</th>\n",
       "      <td>White</td>\n",
       "      <td>Not Hispanic</td>\n",
       "      <td>Less Than HS</td>\n",
       "      <td>2288</td>\n",
       "      <td>1212</td>\n",
       "      <td>1076</td>\n",
       "    </tr>\n",
       "    <tr>\n",
       "      <th>1</th>\n",
       "      <td>White</td>\n",
       "      <td>Not Hispanic</td>\n",
       "      <td>HS or GED</td>\n",
       "      <td>9339</td>\n",
       "      <td>4588</td>\n",
       "      <td>4751</td>\n",
       "    </tr>\n",
       "    <tr>\n",
       "      <th>2</th>\n",
       "      <td>White</td>\n",
       "      <td>Not Hispanic</td>\n",
       "      <td>Some college and AA</td>\n",
       "      <td>16757</td>\n",
       "      <td>7939</td>\n",
       "      <td>8818</td>\n",
       "    </tr>\n",
       "    <tr>\n",
       "      <th>3</th>\n",
       "      <td>White</td>\n",
       "      <td>Not Hispanic</td>\n",
       "      <td>BA</td>\n",
       "      <td>9102</td>\n",
       "      <td>4691</td>\n",
       "      <td>4411</td>\n",
       "    </tr>\n",
       "    <tr>\n",
       "      <th>4</th>\n",
       "      <td>White</td>\n",
       "      <td>Not Hispanic</td>\n",
       "      <td>Graduate School</td>\n",
       "      <td>4493</td>\n",
       "      <td>2467</td>\n",
       "      <td>2026</td>\n",
       "    </tr>\n",
       "  </tbody>\n",
       "</table>\n",
       "</div>"
      ],
      "text/plain": [
       "    Race     Ethnicity Educational attainment  Total  Male  Female\n",
       "0  White  Not Hispanic           Less Than HS   2288  1212    1076\n",
       "1  White  Not Hispanic              HS or GED   9339  4588    4751\n",
       "2  White  Not Hispanic    Some college and AA  16757  7939    8818\n",
       "3  White  Not Hispanic                     BA   9102  4691    4411\n",
       "4  White  Not Hispanic        Graduate School   4493  2467    2026"
      ]
     },
     "execution_count": 134,
     "metadata": {},
     "output_type": "execute_result"
    }
   ],
   "source": [
    "#Check first several rows\n",
    "education.head()"
   ]
  },
  {
   "cell_type": "code",
   "execution_count": 135,
   "id": "b95eef57",
   "metadata": {},
   "outputs": [
    {
     "name": "stdout",
     "output_type": "stream",
     "text": [
      "<class 'pandas.core.frame.DataFrame'>\n",
      "RangeIndex: 90 entries, 0 to 89\n",
      "Data columns (total 6 columns):\n",
      " #   Column                  Non-Null Count  Dtype \n",
      "---  ------                  --------------  ----- \n",
      " 0   Race                    90 non-null     object\n",
      " 1   Ethnicity               90 non-null     object\n",
      " 2   Educational attainment  90 non-null     object\n",
      " 3   Total                   90 non-null     int64 \n",
      " 4   Male                    90 non-null     int64 \n",
      " 5   Female                  90 non-null     int64 \n",
      "dtypes: int64(3), object(3)\n",
      "memory usage: 4.3+ KB\n"
     ]
    }
   ],
   "source": [
    "#Check the datatypes\n",
    "education.info()"
   ]
  },
  {
   "cell_type": "markdown",
   "id": "e44412d1",
   "metadata": {},
   "source": [
    "#### Chi Square Test, Gender and Educational Attainment\n",
    "\n",
    "Statistical test: Using the chi square contingency test since our data is categorical, and we have more than 2 samples to compare. This test will test for a relationship between two categorical variables.\n",
    "\n",
    "Reference for the Chi2 Test and Post Hoc Tests:\n",
    "https://neuhofmo.github.io/chi-square-and-post-hoc-in-python/"
   ]
  },
  {
   "cell_type": "code",
   "execution_count": 136,
   "id": "c1c0322f",
   "metadata": {},
   "outputs": [
    {
     "data": {
      "text/html": [
       "<div>\n",
       "<style scoped>\n",
       "    .dataframe tbody tr th:only-of-type {\n",
       "        vertical-align: middle;\n",
       "    }\n",
       "\n",
       "    .dataframe tbody tr th {\n",
       "        vertical-align: top;\n",
       "    }\n",
       "\n",
       "    .dataframe thead th {\n",
       "        text-align: right;\n",
       "    }\n",
       "</style>\n",
       "<table border=\"1\" class=\"dataframe\">\n",
       "  <thead>\n",
       "    <tr style=\"text-align: right;\">\n",
       "      <th></th>\n",
       "      <th>Male</th>\n",
       "      <th>Female</th>\n",
       "    </tr>\n",
       "    <tr>\n",
       "      <th>Educational attainment</th>\n",
       "      <th></th>\n",
       "      <th></th>\n",
       "    </tr>\n",
       "  </thead>\n",
       "  <tbody>\n",
       "    <tr>\n",
       "      <th>Less Than HS</th>\n",
       "      <td>3639</td>\n",
       "      <td>3440</td>\n",
       "    </tr>\n",
       "    <tr>\n",
       "      <th>HS or GED</th>\n",
       "      <td>7926</td>\n",
       "      <td>8598</td>\n",
       "    </tr>\n",
       "    <tr>\n",
       "      <th>BA</th>\n",
       "      <td>8365</td>\n",
       "      <td>8791</td>\n",
       "    </tr>\n",
       "    <tr>\n",
       "      <th>Some college and AA</th>\n",
       "      <td>13702</td>\n",
       "      <td>14999</td>\n",
       "    </tr>\n",
       "    <tr>\n",
       "      <th>Graduate School</th>\n",
       "      <td>3833</td>\n",
       "      <td>3589</td>\n",
       "    </tr>\n",
       "  </tbody>\n",
       "</table>\n",
       "</div>"
      ],
      "text/plain": [
       "                         Male  Female\n",
       "Educational attainment               \n",
       "Less Than HS             3639    3440\n",
       "HS or GED                7926    8598\n",
       "BA                       8365    8791\n",
       "Some college and AA     13702   14999\n",
       "Graduate School          3833    3589"
      ]
     },
     "execution_count": 136,
     "metadata": {},
     "output_type": "execute_result"
    }
   ],
   "source": [
    "#Testing to create df for Chi2 Test\n",
    "edd_gender = edd_gender.set_index('Educational attainment')\n",
    "edd_gender"
   ]
  },
  {
   "cell_type": "code",
   "execution_count": 137,
   "id": "832cf62d",
   "metadata": {},
   "outputs": [
    {
     "name": "stdout",
     "output_type": "stream",
     "text": [
      "Chi2 result of the contingency table: 60.61284285764862, p-value: 2.1563628164015564e-12\n",
      "\n",
      "Degrees of Freedom:  4.00\n",
      "\n",
      "P-Value:  0.00\n",
      "\n",
      "Contingency Table: \n",
      " [[ 3449.63365937  3629.36634063]\n",
      " [ 8052.23147161  8471.76852839]\n",
      " [ 8360.20837127  8795.79162873]\n",
      " [13986.14714758 14714.85285242]\n",
      " [ 3616.77935017  3805.22064983]]\n",
      "\n",
      "Result of Statistical Test:\n",
      "Null Hypothesis (H0) rejected (Alternate Hypothesis (HA) accepted)\n"
     ]
    }
   ],
   "source": [
    "#Created df manually for gender observed results\n",
    "\n",
    "chi2, p, dof, table = stats.chi2_contingency(edd_gender, correction=True)\n",
    "\n",
    "print(f\"Chi2 result of the contingency table: {chi2}, p-value: {p}\")\n",
    "\n",
    "print('\\nDegrees of Freedom: ', '%1.2f' % dof)\n",
    "print('\\nP-Value: ', '%1.2f' % p)\n",
    "print('\\nContingency Table: \\n', table)\n",
    "\n",
    "print('\\nResult of Statistical Test:')\n",
    "\n",
    "if p > 0.05:\n",
    "    print('Null Hypothesis (H0) accepted - Proportion of smokers are equal across the four regions.')\n",
    "else:\n",
    "    print('Null Hypothesis (H0) rejected (Alternate Hypothesis (HA) accepted)')"
   ]
  },
  {
   "cell_type": "markdown",
   "id": "99cbdcce",
   "metadata": {},
   "source": [
    "OBSERVATIONS:\n",
    "\n",
    "Our P value was 0 which is < 0.05, Therefore, we reject our null hypothesis.\n"
   ]
  },
  {
   "cell_type": "markdown",
   "id": "3ae3da47",
   "metadata": {},
   "source": [
    "##### Chi Square post-hoc test"
   ]
  },
  {
   "cell_type": "code",
   "execution_count": 138,
   "id": "7250374c",
   "metadata": {},
   "outputs": [
    {
     "name": "stdout",
     "output_type": "stream",
     "text": [
      "Significance results:\n",
      "Chi2 result for pair ('Less Than HS', 'HS or GED'): 23.453709198338906, p-value: 1.279557809168113e-06\n",
      "Chi2 result for pair ('Less Than HS', 'BA'): 14.04715192464218, p-value: 0.0001782836285264895\n",
      "Chi2 result for pair ('Less Than HS', 'Some college and AA'): 30.53950996486656, p-value: 3.271359170843116e-08\n",
      "Chi2 result for pair ('Less Than HS', 'Graduate School'): 0.08230561249178216, p-value: 0.7741968940853147\n",
      "Chi2 result for pair ('HS or GED', 'BA'): 2.1133691470772638, p-value: 0.14601753009219848\n",
      "Chi2 result for pair ('HS or GED', 'Some college and AA'): 0.21483646532172798, p-value: 0.6430027561944077\n",
      "Chi2 result for pair ('HS or GED', 'Graduate School'): 27.709506855239773, p-value: 1.4096823143470299e-07\n",
      "Chi2 result for pair ('BA', 'Some college and AA'): 4.456953819599445, p-value: 0.03475943115166249\n",
      "Chi2 result for pair ('BA', 'Graduate School'): 17.252784444297802, p-value: 3.2721765733960886e-05\n",
      "Chi2 result for pair ('Some college and AA', 'Graduate School'): 35.96825907097162, p-value: 2.005581226381834e-09\n"
     ]
    }
   ],
   "source": [
    "# gathering all combinations for post-hoc chi2\n",
    "all_combinations = list(combinations(edd_gender.index, 2))\n",
    "print(\"Significance results:\")\n",
    "for comb in all_combinations:\n",
    "    # subset df into a dataframe containing only the pair \"comb\"\n",
    "    new_df = edd_gender[(edd_gender.index == comb[0]) | (edd_gender.index == comb[1])]\n",
    "    # running chi2 test\n",
    "    chi2, p, dof, ex = stats.chi2_contingency(new_df, correction=False)\n",
    "    print(f\"Chi2 result for pair {comb}: {chi2}, p-value: {p}\")"
   ]
  },
  {
   "cell_type": "code",
   "execution_count": 139,
   "id": "2ef6c154",
   "metadata": {},
   "outputs": [],
   "source": [
    "# gathering all combinations for post-hoc chi2\n",
    "all_combinations = list(combinations(edd_gender.index, 2))\n",
    "p_vals = []\n",
    "for comb in all_combinations:\n",
    "    # subset df into a dataframe containing only the pair \"comb\"\n",
    "    new_df = edd_gender[(edd_gender.index == comb[0]) | (edd_gender.index == comb[1])]\n",
    "    # running chi2 test\n",
    "    chi2, p, dof, ex = stats.chi2_contingency(new_df, correction=True)\n",
    "    p_vals.append(p)"
   ]
  },
  {
   "cell_type": "code",
   "execution_count": 140,
   "id": "625a6d86",
   "metadata": {},
   "outputs": [],
   "source": [
    "from statsmodels.sandbox.stats.multicomp import multipletests\n",
    "\n",
    "reject_list, corrected_p_vals = multipletests(p_vals, method='fdr_bh')[:2]"
   ]
  },
  {
   "cell_type": "code",
   "execution_count": 141,
   "id": "b7a34d96",
   "metadata": {},
   "outputs": [
    {
     "name": "stdout",
     "output_type": "stream",
     "text": [
      "original p-value\tcorrected p-value\treject?\n",
      "1.3743060523327423e-06 \t 3.4357651308318555e-06 \t True\n",
      "0.00018859270440316333 \t 0.0003143211740052722 \t True\n",
      "3.5280891764537006e-08 \t 1.7640445882268503e-07 \t True\n",
      "0.7869536061793635 \t 0.7869536061793635 \t False\n",
      "0.14906625109338095 \t 0.18633281386672618 \t False\n",
      "0.6500231478253293 \t 0.7222479420281437 \t False\n",
      "1.5209382716757712e-07 \t 5.069794238919238e-07 \t True\n",
      "0.03559774339242139 \t 0.05085391913203056 \t False\n",
      "3.476792635622653e-05 \t 6.953585271245306e-05 \t True\n",
      "2.1728686809545843e-09 \t 2.172868680954584e-08 \t True\n"
     ]
    }
   ],
   "source": [
    "print(\"original p-value\\tcorrected p-value\\treject?\")\n",
    "for p_val, corr_p_val, reject in zip(p_vals, corrected_p_vals, reject_list):\n",
    "    print(p_val, \"\\t\", corr_p_val, \"\\t\", reject)"
   ]
  },
  {
   "cell_type": "code",
   "execution_count": 142,
   "id": "c6994acb",
   "metadata": {},
   "outputs": [],
   "source": [
    "def get_asterisks_for_pval(p_val):\n",
    "    \"\"\"Receives the p-value and returns asterisks string.\"\"\"\n",
    "    if p_val > 0.05:\n",
    "        p_text = \"ns\"  # above threshold => not significant\n",
    "    elif p_val < 1e-4:  \n",
    "        p_text = '****'\n",
    "    elif p_val < 1e-3:\n",
    "        p_text = '***'\n",
    "    elif p_val < 1e-2:\n",
    "        p_text = '**'\n",
    "    else:\n",
    "        p_text = '*'\n",
    "    \n",
    "    return p_text"
   ]
  },
  {
   "cell_type": "code",
   "execution_count": 143,
   "id": "274c676e",
   "metadata": {},
   "outputs": [],
   "source": [
    "def chisq_and_posthoc_corrected(df):\n",
    "    \"\"\"Receives a dataframe and performs chi2 test and then post hoc.\n",
    "    Prints the p-values and corrected p-values (after FDR correction)\"\"\"\n",
    "    # start by running chi2 test on the matrix\n",
    "    chi2, p, dof, ex = stats.chi2_contingency(edd_gender, correction=True)\n",
    "    print(f\"Chi2 result of the contingency table: {chi2}, p-value: {p}\")\n",
    "    \n",
    "    # post-hoc\n",
    "    all_combinations = list(combinations(edd_gender.index, 2))  # gathering all combinations for post-hoc chi2\n",
    "    p_vals = []\n",
    "    print(\"Significance results:\")\n",
    "    for comb in all_combinations:\n",
    "        new_df = edd_gender[(edd_gender.index == comb[0]) | (edd_gender.index == comb[1])]\n",
    "        chi2, p, dof, ex = stats.chi2_contingency(new_df, correction=True)\n",
    "        p_vals.append(p)\n",
    "        # print(f\"For {comb}: {p}\")  # uncorrected\n",
    "\n",
    "    # checking significance\n",
    "    # correction for multiple testing\n",
    "    reject_list, corrected_p_vals = multipletests(p_vals, method='fdr_bh')[:2]\n",
    "    for p_val, corr_p_val, reject, comb in zip(p_vals, corrected_p_vals, reject_list, all_combinations):\n",
    "        print(f\"{comb}: p_value: {p_val:5f}; corrected: {corr_p_val:5f} ({get_asterisks_for_pval(p_val)}) reject: {reject}\")"
   ]
  },
  {
   "cell_type": "code",
   "execution_count": 144,
   "id": "419a1ea8",
   "metadata": {},
   "outputs": [
    {
     "name": "stdout",
     "output_type": "stream",
     "text": [
      "Chi2 result of the contingency table: 60.61284285764862, p-value: 2.1563628164015564e-12\n",
      "Significance results:\n",
      "('Less Than HS', 'HS or GED'): p_value: 0.000001; corrected: 0.000003 (****) reject: True\n",
      "('Less Than HS', 'BA'): p_value: 0.000189; corrected: 0.000314 (***) reject: True\n",
      "('Less Than HS', 'Some college and AA'): p_value: 0.000000; corrected: 0.000000 (****) reject: True\n",
      "('Less Than HS', 'Graduate School'): p_value: 0.786954; corrected: 0.786954 (ns) reject: False\n",
      "('HS or GED', 'BA'): p_value: 0.149066; corrected: 0.186333 (ns) reject: False\n",
      "('HS or GED', 'Some college and AA'): p_value: 0.650023; corrected: 0.722248 (ns) reject: False\n",
      "('HS or GED', 'Graduate School'): p_value: 0.000000; corrected: 0.000001 (****) reject: True\n",
      "('BA', 'Some college and AA'): p_value: 0.035598; corrected: 0.050854 (*) reject: False\n",
      "('BA', 'Graduate School'): p_value: 0.000035; corrected: 0.000070 (****) reject: True\n",
      "('Some college and AA', 'Graduate School'): p_value: 0.000000; corrected: 0.000000 (****) reject: True\n"
     ]
    }
   ],
   "source": [
    "chisq_and_posthoc_corrected(edd_gender)"
   ]
  },
  {
   "cell_type": "markdown",
   "id": "0c4fd0e0",
   "metadata": {},
   "source": [
    "#### Chi Square Test Race and Educational Attainment"
   ]
  },
  {
   "cell_type": "code",
   "execution_count": 148,
   "id": "121256dd",
   "metadata": {},
   "outputs": [
    {
     "data": {
      "text/html": [
       "<div>\n",
       "<style scoped>\n",
       "    .dataframe tbody tr th:only-of-type {\n",
       "        vertical-align: middle;\n",
       "    }\n",
       "\n",
       "    .dataframe tbody tr th {\n",
       "        vertical-align: top;\n",
       "    }\n",
       "\n",
       "    .dataframe thead th {\n",
       "        text-align: right;\n",
       "    }\n",
       "</style>\n",
       "<table border=\"1\" class=\"dataframe\">\n",
       "  <thead>\n",
       "    <tr style=\"text-align: right;\">\n",
       "      <th></th>\n",
       "      <th>Native American, Alaskan, Hawaiian</th>\n",
       "      <th>Asian</th>\n",
       "      <th>Black or African American</th>\n",
       "      <th>Some Other Race</th>\n",
       "      <th>Two or More Races</th>\n",
       "      <th>White</th>\n",
       "    </tr>\n",
       "    <tr>\n",
       "      <th>Educational attainment</th>\n",
       "      <th></th>\n",
       "      <th></th>\n",
       "      <th></th>\n",
       "      <th></th>\n",
       "      <th></th>\n",
       "      <th></th>\n",
       "    </tr>\n",
       "  </thead>\n",
       "  <tbody>\n",
       "    <tr>\n",
       "      <th>Less Than HS</th>\n",
       "      <td>139</td>\n",
       "      <td>1045</td>\n",
       "      <td>411</td>\n",
       "      <td>1479</td>\n",
       "      <td>285</td>\n",
       "      <td>3720</td>\n",
       "    </tr>\n",
       "    <tr>\n",
       "      <th>HS or GED</th>\n",
       "      <td>337</td>\n",
       "      <td>1470</td>\n",
       "      <td>1648</td>\n",
       "      <td>1329</td>\n",
       "      <td>688</td>\n",
       "      <td>11052</td>\n",
       "    </tr>\n",
       "    <tr>\n",
       "      <th>Some college/AA</th>\n",
       "      <td>552</td>\n",
       "      <td>3055</td>\n",
       "      <td>3235</td>\n",
       "      <td>1372</td>\n",
       "      <td>1412</td>\n",
       "      <td>19075</td>\n",
       "    </tr>\n",
       "    <tr>\n",
       "      <th>BA</th>\n",
       "      <td>67</td>\n",
       "      <td>4093</td>\n",
       "      <td>1041</td>\n",
       "      <td>540</td>\n",
       "      <td>1025</td>\n",
       "      <td>10390</td>\n",
       "    </tr>\n",
       "    <tr>\n",
       "      <th>Graduate School</th>\n",
       "      <td>21</td>\n",
       "      <td>1458</td>\n",
       "      <td>658</td>\n",
       "      <td>79</td>\n",
       "      <td>323</td>\n",
       "      <td>4883</td>\n",
       "    </tr>\n",
       "  </tbody>\n",
       "</table>\n",
       "</div>"
      ],
      "text/plain": [
       "                        Native American, Alaskan, Hawaiian  Asian  \\\n",
       "Educational attainment                                              \n",
       "Less Than HS                                           139   1045   \n",
       "HS or GED                                              337   1470   \n",
       "Some college/AA                                        552   3055   \n",
       "BA                                                      67   4093   \n",
       "Graduate School                                         21   1458   \n",
       "\n",
       "                        Black or African American  Some Other Race  \\\n",
       "Educational attainment                                               \n",
       "Less Than HS                                  411             1479   \n",
       "HS or GED                                    1648             1329   \n",
       "Some college/AA                              3235             1372   \n",
       "BA                                           1041              540   \n",
       "Graduate School                               658               79   \n",
       "\n",
       "                        Two or More Races  White  \n",
       "Educational attainment                            \n",
       "Less Than HS                          285   3720  \n",
       "HS or GED                             688  11052  \n",
       "Some college/AA                      1412  19075  \n",
       "BA                                   1025  10390  \n",
       "Graduate School                       323   4883  "
      ]
     },
     "execution_count": 148,
     "metadata": {},
     "output_type": "execute_result"
    }
   ],
   "source": [
    "edd_race = edd_race.set_index('Educational attainment')\n",
    "edd_race"
   ]
  },
  {
   "cell_type": "code",
   "execution_count": 150,
   "id": "157077b3",
   "metadata": {},
   "outputs": [
    {
     "name": "stdout",
     "output_type": "stream",
     "text": [
      "Chi2 result of the contingency table: 6052.540649604183, p-value: 0.0\n",
      "\n",
      "Degrees of Freedom:  20.00\n",
      "\n",
      "P-Value:  0.00\n",
      "\n",
      "Contingency Table: \n",
      " [[  102.75700424  1023.97907182   643.88864754   441.87353347\n",
      "    343.72033766  4522.78140527]\n",
      " [  239.85827632  2390.20061913  1502.98290887  1031.43357353\n",
      "    802.32163575 10557.20298639]\n",
      " [  416.61658125  4151.60663094  2610.57325512  1791.52596186\n",
      "   1393.57499805 18337.10257277]\n",
      " [  249.03223121  2481.61957285  1560.46809396  1070.88322364\n",
      "    833.00835046 10960.98852787]\n",
      " [  107.73590697  1073.59410525   675.08709451   463.2837075\n",
      "    360.37467808  4741.92450769]]\n",
      "\n",
      "Result of Statistical Test:\n",
      "Null Hypothesis (H0) rejected (Alternate Hypothesis (HA) accepted)\n"
     ]
    }
   ],
   "source": [
    "#Created df manually for race observed results\n",
    "\n",
    "chi2, p, dof, table = stats.chi2_contingency(edd_race, correction=True)\n",
    "\n",
    "print(f\"Chi2 result of the contingency table: {chi2}, p-value: {p}\")\n",
    "\n",
    "print('\\nDegrees of Freedom: ', '%1.2f' % dof)\n",
    "print('\\nP-Value: ', '%1.2f' % p)\n",
    "print('\\nContingency Table: \\n', table)\n",
    "\n",
    "print('\\nResult of Statistical Test:')\n",
    "\n",
    "if p > 0.05:\n",
    "    print('Null Hypothesis (H0) accepted - Proportion of smokers are equal across the four regions.')\n",
    "else:\n",
    "    print('Null Hypothesis (H0) rejected (Alternate Hypothesis (HA) accepted)')"
   ]
  },
  {
   "cell_type": "markdown",
   "id": "66ded00f",
   "metadata": {},
   "source": [
    "##### Chi Square post-hoc test Race"
   ]
  },
  {
   "cell_type": "code",
   "execution_count": 160,
   "id": "330c4770",
   "metadata": {},
   "outputs": [],
   "source": [
    "def chisq_and_posthoc_corrected(df):\n",
    "    \"\"\"Receives a dataframe and performs chi2 test and then post hoc.\n",
    "    Prints the p-values and corrected p-values (after FDR correction)\"\"\"\n",
    "    # start by running chi2 test on the matrix\n",
    "    chi2, p, dof, ex = stats.chi2_contingency(edd_race, correction=True)\n",
    "    print(f\"Chi2 result of the contingency table: {chi2}, p-value: {p}\")\n",
    "    \n",
    "    # post-hoc\n",
    "    all_combinations = list(combinations(edd_race.index, 2))  # gathering all combinations for post-hoc chi2\n",
    "    p_vals = []\n",
    "    print(\"Significance results:\")\n",
    "    for comb in all_combinations:\n",
    "        new_df = edd_race[(edd_race.index == comb[0]) | (edd_race.index == comb[1])]\n",
    "        chi2, p, dof, ex = stats.chi2_contingency(new_df, correction=True)\n",
    "        p_vals.append(p)\n",
    "        # print(f\"For {comb}: {p}\")  # uncorrected\n",
    "\n",
    "    # checking significance\n",
    "    # correction for multiple testing\n",
    "    reject_list, corrected_p_vals = multipletests(p_vals, method='fdr_bh')[:2]\n",
    "    for p_val, corr_p_val, reject, comb in zip(p_vals, corrected_p_vals, reject_list, all_combinations):\n",
    "        print(f\"{comb}: p_value: {p_val:5f}; corrected: {corr_p_val:5f} ({get_asterisks_for_pval(p_val)}) reject: {reject}\")"
   ]
  },
  {
   "cell_type": "code",
   "execution_count": 161,
   "id": "6b0e1e6e",
   "metadata": {},
   "outputs": [
    {
     "name": "stdout",
     "output_type": "stream",
     "text": [
      "Chi2 result of the contingency table: 6052.540649604183, p-value: 0.0\n",
      "Significance results:\n",
      "('Less Than HS', 'HS or GED'): p_value: 0.000000; corrected: 0.000000 (****) reject: True\n",
      "('Less Than HS', 'Some college/AA'): p_value: 0.000000; corrected: 0.000000 (****) reject: True\n",
      "('Less Than HS', 'BA'): p_value: 0.000000; corrected: 0.000000 (****) reject: True\n",
      "('Less Than HS', 'Graduate School'): p_value: 0.000000; corrected: 0.000000 (****) reject: True\n",
      "('HS or GED', 'Some college/AA'): p_value: 0.000000; corrected: 0.000000 (****) reject: True\n",
      "('HS or GED', 'BA'): p_value: 0.000000; corrected: 0.000000 (****) reject: True\n",
      "('HS or GED', 'Graduate School'): p_value: 0.000000; corrected: 0.000000 (****) reject: True\n",
      "('Some college/AA', 'BA'): p_value: 0.000000; corrected: 0.000000 (****) reject: True\n",
      "('Some college/AA', 'Graduate School'): p_value: 0.000000; corrected: 0.000000 (****) reject: True\n",
      "('BA', 'Graduate School'): p_value: 0.000000; corrected: 0.000000 (****) reject: True\n"
     ]
    }
   ],
   "source": [
    "chisq_and_posthoc_corrected(edd_race)"
   ]
  },
  {
   "cell_type": "markdown",
   "id": "63578b67",
   "metadata": {},
   "source": [
    "#### Chi Square Test Ethnicity and Educational Attainment\n"
   ]
  },
  {
   "cell_type": "code",
   "execution_count": 149,
   "id": "b6bc67aa",
   "metadata": {},
   "outputs": [
    {
     "data": {
      "text/html": [
       "<div>\n",
       "<style scoped>\n",
       "    .dataframe tbody tr th:only-of-type {\n",
       "        vertical-align: middle;\n",
       "    }\n",
       "\n",
       "    .dataframe tbody tr th {\n",
       "        vertical-align: top;\n",
       "    }\n",
       "\n",
       "    .dataframe thead th {\n",
       "        text-align: right;\n",
       "    }\n",
       "</style>\n",
       "<table border=\"1\" class=\"dataframe\">\n",
       "  <thead>\n",
       "    <tr style=\"text-align: right;\">\n",
       "      <th></th>\n",
       "      <th>Hispanic</th>\n",
       "      <th>Not Hispanic</th>\n",
       "    </tr>\n",
       "    <tr>\n",
       "      <th>Educational attainment</th>\n",
       "      <th></th>\n",
       "      <th></th>\n",
       "    </tr>\n",
       "  </thead>\n",
       "  <tbody>\n",
       "    <tr>\n",
       "      <th>Less Than HS</th>\n",
       "      <td>2951</td>\n",
       "      <td>4128</td>\n",
       "    </tr>\n",
       "    <tr>\n",
       "      <th>HS or GED</th>\n",
       "      <td>3263</td>\n",
       "      <td>13261</td>\n",
       "    </tr>\n",
       "    <tr>\n",
       "      <th>Some college and AA</th>\n",
       "      <td>4171</td>\n",
       "      <td>24530</td>\n",
       "    </tr>\n",
       "    <tr>\n",
       "      <th>BA</th>\n",
       "      <td>1913</td>\n",
       "      <td>15243</td>\n",
       "    </tr>\n",
       "    <tr>\n",
       "      <th>Graduate School</th>\n",
       "      <td>575</td>\n",
       "      <td>6847</td>\n",
       "    </tr>\n",
       "  </tbody>\n",
       "</table>\n",
       "</div>"
      ],
      "text/plain": [
       "                        Hispanic  Not Hispanic\n",
       "Educational attainment                        \n",
       "Less Than HS                2951          4128\n",
       "HS or GED                   3263         13261\n",
       "Some college and AA         4171         24530\n",
       "BA                          1913         15243\n",
       "Graduate School              575          6847"
      ]
     },
     "execution_count": 149,
     "metadata": {},
     "output_type": "execute_result"
    }
   ],
   "source": [
    "edd_ethnicity = edd_ethnicity.set_index('Educational attainment')\n",
    "edd_ethnicity"
   ]
  },
  {
   "cell_type": "code",
   "execution_count": 155,
   "id": "4c5becf8",
   "metadata": {},
   "outputs": [
    {
     "name": "stdout",
     "output_type": "stream",
     "text": [
      "Chi2 result of the contingency table: 4182.8245760772925, p-value: 0.0\n",
      "\n",
      "Degrees of Freedom:  4.00\n",
      "\n",
      "P-Value:  0.00\n",
      "\n",
      "Contingency Table: \n",
      " [[ 1185.29651934  5893.70348066]\n",
      " [ 2766.75232174 13757.24767826]\n",
      " [ 4805.64986603 23895.35013397]\n",
      " [ 2872.57339819 14283.42660181]\n",
      " [ 1242.7278947   6179.2721053 ]]\n",
      "\n",
      "Result of Statistical Test:\n",
      "Null Hypothesis (H0) rejected (Alternate Hypothesis (HA) accepted)\n"
     ]
    }
   ],
   "source": [
    "#Created df manually for ethnicity observed results\n",
    "\n",
    "chi2, p, dof, table = stats.chi2_contingency(edd_ethnicity, correction=True)\n",
    "\n",
    "print(f\"Chi2 result of the contingency table: {chi2}, p-value: {p}\")\n",
    "\n",
    "print('\\nDegrees of Freedom: ', '%1.2f' % dof)\n",
    "print('\\nP-Value: ', '%1.2f' % p)\n",
    "print('\\nContingency Table: \\n', table)\n",
    "\n",
    "print('\\nResult of Statistical Test:')\n",
    "\n",
    "if p > 0.05:\n",
    "    print('Null Hypothesis (H0) accepted - Proportion of smokers are equal across the four regions.')\n",
    "else:\n",
    "    print('Null Hypothesis (H0) rejected (Alternate Hypothesis (HA) accepted)')"
   ]
  },
  {
   "cell_type": "markdown",
   "id": "f599d708",
   "metadata": {},
   "source": [
    "##### Chi Square post-hoc test Ethnicity"
   ]
  },
  {
   "cell_type": "code",
   "execution_count": 158,
   "id": "c15f8754",
   "metadata": {},
   "outputs": [],
   "source": [
    "def chisq_and_posthoc_corrected(df):\n",
    "    \"\"\"Receives a dataframe and performs chi2 test and then post hoc.\n",
    "    Prints the p-values and corrected p-values (after FDR correction)\"\"\"\n",
    "    # start by running chi2 test on the matrix\n",
    "    chi2, p, dof, ex = stats.chi2_contingency(edd_ethnicity, correction=True)\n",
    "    print(f\"Chi2 result of the contingency table: {chi2}, p-value: {p}\")\n",
    "    \n",
    "    # post-hoc\n",
    "    all_combinations = list(combinations(edd_ethnicity.index, 2))  # gathering all combinations for post-hoc chi2\n",
    "    p_vals = []\n",
    "    print(\"Significance results:\")\n",
    "    for comb in all_combinations:\n",
    "        new_df = edd_ethnicity[(edd_ethnicity.index == comb[0]) | (edd_ethnicity.index == comb[1])]\n",
    "        chi2, p, dof, ex = stats.chi2_contingency(new_df, correction=True)\n",
    "        p_vals.append(p)\n",
    "        # print(f\"For {comb}: {p}\")  # uncorrected\n",
    "\n",
    "    # checking significance\n",
    "    # correction for multiple testing\n",
    "    reject_list, corrected_p_vals = multipletests(p_vals, method='fdr_bh')[:2]\n",
    "    for p_val, corr_p_val, reject, comb in zip(p_vals, corrected_p_vals, reject_list, all_combinations):\n",
    "        print(f\"{comb}: p_value: {p_val:5f}; corrected: {corr_p_val:5f} ({get_asterisks_for_pval(p_val)}) reject: {reject}\")"
   ]
  },
  {
   "cell_type": "code",
   "execution_count": 159,
   "id": "998250d3",
   "metadata": {},
   "outputs": [
    {
     "name": "stdout",
     "output_type": "stream",
     "text": [
      "Chi2 result of the contingency table: 4182.8245760772925, p-value: 0.0\n",
      "Significance results:\n",
      "('Less Than HS', 'HS or GED'): p_value: 0.000000; corrected: 0.000000 (****) reject: True\n",
      "('Less Than HS', 'Some college and AA'): p_value: 0.000000; corrected: 0.000000 (****) reject: True\n",
      "('Less Than HS', 'BA'): p_value: 0.000000; corrected: 0.000000 (****) reject: True\n",
      "('Less Than HS', 'Graduate School'): p_value: 0.000000; corrected: 0.000000 (****) reject: True\n",
      "('HS or GED', 'Some college and AA'): p_value: 0.000000; corrected: 0.000000 (****) reject: True\n",
      "('HS or GED', 'BA'): p_value: 0.000000; corrected: 0.000000 (****) reject: True\n",
      "('HS or GED', 'Graduate School'): p_value: 0.000000; corrected: 0.000000 (****) reject: True\n",
      "('Some college and AA', 'BA'): p_value: 0.000000; corrected: 0.000000 (****) reject: True\n",
      "('Some college and AA', 'Graduate School'): p_value: 0.000000; corrected: 0.000000 (****) reject: True\n",
      "('BA', 'Graduate School'): p_value: 0.000000; corrected: 0.000000 (****) reject: True\n"
     ]
    }
   ],
   "source": [
    "chisq_and_posthoc_corrected(edd_ethnicity)"
   ]
  },
  {
   "cell_type": "markdown",
   "id": "6b732f1d",
   "metadata": {},
   "source": [
    "### Analysis of Technology Resources"
   ]
  },
  {
   "cell_type": "code",
   "execution_count": 6,
   "id": "b4a74eba",
   "metadata": {},
   "outputs": [
    {
     "name": "stdout",
     "output_type": "stream",
     "text": [
      "(9, 6)\n"
     ]
    }
   ],
   "source": [
    "print(technology.shape)"
   ]
  },
  {
   "cell_type": "code",
   "execution_count": 7,
   "id": "6e218e9f",
   "metadata": {},
   "outputs": [
    {
     "data": {
      "text/html": [
       "<div>\n",
       "<style scoped>\n",
       "    .dataframe tbody tr th:only-of-type {\n",
       "        vertical-align: middle;\n",
       "    }\n",
       "\n",
       "    .dataframe tbody tr th {\n",
       "        vertical-align: top;\n",
       "    }\n",
       "\n",
       "    .dataframe thead th {\n",
       "        text-align: right;\n",
       "    }\n",
       "</style>\n",
       "<table border=\"1\" class=\"dataframe\">\n",
       "  <thead>\n",
       "    <tr style=\"text-align: right;\">\n",
       "      <th></th>\n",
       "      <th>Label</th>\n",
       "      <th>Description</th>\n",
       "      <th>Type</th>\n",
       "      <th>Total Estimate</th>\n",
       "      <th>Percent Estimate</th>\n",
       "      <th>Unnamed: 5</th>\n",
       "    </tr>\n",
       "  </thead>\n",
       "  <tbody>\n",
       "    <tr>\n",
       "      <th>0</th>\n",
       "      <td>Total households</td>\n",
       "      <td>NaN</td>\n",
       "      <td>NaN</td>\n",
       "      <td>40662</td>\n",
       "      <td>(X)</td>\n",
       "      <td>179199.0</td>\n",
       "    </tr>\n",
       "    <tr>\n",
       "      <th>1</th>\n",
       "      <td>TYPES OF COMPUTER</td>\n",
       "      <td>Has one or more types of computing devices:</td>\n",
       "      <td>ANY</td>\n",
       "      <td>39135</td>\n",
       "      <td>96.2%</td>\n",
       "      <td>40662.0</td>\n",
       "    </tr>\n",
       "    <tr>\n",
       "      <th>2</th>\n",
       "      <td>TYPES OF COMPUTER</td>\n",
       "      <td>Has one or more types of computing devices:</td>\n",
       "      <td>Desktop or laptop</td>\n",
       "      <td>33599</td>\n",
       "      <td>82.6%</td>\n",
       "      <td>97875.0</td>\n",
       "    </tr>\n",
       "    <tr>\n",
       "      <th>3</th>\n",
       "      <td>TYPES OF COMPUTER</td>\n",
       "      <td>Has one or more types of computing devices:</td>\n",
       "      <td>Smartphone</td>\n",
       "      <td>37031</td>\n",
       "      <td>91.1%</td>\n",
       "      <td>NaN</td>\n",
       "    </tr>\n",
       "    <tr>\n",
       "      <th>4</th>\n",
       "      <td>TYPES OF COMPUTER</td>\n",
       "      <td>Has one or more types of computing devices:</td>\n",
       "      <td>Tablet or other portable wireless computer</td>\n",
       "      <td>26437</td>\n",
       "      <td>65.0%</td>\n",
       "      <td>NaN</td>\n",
       "    </tr>\n",
       "  </tbody>\n",
       "</table>\n",
       "</div>"
      ],
      "text/plain": [
       "               Label                                  Description  \\\n",
       "0   Total households                                          NaN   \n",
       "1  TYPES OF COMPUTER  Has one or more types of computing devices:   \n",
       "2  TYPES OF COMPUTER  Has one or more types of computing devices:   \n",
       "3  TYPES OF COMPUTER  Has one or more types of computing devices:   \n",
       "4  TYPES OF COMPUTER  Has one or more types of computing devices:   \n",
       "\n",
       "                                         Type  Total Estimate  \\\n",
       "0                                         NaN           40662   \n",
       "1                                         ANY           39135   \n",
       "2                           Desktop or laptop           33599   \n",
       "3                                  Smartphone           37031   \n",
       "4  Tablet or other portable wireless computer           26437   \n",
       "\n",
       "  Percent Estimate  Unnamed: 5  \n",
       "0              (X)    179199.0  \n",
       "1            96.2%     40662.0  \n",
       "2            82.6%     97875.0  \n",
       "3            91.1%         NaN  \n",
       "4            65.0%         NaN  "
      ]
     },
     "execution_count": 7,
     "metadata": {},
     "output_type": "execute_result"
    }
   ],
   "source": [
    "#Check first several rows\n",
    "technology.head()"
   ]
  },
  {
   "cell_type": "code",
   "execution_count": 8,
   "id": "cbfb1a7c",
   "metadata": {},
   "outputs": [
    {
     "data": {
      "text/plain": [
       "Index(['Label', 'Description', 'Type', 'Total Estimate', 'Percent Estimate',\n",
       "       'Unnamed: 5'],\n",
       "      dtype='object')"
      ]
     },
     "execution_count": 8,
     "metadata": {},
     "output_type": "execute_result"
    }
   ],
   "source": [
    "#Check the column headings\n",
    "technology.columns"
   ]
  },
  {
   "cell_type": "code",
   "execution_count": 9,
   "id": "9bd3d044",
   "metadata": {},
   "outputs": [
    {
     "name": "stdout",
     "output_type": "stream",
     "text": [
      "<class 'pandas.core.frame.DataFrame'>\n",
      "RangeIndex: 9 entries, 0 to 8\n",
      "Data columns (total 6 columns):\n",
      " #   Column            Non-Null Count  Dtype  \n",
      "---  ------            --------------  -----  \n",
      " 0   Label             9 non-null      object \n",
      " 1   Description       8 non-null      object \n",
      " 2   Type              5 non-null      object \n",
      " 3   Total Estimate    9 non-null      int64  \n",
      " 4   Percent Estimate  9 non-null      object \n",
      " 5   Unnamed: 5        3 non-null      float64\n",
      "dtypes: float64(1), int64(1), object(4)\n",
      "memory usage: 560.0+ bytes\n"
     ]
    }
   ],
   "source": [
    "#Check the datatypes\n",
    "technology.info()"
   ]
  },
  {
   "cell_type": "code",
   "execution_count": null,
   "id": "02e0fe6a",
   "metadata": {},
   "outputs": [],
   "source": []
  },
  {
   "cell_type": "code",
   "execution_count": null,
   "id": "660cfeaf",
   "metadata": {},
   "outputs": [],
   "source": []
  },
  {
   "cell_type": "code",
   "execution_count": null,
   "id": "835fd5c4",
   "metadata": {},
   "outputs": [],
   "source": []
  }
 ],
 "metadata": {
  "kernelspec": {
   "display_name": "Python 3",
   "language": "python",
   "name": "python3"
  },
  "language_info": {
   "codemirror_mode": {
    "name": "ipython",
    "version": 3
   },
   "file_extension": ".py",
   "mimetype": "text/x-python",
   "name": "python",
   "nbconvert_exporter": "python",
   "pygments_lexer": "ipython3",
   "version": "3.8.8"
  }
 },
 "nbformat": 4,
 "nbformat_minor": 5
}
