{
 "cells": [
  {
   "cell_type": "markdown",
   "id": "62591513",
   "metadata": {},
   "source": [
    "# Analysis"
   ]
  },
  {
   "cell_type": "markdown",
   "id": "fdb58395",
   "metadata": {},
   "source": [
    "Monica Canavan\n",
    "\n",
    "In this notebook we will be performing statistical tests on data pertaining to educational attainment, demographics, and technology (Work in Progress)"
   ]
  },
  {
   "cell_type": "code",
   "execution_count": 1,
   "id": "c3efddf1",
   "metadata": {},
   "outputs": [],
   "source": [
    "import numpy as np\n",
    "import pandas as pd\n",
    "import seaborn as sns\n",
    "import matplotlib.pyplot as plt\n",
    "import scipy.stats as stats"
   ]
  },
  {
   "cell_type": "markdown",
   "id": "966b4180",
   "metadata": {},
   "source": [
    "### Read the Data Files"
   ]
  },
  {
   "cell_type": "code",
   "execution_count": 2,
   "id": "e4dee0b2",
   "metadata": {},
   "outputs": [],
   "source": [
    "# read in dataset for the EDD employment projections\n",
    "# using excel format instead of csv.  edd_proj = pd.read_csv('edd_sacr_occproj_2018_2028.csv', sep='\\t', encoding = 'utf-16')\n",
    "edd_proj = pd.read_excel('EDD_SAC_OCCPROJ_2018_2028.xlsx', sheet_name='Occupational')\n",
    "\n",
    "#read in dataset for the Census PUMA Educational Attainment with Race, Ethnicity and Gender RC\n",
    "education = pd.read_excel('ACSST5Y2019_Educational_Attainment.xlsx', sheet_name='Education')\n",
    "\n",
    "#read in dataset for the Census Technology Information RC\n",
    "technology = pd.read_excel('ACSST1Y2019_Technology_RC.xlsx', sheet_name='Technology')"
   ]
  },
  {
   "cell_type": "markdown",
   "id": "2afb8a79",
   "metadata": {},
   "source": [
    "### Begin data analysis of EDD Occupation Projections"
   ]
  },
  {
   "cell_type": "code",
   "execution_count": 3,
   "id": "facf5fe9",
   "metadata": {},
   "outputs": [
    {
     "name": "stdout",
     "output_type": "stream",
     "text": [
      "<class 'pandas.core.frame.DataFrame'>\n",
      "RangeIndex: 635 entries, 0 to 634\n",
      "Data columns (total 15 columns):\n",
      " #   Column                                   Non-Null Count  Dtype  \n",
      "---  ------                                   --------------  -----  \n",
      " 0   SOC Level                                635 non-null    int64  \n",
      " 1   SOC Code                                 635 non-null    object \n",
      " 2   Occupational Title                       635 non-null    object \n",
      " 3   Base Year Employment Estimate 2018       635 non-null    int64  \n",
      " 4   Projected Year Employment Estimate 2028  635 non-null    int64  \n",
      " 5   Numeric Change 2018-2028                 635 non-null    int64  \n",
      " 6   Percent-age Change 2018-2028             635 non-null    float64\n",
      " 7   Exits                                    635 non-null    int64  \n",
      " 8   Transfers                                635 non-null    int64  \n",
      " 9   Total Job Openings                       635 non-null    int64  \n",
      " 10  Median Hourly Wages                      635 non-null    float64\n",
      " 11  Median Annual Wages                      635 non-null    int64  \n",
      " 12  Entry Level Education                    520 non-null    object \n",
      " 13  Work Experience                          520 non-null    object \n",
      " 14  On-the-Job Training                      520 non-null    object \n",
      "dtypes: float64(2), int64(8), object(5)\n",
      "memory usage: 74.5+ KB\n"
     ]
    }
   ],
   "source": [
    "#Check the datatypes\n",
    "edd_proj.info()"
   ]
  },
  {
   "cell_type": "markdown",
   "id": "0cc766e3",
   "metadata": {},
   "source": [
    "### Analysis of Educational Attainment with Gender, Race and Ethnicity\n"
   ]
  },
  {
   "cell_type": "code",
   "execution_count": 4,
   "id": "1009b013",
   "metadata": {},
   "outputs": [
    {
     "data": {
      "text/html": [
       "<div>\n",
       "<style scoped>\n",
       "    .dataframe tbody tr th:only-of-type {\n",
       "        vertical-align: middle;\n",
       "    }\n",
       "\n",
       "    .dataframe tbody tr th {\n",
       "        vertical-align: top;\n",
       "    }\n",
       "\n",
       "    .dataframe thead th {\n",
       "        text-align: right;\n",
       "    }\n",
       "</style>\n",
       "<table border=\"1\" class=\"dataframe\">\n",
       "  <thead>\n",
       "    <tr style=\"text-align: right;\">\n",
       "      <th></th>\n",
       "      <th>Race</th>\n",
       "      <th>Ethnicity</th>\n",
       "      <th>Educational attainment</th>\n",
       "      <th>Total</th>\n",
       "      <th>Male</th>\n",
       "      <th>Female</th>\n",
       "    </tr>\n",
       "  </thead>\n",
       "  <tbody>\n",
       "    <tr>\n",
       "      <th>0</th>\n",
       "      <td>White</td>\n",
       "      <td>Not Hispanic</td>\n",
       "      <td>Less Than HS</td>\n",
       "      <td>2288</td>\n",
       "      <td>1212</td>\n",
       "      <td>1076</td>\n",
       "    </tr>\n",
       "    <tr>\n",
       "      <th>1</th>\n",
       "      <td>White</td>\n",
       "      <td>Not Hispanic</td>\n",
       "      <td>HS or GED</td>\n",
       "      <td>9339</td>\n",
       "      <td>4588</td>\n",
       "      <td>4751</td>\n",
       "    </tr>\n",
       "    <tr>\n",
       "      <th>2</th>\n",
       "      <td>White</td>\n",
       "      <td>Not Hispanic</td>\n",
       "      <td>Some college and AA</td>\n",
       "      <td>16757</td>\n",
       "      <td>7939</td>\n",
       "      <td>8818</td>\n",
       "    </tr>\n",
       "    <tr>\n",
       "      <th>3</th>\n",
       "      <td>White</td>\n",
       "      <td>Not Hispanic</td>\n",
       "      <td>BA</td>\n",
       "      <td>9102</td>\n",
       "      <td>4691</td>\n",
       "      <td>4411</td>\n",
       "    </tr>\n",
       "    <tr>\n",
       "      <th>4</th>\n",
       "      <td>White</td>\n",
       "      <td>Not Hispanic</td>\n",
       "      <td>Graduate School</td>\n",
       "      <td>4493</td>\n",
       "      <td>2467</td>\n",
       "      <td>2026</td>\n",
       "    </tr>\n",
       "  </tbody>\n",
       "</table>\n",
       "</div>"
      ],
      "text/plain": [
       "    Race     Ethnicity Educational attainment  Total  Male  Female\n",
       "0  White  Not Hispanic           Less Than HS   2288  1212    1076\n",
       "1  White  Not Hispanic              HS or GED   9339  4588    4751\n",
       "2  White  Not Hispanic    Some college and AA  16757  7939    8818\n",
       "3  White  Not Hispanic                     BA   9102  4691    4411\n",
       "4  White  Not Hispanic        Graduate School   4493  2467    2026"
      ]
     },
     "execution_count": 4,
     "metadata": {},
     "output_type": "execute_result"
    }
   ],
   "source": [
    "#Check first several rows\n",
    "education.head()"
   ]
  },
  {
   "cell_type": "code",
   "execution_count": 5,
   "id": "b95eef57",
   "metadata": {},
   "outputs": [
    {
     "name": "stdout",
     "output_type": "stream",
     "text": [
      "<class 'pandas.core.frame.DataFrame'>\n",
      "RangeIndex: 90 entries, 0 to 89\n",
      "Data columns (total 6 columns):\n",
      " #   Column                  Non-Null Count  Dtype \n",
      "---  ------                  --------------  ----- \n",
      " 0   Race                    90 non-null     object\n",
      " 1   Ethnicity               90 non-null     object\n",
      " 2   Educational attainment  90 non-null     object\n",
      " 3   Total                   90 non-null     int64 \n",
      " 4   Male                    90 non-null     int64 \n",
      " 5   Female                  90 non-null     int64 \n",
      "dtypes: int64(3), object(3)\n",
      "memory usage: 4.3+ KB\n"
     ]
    }
   ],
   "source": [
    "#Check the datatypes\n",
    "education.info()"
   ]
  },
  {
   "cell_type": "markdown",
   "id": "e44412d1",
   "metadata": {},
   "source": [
    "#### Chi Square Test, Gender and Educational Attainment"
   ]
  },
  {
   "cell_type": "code",
   "execution_count": null,
   "id": "832cf62d",
   "metadata": {},
   "outputs": [],
   "source": []
  },
  {
   "cell_type": "code",
   "execution_count": null,
   "id": "070c671b",
   "metadata": {},
   "outputs": [],
   "source": []
  },
  {
   "cell_type": "markdown",
   "id": "0c4fd0e0",
   "metadata": {},
   "source": [
    "#### Chi Square Test Race and Educational Attainment"
   ]
  },
  {
   "cell_type": "code",
   "execution_count": null,
   "id": "121256dd",
   "metadata": {},
   "outputs": [],
   "source": []
  },
  {
   "cell_type": "markdown",
   "id": "63578b67",
   "metadata": {},
   "source": [
    "#### Chi Square Test Ethnicity and Educational Attainment"
   ]
  },
  {
   "cell_type": "markdown",
   "id": "6b732f1d",
   "metadata": {},
   "source": [
    "### Analysis of Technology Resources"
   ]
  },
  {
   "cell_type": "code",
   "execution_count": 6,
   "id": "b4a74eba",
   "metadata": {},
   "outputs": [
    {
     "name": "stdout",
     "output_type": "stream",
     "text": [
      "(9, 6)\n"
     ]
    }
   ],
   "source": [
    "print(technology.shape)"
   ]
  },
  {
   "cell_type": "code",
   "execution_count": 7,
   "id": "6e218e9f",
   "metadata": {},
   "outputs": [
    {
     "data": {
      "text/html": [
       "<div>\n",
       "<style scoped>\n",
       "    .dataframe tbody tr th:only-of-type {\n",
       "        vertical-align: middle;\n",
       "    }\n",
       "\n",
       "    .dataframe tbody tr th {\n",
       "        vertical-align: top;\n",
       "    }\n",
       "\n",
       "    .dataframe thead th {\n",
       "        text-align: right;\n",
       "    }\n",
       "</style>\n",
       "<table border=\"1\" class=\"dataframe\">\n",
       "  <thead>\n",
       "    <tr style=\"text-align: right;\">\n",
       "      <th></th>\n",
       "      <th>Label</th>\n",
       "      <th>Description</th>\n",
       "      <th>Type</th>\n",
       "      <th>Total Estimate</th>\n",
       "      <th>Percent Estimate</th>\n",
       "      <th>Unnamed: 5</th>\n",
       "    </tr>\n",
       "  </thead>\n",
       "  <tbody>\n",
       "    <tr>\n",
       "      <th>0</th>\n",
       "      <td>Total households</td>\n",
       "      <td>NaN</td>\n",
       "      <td>NaN</td>\n",
       "      <td>40662</td>\n",
       "      <td>(X)</td>\n",
       "      <td>179199.0</td>\n",
       "    </tr>\n",
       "    <tr>\n",
       "      <th>1</th>\n",
       "      <td>TYPES OF COMPUTER</td>\n",
       "      <td>Has one or more types of computing devices:</td>\n",
       "      <td>ANY</td>\n",
       "      <td>39135</td>\n",
       "      <td>96.2%</td>\n",
       "      <td>40662.0</td>\n",
       "    </tr>\n",
       "    <tr>\n",
       "      <th>2</th>\n",
       "      <td>TYPES OF COMPUTER</td>\n",
       "      <td>Has one or more types of computing devices:</td>\n",
       "      <td>Desktop or laptop</td>\n",
       "      <td>33599</td>\n",
       "      <td>82.6%</td>\n",
       "      <td>97875.0</td>\n",
       "    </tr>\n",
       "    <tr>\n",
       "      <th>3</th>\n",
       "      <td>TYPES OF COMPUTER</td>\n",
       "      <td>Has one or more types of computing devices:</td>\n",
       "      <td>Smartphone</td>\n",
       "      <td>37031</td>\n",
       "      <td>91.1%</td>\n",
       "      <td>NaN</td>\n",
       "    </tr>\n",
       "    <tr>\n",
       "      <th>4</th>\n",
       "      <td>TYPES OF COMPUTER</td>\n",
       "      <td>Has one or more types of computing devices:</td>\n",
       "      <td>Tablet or other portable wireless computer</td>\n",
       "      <td>26437</td>\n",
       "      <td>65.0%</td>\n",
       "      <td>NaN</td>\n",
       "    </tr>\n",
       "  </tbody>\n",
       "</table>\n",
       "</div>"
      ],
      "text/plain": [
       "               Label                                  Description  \\\n",
       "0   Total households                                          NaN   \n",
       "1  TYPES OF COMPUTER  Has one or more types of computing devices:   \n",
       "2  TYPES OF COMPUTER  Has one or more types of computing devices:   \n",
       "3  TYPES OF COMPUTER  Has one or more types of computing devices:   \n",
       "4  TYPES OF COMPUTER  Has one or more types of computing devices:   \n",
       "\n",
       "                                         Type  Total Estimate  \\\n",
       "0                                         NaN           40662   \n",
       "1                                         ANY           39135   \n",
       "2                           Desktop or laptop           33599   \n",
       "3                                  Smartphone           37031   \n",
       "4  Tablet or other portable wireless computer           26437   \n",
       "\n",
       "  Percent Estimate  Unnamed: 5  \n",
       "0              (X)    179199.0  \n",
       "1            96.2%     40662.0  \n",
       "2            82.6%     97875.0  \n",
       "3            91.1%         NaN  \n",
       "4            65.0%         NaN  "
      ]
     },
     "execution_count": 7,
     "metadata": {},
     "output_type": "execute_result"
    }
   ],
   "source": [
    "#Check first several rows\n",
    "technology.head()"
   ]
  },
  {
   "cell_type": "code",
   "execution_count": 8,
   "id": "cbfb1a7c",
   "metadata": {},
   "outputs": [
    {
     "data": {
      "text/plain": [
       "Index(['Label', 'Description', 'Type', 'Total Estimate', 'Percent Estimate',\n",
       "       'Unnamed: 5'],\n",
       "      dtype='object')"
      ]
     },
     "execution_count": 8,
     "metadata": {},
     "output_type": "execute_result"
    }
   ],
   "source": [
    "#Check the column headings\n",
    "technology.columns"
   ]
  },
  {
   "cell_type": "code",
   "execution_count": 9,
   "id": "9bd3d044",
   "metadata": {},
   "outputs": [
    {
     "name": "stdout",
     "output_type": "stream",
     "text": [
      "<class 'pandas.core.frame.DataFrame'>\n",
      "RangeIndex: 9 entries, 0 to 8\n",
      "Data columns (total 6 columns):\n",
      " #   Column            Non-Null Count  Dtype  \n",
      "---  ------            --------------  -----  \n",
      " 0   Label             9 non-null      object \n",
      " 1   Description       8 non-null      object \n",
      " 2   Type              5 non-null      object \n",
      " 3   Total Estimate    9 non-null      int64  \n",
      " 4   Percent Estimate  9 non-null      object \n",
      " 5   Unnamed: 5        3 non-null      float64\n",
      "dtypes: float64(1), int64(1), object(4)\n",
      "memory usage: 560.0+ bytes\n"
     ]
    }
   ],
   "source": [
    "#Check the datatypes\n",
    "technology.info()"
   ]
  },
  {
   "cell_type": "code",
   "execution_count": null,
   "id": "02e0fe6a",
   "metadata": {},
   "outputs": [],
   "source": []
  },
  {
   "cell_type": "code",
   "execution_count": null,
   "id": "660cfeaf",
   "metadata": {},
   "outputs": [],
   "source": []
  },
  {
   "cell_type": "code",
   "execution_count": null,
   "id": "835fd5c4",
   "metadata": {},
   "outputs": [],
   "source": []
  }
 ],
 "metadata": {
  "kernelspec": {
   "display_name": "Python 3",
   "language": "python",
   "name": "python3"
  },
  "language_info": {
   "codemirror_mode": {
    "name": "ipython",
    "version": 3
   },
   "file_extension": ".py",
   "mimetype": "text/x-python",
   "name": "python",
   "nbconvert_exporter": "python",
   "pygments_lexer": "ipython3",
   "version": "3.8.8"
  }
 },
 "nbformat": 4,
 "nbformat_minor": 5
}
