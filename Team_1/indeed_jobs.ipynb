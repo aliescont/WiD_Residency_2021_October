{
  "cells": [
    {
      "cell_type": "code",
      "execution_count": null,
      "metadata": {
        "colab": {
          "base_uri": "https://localhost:8080/"
        },
        "id": "Pwg9cH2NJovm",
        "outputId": "9aca66da-a509-4de6-a4a3-0e4441abd68c"
      },
      "outputs": [],
      "source": [
        "!pip install beautifulsoup\n",
        "!pip install selenium"
      ]
    },
    {
      "cell_type": "code",
      "execution_count": null,
      "metadata": {
        "colab": {
          "base_uri": "https://localhost:8080/"
        },
        "id": "4nQ_2a0OJ6mH",
        "outputId": "5b16db23-ec6a-40ed-fc5d-32a4f4ce3cca"
      },
      "outputs": [],
      "source": [
        "#install webdriver\n",
        "!apt-get update # to update ubuntu to correctly run apt install\n",
        "!apt install chromium-chromedriver\n",
        "!cp /usr/lib/chromium-browser/chromedriver /usr/bin\n",
        "import sys\n",
        "sys.path.insert(0,'/usr/lib/chromium-browser/chromedriver')"
      ]
    },
    {
      "cell_type": "code",
      "execution_count": null,
      "metadata": {
        "colab": {
          "base_uri": "https://localhost:8080/"
        },
        "id": "BbYgro1XLH39",
        "outputId": "1c76fc4b-9375-48b0-c031-832b3d22b108"
      },
      "outputs": [],
      "source": [
        "# importing libraries\n",
        "from selenium import webdriver\n",
        "import time\n",
        "from selenium.webdriver.common.keys import Keys\n",
        "from bs4 import BeautifulSoup\n",
        "import pandas as pd\n",
        "import requests\n",
        "\n",
        "from selenium import webdriver\n",
        "from selenium.webdriver.common.by import By\n",
        "from selenium.webdriver.remote.webdriver import WebDriver\n",
        "from selenium.webdriver.support.ui import WebDriverWait\n",
        "from selenium.webdriver.support import expected_conditions as EC\n",
        "\n",
        "!pip install dateparser\n",
        "import dateparser"
      ]
    },
    {
      "cell_type": "code",
      "execution_count": null,
      "metadata": {
        "id": "qMZKeD0dKEka"
      },
      "outputs": [],
      "source": [
        "def get_driver():\n",
        "\n",
        "    chrome_options = webdriver.ChromeOptions()\n",
        "    chrome_options.add_argument('--headless')\n",
        "    chrome_options.add_argument('--no-sandbox')\n",
        "    chrome_options.add_argument('--disable-dev-shm-usage') \n",
        "    chrome_options.add_argument(\"--window-size=1920,1080\")\n",
        "\n",
        "    \n",
        "    driver = webdriver.Chrome('chromedriver',options=chrome_options)\n",
        "\n",
        "    return driver"
      ]
    },
    {
      "cell_type": "code",
      "execution_count": null,
      "metadata": {
        "id": "62BFqWUFKZe1"
      },
      "outputs": [],
      "source": [
        "def get_url(n):\n",
        "    \"\"\"Function used for indexing pages given this url as first url \n",
        "    https://www.indeed.com/jobs?l=Rancho%20Cordova%2C%20CA&start=0&vjk=44d029cff87a579f\n",
        "    \"\"\"\n",
        "    urls = []\n",
        " \n",
        "    for i in range(n):\n",
        "        urls.append(f'https://www.indeed.com/jobs?l=Rancho%20Cordova%2C%20CA&start={i*10}&vjk=44d029cff87a579f')\n",
        "    return urls"
      ]
    },
    {
      "cell_type": "code",
      "execution_count": null,
      "metadata": {
        "id": "wbMh_CdmKfT1"
      },
      "outputs": [],
      "source": [
        "def get_job_info(card, soup):\n",
        " \n",
        "    title = soup.find(\"h2\", class_=\"jobTitle\").get_text()\n",
        "    \n",
        "    company = card.find('span','companyName').text.strip()\n",
        "    \n",
        "    location = card.find('div','companyLocation').text\n",
        "    \n",
        "    summary = card.find('div','job-snippet').text.strip()\n",
        "    \n",
        "    post_date = card.find('span','date').text\n",
        "    date = dateparser.parse(post_date).strftime(\"%Y-%m-%d\")\n",
        "    \n",
        "\n",
        "    link = 'https://www.indeed.com' + card.get('href')\n",
        "    \n",
        "\n",
        "    driver.get(link)\n",
        "    main = WebDriverWait(driver,30).until(\n",
        "            EC.presence_of_element_located((By.XPATH,'//*[@id=\"viewJobSSRRoot\"]/div/div[3]/div/div/div[1]'))\n",
        "        )\n",
        "   \n",
        "    job_desc = main.find_element_by_xpath('//*[@id=\"jobDescriptionText\"]').text \n",
        "    print(job_desc)\n",
        "    try:\n",
        "        salary = card.find('span','salaryText').text\n",
        "    except AttributeError:\n",
        "        salary = ''\n",
        "\n",
        "    record = {'title': title, \n",
        "        'company':company,\n",
        "        'location': location,\n",
        "        'post_date': date,\n",
        "        'salary': salary,\n",
        "        'summary': summary,\n",
        "        'link': link,\n",
        "        'description':job_desc}\n",
        "\n",
        "    #record = (title, company, location, post_date,salary,  summary, link, job_desc)\n",
        "\n",
        "    return record"
      ]
    },
    {
      "cell_type": "code",
      "execution_count": null,
      "metadata": {
        "colab": {
          "base_uri": "https://localhost:8080/"
        },
        "id": "Vhtyc0-mPbc2",
        "outputId": "1f01e521-f2d7-4934-e7c2-62aac1e05abf"
      },
      "outputs": [],
      "source": [
        "driver = get_driver()\n",
        "urls = get_url(25)\n",
        "print(urls)\n",
        "headers = {'User Agent': 'Mozilla/5.0 (X11; Linux x86_64) AppleWebKit/537.36 (KHTML, like Gecko) Chrome/94.0.4606.81 Safari/537.36'}\n",
        "joblist = []\n",
        "\n",
        "for url in urls:\n",
        "    r = requests.get(url, headers=headers)\n",
        "    soup = BeautifulSoup(r.text, 'html.parser')\n",
        "    cards = soup.find_all('a', 'tapItem')\n",
        "    \n",
        "    for card in cards:\n",
        "        try:\n",
        "            record = get_job_info(card, soup)\n",
        "            print('ok')\n",
        "            joblist.append(record)\n",
        "        except:\n",
        "          pass\n",
        "          \n",
        "print(joblist)\n"
      ]
    },
    {
      "cell_type": "code",
      "execution_count": null,
      "metadata": {
        "colab": {
          "base_uri": "https://localhost:8080/"
        },
        "id": "DMSLNNwdfPzr",
        "outputId": "d914043c-9701-4936-eaa5-171029a17501"
      },
      "outputs": [],
      "source": [
        "len(joblist)"
      ]
    },
    {
      "cell_type": "code",
      "execution_count": null,
      "metadata": {
        "colab": {
          "base_uri": "https://localhost:8080/",
          "height": 397
        },
        "id": "E091ortZRE1a",
        "outputId": "585a7e7a-fdc7-4929-d215-bd4e5b1534bc"
      },
      "outputs": [],
      "source": [
        "df = pd.DataFrame(joblist)\n",
        "\n",
        "df.head()"
      ]
    },
    {
      "cell_type": "code",
      "execution_count": null,
      "metadata": {
        "id": "2KGRE8XkiMX3"
      },
      "outputs": [],
      "source": [
        "df.to_csv('indeed_jobs.csv', index = False)"
      ]
    },
    {
      "cell_type": "markdown",
      "metadata": {
        "id": "8ZmhRe_NiPRm"
      },
      "source": [
        "# New Section"
      ]
    }
  ],
  "metadata": {
    "colab": {
      "collapsed_sections": [],
      "name": "indeed_jobs.ipynb",
      "provenance": []
    },
    "kernelspec": {
      "display_name": "Python 3",
      "name": "python3"
    },
    "language_info": {
      "name": "python"
    }
  },
  "nbformat": 4,
  "nbformat_minor": 0
}
