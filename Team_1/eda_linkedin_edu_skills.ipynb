{
 "cells": [
  {
   "cell_type": "code",
   "execution_count": 1,
   "metadata": {},
   "outputs": [
    {
     "name": "stderr",
     "output_type": "stream",
     "text": [
      "/home/aliciescont/anaconda3/envs/wid/lib/python3.8/site-packages/torch/cuda/__init__.py:52: UserWarning: CUDA initialization: CUDA unknown error - this may be due to an incorrectly set up environment, e.g. changing env variable CUDA_VISIBLE_DEVICES after program start. Setting the available devices to be zero. (Triggered internally at  /pytorch/c10/cuda/CUDAFunctions.cpp:100.)\n",
      "  return torch._C._cuda_getDeviceCount() > 0\n"
     ]
    }
   ],
   "source": [
    "#Load libraries\n",
    "#pip install keybert[flair]\n",
    "import pandas as pd\n",
    "import numpy as np\n",
    "import re\n",
    "from sklearn.feature_extraction.text import CountVectorizer\n",
    "from sentence_transformers import SentenceTransformer\n",
    "from keybert import KeyBERT\n",
    "from flair.embeddings import TransformerDocumentEmbeddings\n",
    "from sklearn.metrics.pairwise import cosine_similarity\n",
    "\n",
    "import matplotlib.pyplot as plt\n",
    "import seaborn as sns\n",
    "\n",
    "from nltk import pos_tag\n",
    "from nltk.stem import PorterStemmer\n",
    "from nltk.tokenize import word_tokenize\n",
    "\n",
    "import nltk\n",
    "from nltk.util import ngrams\n"
   ]
  },
  {
   "cell_type": "code",
   "execution_count": 2,
   "metadata": {},
   "outputs": [
    {
     "data": {
      "text/html": [
       "<div>\n",
       "<style scoped>\n",
       "    .dataframe tbody tr th:only-of-type {\n",
       "        vertical-align: middle;\n",
       "    }\n",
       "\n",
       "    .dataframe tbody tr th {\n",
       "        vertical-align: top;\n",
       "    }\n",
       "\n",
       "    .dataframe thead th {\n",
       "        text-align: right;\n",
       "    }\n",
       "</style>\n",
       "<table border=\"1\" class=\"dataframe\">\n",
       "  <thead>\n",
       "    <tr style=\"text-align: right;\">\n",
       "      <th></th>\n",
       "      <th>Unnamed: 0</th>\n",
       "      <th>Date</th>\n",
       "      <th>Company</th>\n",
       "      <th>Title</th>\n",
       "      <th>Job Description</th>\n",
       "      <th>Criteria</th>\n",
       "      <th>Seniority</th>\n",
       "      <th>Employment Type</th>\n",
       "      <th>Job Function</th>\n",
       "      <th>Industry</th>\n",
       "      <th>Experience</th>\n",
       "    </tr>\n",
       "  </thead>\n",
       "  <tbody>\n",
       "    <tr>\n",
       "      <th>0</th>\n",
       "      <td>0</td>\n",
       "      <td>2021-11-04</td>\n",
       "      <td>Dignity Health</td>\n",
       "      <td>Patient Advocate</td>\n",
       "      <td>*Overview*\\n\\nDignity Health Medical Foundatio...</td>\n",
       "      <td>Seniority level\\nAssociate\\nEmployment type\\nF...</td>\n",
       "      <td>Associate</td>\n",
       "      <td>Full-time</td>\n",
       "      <td>Health Care Provider</td>\n",
       "      <td>Nonprofit Organization Management, Health, Wel...</td>\n",
       "      <td>3.0</td>\n",
       "    </tr>\n",
       "    <tr>\n",
       "      <th>1</th>\n",
       "      <td>1</td>\n",
       "      <td>2021-11-04</td>\n",
       "      <td>Centene Corporation</td>\n",
       "      <td>Disease Management Enrollment Representative</td>\n",
       "      <td>Position Purpose\\n\\nThe Disease Management Enr...</td>\n",
       "      <td>Seniority level\\nNot Applicable\\nEmployment ty...</td>\n",
       "      <td>Not Applicable</td>\n",
       "      <td>Full-time</td>\n",
       "      <td>Customer Service and Information Technology</td>\n",
       "      <td>Hospital &amp; Health Care and Insurance</td>\n",
       "      <td>3.0</td>\n",
       "    </tr>\n",
       "    <tr>\n",
       "      <th>2</th>\n",
       "      <td>2</td>\n",
       "      <td>2021-10-27</td>\n",
       "      <td>Dignity Health</td>\n",
       "      <td>Patient Logistics Coordinator</td>\n",
       "      <td>*Overview*\\n\\nDignity Health, one of the natio...</td>\n",
       "      <td>Seniority level\\nEntry level\\nEmployment type\\...</td>\n",
       "      <td>Entry level</td>\n",
       "      <td>Full-time</td>\n",
       "      <td>Management and Manufacturing</td>\n",
       "      <td>Nonprofit Organization Management, Health, Wel...</td>\n",
       "      <td>2.0</td>\n",
       "    </tr>\n",
       "    <tr>\n",
       "      <th>3</th>\n",
       "      <td>3</td>\n",
       "      <td>2021-10-20</td>\n",
       "      <td>Centene Corporation</td>\n",
       "      <td>Disease Management Assistant (HNGS)</td>\n",
       "      <td>Position Purpose\\n\\nThe Disease Management Ass...</td>\n",
       "      <td>Seniority level\\nNot Applicable\\nEmployment ty...</td>\n",
       "      <td>Not Applicable</td>\n",
       "      <td>Contract</td>\n",
       "      <td>Administrative</td>\n",
       "      <td>Hospital &amp; Health Care and Insurance</td>\n",
       "      <td>3.0</td>\n",
       "    </tr>\n",
       "    <tr>\n",
       "      <th>4</th>\n",
       "      <td>4</td>\n",
       "      <td>2021-10-27</td>\n",
       "      <td>Dignity Health</td>\n",
       "      <td>Patient Logistics Coordinator</td>\n",
       "      <td>*Overview*\\n\\nDignity Health, one of the natio...</td>\n",
       "      <td>Seniority level\\nEntry level\\nEmployment type\\...</td>\n",
       "      <td>Entry level</td>\n",
       "      <td>Full-time</td>\n",
       "      <td>Management and Manufacturing</td>\n",
       "      <td>Nonprofit Organization Management, Health, Wel...</td>\n",
       "      <td>2.0</td>\n",
       "    </tr>\n",
       "  </tbody>\n",
       "</table>\n",
       "</div>"
      ],
      "text/plain": [
       "   Unnamed: 0        Date              Company  \\\n",
       "0           0  2021-11-04       Dignity Health   \n",
       "1           1  2021-11-04  Centene Corporation   \n",
       "2           2  2021-10-27       Dignity Health   \n",
       "3           3  2021-10-20  Centene Corporation   \n",
       "4           4  2021-10-27       Dignity Health   \n",
       "\n",
       "                                          Title  \\\n",
       "0                              Patient Advocate   \n",
       "1  Disease Management Enrollment Representative   \n",
       "2                 Patient Logistics Coordinator   \n",
       "3           Disease Management Assistant (HNGS)   \n",
       "4                 Patient Logistics Coordinator   \n",
       "\n",
       "                                     Job Description  \\\n",
       "0  *Overview*\\n\\nDignity Health Medical Foundatio...   \n",
       "1  Position Purpose\\n\\nThe Disease Management Enr...   \n",
       "2  *Overview*\\n\\nDignity Health, one of the natio...   \n",
       "3  Position Purpose\\n\\nThe Disease Management Ass...   \n",
       "4  *Overview*\\n\\nDignity Health, one of the natio...   \n",
       "\n",
       "                                            Criteria       Seniority  \\\n",
       "0  Seniority level\\nAssociate\\nEmployment type\\nF...       Associate   \n",
       "1  Seniority level\\nNot Applicable\\nEmployment ty...  Not Applicable   \n",
       "2  Seniority level\\nEntry level\\nEmployment type\\...     Entry level   \n",
       "3  Seniority level\\nNot Applicable\\nEmployment ty...  Not Applicable   \n",
       "4  Seniority level\\nEntry level\\nEmployment type\\...     Entry level   \n",
       "\n",
       "  Employment Type                                 Job Function  \\\n",
       "0       Full-time                         Health Care Provider   \n",
       "1       Full-time  Customer Service and Information Technology   \n",
       "2       Full-time                 Management and Manufacturing   \n",
       "3        Contract                               Administrative   \n",
       "4       Full-time                 Management and Manufacturing   \n",
       "\n",
       "                                            Industry  Experience  \n",
       "0  Nonprofit Organization Management, Health, Wel...         3.0  \n",
       "1               Hospital & Health Care and Insurance         3.0  \n",
       "2  Nonprofit Organization Management, Health, Wel...         2.0  \n",
       "3               Hospital & Health Care and Insurance         3.0  \n",
       "4  Nonprofit Organization Management, Health, Wel...         2.0  "
      ]
     },
     "execution_count": 2,
     "metadata": {},
     "output_type": "execute_result"
    }
   ],
   "source": [
    "#load dataset\n",
    "jobs_df = pd.read_csv('job_posts_clean_ish.csv')\n",
    "jobs_df.head()"
   ]
  },
  {
   "cell_type": "code",
   "execution_count": 3,
   "metadata": {},
   "outputs": [
    {
     "data": {
      "text/plain": [
       "Dignity Health               52\n",
       "CommonSpirit Health          51\n",
       "Centene Corporation          50\n",
       "Zurich North America         23\n",
       "Blue Shield of California    23\n",
       "Magellan Health              21\n",
       "gpac                         19\n",
       "Great Clips Inc.             16\n",
       "AutoZone                     16\n",
       "Safeway                      15\n",
       "Name: Company, dtype: int64"
      ]
     },
     "execution_count": 3,
     "metadata": {},
     "output_type": "execute_result"
    }
   ],
   "source": [
    "jobs_df['Company'].value_counts()[:10]"
   ]
  },
  {
   "cell_type": "code",
   "execution_count": 4,
   "metadata": {},
   "outputs": [
    {
     "data": {
      "text/plain": [
       "'Position Purpose\\n\\nThe Disease Management Enrollment Representative contacts beneficiaries, stratifies, and refers them for enrollment into appropriate disease management programs. Duties include corresponding with beneficiaries and assessing their needs via telephone for placement into appropriate disease management programs. Additional responsibilities include managing incoming/outgoing phone calls, scheduling appointments and tracking data.\\n\\nContacts beneficiaries who have a diagnosed disease condition that has been determined to be uncontrolled; for example, patients who have been admitted to the hospital or have had multiple emergency room visits.\\nWorks from unscripted talking points to obtain pertinent information regarding the beneficiary’s condition and assesses their readiness to make changes that will improve and control their disease. Guides the conversation to identify and work to overcome objections.\\nRefers enrollees to the correct educator for enrollment into appropriate Disease Management Programs based on condition, and schedules appointments with Disease Management Specialists.\\nStratifies beneficiaries into a variety of programs so that they can be placed appropriate levels.\\nManages incoming/outgoing phone calls.\\nDevelops and maintains a clear understanding of the disease management programs and their intent.\\nLearns and applies Disease Management Education Protocol.\\nProvides other support to the Disease Management team as necessary.\\n\\nEducation/Experience\\n\\nAssociate’s Degree or coursework focusing on General Education, Business, Health Education or other related field preferred. Minimum three years customer service or sales related telephone experience desired; managed care or clinical experience preferred.\\n\\nThis position will be supporting a Federal government contract, therefore it requires U. S. citizenship and proof of favorable adjudication following submission of Department of Defense form SF86 or higher security.\\n\\nCentene is an equal opportunity employer that is committed to diversity, and values the ways in which we are different. All qualified applicants will receive consideration for employment without regard to race, color, religion, sex, sexual orientation, gender identity, national origin, disability, veteran status, or other characteristic protected by applicable law.'"
      ]
     },
     "execution_count": 4,
     "metadata": {},
     "output_type": "execute_result"
    }
   ],
   "source": [
    "jobs_df['Job Description'][1]"
   ]
  },
  {
   "cell_type": "code",
   "execution_count": 5,
   "metadata": {},
   "outputs": [],
   "source": [
    "def clean_job_desc(desc):\n",
    "    desc_lower = desc.lower()\n",
    "    desc_clean = re.sub(r\"[\\n\\\\']\", \" \", desc_lower)\n",
    "\n",
    "    return desc_lower"
   ]
  },
  {
   "cell_type": "code",
   "execution_count": 6,
   "metadata": {},
   "outputs": [],
   "source": [
    "#https://towardsdatascience.com/keyword-extraction-with-bert-724efca412ea\n",
    "def get_keywords_ngram(text, model, ngram, n):\n",
    "    \"\"\"Extracts top n keywords from text using SentenceTransformer\n",
    "    Inputs:\n",
    "    text: original text\n",
    "    ngram: tuple(n_min, n_max)\n",
    "    model: refers to the model used for embedding using SentenceTransformer\n",
    "    n: number of top keywords\n",
    "    \"\"\"\n",
    "    #extract a list of candidates\n",
    "    doc_vectorizer = CountVectorizer(ngram_range=ngram, stop_words='english').fit([text])\n",
    "    doc_feat_names = doc_vectorizer.get_feature_names()\n",
    "    #get embeddings\n",
    "    emb_model = SentenceTransformer(model)\n",
    "    doc_emb = emb_model.encode([text])\n",
    "    keywords_emb = emb_model.encode(doc_feat_names)\n",
    "    #filter the top keywords most similar to the document\n",
    "    similarity = cosine_similarity(doc_emb, keywords_emb)\n",
    "    top_kw_doc = [doc_feat_names[index] for index in similarity.argsort()[0][-n:]]\n",
    "    top_kw_doc\n",
    "\n",
    "    return top_kw_doc"
   ]
  },
  {
   "cell_type": "code",
   "execution_count": 7,
   "metadata": {},
   "outputs": [],
   "source": [
    "doc = clean_job_desc(jobs_df['Job Description'][0])\n",
    "keywords = get_keywords_ngram(doc,'all-distilroberta-v1', (3,3), 10)"
   ]
  },
  {
   "cell_type": "code",
   "execution_count": 8,
   "metadata": {},
   "outputs": [
    {
     "data": {
      "text/plain": [
       "['dignity health medical',\n",
       " 'serve dignity health',\n",
       " 'california dignity health',\n",
       " 'affiliate dignity health',\n",
       " 'medical foundation continues',\n",
       " 'medical foundation affiliate',\n",
       " 'medical foundation works',\n",
       " 'foundation affiliate dignity',\n",
       " 'medical foundation established',\n",
       " 'health medical foundation']"
      ]
     },
     "execution_count": 8,
     "metadata": {},
     "output_type": "execute_result"
    }
   ],
   "source": [
    "keywords"
   ]
  },
  {
   "cell_type": "markdown",
   "metadata": {},
   "source": [
    "It doesn't work for our case. Keywords extracted are too general. It needs to be trained with labeled data of "
   ]
  },
  {
   "cell_type": "markdown",
   "metadata": {},
   "source": [
    "## Education skills"
   ]
  },
  {
   "cell_type": "code",
   "execution_count": 9,
   "metadata": {},
   "outputs": [],
   "source": [
    "#https://towardsdatascience.com/how-to-use-nlp-in-python-a-practical-step-by-step-example-bd82ca2d2e1e\n",
    "education_dict = {'bs': 1, 'bachelor': 1, 'undergraduate': 1, 'diploma':0, 'high school':0, 'ged': 0, 'university':1, 'intern':1,'nursing':1, 'license':1,\n",
    "               'master': 2, 'graduate': 2, 'mba': 2, 'associate':1,'phd': 2, 'ph.d': 2, 'ba': 1, 'ma': 2,\n",
    "               'postdoctoral': 3, 'postdoc': 3, 'doctorate': 2, 'advanced degree': 2, 'ms or': 2, 'ms degree': 2, '4 year degree': 1, 'bs/': 1, 'ba/': 1,\n",
    "                '4-year degree': 1, 'b.s.': 1, 'm.s.': 2, 'm.s': 2, 'b.s': 1, 'phd/': 3, 'ph.d.': 3, 'ms/': 2,\n",
    "                'm.s/': 2, 'm.s./': 2, 'msc/': 2, 'master/': 2, 'master\\'s/': 2, 'bachelor\\s/': 1}"
   ]
  },
  {
   "cell_type": "code",
   "execution_count": 10,
   "metadata": {},
   "outputs": [],
   "source": [
    "\n",
    "ps = PorterStemmer()\n",
    "\n",
    "def stem_job_desc(desc):\n",
    "    tokens = word_tokenize(desc)\n",
    "    token_tag = pos_tag(tokens)\n",
    "    \n",
    "    include_tags = ['VBN', 'VBD', 'JJ', 'JJS', 'JJR', 'CD', 'NN', 'NNS', 'NNP', 'NNPS']\n",
    "\n",
    "    filtered_tokens = [tok for tok, tag in token_tag if tag in include_tags ]\n",
    "\n",
    "    stemmed_tokens = [ps.stem(tok).lower() for tok in filtered_tokens]\n",
    "\n",
    "    return set(stemmed_tokens)\n"
   ]
  },
  {
   "cell_type": "code",
   "execution_count": 11,
   "metadata": {},
   "outputs": [],
   "source": [
    "education_keywords = set([ps.stem(tok) for tok in education_dict.keys()])\n",
    "education_keywords_dict = {ps.stem(tok):tok for tok in education_dict.keys()}"
   ]
  },
  {
   "cell_type": "code",
   "execution_count": 12,
   "metadata": {},
   "outputs": [],
   "source": [
    "jobs_df['desc_stem'] = jobs_df['Job Description'].map(stem_job_desc)\n"
   ]
  },
  {
   "cell_type": "code",
   "execution_count": 13,
   "metadata": {},
   "outputs": [
    {
     "data": {
      "text/plain": [
       "{'addit',\n",
       " 'adjud',\n",
       " 'admit',\n",
       " 'appli',\n",
       " 'applic',\n",
       " 'appoint',\n",
       " 'appropri',\n",
       " 'associ',\n",
       " 'base',\n",
       " 'been',\n",
       " 'beneficiari',\n",
       " 'busi',\n",
       " 'call',\n",
       " 'care',\n",
       " 'centen',\n",
       " 'chang',\n",
       " 'characterist',\n",
       " 'citizenship',\n",
       " 'clear',\n",
       " 'clinic',\n",
       " 'color',\n",
       " 'commit',\n",
       " 'condit',\n",
       " 'consider',\n",
       " 'contact',\n",
       " 'contract',\n",
       " 'convers',\n",
       " 'correct',\n",
       " 'coursework',\n",
       " 'custom',\n",
       " 'data',\n",
       " 'defens',\n",
       " 'degre',\n",
       " 'depart',\n",
       " 'desir',\n",
       " 'determin',\n",
       " 'develop',\n",
       " 'diagnos',\n",
       " 'differ',\n",
       " 'disabl',\n",
       " 'diseas',\n",
       " 'divers',\n",
       " 'duti',\n",
       " 'educ',\n",
       " 'education/experi',\n",
       " 'emerg',\n",
       " 'employ',\n",
       " 'enrol',\n",
       " 'equal',\n",
       " 'exampl',\n",
       " 'experi',\n",
       " 'favor',\n",
       " 'feder',\n",
       " 'field',\n",
       " 'form',\n",
       " 'gender',\n",
       " 'gener',\n",
       " 'govern',\n",
       " 'had',\n",
       " 'health',\n",
       " 'higher',\n",
       " 'hospit',\n",
       " 'ident',\n",
       " 'inform',\n",
       " 'intent',\n",
       " 'law',\n",
       " 'learn',\n",
       " 'level',\n",
       " 'manag',\n",
       " 'minimum',\n",
       " 'multipl',\n",
       " 'nation',\n",
       " 'necessari',\n",
       " 'need',\n",
       " 'object',\n",
       " 'opportun',\n",
       " 'orient',\n",
       " 'origin',\n",
       " 'other',\n",
       " 'patient',\n",
       " 'pertin',\n",
       " 'phone',\n",
       " 'place',\n",
       " 'placement',\n",
       " 'point',\n",
       " 'posit',\n",
       " 'prefer',\n",
       " 'program',\n",
       " 'proof',\n",
       " 'protect',\n",
       " 'protocol',\n",
       " 'provid',\n",
       " 'purpos',\n",
       " 'qualifi',\n",
       " 'race',\n",
       " 'readi',\n",
       " 'refer',\n",
       " 'regard',\n",
       " 'relat',\n",
       " 'religion',\n",
       " 'repres',\n",
       " 'respons',\n",
       " 'room',\n",
       " 's',\n",
       " 's.',\n",
       " 'sale',\n",
       " 'schedul',\n",
       " 'secur',\n",
       " 'servic',\n",
       " 'sex',\n",
       " 'sexual',\n",
       " 'sf86',\n",
       " 'specialist',\n",
       " 'statu',\n",
       " 'stratifi',\n",
       " 'submiss',\n",
       " 'support',\n",
       " 'team',\n",
       " 'telephon',\n",
       " 'three',\n",
       " 'u.',\n",
       " 'uncontrol',\n",
       " 'understand',\n",
       " 'unscript',\n",
       " 'varieti',\n",
       " 'veteran',\n",
       " 'visit',\n",
       " 'way',\n",
       " 'work',\n",
       " 'year',\n",
       " '’'}"
      ]
     },
     "execution_count": 13,
     "metadata": {},
     "output_type": "execute_result"
    }
   ],
   "source": [
    "jobs_df['desc_stem'][1]"
   ]
  },
  {
   "cell_type": "code",
   "execution_count": 14,
   "metadata": {},
   "outputs": [],
   "source": [
    "education_list = []\n",
    "\n",
    "for i in range(len(jobs_df['Job Description'])):\n",
    "    job_desc = jobs_df['Job Description'][i].lower() \n",
    "    \n",
    "    job_desc_set = jobs_df.iloc[i]['desc_stem'] \n",
    "   \n",
    "    education_words = education_keywords.intersection(job_desc_set)\n",
    "    \n",
    "    min_education_level = 999\n",
    "\n",
    "    for edu_word in education_words:\n",
    "        level = education_dict[education_keywords_dict[edu_word]]\n",
    "        min_education_level = min(min_education_level, level)\n",
    "        \n",
    "    if min_education_level > 500:\n",
    "        if 'degree' in job_desc:\n",
    "            min_education_level = 1\n",
    "\n",
    "    education_list.append(min_education_level)\n"
   ]
  },
  {
   "cell_type": "code",
   "execution_count": 15,
   "metadata": {},
   "outputs": [],
   "source": [
    "jobs_df['degree_value'] = education_list\n",
    "jobs_df.loc[jobs_df['degree_value'] == 0, 'degree_type'] = 'high school'\n",
    "jobs_df.loc[jobs_df['degree_value'] == 1, 'degree_type'] = 'bachelors'\n",
    "#graduated label includes (Masters, PhD, postdoc)\n",
    "jobs_df.loc[jobs_df['degree_value'] == 2, 'degree_type'] = 'graduated'\n",
    "jobs_df.loc[jobs_df['degree_value'] > 500, 'degree_type'] = 'not_specified'\n",
    "\n"
   ]
  },
  {
   "cell_type": "code",
   "execution_count": 16,
   "metadata": {},
   "outputs": [
    {
     "data": {
      "text/plain": [
       "<AxesSubplot:>"
      ]
     },
     "execution_count": 16,
     "metadata": {},
     "output_type": "execute_result"
    },
    {
     "data": {
      "image/png": "[encoded data removed]",
      "text/plain": [
       "<Figure size 432x288 with 1 Axes>"
      ]
     },
     "metadata": {
      "needs_background": "light"
     },
     "output_type": "display_data"
    }
   ],
   "source": [
    "jobs_df['Seniority'].value_counts(sort = False).sort_values(ascending=False).plot.bar()"
   ]
  },
  {
   "cell_type": "markdown",
   "metadata": {},
   "source": [
    "## EDA"
   ]
  },
  {
   "cell_type": "code",
   "execution_count": 17,
   "metadata": {},
   "outputs": [
    {
     "data": {
      "text/plain": [
       "Unnamed: 0          0\n",
       "Date                0\n",
       "Company             0\n",
       "Title               0\n",
       "Job Description     0\n",
       "Criteria            0\n",
       "Seniority          17\n",
       "Employment Type     0\n",
       "Job Function       17\n",
       "Industry           16\n",
       "Experience         95\n",
       "desc_stem           0\n",
       "degree_value        0\n",
       "degree_type         0\n",
       "dtype: int64"
      ]
     },
     "execution_count": 17,
     "metadata": {},
     "output_type": "execute_result"
    }
   ],
   "source": [
    "#check if there is nan values\n",
    "jobs_df.isna().sum()"
   ]
  },
  {
   "cell_type": "code",
   "execution_count": 18,
   "metadata": {},
   "outputs": [
    {
     "data": {
      "text/html": [
       "<div>\n",
       "<style scoped>\n",
       "    .dataframe tbody tr th:only-of-type {\n",
       "        vertical-align: middle;\n",
       "    }\n",
       "\n",
       "    .dataframe tbody tr th {\n",
       "        vertical-align: top;\n",
       "    }\n",
       "\n",
       "    .dataframe thead th {\n",
       "        text-align: right;\n",
       "    }\n",
       "</style>\n",
       "<table border=\"1\" class=\"dataframe\">\n",
       "  <thead>\n",
       "    <tr style=\"text-align: right;\">\n",
       "      <th></th>\n",
       "      <th>Experience</th>\n",
       "    </tr>\n",
       "    <tr>\n",
       "      <th>Seniority</th>\n",
       "      <th></th>\n",
       "    </tr>\n",
       "  </thead>\n",
       "  <tbody>\n",
       "    <tr>\n",
       "      <th>Associate</th>\n",
       "      <td>3.895522</td>\n",
       "    </tr>\n",
       "    <tr>\n",
       "      <th>Director</th>\n",
       "      <td>4.857143</td>\n",
       "    </tr>\n",
       "    <tr>\n",
       "      <th>Entry level</th>\n",
       "      <td>3.423423</td>\n",
       "    </tr>\n",
       "    <tr>\n",
       "      <th>Executive</th>\n",
       "      <td>5.000000</td>\n",
       "    </tr>\n",
       "    <tr>\n",
       "      <th>Internship</th>\n",
       "      <td>2.888889</td>\n",
       "    </tr>\n",
       "    <tr>\n",
       "      <th>Mid-Senior level</th>\n",
       "      <td>4.736264</td>\n",
       "    </tr>\n",
       "    <tr>\n",
       "      <th>Not Applicable</th>\n",
       "      <td>3.301587</td>\n",
       "    </tr>\n",
       "  </tbody>\n",
       "</table>\n",
       "</div>"
      ],
      "text/plain": [
       "                  Experience\n",
       "Seniority                   \n",
       "Associate           3.895522\n",
       "Director            4.857143\n",
       "Entry level         3.423423\n",
       "Executive           5.000000\n",
       "Internship          2.888889\n",
       "Mid-Senior level    4.736264\n",
       "Not Applicable      3.301587"
      ]
     },
     "execution_count": 18,
     "metadata": {},
     "output_type": "execute_result"
    }
   ],
   "source": [
    "#check mean years of experience related to each dataset\n",
    "jobs_df[['Experience', 'Seniority']].groupby('Seniority').mean()"
   ]
  },
  {
   "cell_type": "code",
   "execution_count": 19,
   "metadata": {},
   "outputs": [],
   "source": [
    "#assigned years of experience related to \n",
    "jobs_df.loc[(jobs_df['Experience'].isna() == True) & (jobs_df['Seniority'] == 'Internship'), 'Experience'] = 2\n",
    "jobs_df.loc[(jobs_df['Experience'].isna() == True) & (jobs_df['Seniority'] == 'Entry level'), 'Experience'] = 3\n",
    "jobs_df.loc[(jobs_df['Experience'].isna() == True) & (jobs_df['Seniority'] == 'Associate'), 'Experience'] = 4\n",
    "jobs_df.loc[(jobs_df['Experience'].isna() == True) & (jobs_df['Seniority'] == 'Mid-Senior level'), 'Experience'] = 5\n",
    "jobs_df.loc[(jobs_df['Experience'].isna() == True) & (jobs_df['Seniority'] == 'Mid-Senior level'), 'Experience'] = 5\n"
   ]
  },
  {
   "cell_type": "code",
   "execution_count": 20,
   "metadata": {},
   "outputs": [
    {
     "data": {
      "text/plain": [
       "Unnamed: 0         0.000000\n",
       "Date               0.000000\n",
       "Company            0.000000\n",
       "Title              0.000000\n",
       "Job Description    0.000000\n",
       "Criteria           0.000000\n",
       "Seniority          1.793249\n",
       "Employment Type    0.000000\n",
       "Job Function       1.793249\n",
       "Industry           1.687764\n",
       "Experience         0.843882\n",
       "desc_stem          0.000000\n",
       "degree_value       0.000000\n",
       "degree_type        0.000000\n",
       "dtype: float64"
      ]
     },
     "execution_count": 20,
     "metadata": {},
     "output_type": "execute_result"
    }
   ],
   "source": [
    "#check nan after imputation\n",
    "jobs_df.isna().sum()/len(jobs_df)*100"
   ]
  },
  {
   "cell_type": "code",
   "execution_count": 21,
   "metadata": {},
   "outputs": [
    {
     "data": {
      "text/plain": [
       "Unnamed: 0         0\n",
       "Date               0\n",
       "Company            0\n",
       "Title              0\n",
       "Job Description    0\n",
       "Criteria           0\n",
       "Seniority          0\n",
       "Employment Type    0\n",
       "Job Function       0\n",
       "Industry           0\n",
       "Experience         0\n",
       "desc_stem          0\n",
       "degree_value       0\n",
       "degree_type        0\n",
       "dtype: int64"
      ]
     },
     "execution_count": 21,
     "metadata": {},
     "output_type": "execute_result"
    }
   ],
   "source": [
    "#drop rest of nan values and check \n",
    "jobs_df = jobs_df.dropna()\n",
    "jobs_df.isna().sum()"
   ]
  },
  {
   "cell_type": "code",
   "execution_count": 22,
   "metadata": {},
   "outputs": [
    {
     "data": {
      "text/plain": [
       "Entry level         42.116631\n",
       "Associate           23.866091\n",
       "Not Applicable      20.410367\n",
       "Mid-Senior level    10.691145\n",
       "Director             1.511879\n",
       "Internship           1.187905\n",
       "Executive            0.215983\n",
       "Name: Seniority, dtype: float64"
      ]
     },
     "execution_count": 22,
     "metadata": {},
     "output_type": "execute_result"
    }
   ],
   "source": [
    "jobs_df['Seniority'].sort_values(ascending=False).value_counts()/len(jobs_df)*100"
   ]
  },
  {
   "cell_type": "code",
   "execution_count": 23,
   "metadata": {},
   "outputs": [
    {
     "data": {
      "text/plain": [
       "{3.0, 4.0, 5.0, 8.0}"
      ]
     },
     "execution_count": 23,
     "metadata": {},
     "output_type": "execute_result"
    }
   ],
   "source": [
    "#check the difference between Director and Executive\n",
    "set(jobs_df['Experience'][jobs_df['Seniority'] == 'Director'])"
   ]
  },
  {
   "cell_type": "code",
   "execution_count": 24,
   "metadata": {},
   "outputs": [],
   "source": [
    "#assigned Director and Exucutive same level, since there are few levels.Categorical(jobs_df['Seniority'])\n",
    "jobs_df.loc[(jobs_df['Seniority'] == 'Director') | (jobs_df['Seniority'] == 'Executive') , 'Seniority'] = 'Director & Executive'"
   ]
  },
  {
   "cell_type": "code",
   "execution_count": 25,
   "metadata": {},
   "outputs": [
    {
     "data": {
      "text/plain": [
       "Entry level             42.116631\n",
       "Associate               23.866091\n",
       "Not Applicable          20.410367\n",
       "Mid-Senior level        10.691145\n",
       "Director & Executive     1.727862\n",
       "Internship               1.187905\n",
       "Name: Seniority, dtype: float64"
      ]
     },
     "execution_count": 25,
     "metadata": {},
     "output_type": "execute_result"
    }
   ],
   "source": [
    "jobs_df['Seniority'].sort_values(ascending=False).value_counts()/len(jobs_df)*100"
   ]
  },
  {
   "cell_type": "markdown",
   "metadata": {},
   "source": [
    "Associate and entry levels are supposed to be for people with less than 3 years of experience. Therefore, most of the jobs posted are aimed to people with less than 3-4 years experience\n",
    "\n",
    "Data quality issues: 20% of the data is not labeled by any Seniority type "
   ]
  },
  {
   "cell_type": "code",
   "execution_count": 26,
   "metadata": {},
   "outputs": [
    {
     "data": {
      "text/html": [
       "<div>\n",
       "<style scoped>\n",
       "    .dataframe tbody tr th:only-of-type {\n",
       "        vertical-align: middle;\n",
       "    }\n",
       "\n",
       "    .dataframe tbody tr th {\n",
       "        vertical-align: top;\n",
       "    }\n",
       "\n",
       "    .dataframe thead th {\n",
       "        text-align: right;\n",
       "    }\n",
       "</style>\n",
       "<table border=\"1\" class=\"dataframe\">\n",
       "  <thead>\n",
       "    <tr style=\"text-align: right;\">\n",
       "      <th></th>\n",
       "      <th>Experience</th>\n",
       "    </tr>\n",
       "    <tr>\n",
       "      <th>degree_type</th>\n",
       "      <th></th>\n",
       "    </tr>\n",
       "  </thead>\n",
       "  <tbody>\n",
       "    <tr>\n",
       "      <th>bachelors</th>\n",
       "      <td>3.409449</td>\n",
       "    </tr>\n",
       "    <tr>\n",
       "      <th>graduated</th>\n",
       "      <td>6.500000</td>\n",
       "    </tr>\n",
       "    <tr>\n",
       "      <th>high school</th>\n",
       "      <td>2.978723</td>\n",
       "    </tr>\n",
       "    <tr>\n",
       "      <th>not_specified</th>\n",
       "      <td>2.923077</td>\n",
       "    </tr>\n",
       "  </tbody>\n",
       "</table>\n",
       "</div>"
      ],
      "text/plain": [
       "               Experience\n",
       "degree_type              \n",
       "bachelors        3.409449\n",
       "graduated        6.500000\n",
       "high school      2.978723\n",
       "not_specified    2.923077"
      ]
     },
     "execution_count": 26,
     "metadata": {},
     "output_type": "execute_result"
    }
   ],
   "source": [
    "#mean experience for jobs labeled as NA\n",
    "na_seniority = jobs_df[['degree_type', 'Experience', 'Industry', 'Employment Type', 'Job Function']][jobs_df['Seniority']=='Not Applicable']\n",
    "na_seniority.groupby('degree_type').mean()"
   ]
  },
  {
   "cell_type": "code",
   "execution_count": 27,
   "metadata": {},
   "outputs": [
    {
     "data": {
      "text/plain": [
       "Health Care Provider                                  35\n",
       "Management and Manufacturing                          20\n",
       "Engineering and Information Technology                17\n",
       "Other                                                 16\n",
       "Information Technology                                15\n",
       "Sales and Business Development                        13\n",
       "Customer Service and Information Technology           11\n",
       "Project Management and Information Technology         10\n",
       "General Business, Finance, and Accounting/Auditing     7\n",
       "Finance and Sales                                      7\n",
       "Name: Job Function, dtype: int64"
      ]
     },
     "execution_count": 27,
     "metadata": {},
     "output_type": "execute_result"
    }
   ],
   "source": [
    "#Job function for jobs labeled as NA\n",
    "na_seniority['Job Function'].value_counts()[:10]"
   ]
  },
  {
   "cell_type": "code",
   "execution_count": 28,
   "metadata": {},
   "outputs": [
    {
     "data": {
      "text/plain": [
       "<AxesSubplot:xlabel='degree_type', ylabel='count'>"
      ]
     },
     "execution_count": 28,
     "metadata": {},
     "output_type": "execute_result"
    },
    {
     "data": {
      "image/png": "[encoded data removed]",
      "text/plain": [
       "<Figure size 576x288 with 1 Axes>"
      ]
     },
     "metadata": {
      "needs_background": "light"
     },
     "output_type": "display_data"
    }
   ],
   "source": [
    "plt.figure(figsize=(8,4))\n",
    "sns.countplot(x='degree_type', data = jobs_df, order = ['high school', 'bachelors', 'graduated', 'not_specified'], palette='viridis')"
   ]
  },
  {
   "cell_type": "code",
   "execution_count": 29,
   "metadata": {},
   "outputs": [
    {
     "data": {
      "text/plain": [
       "bachelors        529\n",
       "high school      236\n",
       "not_specified    152\n",
       "graduated          9\n",
       "Name: degree_type, dtype: int64"
      ]
     },
     "execution_count": 29,
     "metadata": {},
     "output_type": "execute_result"
    }
   ],
   "source": [
    "jobs_df.sort_values('degree_value', ascending = False)['degree_type'].value_counts()\n"
   ]
  },
  {
   "cell_type": "code",
   "execution_count": 30,
   "metadata": {},
   "outputs": [
    {
     "data": {
      "text/plain": [
       "<AxesSubplot:xlabel='Seniority', ylabel='count'>"
      ]
     },
     "execution_count": 30,
     "metadata": {},
     "output_type": "execute_result"
    },
    {
     "data": {
      "image/png": "[encoded data removed]",
      "text/plain": [
       "<Figure size 720x432 with 1 Axes>"
      ]
     },
     "metadata": {
      "needs_background": "light"
     },
     "output_type": "display_data"
    }
   ],
   "source": [
    "\n",
    "seniority_order = ['Internship', 'Entry level', 'Associate', 'Mid-Senior level', 'Director & Executive', 'Not Applicable']\n",
    "plt.figure(figsize=(10,6))\n",
    "sns.countplot(x='Seniority', data = jobs_df, order = seniority_order, palette='viridis')\n"
   ]
  },
  {
   "cell_type": "code",
   "execution_count": 31,
   "metadata": {},
   "outputs": [
    {
     "data": {
      "text/plain": [
       "Entry level             390\n",
       "Associate               221\n",
       "Not Applicable          189\n",
       "Mid-Senior level         99\n",
       "Director & Executive     16\n",
       "Internship               11\n",
       "Name: Seniority, dtype: int64"
      ]
     },
     "execution_count": 31,
     "metadata": {},
     "output_type": "execute_result"
    }
   ],
   "source": [
    "jobs_df['Seniority'].value_counts()"
   ]
  },
  {
   "cell_type": "markdown",
   "metadata": {},
   "source": [
    "The "
   ]
  },
  {
   "cell_type": "code",
   "execution_count": 32,
   "metadata": {},
   "outputs": [
    {
     "data": {
      "image/png": "[encoded data removed]",
      "text/plain": [
       "<Figure size 864x360 with 1 Axes>"
      ]
     },
     "metadata": {
      "needs_background": "light"
     },
     "output_type": "display_data"
    }
   ],
   "source": [
    "plt.figure(figsize=(12,5))\n",
    "sns.countplot(x='Seniority', data = jobs_df, order = seniority_order, hue='degree_type', palette='rainbow')\n",
    "plt.legend(loc='upper right')\n",
    "plt.title('Education level by Seniority in job posts')\n",
    "plt.savefig('educaction_seniority.png')"
   ]
  },
  {
   "cell_type": "code",
   "execution_count": 33,
   "metadata": {},
   "outputs": [
    {
     "data": {
      "text/plain": [
       "<AxesSubplot:xlabel='Seniority', ylabel='Experience'>"
      ]
     },
     "execution_count": 33,
     "metadata": {},
     "output_type": "execute_result"
    },
    {
     "data": {
      "image/png": "[encoded data removed]",
      "text/plain": [
       "<Figure size 720x576 with 1 Axes>"
      ]
     },
     "metadata": {
      "needs_background": "light"
     },
     "output_type": "display_data"
    }
   ],
   "source": [
    "plt.figure(figsize=(10,8))\n",
    "sns.boxplot(data=jobs_df, x='Seniority', y='Experience', palette='viridis')"
   ]
  },
  {
   "cell_type": "code",
   "execution_count": 34,
   "metadata": {},
   "outputs": [
    {
     "data": {
      "text/html": [
       "<div>\n",
       "<style scoped>\n",
       "    .dataframe tbody tr th:only-of-type {\n",
       "        vertical-align: middle;\n",
       "    }\n",
       "\n",
       "    .dataframe tbody tr th {\n",
       "        vertical-align: top;\n",
       "    }\n",
       "\n",
       "    .dataframe thead th {\n",
       "        text-align: right;\n",
       "    }\n",
       "</style>\n",
       "<table border=\"1\" class=\"dataframe\">\n",
       "  <thead>\n",
       "    <tr style=\"text-align: right;\">\n",
       "      <th></th>\n",
       "      <th>Unnamed: 0</th>\n",
       "      <th>Date</th>\n",
       "      <th>Company</th>\n",
       "      <th>Title</th>\n",
       "      <th>Job Description</th>\n",
       "      <th>Criteria</th>\n",
       "      <th>Seniority</th>\n",
       "      <th>Employment Type</th>\n",
       "      <th>Job Function</th>\n",
       "      <th>Industry</th>\n",
       "      <th>Experience</th>\n",
       "      <th>desc_stem</th>\n",
       "      <th>degree_value</th>\n",
       "      <th>degree_type</th>\n",
       "      <th>Criteria_cat</th>\n",
       "      <th>Seniority_cat</th>\n",
       "      <th>Employment_type_cat</th>\n",
       "      <th>Job Function_cat</th>\n",
       "      <th>Industry_cat</th>\n",
       "    </tr>\n",
       "  </thead>\n",
       "  <tbody>\n",
       "    <tr>\n",
       "      <th>0</th>\n",
       "      <td>0</td>\n",
       "      <td>2021-11-04</td>\n",
       "      <td>Dignity Health</td>\n",
       "      <td>Patient Advocate</td>\n",
       "      <td>*Overview*\\n\\nDignity Health Medical Foundatio...</td>\n",
       "      <td>Seniority level\\nAssociate\\nEmployment type\\nF...</td>\n",
       "      <td>Associate</td>\n",
       "      <td>Full-time</td>\n",
       "      <td>Health Care Provider</td>\n",
       "      <td>Nonprofit Organization Management, Health, Wel...</td>\n",
       "      <td>3.0</td>\n",
       "      <td>{care, vital, persuas, new, demonstr, word, in...</td>\n",
       "      <td>1</td>\n",
       "      <td>bachelors</td>\n",
       "      <td>55</td>\n",
       "      <td>55</td>\n",
       "      <td>1</td>\n",
       "      <td>30</td>\n",
       "      <td>136</td>\n",
       "    </tr>\n",
       "    <tr>\n",
       "      <th>1</th>\n",
       "      <td>1</td>\n",
       "      <td>2021-11-04</td>\n",
       "      <td>Centene Corporation</td>\n",
       "      <td>Disease Management Enrollment Representative</td>\n",
       "      <td>Position Purpose\\n\\nThe Disease Management Enr...</td>\n",
       "      <td>Seniority level\\nNot Applicable\\nEmployment ty...</td>\n",
       "      <td>Not Applicable</td>\n",
       "      <td>Full-time</td>\n",
       "      <td>Customer Service and Information Technology</td>\n",
       "      <td>Hospital &amp; Health Care and Insurance</td>\n",
       "      <td>3.0</td>\n",
       "      <td>{need, learn, care, centen, sf86, veteran, tel...</td>\n",
       "      <td>1</td>\n",
       "      <td>bachelors</td>\n",
       "      <td>476</td>\n",
       "      <td>476</td>\n",
       "      <td>1</td>\n",
       "      <td>12</td>\n",
       "      <td>88</td>\n",
       "    </tr>\n",
       "    <tr>\n",
       "      <th>2</th>\n",
       "      <td>2</td>\n",
       "      <td>2021-10-27</td>\n",
       "      <td>Dignity Health</td>\n",
       "      <td>Patient Logistics Coordinator</td>\n",
       "      <td>*Overview*\\n\\nDignity Health, one of the natio...</td>\n",
       "      <td>Seniority level\\nEntry level\\nEmployment type\\...</td>\n",
       "      <td>Entry level</td>\n",
       "      <td>Full-time</td>\n",
       "      <td>Management and Manufacturing</td>\n",
       "      <td>Nonprofit Organization Management, Health, Wel...</td>\n",
       "      <td>2.0</td>\n",
       "      <td>{core, need, approach, care, vision, 400, tele...</td>\n",
       "      <td>1</td>\n",
       "      <td>bachelors</td>\n",
       "      <td>289</td>\n",
       "      <td>289</td>\n",
       "      <td>1</td>\n",
       "      <td>38</td>\n",
       "      <td>136</td>\n",
       "    </tr>\n",
       "    <tr>\n",
       "      <th>3</th>\n",
       "      <td>3</td>\n",
       "      <td>2021-10-20</td>\n",
       "      <td>Centene Corporation</td>\n",
       "      <td>Disease Management Assistant (HNGS)</td>\n",
       "      <td>Position Purpose\\n\\nThe Disease Management Ass...</td>\n",
       "      <td>Seniority level\\nNot Applicable\\nEmployment ty...</td>\n",
       "      <td>Not Applicable</td>\n",
       "      <td>Contract</td>\n",
       "      <td>Administrative</td>\n",
       "      <td>Hospital &amp; Health Care and Insurance</td>\n",
       "      <td>3.0</td>\n",
       "      <td>{need, dm/cm/um, care, third, centen, sf86, ve...</td>\n",
       "      <td>0</td>\n",
       "      <td>high school</td>\n",
       "      <td>465</td>\n",
       "      <td>465</td>\n",
       "      <td>0</td>\n",
       "      <td>5</td>\n",
       "      <td>88</td>\n",
       "    </tr>\n",
       "    <tr>\n",
       "      <th>4</th>\n",
       "      <td>4</td>\n",
       "      <td>2021-10-27</td>\n",
       "      <td>Dignity Health</td>\n",
       "      <td>Patient Logistics Coordinator</td>\n",
       "      <td>*Overview*\\n\\nDignity Health, one of the natio...</td>\n",
       "      <td>Seniority level\\nEntry level\\nEmployment type\\...</td>\n",
       "      <td>Entry level</td>\n",
       "      <td>Full-time</td>\n",
       "      <td>Management and Manufacturing</td>\n",
       "      <td>Nonprofit Organization Management, Health, Wel...</td>\n",
       "      <td>2.0</td>\n",
       "      <td>{core, need, approach, care, vision, 400, tele...</td>\n",
       "      <td>1</td>\n",
       "      <td>bachelors</td>\n",
       "      <td>289</td>\n",
       "      <td>289</td>\n",
       "      <td>1</td>\n",
       "      <td>38</td>\n",
       "      <td>136</td>\n",
       "    </tr>\n",
       "  </tbody>\n",
       "</table>\n",
       "</div>"
      ],
      "text/plain": [
       "   Unnamed: 0        Date              Company  \\\n",
       "0           0  2021-11-04       Dignity Health   \n",
       "1           1  2021-11-04  Centene Corporation   \n",
       "2           2  2021-10-27       Dignity Health   \n",
       "3           3  2021-10-20  Centene Corporation   \n",
       "4           4  2021-10-27       Dignity Health   \n",
       "\n",
       "                                          Title  \\\n",
       "0                              Patient Advocate   \n",
       "1  Disease Management Enrollment Representative   \n",
       "2                 Patient Logistics Coordinator   \n",
       "3           Disease Management Assistant (HNGS)   \n",
       "4                 Patient Logistics Coordinator   \n",
       "\n",
       "                                     Job Description  \\\n",
       "0  *Overview*\\n\\nDignity Health Medical Foundatio...   \n",
       "1  Position Purpose\\n\\nThe Disease Management Enr...   \n",
       "2  *Overview*\\n\\nDignity Health, one of the natio...   \n",
       "3  Position Purpose\\n\\nThe Disease Management Ass...   \n",
       "4  *Overview*\\n\\nDignity Health, one of the natio...   \n",
       "\n",
       "                                            Criteria       Seniority  \\\n",
       "0  Seniority level\\nAssociate\\nEmployment type\\nF...       Associate   \n",
       "1  Seniority level\\nNot Applicable\\nEmployment ty...  Not Applicable   \n",
       "2  Seniority level\\nEntry level\\nEmployment type\\...     Entry level   \n",
       "3  Seniority level\\nNot Applicable\\nEmployment ty...  Not Applicable   \n",
       "4  Seniority level\\nEntry level\\nEmployment type\\...     Entry level   \n",
       "\n",
       "  Employment Type                                 Job Function  \\\n",
       "0       Full-time                         Health Care Provider   \n",
       "1       Full-time  Customer Service and Information Technology   \n",
       "2       Full-time                 Management and Manufacturing   \n",
       "3        Contract                               Administrative   \n",
       "4       Full-time                 Management and Manufacturing   \n",
       "\n",
       "                                            Industry  Experience  \\\n",
       "0  Nonprofit Organization Management, Health, Wel...         3.0   \n",
       "1               Hospital & Health Care and Insurance         3.0   \n",
       "2  Nonprofit Organization Management, Health, Wel...         2.0   \n",
       "3               Hospital & Health Care and Insurance         3.0   \n",
       "4  Nonprofit Organization Management, Health, Wel...         2.0   \n",
       "\n",
       "                                           desc_stem  degree_value  \\\n",
       "0  {care, vital, persuas, new, demonstr, word, in...             1   \n",
       "1  {need, learn, care, centen, sf86, veteran, tel...             1   \n",
       "2  {core, need, approach, care, vision, 400, tele...             1   \n",
       "3  {need, dm/cm/um, care, third, centen, sf86, ve...             0   \n",
       "4  {core, need, approach, care, vision, 400, tele...             1   \n",
       "\n",
       "   degree_type  Criteria_cat  Seniority_cat  Employment_type_cat  \\\n",
       "0    bachelors            55             55                    1   \n",
       "1    bachelors           476            476                    1   \n",
       "2    bachelors           289            289                    1   \n",
       "3  high school           465            465                    0   \n",
       "4    bachelors           289            289                    1   \n",
       "\n",
       "   Job Function_cat  Industry_cat  \n",
       "0                30           136  \n",
       "1                12            88  \n",
       "2                38           136  \n",
       "3                 5            88  \n",
       "4                38           136  "
      ]
     },
     "execution_count": 34,
     "metadata": {},
     "output_type": "execute_result"
    }
   ],
   "source": [
    "#change categorical values to numerical values to calculate correlation\n",
    "jobs_df_cat = jobs_df.copy()\n",
    "jobs_df['Criteria'] = jobs_df['Criteria'].astype('category')\n",
    "jobs_df['Seniority'] = jobs_df['Seniority'].astype('category')\n",
    "jobs_df['Employment Type'] = jobs_df['Employment Type'].astype('category')\n",
    "jobs_df['Job Function'] = jobs_df['Job Function'].astype('category')\n",
    "jobs_df['Industry'] = jobs_df['Industry'].astype('category')\n",
    "\n",
    "\n",
    "jobs_df_cat['Criteria_cat'] = jobs_df['Criteria'].cat.codes\n",
    "jobs_df_cat['Seniority_cat'] = jobs_df['Criteria'].cat.codes\n",
    "jobs_df_cat['Employment_type_cat'] = jobs_df['Employment Type'].cat.codes\n",
    "jobs_df_cat['Job Function_cat'] = jobs_df['Job Function'].cat.codes\n",
    "jobs_df_cat['Industry_cat'] = jobs_df['Industry'].cat.codes\n",
    "jobs_df_cat.head()"
   ]
  },
  {
   "cell_type": "code",
   "execution_count": 35,
   "metadata": {},
   "outputs": [
    {
     "data": {
      "text/html": [
       "<div>\n",
       "<style scoped>\n",
       "    .dataframe tbody tr th:only-of-type {\n",
       "        vertical-align: middle;\n",
       "    }\n",
       "\n",
       "    .dataframe tbody tr th {\n",
       "        vertical-align: top;\n",
       "    }\n",
       "\n",
       "    .dataframe thead th {\n",
       "        text-align: right;\n",
       "    }\n",
       "</style>\n",
       "<table border=\"1\" class=\"dataframe\">\n",
       "  <thead>\n",
       "    <tr style=\"text-align: right;\">\n",
       "      <th></th>\n",
       "      <th>Date</th>\n",
       "      <th>Experience</th>\n",
       "      <th>degree_value</th>\n",
       "      <th>Criteria_cat</th>\n",
       "      <th>Seniority_cat</th>\n",
       "      <th>Employment_type_cat</th>\n",
       "      <th>Job Function_cat</th>\n",
       "      <th>Industry_cat</th>\n",
       "    </tr>\n",
       "  </thead>\n",
       "  <tbody>\n",
       "    <tr>\n",
       "      <th>0</th>\n",
       "      <td>2021-11-04</td>\n",
       "      <td>3.0</td>\n",
       "      <td>1</td>\n",
       "      <td>55</td>\n",
       "      <td>55</td>\n",
       "      <td>1</td>\n",
       "      <td>30</td>\n",
       "      <td>136</td>\n",
       "    </tr>\n",
       "    <tr>\n",
       "      <th>1</th>\n",
       "      <td>2021-11-04</td>\n",
       "      <td>3.0</td>\n",
       "      <td>1</td>\n",
       "      <td>476</td>\n",
       "      <td>476</td>\n",
       "      <td>1</td>\n",
       "      <td>12</td>\n",
       "      <td>88</td>\n",
       "    </tr>\n",
       "    <tr>\n",
       "      <th>2</th>\n",
       "      <td>2021-10-27</td>\n",
       "      <td>2.0</td>\n",
       "      <td>1</td>\n",
       "      <td>289</td>\n",
       "      <td>289</td>\n",
       "      <td>1</td>\n",
       "      <td>38</td>\n",
       "      <td>136</td>\n",
       "    </tr>\n",
       "    <tr>\n",
       "      <th>3</th>\n",
       "      <td>2021-10-20</td>\n",
       "      <td>3.0</td>\n",
       "      <td>0</td>\n",
       "      <td>465</td>\n",
       "      <td>465</td>\n",
       "      <td>0</td>\n",
       "      <td>5</td>\n",
       "      <td>88</td>\n",
       "    </tr>\n",
       "    <tr>\n",
       "      <th>4</th>\n",
       "      <td>2021-10-27</td>\n",
       "      <td>2.0</td>\n",
       "      <td>1</td>\n",
       "      <td>289</td>\n",
       "      <td>289</td>\n",
       "      <td>1</td>\n",
       "      <td>38</td>\n",
       "      <td>136</td>\n",
       "    </tr>\n",
       "  </tbody>\n",
       "</table>\n",
       "</div>"
      ],
      "text/plain": [
       "         Date  Experience  degree_value  Criteria_cat  Seniority_cat  \\\n",
       "0  2021-11-04         3.0             1            55             55   \n",
       "1  2021-11-04         3.0             1           476            476   \n",
       "2  2021-10-27         2.0             1           289            289   \n",
       "3  2021-10-20         3.0             0           465            465   \n",
       "4  2021-10-27         2.0             1           289            289   \n",
       "\n",
       "   Employment_type_cat  Job Function_cat  Industry_cat  \n",
       "0                    1                30           136  \n",
       "1                    1                12            88  \n",
       "2                    1                38           136  \n",
       "3                    0                 5            88  \n",
       "4                    1                38           136  "
      ]
     },
     "execution_count": 35,
     "metadata": {},
     "output_type": "execute_result"
    }
   ],
   "source": [
    "jobs_final = jobs_df_cat[['Date', 'Experience', 'degree_value', 'Criteria_cat', 'Seniority_cat', 'Employment_type_cat', 'Job Function_cat', 'Industry_cat']]\n",
    "jobs_final.head()"
   ]
  },
  {
   "cell_type": "code",
   "execution_count": 36,
   "metadata": {},
   "outputs": [
    {
     "data": {
      "image/png": "[encoded data removed]",
      "text/plain": [
       "<Figure size 432x288 with 2 Axes>"
      ]
     },
     "metadata": {
      "needs_background": "light"
     },
     "output_type": "display_data"
    }
   ],
   "source": [
    "plt.figure(figsize=(6,4))\n",
    "corr = jobs_final.corr()\n",
    "sns.heatmap(corr, \n",
    "            xticklabels=corr.columns.values,\n",
    "            yticklabels=corr.columns.values)\n",
    "plt.savefig('corr.png')"
   ]
  },
  {
   "cell_type": "markdown",
   "metadata": {},
   "source": [
    "## Skills"
   ]
  },
  {
   "cell_type": "code",
   "execution_count": 37,
   "metadata": {},
   "outputs": [],
   "source": [
    "skills_df = pd.read_csv('linkedin_ec_graph_may_2021.csv')\n",
    "top_skills = skills_df['categoryName'][skills_df['categoryType']== 'Top Trending Skills'].to_list()"
   ]
  },
  {
   "cell_type": "code",
   "execution_count": 38,
   "metadata": {},
   "outputs": [
    {
     "data": {
      "text/plain": [
       "['JavaScript',\n",
       " 'Account Management',\n",
       " 'Sales Management',\n",
       " 'Investment Properties',\n",
       " 'Working with First-Time Home Buyers',\n",
       " 'Operations Management',\n",
       " 'Team Building',\n",
       " 'Legal Writing',\n",
       " 'Construction Management',\n",
       " 'Civil Litigation',\n",
       " 'Account Reconciliation',\n",
       " 'Sales Operations',\n",
       " 'General Ledger',\n",
       " 'Customer Satisfaction',\n",
       " 'Nursing',\n",
       " 'Basic Life Support (BLS)']"
      ]
     },
     "execution_count": 38,
     "metadata": {},
     "output_type": "execute_result"
    }
   ],
   "source": [
    "top_skills"
   ]
  },
  {
   "cell_type": "code",
   "execution_count": 39,
   "metadata": {},
   "outputs": [
    {
     "data": {
      "text/plain": [
       "{'javascript': 'JavaScript',\n",
       " 'account manag': 'Account Management',\n",
       " 'sales manag': 'Sales Management',\n",
       " 'investment properti': 'Investment Properties',\n",
       " 'working with first-time home buy': 'Working with First-Time Home Buyers',\n",
       " 'operations manag': 'Operations Management',\n",
       " 'team build': 'Team Building',\n",
       " 'legal writ': 'Legal Writing',\n",
       " 'construction manag': 'Construction Management',\n",
       " 'civil litig': 'Civil Litigation',\n",
       " 'account reconcili': 'Account Reconciliation',\n",
       " 'sales oper': 'Sales Operations',\n",
       " 'general ledg': 'General Ledger',\n",
       " 'customer satisfact': 'Customer Satisfaction',\n",
       " 'nurs': 'Nursing',\n",
       " 'basic life support (bls)': 'Basic Life Support (BLS)'}"
      ]
     },
     "execution_count": 39,
     "metadata": {},
     "output_type": "execute_result"
    }
   ],
   "source": [
    "#convert top skills list to a stem dictionary\n",
    "skill_keywords = set([ps.stem(tok) for tok in top_skills])\n",
    "skill_keywords_dict = {ps.stem(tok):tok for tok in top_skills}\n",
    "skill_keywords_dict"
   ]
  },
  {
   "cell_type": "code",
   "execution_count": 40,
   "metadata": {},
   "outputs": [
    {
     "data": {
      "text/html": [
       "<div>\n",
       "<style scoped>\n",
       "    .dataframe tbody tr th:only-of-type {\n",
       "        vertical-align: middle;\n",
       "    }\n",
       "\n",
       "    .dataframe tbody tr th {\n",
       "        vertical-align: top;\n",
       "    }\n",
       "\n",
       "    .dataframe thead th {\n",
       "        text-align: right;\n",
       "    }\n",
       "</style>\n",
       "<table border=\"1\" class=\"dataframe\">\n",
       "  <thead>\n",
       "    <tr style=\"text-align: right;\">\n",
       "      <th></th>\n",
       "      <th>date</th>\n",
       "      <th>countryCode</th>\n",
       "      <th>countryName</th>\n",
       "      <th>regionName</th>\n",
       "      <th>industryName</th>\n",
       "      <th>categoryType</th>\n",
       "      <th>categoryName</th>\n",
       "      <th>categoryValue</th>\n",
       "      <th>rank</th>\n",
       "    </tr>\n",
       "  </thead>\n",
       "  <tbody>\n",
       "    <tr>\n",
       "      <th>0</th>\n",
       "      <td>2021-05-31</td>\n",
       "      <td>us</td>\n",
       "      <td>United States</td>\n",
       "      <td>Greater Sacramento</td>\n",
       "      <td>All</td>\n",
       "      <td>Top Trending Employers</td>\n",
       "      <td>UC Davis Health</td>\n",
       "      <td>5.304170</td>\n",
       "      <td>1</td>\n",
       "    </tr>\n",
       "    <tr>\n",
       "      <th>1</th>\n",
       "      <td>2021-05-31</td>\n",
       "      <td>us</td>\n",
       "      <td>United States</td>\n",
       "      <td>Greater Sacramento</td>\n",
       "      <td>All</td>\n",
       "      <td>Top Trending Employers</td>\n",
       "      <td>University of California, Davis</td>\n",
       "      <td>2.124697</td>\n",
       "      <td>2</td>\n",
       "    </tr>\n",
       "    <tr>\n",
       "      <th>2</th>\n",
       "      <td>2021-05-31</td>\n",
       "      <td>us</td>\n",
       "      <td>United States</td>\n",
       "      <td>Greater Sacramento</td>\n",
       "      <td>All</td>\n",
       "      <td>Top Trending Employers</td>\n",
       "      <td>Intel Corporation</td>\n",
       "      <td>1.907629</td>\n",
       "      <td>3</td>\n",
       "    </tr>\n",
       "    <tr>\n",
       "      <th>3</th>\n",
       "      <td>2021-05-31</td>\n",
       "      <td>us</td>\n",
       "      <td>United States</td>\n",
       "      <td>Greater Sacramento</td>\n",
       "      <td>All</td>\n",
       "      <td>Top Trending Employers</td>\n",
       "      <td>Pacific Gas and Electric Company</td>\n",
       "      <td>6.240319</td>\n",
       "      <td>4</td>\n",
       "    </tr>\n",
       "    <tr>\n",
       "      <th>4</th>\n",
       "      <td>2021-05-31</td>\n",
       "      <td>us</td>\n",
       "      <td>United States</td>\n",
       "      <td>Greater Sacramento</td>\n",
       "      <td>All</td>\n",
       "      <td>Top Trending Employers</td>\n",
       "      <td>Sutter Health</td>\n",
       "      <td>1.461146</td>\n",
       "      <td>5</td>\n",
       "    </tr>\n",
       "  </tbody>\n",
       "</table>\n",
       "</div>"
      ],
      "text/plain": [
       "         date countryCode    countryName          regionName industryName  \\\n",
       "0  2021-05-31          us  United States  Greater Sacramento          All   \n",
       "1  2021-05-31          us  United States  Greater Sacramento          All   \n",
       "2  2021-05-31          us  United States  Greater Sacramento          All   \n",
       "3  2021-05-31          us  United States  Greater Sacramento          All   \n",
       "4  2021-05-31          us  United States  Greater Sacramento          All   \n",
       "\n",
       "             categoryType                      categoryName  categoryValue  \\\n",
       "0  Top Trending Employers                   UC Davis Health       5.304170   \n",
       "1  Top Trending Employers   University of California, Davis       2.124697   \n",
       "2  Top Trending Employers                 Intel Corporation       1.907629   \n",
       "3  Top Trending Employers  Pacific Gas and Electric Company       6.240319   \n",
       "4  Top Trending Employers                     Sutter Health       1.461146   \n",
       "\n",
       "   rank  \n",
       "0     1  \n",
       "1     2  \n",
       "2     3  \n",
       "3     4  \n",
       "4     5  "
      ]
     },
     "execution_count": 40,
     "metadata": {},
     "output_type": "execute_result"
    }
   ],
   "source": [
    "skills_df.head()"
   ]
  },
  {
   "cell_type": "code",
   "execution_count": 43,
   "metadata": {},
   "outputs": [],
   "source": [
    "def bigram_clean(text):\n",
    "    \n",
    "    clean_job = re.sub(r\"[^a-zA-Z]\", \" \", text)\n",
    "\n",
    "    tokenized = clean_job.lower().split()\n",
    "    tokenized_clean = [ps.stem(tok).lower() for tok in tokenized]\n",
    "\n",
    "    Bigrams = ngrams(tokenized_clean, 2)\n",
    "\n",
    "    bigrams_job = [(' ').join(gram) for gram in Bigrams]\n",
    "    \n",
    "    return bigrams_job"
   ]
  },
  {
   "cell_type": "code",
   "execution_count": 45,
   "metadata": {},
   "outputs": [
    {
     "name": "stderr",
     "output_type": "stream",
     "text": [
      "/tmp/ipykernel_58301/606401578.py:2: SettingWithCopyWarning: \n",
      "A value is trying to be set on a copy of a slice from a DataFrame.\n",
      "Try using .loc[row_indexer,col_indexer] = value instead\n",
      "\n",
      "See the caveats in the documentation: https://pandas.pydata.org/pandas-docs/stable/user_guide/indexing.html#returning-a-view-versus-a-copy\n",
      "  new_skill_df['Bigrams']= jobs_df['Job Description'].map(lambda x : bigram_clean(x))\n",
      "/tmp/ipykernel_58301/606401578.py:7: SettingWithCopyWarning: \n",
      "A value is trying to be set on a copy of a slice from a DataFrame.\n",
      "Try using .loc[row_indexer,col_indexer] = value instead\n",
      "\n",
      "See the caveats in the documentation: https://pandas.pydata.org/pandas-docs/stable/user_guide/indexing.html#returning-a-view-versus-a-copy\n",
      "  new_skill_df[col] = jobs_df['desc_stem'].map(lambda x : list(x).count(col))\n",
      "/tmp/ipykernel_58301/606401578.py:9: SettingWithCopyWarning: \n",
      "A value is trying to be set on a copy of a slice from a DataFrame.\n",
      "Try using .loc[row_indexer,col_indexer] = value instead\n",
      "\n",
      "See the caveats in the documentation: https://pandas.pydata.org/pandas-docs/stable/user_guide/indexing.html#returning-a-view-versus-a-copy\n",
      "  new_skill_df[col] = new_skill_df['Bigrams'].map(lambda x : list(x).count('account manag'))\n"
     ]
    }
   ],
   "source": [
    "new_skill_df = jobs_df[['Title']]\n",
    "new_skill_df['Bigrams']= jobs_df['Job Description'].map(lambda x : bigram_clean(x))\n",
    "skill_columns = skill_keywords_dict.keys()\n",
    "for col in skill_columns:\n",
    "    \n",
    "    if len(col.split()) == 1:\n",
    "        new_skill_df[col] = jobs_df['desc_stem'].map(lambda x : list(x).count(col))\n",
    "    elif len(col) >= 2:\n",
    "        new_skill_df[col] = new_skill_df['Bigrams'].map(lambda x : list(x).count('account manag'))\n",
    "\n",
    "    \n",
    "\n"
   ]
  },
  {
   "cell_type": "code",
   "execution_count": 58,
   "metadata": {},
   "outputs": [
    {
     "data": {
      "text/html": [
       "<div>\n",
       "<style scoped>\n",
       "    .dataframe tbody tr th:only-of-type {\n",
       "        vertical-align: middle;\n",
       "    }\n",
       "\n",
       "    .dataframe tbody tr th {\n",
       "        vertical-align: top;\n",
       "    }\n",
       "\n",
       "    .dataframe thead th {\n",
       "        text-align: right;\n",
       "    }\n",
       "</style>\n",
       "<table border=\"1\" class=\"dataframe\">\n",
       "  <thead>\n",
       "    <tr style=\"text-align: right;\">\n",
       "      <th></th>\n",
       "      <th>Title</th>\n",
       "      <th>Bigrams</th>\n",
       "      <th>JavaScript</th>\n",
       "      <th>Account Management</th>\n",
       "      <th>Sales Management</th>\n",
       "      <th>Investment Properties</th>\n",
       "      <th>Working with First-Time Home Buyers</th>\n",
       "      <th>Operations Management</th>\n",
       "      <th>Team Building</th>\n",
       "      <th>Legal Writing</th>\n",
       "      <th>Construction Management</th>\n",
       "      <th>Civil Litigation</th>\n",
       "      <th>Account Reconciliation</th>\n",
       "      <th>Sales Operations</th>\n",
       "      <th>General Ledger</th>\n",
       "      <th>Customer Satisfaction</th>\n",
       "      <th>Nursing</th>\n",
       "      <th>Basic Life Support (BLS)</th>\n",
       "    </tr>\n",
       "  </thead>\n",
       "  <tbody>\n",
       "    <tr>\n",
       "      <th>0</th>\n",
       "      <td>Patient Advocate</td>\n",
       "      <td>[overview digniti, digniti health, health medi...</td>\n",
       "      <td>0</td>\n",
       "      <td>0</td>\n",
       "      <td>0</td>\n",
       "      <td>0</td>\n",
       "      <td>0</td>\n",
       "      <td>0</td>\n",
       "      <td>0</td>\n",
       "      <td>0</td>\n",
       "      <td>0</td>\n",
       "      <td>0</td>\n",
       "      <td>0</td>\n",
       "      <td>0</td>\n",
       "      <td>0</td>\n",
       "      <td>0</td>\n",
       "      <td>0</td>\n",
       "      <td>0</td>\n",
       "    </tr>\n",
       "    <tr>\n",
       "      <th>1</th>\n",
       "      <td>Disease Management Enrollment Representative</td>\n",
       "      <td>[posit purpos, purpos the, the diseas, diseas ...</td>\n",
       "      <td>0</td>\n",
       "      <td>0</td>\n",
       "      <td>0</td>\n",
       "      <td>0</td>\n",
       "      <td>0</td>\n",
       "      <td>0</td>\n",
       "      <td>0</td>\n",
       "      <td>0</td>\n",
       "      <td>0</td>\n",
       "      <td>0</td>\n",
       "      <td>0</td>\n",
       "      <td>0</td>\n",
       "      <td>0</td>\n",
       "      <td>0</td>\n",
       "      <td>0</td>\n",
       "      <td>0</td>\n",
       "    </tr>\n",
       "    <tr>\n",
       "      <th>2</th>\n",
       "      <td>Patient Logistics Coordinator</td>\n",
       "      <td>[overview digniti, digniti health, health one,...</td>\n",
       "      <td>0</td>\n",
       "      <td>0</td>\n",
       "      <td>0</td>\n",
       "      <td>0</td>\n",
       "      <td>0</td>\n",
       "      <td>0</td>\n",
       "      <td>0</td>\n",
       "      <td>0</td>\n",
       "      <td>0</td>\n",
       "      <td>0</td>\n",
       "      <td>0</td>\n",
       "      <td>0</td>\n",
       "      <td>0</td>\n",
       "      <td>0</td>\n",
       "      <td>0</td>\n",
       "      <td>0</td>\n",
       "    </tr>\n",
       "    <tr>\n",
       "      <th>3</th>\n",
       "      <td>Disease Management Assistant (HNGS)</td>\n",
       "      <td>[posit purpos, purpos the, the diseas, diseas ...</td>\n",
       "      <td>0</td>\n",
       "      <td>0</td>\n",
       "      <td>0</td>\n",
       "      <td>0</td>\n",
       "      <td>0</td>\n",
       "      <td>0</td>\n",
       "      <td>0</td>\n",
       "      <td>0</td>\n",
       "      <td>0</td>\n",
       "      <td>0</td>\n",
       "      <td>0</td>\n",
       "      <td>0</td>\n",
       "      <td>0</td>\n",
       "      <td>0</td>\n",
       "      <td>0</td>\n",
       "      <td>0</td>\n",
       "    </tr>\n",
       "    <tr>\n",
       "      <th>4</th>\n",
       "      <td>Patient Logistics Coordinator</td>\n",
       "      <td>[overview digniti, digniti health, health one,...</td>\n",
       "      <td>0</td>\n",
       "      <td>0</td>\n",
       "      <td>0</td>\n",
       "      <td>0</td>\n",
       "      <td>0</td>\n",
       "      <td>0</td>\n",
       "      <td>0</td>\n",
       "      <td>0</td>\n",
       "      <td>0</td>\n",
       "      <td>0</td>\n",
       "      <td>0</td>\n",
       "      <td>0</td>\n",
       "      <td>0</td>\n",
       "      <td>0</td>\n",
       "      <td>0</td>\n",
       "      <td>0</td>\n",
       "    </tr>\n",
       "  </tbody>\n",
       "</table>\n",
       "</div>"
      ],
      "text/plain": [
       "                                          Title  \\\n",
       "0                              Patient Advocate   \n",
       "1  Disease Management Enrollment Representative   \n",
       "2                 Patient Logistics Coordinator   \n",
       "3           Disease Management Assistant (HNGS)   \n",
       "4                 Patient Logistics Coordinator   \n",
       "\n",
       "                                             Bigrams  JavaScript  \\\n",
       "0  [overview digniti, digniti health, health medi...           0   \n",
       "1  [posit purpos, purpos the, the diseas, diseas ...           0   \n",
       "2  [overview digniti, digniti health, health one,...           0   \n",
       "3  [posit purpos, purpos the, the diseas, diseas ...           0   \n",
       "4  [overview digniti, digniti health, health one,...           0   \n",
       "\n",
       "   Account Management  Sales Management  Investment Properties  \\\n",
       "0                   0                 0                      0   \n",
       "1                   0                 0                      0   \n",
       "2                   0                 0                      0   \n",
       "3                   0                 0                      0   \n",
       "4                   0                 0                      0   \n",
       "\n",
       "   Working with First-Time Home Buyers  Operations Management  Team Building  \\\n",
       "0                                    0                      0              0   \n",
       "1                                    0                      0              0   \n",
       "2                                    0                      0              0   \n",
       "3                                    0                      0              0   \n",
       "4                                    0                      0              0   \n",
       "\n",
       "   Legal Writing  Construction Management  Civil Litigation  \\\n",
       "0              0                        0                 0   \n",
       "1              0                        0                 0   \n",
       "2              0                        0                 0   \n",
       "3              0                        0                 0   \n",
       "4              0                        0                 0   \n",
       "\n",
       "   Account Reconciliation  Sales Operations  General Ledger  \\\n",
       "0                       0                 0               0   \n",
       "1                       0                 0               0   \n",
       "2                       0                 0               0   \n",
       "3                       0                 0               0   \n",
       "4                       0                 0               0   \n",
       "\n",
       "   Customer Satisfaction  Nursing  Basic Life Support (BLS)  \n",
       "0                      0        0                         0  \n",
       "1                      0        0                         0  \n",
       "2                      0        0                         0  \n",
       "3                      0        0                         0  \n",
       "4                      0        0                         0  "
      ]
     },
     "execution_count": 58,
     "metadata": {},
     "output_type": "execute_result"
    }
   ],
   "source": [
    "new_skill_df.head()"
   ]
  },
  {
   "cell_type": "code",
   "execution_count": 52,
   "metadata": {},
   "outputs": [
    {
     "data": {
      "text/plain": [
       "['account manag',\n",
       " 'sales manag',\n",
       " 'investment properti',\n",
       " 'working with first-time home buy',\n",
       " 'operations manag',\n",
       " 'team build',\n",
       " 'legal writ',\n",
       " 'construction manag',\n",
       " 'civil litig',\n",
       " 'account reconcili',\n",
       " 'sales oper',\n",
       " 'general ledg',\n",
       " 'customer satisfact',\n",
       " 'nurs',\n",
       " 'basic life support (bls)']"
      ]
     },
     "execution_count": 52,
     "metadata": {},
     "output_type": "execute_result"
    }
   ],
   "source": [
    "list(skill_columns)[1:]"
   ]
  },
  {
   "cell_type": "code",
   "execution_count": 53,
   "metadata": {},
   "outputs": [],
   "source": [
    "plot_dict = dict()\n",
    "for col in list(skill_columns)[1:]:\n",
    "    plot_dict[col] = sum(new_skill_df[col])\n"
   ]
  },
  {
   "cell_type": "code",
   "execution_count": 54,
   "metadata": {},
   "outputs": [
    {
     "data": {
      "text/plain": [
       "<BarContainer object of 15 artists>"
      ]
     },
     "execution_count": 54,
     "metadata": {},
     "output_type": "execute_result"
    },
    {
     "data": {
      "image/png": "[encoded data removed]",
      "text/plain": [
       "<Figure size 1728x432 with 1 Axes>"
      ]
     },
     "metadata": {
      "needs_background": "light"
     },
     "output_type": "display_data"
    }
   ],
   "source": [
    "plt.figure(figsize=(24,6))\n",
    "plt.barh(*zip(*plot_dict.items()))"
   ]
  },
  {
   "cell_type": "code",
   "execution_count": 55,
   "metadata": {},
   "outputs": [
    {
     "data": {
      "text/plain": [
       "['JavaScript',\n",
       " 'Account Management',\n",
       " 'Sales Management',\n",
       " 'Investment Properties',\n",
       " 'Working with First-Time Home Buyers',\n",
       " 'Operations Management',\n",
       " 'Team Building',\n",
       " 'Legal Writing',\n",
       " 'Construction Management',\n",
       " 'Civil Litigation',\n",
       " 'Account Reconciliation',\n",
       " 'Sales Operations',\n",
       " 'General Ledger',\n",
       " 'Customer Satisfaction',\n",
       " 'Nursing',\n",
       " 'Basic Life Support (BLS)']"
      ]
     },
     "execution_count": 55,
     "metadata": {},
     "output_type": "execute_result"
    }
   ],
   "source": [
    "columns_name = list(skill_keywords_dict.values())\n",
    "columns_name"
   ]
  },
  {
   "cell_type": "code",
   "execution_count": 56,
   "metadata": {},
   "outputs": [
    {
     "data": {
      "text/html": [
       "<div>\n",
       "<style scoped>\n",
       "    .dataframe tbody tr th:only-of-type {\n",
       "        vertical-align: middle;\n",
       "    }\n",
       "\n",
       "    .dataframe tbody tr th {\n",
       "        vertical-align: top;\n",
       "    }\n",
       "\n",
       "    .dataframe thead th {\n",
       "        text-align: right;\n",
       "    }\n",
       "</style>\n",
       "<table border=\"1\" class=\"dataframe\">\n",
       "  <thead>\n",
       "    <tr style=\"text-align: right;\">\n",
       "      <th></th>\n",
       "      <th>Title</th>\n",
       "      <th>Bigrams</th>\n",
       "      <th>JavaScript</th>\n",
       "      <th>Account Management</th>\n",
       "      <th>Sales Management</th>\n",
       "      <th>Investment Properties</th>\n",
       "      <th>Working with First-Time Home Buyers</th>\n",
       "      <th>Operations Management</th>\n",
       "      <th>Team Building</th>\n",
       "      <th>Legal Writing</th>\n",
       "      <th>Construction Management</th>\n",
       "      <th>Civil Litigation</th>\n",
       "      <th>Account Reconciliation</th>\n",
       "      <th>Sales Operations</th>\n",
       "      <th>General Ledger</th>\n",
       "      <th>Customer Satisfaction</th>\n",
       "      <th>Nursing</th>\n",
       "      <th>Basic Life Support (BLS)</th>\n",
       "    </tr>\n",
       "  </thead>\n",
       "  <tbody>\n",
       "    <tr>\n",
       "      <th>0</th>\n",
       "      <td>Patient Advocate</td>\n",
       "      <td>[overview digniti, digniti health, health medi...</td>\n",
       "      <td>0</td>\n",
       "      <td>0</td>\n",
       "      <td>0</td>\n",
       "      <td>0</td>\n",
       "      <td>0</td>\n",
       "      <td>0</td>\n",
       "      <td>0</td>\n",
       "      <td>0</td>\n",
       "      <td>0</td>\n",
       "      <td>0</td>\n",
       "      <td>0</td>\n",
       "      <td>0</td>\n",
       "      <td>0</td>\n",
       "      <td>0</td>\n",
       "      <td>0</td>\n",
       "      <td>0</td>\n",
       "    </tr>\n",
       "    <tr>\n",
       "      <th>1</th>\n",
       "      <td>Disease Management Enrollment Representative</td>\n",
       "      <td>[posit purpos, purpos the, the diseas, diseas ...</td>\n",
       "      <td>0</td>\n",
       "      <td>0</td>\n",
       "      <td>0</td>\n",
       "      <td>0</td>\n",
       "      <td>0</td>\n",
       "      <td>0</td>\n",
       "      <td>0</td>\n",
       "      <td>0</td>\n",
       "      <td>0</td>\n",
       "      <td>0</td>\n",
       "      <td>0</td>\n",
       "      <td>0</td>\n",
       "      <td>0</td>\n",
       "      <td>0</td>\n",
       "      <td>0</td>\n",
       "      <td>0</td>\n",
       "    </tr>\n",
       "    <tr>\n",
       "      <th>2</th>\n",
       "      <td>Patient Logistics Coordinator</td>\n",
       "      <td>[overview digniti, digniti health, health one,...</td>\n",
       "      <td>0</td>\n",
       "      <td>0</td>\n",
       "      <td>0</td>\n",
       "      <td>0</td>\n",
       "      <td>0</td>\n",
       "      <td>0</td>\n",
       "      <td>0</td>\n",
       "      <td>0</td>\n",
       "      <td>0</td>\n",
       "      <td>0</td>\n",
       "      <td>0</td>\n",
       "      <td>0</td>\n",
       "      <td>0</td>\n",
       "      <td>0</td>\n",
       "      <td>0</td>\n",
       "      <td>0</td>\n",
       "    </tr>\n",
       "    <tr>\n",
       "      <th>3</th>\n",
       "      <td>Disease Management Assistant (HNGS)</td>\n",
       "      <td>[posit purpos, purpos the, the diseas, diseas ...</td>\n",
       "      <td>0</td>\n",
       "      <td>0</td>\n",
       "      <td>0</td>\n",
       "      <td>0</td>\n",
       "      <td>0</td>\n",
       "      <td>0</td>\n",
       "      <td>0</td>\n",
       "      <td>0</td>\n",
       "      <td>0</td>\n",
       "      <td>0</td>\n",
       "      <td>0</td>\n",
       "      <td>0</td>\n",
       "      <td>0</td>\n",
       "      <td>0</td>\n",
       "      <td>0</td>\n",
       "      <td>0</td>\n",
       "    </tr>\n",
       "    <tr>\n",
       "      <th>4</th>\n",
       "      <td>Patient Logistics Coordinator</td>\n",
       "      <td>[overview digniti, digniti health, health one,...</td>\n",
       "      <td>0</td>\n",
       "      <td>0</td>\n",
       "      <td>0</td>\n",
       "      <td>0</td>\n",
       "      <td>0</td>\n",
       "      <td>0</td>\n",
       "      <td>0</td>\n",
       "      <td>0</td>\n",
       "      <td>0</td>\n",
       "      <td>0</td>\n",
       "      <td>0</td>\n",
       "      <td>0</td>\n",
       "      <td>0</td>\n",
       "      <td>0</td>\n",
       "      <td>0</td>\n",
       "      <td>0</td>\n",
       "    </tr>\n",
       "  </tbody>\n",
       "</table>\n",
       "</div>"
      ],
      "text/plain": [
       "                                          Title  \\\n",
       "0                              Patient Advocate   \n",
       "1  Disease Management Enrollment Representative   \n",
       "2                 Patient Logistics Coordinator   \n",
       "3           Disease Management Assistant (HNGS)   \n",
       "4                 Patient Logistics Coordinator   \n",
       "\n",
       "                                             Bigrams  JavaScript  \\\n",
       "0  [overview digniti, digniti health, health medi...           0   \n",
       "1  [posit purpos, purpos the, the diseas, diseas ...           0   \n",
       "2  [overview digniti, digniti health, health one,...           0   \n",
       "3  [posit purpos, purpos the, the diseas, diseas ...           0   \n",
       "4  [overview digniti, digniti health, health one,...           0   \n",
       "\n",
       "   Account Management  Sales Management  Investment Properties  \\\n",
       "0                   0                 0                      0   \n",
       "1                   0                 0                      0   \n",
       "2                   0                 0                      0   \n",
       "3                   0                 0                      0   \n",
       "4                   0                 0                      0   \n",
       "\n",
       "   Working with First-Time Home Buyers  Operations Management  Team Building  \\\n",
       "0                                    0                      0              0   \n",
       "1                                    0                      0              0   \n",
       "2                                    0                      0              0   \n",
       "3                                    0                      0              0   \n",
       "4                                    0                      0              0   \n",
       "\n",
       "   Legal Writing  Construction Management  Civil Litigation  \\\n",
       "0              0                        0                 0   \n",
       "1              0                        0                 0   \n",
       "2              0                        0                 0   \n",
       "3              0                        0                 0   \n",
       "4              0                        0                 0   \n",
       "\n",
       "   Account Reconciliation  Sales Operations  General Ledger  \\\n",
       "0                       0                 0               0   \n",
       "1                       0                 0               0   \n",
       "2                       0                 0               0   \n",
       "3                       0                 0               0   \n",
       "4                       0                 0               0   \n",
       "\n",
       "   Customer Satisfaction  Nursing  Basic Life Support (BLS)  \n",
       "0                      0        0                         0  \n",
       "1                      0        0                         0  \n",
       "2                      0        0                         0  \n",
       "3                      0        0                         0  \n",
       "4                      0        0                         0  "
      ]
     },
     "execution_count": 56,
     "metadata": {},
     "output_type": "execute_result"
    }
   ],
   "source": [
    "new_skill_df = new_skill_df.rename(columns= skill_keywords_dict)\n",
    "new_skill_df.head()"
   ]
  }
 ],
 "metadata": {
  "interpreter": {
   "hash": "916dbcbb3f70747c44a77c7bcd40155683ae19c65e1c03b4aa3499c5328201f1"
  },
  "kernelspec": {
   "display_name": "Python 3.8.10 64-bit",
   "language": "python",
   "name": "python3"
  },
  "language_info": {
   "codemirror_mode": {
    "name": "ipython",
    "version": 3
   },
   "file_extension": ".py",
   "mimetype": "text/x-python",
   "name": "python",
   "nbconvert_exporter": "python",
   "pygments_lexer": "ipython3",
   "version": "3.8.12"
  },
  "orig_nbformat": 4
 },
 "nbformat": 4,
 "nbformat_minor": 2
}
